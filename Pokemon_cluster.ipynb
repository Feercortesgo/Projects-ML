{
 "cells": [
  {
   "cell_type": "code",
   "execution_count": 101,
   "id": "7d6ffa32",
   "metadata": {},
   "outputs": [
    {
     "data": {
      "text/html": [
       "        <script type=\"text/javascript\">\n",
       "        window.PlotlyConfig = {MathJaxConfig: 'local'};\n",
       "        if (window.MathJax) {MathJax.Hub.Config({SVG: {font: \"STIX-Web\"}});}\n",
       "        if (typeof require !== 'undefined') {\n",
       "        require.undef(\"plotly\");\n",
       "        requirejs.config({\n",
       "            paths: {\n",
       "                'plotly': ['https://cdn.plot.ly/plotly-2.8.3.min']\n",
       "            }\n",
       "        });\n",
       "        require(['plotly'], function(Plotly) {\n",
       "            window._Plotly = Plotly;\n",
       "        });\n",
       "        }\n",
       "        </script>\n",
       "        "
      ]
     },
     "metadata": {},
     "output_type": "display_data"
    }
   ],
   "source": [
    "import numpy as np\n",
    "import pandas as pd\n",
    "\n",
    "from ipywidgets import widgets\n",
    "\n",
    "import matplotlib.pyplot as plt\n",
    "\n",
    "from sklearn.metrics import davies_bouldin_score, silhouette_score, silhouette_samples\n",
    "import seaborn as sns\n",
    "\n",
    "from sklearn.preprocessing import MinMaxScaler,StandardScaler\n",
    "from sklearn.pipeline import make_pipeline\n",
    "from sklearn.decomposition import PCA\n",
    "from sklearn.manifold import MDS,TSNE\n",
    "from sklearn.cluster import KMeans\n",
    "from sklearn.metrics import silhouette_score\n",
    "\n",
    "import re\n",
    "\n",
    "import cufflinks as cf\n",
    "\n",
    "cf.go_offline()"
   ]
  },
  {
   "cell_type": "code",
   "execution_count": 4,
   "id": "84064977",
   "metadata": {},
   "outputs": [],
   "source": [
    "df = pd.read_csv(\"C:/Users/MX03932000/Documents/Personales/Mod_3/p3/pokemon (1).csv\")"
   ]
  },
  {
   "cell_type": "code",
   "execution_count": 5,
   "id": "d92a731b",
   "metadata": {},
   "outputs": [],
   "source": [
    "def completitud(df):\n",
    "    comple=pd.DataFrame(df.isnull().sum())\n",
    "    comple.reset_index(inplace=True)\n",
    "    comple=comple.rename(columns={\"index\":\"columna\",0:\"total\"})\n",
    "    comple[\"completitud\"]=(1-comple[\"total\"]/df.shape[0])*100\n",
    "    comple=comple.sort_values(by=\"completitud\",ascending=True)\n",
    "    comple.reset_index(drop=True,inplace=True)\n",
    "    return comple"
   ]
  },
  {
   "cell_type": "code",
   "execution_count": 6,
   "id": "a57dfa98",
   "metadata": {},
   "outputs": [
    {
     "data": {
      "text/html": [
       "<div>\n",
       "<style scoped>\n",
       "    .dataframe tbody tr th:only-of-type {\n",
       "        vertical-align: middle;\n",
       "    }\n",
       "\n",
       "    .dataframe tbody tr th {\n",
       "        vertical-align: top;\n",
       "    }\n",
       "\n",
       "    .dataframe thead th {\n",
       "        text-align: right;\n",
       "    }\n",
       "</style>\n",
       "<table border=\"1\" class=\"dataframe\">\n",
       "  <thead>\n",
       "    <tr style=\"text-align: right;\">\n",
       "      <th></th>\n",
       "      <th>columna</th>\n",
       "      <th>total</th>\n",
       "      <th>completitud</th>\n",
       "    </tr>\n",
       "  </thead>\n",
       "  <tbody>\n",
       "    <tr>\n",
       "      <th>0</th>\n",
       "      <td>type2</td>\n",
       "      <td>384</td>\n",
       "      <td>52.059925</td>\n",
       "    </tr>\n",
       "    <tr>\n",
       "      <th>1</th>\n",
       "      <td>percentage_male</td>\n",
       "      <td>98</td>\n",
       "      <td>87.765293</td>\n",
       "    </tr>\n",
       "    <tr>\n",
       "      <th>2</th>\n",
       "      <td>weight_kg</td>\n",
       "      <td>20</td>\n",
       "      <td>97.503121</td>\n",
       "    </tr>\n",
       "    <tr>\n",
       "      <th>3</th>\n",
       "      <td>height_m</td>\n",
       "      <td>20</td>\n",
       "      <td>97.503121</td>\n",
       "    </tr>\n",
       "    <tr>\n",
       "      <th>4</th>\n",
       "      <td>abilities</td>\n",
       "      <td>0</td>\n",
       "      <td>100.000000</td>\n",
       "    </tr>\n",
       "    <tr>\n",
       "      <th>5</th>\n",
       "      <td>base_total</td>\n",
       "      <td>0</td>\n",
       "      <td>100.000000</td>\n",
       "    </tr>\n",
       "    <tr>\n",
       "      <th>6</th>\n",
       "      <td>capture_rate</td>\n",
       "      <td>0</td>\n",
       "      <td>100.000000</td>\n",
       "    </tr>\n",
       "    <tr>\n",
       "      <th>7</th>\n",
       "      <td>classfication</td>\n",
       "      <td>0</td>\n",
       "      <td>100.000000</td>\n",
       "    </tr>\n",
       "    <tr>\n",
       "      <th>8</th>\n",
       "      <td>defense</td>\n",
       "      <td>0</td>\n",
       "      <td>100.000000</td>\n",
       "    </tr>\n",
       "    <tr>\n",
       "      <th>9</th>\n",
       "      <td>experience_growth</td>\n",
       "      <td>0</td>\n",
       "      <td>100.000000</td>\n",
       "    </tr>\n",
       "    <tr>\n",
       "      <th>10</th>\n",
       "      <td>hp</td>\n",
       "      <td>0</td>\n",
       "      <td>100.000000</td>\n",
       "    </tr>\n",
       "    <tr>\n",
       "      <th>11</th>\n",
       "      <td>name</td>\n",
       "      <td>0</td>\n",
       "      <td>100.000000</td>\n",
       "    </tr>\n",
       "    <tr>\n",
       "      <th>12</th>\n",
       "      <td>base_happiness</td>\n",
       "      <td>0</td>\n",
       "      <td>100.000000</td>\n",
       "    </tr>\n",
       "    <tr>\n",
       "      <th>13</th>\n",
       "      <td>pokedex_number</td>\n",
       "      <td>0</td>\n",
       "      <td>100.000000</td>\n",
       "    </tr>\n",
       "    <tr>\n",
       "      <th>14</th>\n",
       "      <td>sp_attack</td>\n",
       "      <td>0</td>\n",
       "      <td>100.000000</td>\n",
       "    </tr>\n",
       "    <tr>\n",
       "      <th>15</th>\n",
       "      <td>sp_defense</td>\n",
       "      <td>0</td>\n",
       "      <td>100.000000</td>\n",
       "    </tr>\n",
       "    <tr>\n",
       "      <th>16</th>\n",
       "      <td>speed</td>\n",
       "      <td>0</td>\n",
       "      <td>100.000000</td>\n",
       "    </tr>\n",
       "    <tr>\n",
       "      <th>17</th>\n",
       "      <td>type1</td>\n",
       "      <td>0</td>\n",
       "      <td>100.000000</td>\n",
       "    </tr>\n",
       "    <tr>\n",
       "      <th>18</th>\n",
       "      <td>japanese_name</td>\n",
       "      <td>0</td>\n",
       "      <td>100.000000</td>\n",
       "    </tr>\n",
       "    <tr>\n",
       "      <th>19</th>\n",
       "      <td>generation</td>\n",
       "      <td>0</td>\n",
       "      <td>100.000000</td>\n",
       "    </tr>\n",
       "    <tr>\n",
       "      <th>20</th>\n",
       "      <td>base_egg_steps</td>\n",
       "      <td>0</td>\n",
       "      <td>100.000000</td>\n",
       "    </tr>\n",
       "    <tr>\n",
       "      <th>21</th>\n",
       "      <td>against_water</td>\n",
       "      <td>0</td>\n",
       "      <td>100.000000</td>\n",
       "    </tr>\n",
       "    <tr>\n",
       "      <th>22</th>\n",
       "      <td>against_bug</td>\n",
       "      <td>0</td>\n",
       "      <td>100.000000</td>\n",
       "    </tr>\n",
       "    <tr>\n",
       "      <th>23</th>\n",
       "      <td>against_dark</td>\n",
       "      <td>0</td>\n",
       "      <td>100.000000</td>\n",
       "    </tr>\n",
       "    <tr>\n",
       "      <th>24</th>\n",
       "      <td>against_dragon</td>\n",
       "      <td>0</td>\n",
       "      <td>100.000000</td>\n",
       "    </tr>\n",
       "    <tr>\n",
       "      <th>25</th>\n",
       "      <td>against_electric</td>\n",
       "      <td>0</td>\n",
       "      <td>100.000000</td>\n",
       "    </tr>\n",
       "    <tr>\n",
       "      <th>26</th>\n",
       "      <td>against_fairy</td>\n",
       "      <td>0</td>\n",
       "      <td>100.000000</td>\n",
       "    </tr>\n",
       "    <tr>\n",
       "      <th>27</th>\n",
       "      <td>against_fight</td>\n",
       "      <td>0</td>\n",
       "      <td>100.000000</td>\n",
       "    </tr>\n",
       "    <tr>\n",
       "      <th>28</th>\n",
       "      <td>against_fire</td>\n",
       "      <td>0</td>\n",
       "      <td>100.000000</td>\n",
       "    </tr>\n",
       "    <tr>\n",
       "      <th>29</th>\n",
       "      <td>against_flying</td>\n",
       "      <td>0</td>\n",
       "      <td>100.000000</td>\n",
       "    </tr>\n",
       "    <tr>\n",
       "      <th>30</th>\n",
       "      <td>against_ghost</td>\n",
       "      <td>0</td>\n",
       "      <td>100.000000</td>\n",
       "    </tr>\n",
       "    <tr>\n",
       "      <th>31</th>\n",
       "      <td>against_grass</td>\n",
       "      <td>0</td>\n",
       "      <td>100.000000</td>\n",
       "    </tr>\n",
       "    <tr>\n",
       "      <th>32</th>\n",
       "      <td>against_ground</td>\n",
       "      <td>0</td>\n",
       "      <td>100.000000</td>\n",
       "    </tr>\n",
       "    <tr>\n",
       "      <th>33</th>\n",
       "      <td>against_ice</td>\n",
       "      <td>0</td>\n",
       "      <td>100.000000</td>\n",
       "    </tr>\n",
       "    <tr>\n",
       "      <th>34</th>\n",
       "      <td>against_normal</td>\n",
       "      <td>0</td>\n",
       "      <td>100.000000</td>\n",
       "    </tr>\n",
       "    <tr>\n",
       "      <th>35</th>\n",
       "      <td>against_poison</td>\n",
       "      <td>0</td>\n",
       "      <td>100.000000</td>\n",
       "    </tr>\n",
       "    <tr>\n",
       "      <th>36</th>\n",
       "      <td>against_psychic</td>\n",
       "      <td>0</td>\n",
       "      <td>100.000000</td>\n",
       "    </tr>\n",
       "    <tr>\n",
       "      <th>37</th>\n",
       "      <td>against_rock</td>\n",
       "      <td>0</td>\n",
       "      <td>100.000000</td>\n",
       "    </tr>\n",
       "    <tr>\n",
       "      <th>38</th>\n",
       "      <td>against_steel</td>\n",
       "      <td>0</td>\n",
       "      <td>100.000000</td>\n",
       "    </tr>\n",
       "    <tr>\n",
       "      <th>39</th>\n",
       "      <td>attack</td>\n",
       "      <td>0</td>\n",
       "      <td>100.000000</td>\n",
       "    </tr>\n",
       "    <tr>\n",
       "      <th>40</th>\n",
       "      <td>is_legendary</td>\n",
       "      <td>0</td>\n",
       "      <td>100.000000</td>\n",
       "    </tr>\n",
       "  </tbody>\n",
       "</table>\n",
       "</div>"
      ],
      "text/plain": [
       "              columna  total  completitud\n",
       "0               type2    384    52.059925\n",
       "1     percentage_male     98    87.765293\n",
       "2           weight_kg     20    97.503121\n",
       "3            height_m     20    97.503121\n",
       "4           abilities      0   100.000000\n",
       "5          base_total      0   100.000000\n",
       "6        capture_rate      0   100.000000\n",
       "7       classfication      0   100.000000\n",
       "8             defense      0   100.000000\n",
       "9   experience_growth      0   100.000000\n",
       "10                 hp      0   100.000000\n",
       "11               name      0   100.000000\n",
       "12     base_happiness      0   100.000000\n",
       "13     pokedex_number      0   100.000000\n",
       "14          sp_attack      0   100.000000\n",
       "15         sp_defense      0   100.000000\n",
       "16              speed      0   100.000000\n",
       "17              type1      0   100.000000\n",
       "18      japanese_name      0   100.000000\n",
       "19         generation      0   100.000000\n",
       "20     base_egg_steps      0   100.000000\n",
       "21      against_water      0   100.000000\n",
       "22        against_bug      0   100.000000\n",
       "23       against_dark      0   100.000000\n",
       "24     against_dragon      0   100.000000\n",
       "25   against_electric      0   100.000000\n",
       "26      against_fairy      0   100.000000\n",
       "27      against_fight      0   100.000000\n",
       "28       against_fire      0   100.000000\n",
       "29     against_flying      0   100.000000\n",
       "30      against_ghost      0   100.000000\n",
       "31      against_grass      0   100.000000\n",
       "32     against_ground      0   100.000000\n",
       "33        against_ice      0   100.000000\n",
       "34     against_normal      0   100.000000\n",
       "35     against_poison      0   100.000000\n",
       "36    against_psychic      0   100.000000\n",
       "37       against_rock      0   100.000000\n",
       "38      against_steel      0   100.000000\n",
       "39             attack      0   100.000000\n",
       "40       is_legendary      0   100.000000"
      ]
     },
     "execution_count": 6,
     "metadata": {},
     "output_type": "execute_result"
    }
   ],
   "source": [
    "completitud(df)"
   ]
  },
  {
   "cell_type": "code",
   "execution_count": 7,
   "id": "bf6b96c8",
   "metadata": {},
   "outputs": [
    {
     "data": {
      "text/plain": [
       "0"
      ]
     },
     "execution_count": 7,
     "metadata": {},
     "output_type": "execute_result"
    }
   ],
   "source": [
    "#checamos que no existan duplicados.\n",
    "df.duplicated().sum()"
   ]
  },
  {
   "cell_type": "code",
   "execution_count": 8,
   "id": "d92cddfe",
   "metadata": {},
   "outputs": [
    {
     "data": {
      "text/plain": [
       "0"
      ]
     },
     "execution_count": 8,
     "metadata": {},
     "output_type": "execute_result"
    }
   ],
   "source": [
    "df.name.duplicated().sum()"
   ]
  },
  {
   "cell_type": "code",
   "execution_count": 9,
   "id": "ecfc3f0d",
   "metadata": {},
   "outputs": [
    {
     "name": "stdout",
     "output_type": "stream",
     "text": [
      "abilities\n"
     ]
    },
    {
     "data": {
      "text/plain": [
       "['Levitate']                                        29\n",
       "['Beast Boost']                                      7\n",
       "['Shed Skin']                                        5\n",
       "['Poison Point', 'Rivalry', 'Hustle']                4\n",
       "['Justified']                                        4\n",
       "                                                    ..\n",
       "['Natural Cure', 'Serene Grace', 'Friend Guard']     1\n",
       "['Soul-Heart']                                       1\n",
       "['Battle Armor']                                     1\n",
       "['Keen Eye', 'Reckless']                             1\n",
       "['Innards Out', 'Unaware']                           1\n",
       "Name: abilities, Length: 482, dtype: int64"
      ]
     },
     "metadata": {},
     "output_type": "display_data"
    },
    {
     "name": "stdout",
     "output_type": "stream",
     "text": [
      "against_bug\n"
     ]
    },
    {
     "data": {
      "text/plain": [
       "1.0     376\n",
       "0.5     247\n",
       "2.0     128\n",
       "0.25     42\n",
       "4.0       8\n",
       "Name: against_bug, dtype: int64"
      ]
     },
     "metadata": {},
     "output_type": "display_data"
    },
    {
     "name": "stdout",
     "output_type": "stream",
     "text": [
      "against_dark\n"
     ]
    },
    {
     "data": {
      "text/plain": [
       "1.0     565\n",
       "0.5     126\n",
       "2.0     105\n",
       "0.25      3\n",
       "4.0       2\n",
       "Name: against_dark, dtype: int64"
      ]
     },
     "metadata": {},
     "output_type": "display_data"
    },
    {
     "name": "stdout",
     "output_type": "stream",
     "text": [
      "against_dragon\n"
     ]
    },
    {
     "data": {
      "text/plain": [
       "1.0    669\n",
       "0.0     47\n",
       "2.0     43\n",
       "0.5     42\n",
       "Name: against_dragon, dtype: int64"
      ]
     },
     "metadata": {},
     "output_type": "display_data"
    },
    {
     "name": "stdout",
     "output_type": "stream",
     "text": [
      "against_electric\n"
     ]
    },
    {
     "data": {
      "text/plain": [
       "1.0     392\n",
       "2.0     181\n",
       "0.5     156\n",
       "0.0      64\n",
       "4.0       7\n",
       "0.25      1\n",
       "Name: against_electric, dtype: int64"
      ]
     },
     "metadata": {},
     "output_type": "display_data"
    },
    {
     "name": "stdout",
     "output_type": "stream",
     "text": [
      "against_fairy\n"
     ]
    },
    {
     "data": {
      "text/plain": [
       "1.0     541\n",
       "0.5     145\n",
       "2.0     103\n",
       "4.0       9\n",
       "0.25      3\n",
       "Name: against_fairy, dtype: int64"
      ]
     },
     "metadata": {},
     "output_type": "display_data"
    },
    {
     "name": "stdout",
     "output_type": "stream",
     "text": [
      "against_fight\n"
     ]
    },
    {
     "data": {
      "text/plain": [
       "1.0     326\n",
       "0.5     193\n",
       "2.0     184\n",
       "0.25     44\n",
       "0.0      41\n",
       "4.0      13\n",
       "Name: against_fight, dtype: int64"
      ]
     },
     "metadata": {},
     "output_type": "display_data"
    },
    {
     "name": "stdout",
     "output_type": "stream",
     "text": [
      "against_fire\n"
     ]
    },
    {
     "data": {
      "text/plain": [
       "1.0     354\n",
       "0.5     226\n",
       "2.0     187\n",
       "0.25     18\n",
       "4.0      16\n",
       "Name: against_fire, dtype: int64"
      ]
     },
     "metadata": {},
     "output_type": "display_data"
    },
    {
     "name": "stdout",
     "output_type": "stream",
     "text": [
      "against_flying\n"
     ]
    },
    {
     "data": {
      "text/plain": [
       "1.0     488\n",
       "2.0     181\n",
       "0.5     110\n",
       "4.0      12\n",
       "0.25     10\n",
       "Name: against_flying, dtype: int64"
      ]
     },
     "metadata": {},
     "output_type": "display_data"
    },
    {
     "name": "stdout",
     "output_type": "stream",
     "text": [
      "against_ghost\n"
     ]
    },
    {
     "data": {
      "text/plain": [
       "1.0    536\n",
       "2.0    112\n",
       "0.0    109\n",
       "0.5     42\n",
       "4.0      2\n",
       "Name: against_ghost, dtype: int64"
      ]
     },
     "metadata": {},
     "output_type": "display_data"
    },
    {
     "name": "stdout",
     "output_type": "stream",
     "text": [
      "against_grass\n"
     ]
    },
    {
     "data": {
      "text/plain": [
       "1.0     297\n",
       "0.5     256\n",
       "2.0     135\n",
       "0.25     85\n",
       "4.0      28\n",
       "Name: against_grass, dtype: int64"
      ]
     },
     "metadata": {},
     "output_type": "display_data"
    },
    {
     "name": "stdout",
     "output_type": "stream",
     "text": [
      "against_ground\n"
     ]
    },
    {
     "data": {
      "text/plain": [
       "1.0     402\n",
       "2.0     184\n",
       "0.0      98\n",
       "0.5      96\n",
       "4.0      15\n",
       "0.25      6\n",
       "Name: against_ground, dtype: int64"
      ]
     },
     "metadata": {},
     "output_type": "display_data"
    },
    {
     "name": "stdout",
     "output_type": "stream",
     "text": [
      "against_ice\n"
     ]
    },
    {
     "data": {
      "text/plain": [
       "1.0     349\n",
       "2.0     212\n",
       "0.5     209\n",
       "4.0      22\n",
       "0.25      9\n",
       "Name: against_ice, dtype: int64"
      ]
     },
     "metadata": {},
     "output_type": "display_data"
    },
    {
     "name": "stdout",
     "output_type": "stream",
     "text": [
      "against_normal\n"
     ]
    },
    {
     "data": {
      "text/plain": [
       "1.0     664\n",
       "0.5      90\n",
       "0.0      41\n",
       "0.25      6\n",
       "Name: against_normal, dtype: int64"
      ]
     },
     "metadata": {},
     "output_type": "display_data"
    },
    {
     "name": "stdout",
     "output_type": "stream",
     "text": [
      "against_poison\n"
     ]
    },
    {
     "data": {
      "text/plain": [
       "1.0     476\n",
       "0.5     153\n",
       "2.0     102\n",
       "0.0      46\n",
       "0.25     19\n",
       "4.0       5\n",
       "Name: against_poison, dtype: int64"
      ]
     },
     "metadata": {},
     "output_type": "display_data"
    },
    {
     "name": "stdout",
     "output_type": "stream",
     "text": [
      "against_psychic\n"
     ]
    },
    {
     "data": {
      "text/plain": [
       "1.0     539\n",
       "0.5     105\n",
       "2.0     102\n",
       "0.0      46\n",
       "0.25      7\n",
       "4.0       2\n",
       "Name: against_psychic, dtype: int64"
      ]
     },
     "metadata": {},
     "output_type": "display_data"
    },
    {
     "name": "stdout",
     "output_type": "stream",
     "text": [
      "against_rock\n"
     ]
    },
    {
     "data": {
      "text/plain": [
       "1.0     449\n",
       "2.0     198\n",
       "0.5     127\n",
       "4.0      23\n",
       "0.25      4\n",
       "Name: against_rock, dtype: int64"
      ]
     },
     "metadata": {},
     "output_type": "display_data"
    },
    {
     "name": "stdout",
     "output_type": "stream",
     "text": [
      "against_steel\n"
     ]
    },
    {
     "data": {
      "text/plain": [
       "1.0     451\n",
       "0.5     237\n",
       "2.0     100\n",
       "0.25      9\n",
       "4.0       4\n",
       "Name: against_steel, dtype: int64"
      ]
     },
     "metadata": {},
     "output_type": "display_data"
    },
    {
     "name": "stdout",
     "output_type": "stream",
     "text": [
      "against_water\n"
     ]
    },
    {
     "data": {
      "text/plain": [
       "1.0     426\n",
       "0.5     229\n",
       "2.0     129\n",
       "4.0      12\n",
       "0.25      5\n",
       "Name: against_water, dtype: int64"
      ]
     },
     "metadata": {},
     "output_type": "display_data"
    },
    {
     "name": "stdout",
     "output_type": "stream",
     "text": [
      "attack\n"
     ]
    },
    {
     "data": {
      "text/plain": [
       "100    38\n",
       "60     35\n",
       "55     35\n",
       "65     35\n",
       "50     34\n",
       "       ..\n",
       "97      1\n",
       "102     1\n",
       "113     1\n",
       "134     1\n",
       "129     1\n",
       "Name: attack, Length: 114, dtype: int64"
      ]
     },
     "metadata": {},
     "output_type": "display_data"
    },
    {
     "name": "stdout",
     "output_type": "stream",
     "text": [
      "base_egg_steps\n"
     ]
    },
    {
     "data": {
      "text/plain": [
       "5120     436\n",
       "3840     140\n",
       "6400      55\n",
       "30720     49\n",
       "10240     42\n",
       "7680      26\n",
       "2560      22\n",
       "20480     16\n",
       "8960      13\n",
       "1280       2\n",
       "Name: base_egg_steps, dtype: int64"
      ]
     },
     "metadata": {},
     "output_type": "display_data"
    },
    {
     "name": "stdout",
     "output_type": "stream",
     "text": [
      "base_happiness\n"
     ]
    },
    {
     "data": {
      "text/plain": [
       "70     667\n",
       "35      69\n",
       "0       36\n",
       "100     14\n",
       "140     10\n",
       "90       5\n",
       "Name: base_happiness, dtype: int64"
      ]
     },
     "metadata": {},
     "output_type": "display_data"
    },
    {
     "name": "stdout",
     "output_type": "stream",
     "text": [
      "base_total\n"
     ]
    },
    {
     "data": {
      "text/plain": [
       "405    26\n",
       "600    26\n",
       "500    21\n",
       "300    21\n",
       "580    20\n",
       "       ..\n",
       "409     1\n",
       "481     1\n",
       "255     1\n",
       "190     1\n",
       "313     1\n",
       "Name: base_total, Length: 203, dtype: int64"
      ]
     },
     "metadata": {},
     "output_type": "display_data"
    },
    {
     "name": "stdout",
     "output_type": "stream",
     "text": [
      "capture_rate\n"
     ]
    },
    {
     "data": {
      "text/plain": [
       "45                          250\n",
       "190                          75\n",
       "255                          69\n",
       "75                           61\n",
       "3                            58\n",
       "120                          55\n",
       "60                           50\n",
       "90                           38\n",
       "30                           20\n",
       "200                          19\n",
       "225                          15\n",
       "25                           13\n",
       "180                          11\n",
       "150                           7\n",
       "50                            7\n",
       "235                           7\n",
       "100                           6\n",
       "140                           6\n",
       "127                           5\n",
       "70                            4\n",
       "125                           3\n",
       "65                            3\n",
       "55                            3\n",
       "15                            2\n",
       "220                           2\n",
       "130                           2\n",
       "170                           2\n",
       "80                            2\n",
       "155                           1\n",
       "205                           1\n",
       "145                           1\n",
       "30 (Meteorite)255 (Core)      1\n",
       "35                            1\n",
       "160                           1\n",
       "Name: capture_rate, dtype: int64"
      ]
     },
     "metadata": {},
     "output_type": "display_data"
    },
    {
     "name": "stdout",
     "output_type": "stream",
     "text": [
      "classfication\n"
     ]
    },
    {
     "data": {
      "text/plain": [
       "Dragon Pokémon      8\n",
       "Mouse Pokémon       6\n",
       "Mushroom Pokémon    6\n",
       "Fox Pokémon         5\n",
       "Flame Pokémon       5\n",
       "                   ..\n",
       "Sleeping Pokémon    1\n",
       "Swallow Pokémon     1\n",
       "Flailing Pokémon    1\n",
       "Catty Pokémon       1\n",
       "Rock Inn Pokémon    1\n",
       "Name: classfication, Length: 588, dtype: int64"
      ]
     },
     "metadata": {},
     "output_type": "display_data"
    },
    {
     "name": "stdout",
     "output_type": "stream",
     "text": [
      "defense\n"
     ]
    },
    {
     "data": {
      "text/plain": [
       "50     51\n",
       "70     49\n",
       "60     46\n",
       "80     41\n",
       "40     39\n",
       "       ..\n",
       "98      1\n",
       "97      1\n",
       "102     1\n",
       "184     1\n",
       "129     1\n",
       "Name: defense, Length: 109, dtype: int64"
      ]
     },
     "metadata": {},
     "output_type": "display_data"
    },
    {
     "name": "stdout",
     "output_type": "stream",
     "text": [
      "experience_growth\n"
     ]
    },
    {
     "data": {
      "text/plain": [
       "1000000    335\n",
       "1059860    202\n",
       "1250000    172\n",
       "800000      56\n",
       "600000      22\n",
       "1640000     14\n",
       "Name: experience_growth, dtype: int64"
      ]
     },
     "metadata": {},
     "output_type": "display_data"
    },
    {
     "name": "stdout",
     "output_type": "stream",
     "text": [
      "height_m\n"
     ]
    },
    {
     "data": {
      "text/plain": [
       "0.6     70\n",
       "0.5     60\n",
       "0.4     59\n",
       "1.0     57\n",
       "0.3     53\n",
       "1.2     49\n",
       "1.5     43\n",
       "0.8     43\n",
       "0.7     37\n",
       "1.1     36\n",
       "0.9     32\n",
       "1.3     29\n",
       "1.4     28\n",
       "1.6     25\n",
       "1.7     23\n",
       "1.8     21\n",
       "2.0     21\n",
       "nan     20\n",
       "0.2     17\n",
       "1.9     13\n",
       "2.1      8\n",
       "2.2      6\n",
       "2.5      5\n",
       "0.1      5\n",
       "2.3      3\n",
       "2.4      3\n",
       "3.0      3\n",
       "4.5      2\n",
       "3.5      2\n",
       "4.0      2\n",
       "9.2      2\n",
       "3.8      2\n",
       "3.2      2\n",
       "2.7      2\n",
       "6.5      1\n",
       "2.8      1\n",
       "5.4      1\n",
       "5.5      1\n",
       "4.2      1\n",
       "7.0      1\n",
       "3.4      1\n",
       "5.0      1\n",
       "5.2      1\n",
       "8.8      1\n",
       "3.9      1\n",
       "5.8      1\n",
       "14.5     1\n",
       "3.3      1\n",
       "6.2      1\n",
       "2.9      1\n",
       "3.7      1\n",
       "2.6      1\n",
       "Name: height_m, dtype: int64"
      ]
     },
     "metadata": {},
     "output_type": "display_data"
    },
    {
     "name": "stdout",
     "output_type": "stream",
     "text": [
      "hp\n"
     ]
    },
    {
     "data": {
      "text/plain": [
       "60     68\n",
       "70     55\n",
       "50     54\n",
       "75     44\n",
       "65     44\n",
       "       ..\n",
       "92      1\n",
       "101     1\n",
       "190     1\n",
       "81      1\n",
       "31      1\n",
       "Name: hp, Length: 99, dtype: int64"
      ]
     },
     "metadata": {},
     "output_type": "display_data"
    },
    {
     "name": "stdout",
     "output_type": "stream",
     "text": [
      "japanese_name\n"
     ]
    },
    {
     "data": {
      "text/plain": [
       "Kapu-tetefuカプ・テテフ                  1\n",
       "Kolinkコリンク                         1\n",
       "Enecoエネコ                           1\n",
       "Minomadam (kusaki No Mino)ミノマダム    1\n",
       "Namazunナマズン                        1\n",
       "                                  ..\n",
       "Archeosアーケオス                       1\n",
       "Donmelドンメル                         1\n",
       "Mogurewモグリュー                       1\n",
       "Berobeltベロベルト                      1\n",
       "Eifieエーフィ                          1\n",
       "Name: japanese_name, Length: 801, dtype: int64"
      ]
     },
     "metadata": {},
     "output_type": "display_data"
    },
    {
     "name": "stdout",
     "output_type": "stream",
     "text": [
      "name\n"
     ]
    },
    {
     "data": {
      "text/plain": [
       "Diglett      1\n",
       "Tauros       1\n",
       "Togepi       1\n",
       "Mewtwo       1\n",
       "Shedinja     1\n",
       "            ..\n",
       "Sawk         1\n",
       "Tapu Koko    1\n",
       "Snover       1\n",
       "Tyranitar    1\n",
       "Mandibuzz    1\n",
       "Name: name, Length: 801, dtype: int64"
      ]
     },
     "metadata": {},
     "output_type": "display_data"
    },
    {
     "name": "stdout",
     "output_type": "stream",
     "text": [
      "percentage_male\n"
     ]
    },
    {
     "data": {
      "text/plain": [
       "50.0     501\n",
       "88.1     111\n",
       "nan       98\n",
       "0.0       27\n",
       "24.6      24\n",
       "75.4      19\n",
       "100.0     19\n",
       "11.2       2\n",
       "Name: percentage_male, dtype: int64"
      ]
     },
     "metadata": {},
     "output_type": "display_data"
    },
    {
     "name": "stdout",
     "output_type": "stream",
     "text": [
      "pokedex_number\n"
     ]
    },
    {
     "data": {
      "text/plain": [
       "276    1\n",
       "602    1\n",
       "603    1\n",
       "137    1\n",
       "436    1\n",
       "      ..\n",
       "388    1\n",
       "373    1\n",
       "14     1\n",
       "323    1\n",
       "313    1\n",
       "Name: pokedex_number, Length: 801, dtype: int64"
      ]
     },
     "metadata": {},
     "output_type": "display_data"
    },
    {
     "name": "stdout",
     "output_type": "stream",
     "text": [
      "sp_attack\n"
     ]
    },
    {
     "data": {
      "text/plain": [
       "40     52\n",
       "60     48\n",
       "65     43\n",
       "50     42\n",
       "55     38\n",
       "       ..\n",
       "39      1\n",
       "126     1\n",
       "41      1\n",
       "175     1\n",
       "129     1\n",
       "Name: sp_attack, Length: 111, dtype: int64"
      ]
     },
     "metadata": {},
     "output_type": "display_data"
    },
    {
     "name": "stdout",
     "output_type": "stream",
     "text": [
      "sp_defense\n"
     ]
    },
    {
     "data": {
      "text/plain": [
       "50     53\n",
       "60     44\n",
       "65     42\n",
       "55     42\n",
       "80     41\n",
       "       ..\n",
       "33      1\n",
       "126     1\n",
       "32      1\n",
       "94      1\n",
       "128     1\n",
       "Name: sp_defense, Length: 97, dtype: int64"
      ]
     },
     "metadata": {},
     "output_type": "display_data"
    },
    {
     "name": "stdout",
     "output_type": "stream",
     "text": [
      "speed\n"
     ]
    },
    {
     "data": {
      "text/plain": [
       "60     46\n",
       "50     43\n",
       "65     38\n",
       "45     36\n",
       "70     36\n",
       "       ..\n",
       "127     1\n",
       "102     1\n",
       "118     1\n",
       "123     1\n",
       "88      1\n",
       "Name: speed, Length: 113, dtype: int64"
      ]
     },
     "metadata": {},
     "output_type": "display_data"
    },
    {
     "name": "stdout",
     "output_type": "stream",
     "text": [
      "type1\n"
     ]
    },
    {
     "data": {
      "text/plain": [
       "water       114\n",
       "normal      105\n",
       "grass        78\n",
       "bug          72\n",
       "psychic      53\n",
       "fire         52\n",
       "rock         45\n",
       "electric     39\n",
       "ground       32\n",
       "poison       32\n",
       "dark         29\n",
       "fighting     28\n",
       "dragon       27\n",
       "ghost        27\n",
       "steel        24\n",
       "ice          23\n",
       "fairy        18\n",
       "flying        3\n",
       "Name: type1, dtype: int64"
      ]
     },
     "metadata": {},
     "output_type": "display_data"
    },
    {
     "name": "stdout",
     "output_type": "stream",
     "text": [
      "type2\n"
     ]
    },
    {
     "data": {
      "text/plain": [
       "nan         384\n",
       "flying       95\n",
       "poison       34\n",
       "ground       34\n",
       "fairy        29\n",
       "psychic      29\n",
       "fighting     25\n",
       "steel        22\n",
       "dark         21\n",
       "grass        20\n",
       "water        17\n",
       "dragon       17\n",
       "ice          15\n",
       "rock         14\n",
       "ghost        14\n",
       "fire         13\n",
       "electric      9\n",
       "bug           5\n",
       "normal        4\n",
       "Name: type2, dtype: int64"
      ]
     },
     "metadata": {},
     "output_type": "display_data"
    },
    {
     "name": "stdout",
     "output_type": "stream",
     "text": [
      "weight_kg\n"
     ]
    },
    {
     "data": {
      "text/plain": [
       "nan      20\n",
       "15.0      9\n",
       "5.0       8\n",
       "28.0      8\n",
       "8.5       8\n",
       "         ..\n",
       "50.2      1\n",
       "950.0     1\n",
       "70.5      1\n",
       "24.9      1\n",
       "96.3      1\n",
       "Name: weight_kg, Length: 422, dtype: int64"
      ]
     },
     "metadata": {},
     "output_type": "display_data"
    },
    {
     "name": "stdout",
     "output_type": "stream",
     "text": [
      "generation\n"
     ]
    },
    {
     "data": {
      "text/plain": [
       "5    156\n",
       "1    151\n",
       "3    135\n",
       "4    107\n",
       "2    100\n",
       "7     80\n",
       "6     72\n",
       "Name: generation, dtype: int64"
      ]
     },
     "metadata": {},
     "output_type": "display_data"
    },
    {
     "name": "stdout",
     "output_type": "stream",
     "text": [
      "is_legendary\n"
     ]
    },
    {
     "data": {
      "text/plain": [
       "0    731\n",
       "1     70\n",
       "Name: is_legendary, dtype: int64"
      ]
     },
     "metadata": {},
     "output_type": "display_data"
    }
   ],
   "source": [
    "#'abilities','classfication'(number_classfication),\n",
    "for col in df:\n",
    "    print(col)\n",
    "    display(df[col].astype(str).value_counts())"
   ]
  },
  {
   "cell_type": "code",
   "execution_count": 10,
   "id": "6b022299",
   "metadata": {},
   "outputs": [],
   "source": [
    "#tratamiento a variables con nulos "
   ]
  },
  {
   "cell_type": "code",
   "execution_count": 11,
   "id": "8c954e20",
   "metadata": {},
   "outputs": [],
   "source": [
    "df[\"type2\"]=df[\"type2\"].fillna(\"without type2\")"
   ]
  },
  {
   "cell_type": "code",
   "execution_count": 12,
   "id": "05169cab",
   "metadata": {},
   "outputs": [],
   "source": [
    "df[\"percentage_male\"]=df[\"percentage_male\"].fillna(0)"
   ]
  },
  {
   "cell_type": "code",
   "execution_count": 13,
   "id": "545dbadd",
   "metadata": {},
   "outputs": [],
   "source": [
    "df_weight_kg_mean=df[\"weight_kg\"].mean()\n",
    "df_height_m_mean=df[\"height_m\"].mean()"
   ]
  },
  {
   "cell_type": "code",
   "execution_count": 14,
   "id": "1fa68b15",
   "metadata": {},
   "outputs": [],
   "source": [
    "df[\"weight_kg\"]=df[\"weight_kg\"].fillna(df_weight_kg_mean)"
   ]
  },
  {
   "cell_type": "code",
   "execution_count": 15,
   "id": "c5835d40",
   "metadata": {},
   "outputs": [],
   "source": [
    "df[\"height_m\"]=df[\"height_m\"].fillna(df_height_m_mean)"
   ]
  },
  {
   "cell_type": "code",
   "execution_count": 16,
   "id": "5d895cda",
   "metadata": {},
   "outputs": [],
   "source": [
    "df[\"capture_rate\"]=df[\"capture_rate\"].replace('30 (Meteorite)255 (Core)',30)"
   ]
  },
  {
   "cell_type": "code",
   "execution_count": 17,
   "id": "d693fa27",
   "metadata": {},
   "outputs": [],
   "source": [
    "#ingenieria de variables categoricas"
   ]
  },
  {
   "cell_type": "code",
   "execution_count": 18,
   "id": "19358856",
   "metadata": {},
   "outputs": [
    {
     "name": "stdout",
     "output_type": "stream",
     "text": [
      "<class 'pandas.core.frame.DataFrame'>\n",
      "RangeIndex: 801 entries, 0 to 800\n",
      "Data columns (total 41 columns):\n",
      " #   Column             Non-Null Count  Dtype  \n",
      "---  ------             --------------  -----  \n",
      " 0   abilities          801 non-null    object \n",
      " 1   against_bug        801 non-null    float64\n",
      " 2   against_dark       801 non-null    float64\n",
      " 3   against_dragon     801 non-null    float64\n",
      " 4   against_electric   801 non-null    float64\n",
      " 5   against_fairy      801 non-null    float64\n",
      " 6   against_fight      801 non-null    float64\n",
      " 7   against_fire       801 non-null    float64\n",
      " 8   against_flying     801 non-null    float64\n",
      " 9   against_ghost      801 non-null    float64\n",
      " 10  against_grass      801 non-null    float64\n",
      " 11  against_ground     801 non-null    float64\n",
      " 12  against_ice        801 non-null    float64\n",
      " 13  against_normal     801 non-null    float64\n",
      " 14  against_poison     801 non-null    float64\n",
      " 15  against_psychic    801 non-null    float64\n",
      " 16  against_rock       801 non-null    float64\n",
      " 17  against_steel      801 non-null    float64\n",
      " 18  against_water      801 non-null    float64\n",
      " 19  attack             801 non-null    int64  \n",
      " 20  base_egg_steps     801 non-null    int64  \n",
      " 21  base_happiness     801 non-null    int64  \n",
      " 22  base_total         801 non-null    int64  \n",
      " 23  capture_rate       801 non-null    object \n",
      " 24  classfication      801 non-null    object \n",
      " 25  defense            801 non-null    int64  \n",
      " 26  experience_growth  801 non-null    int64  \n",
      " 27  height_m           801 non-null    float64\n",
      " 28  hp                 801 non-null    int64  \n",
      " 29  japanese_name      801 non-null    object \n",
      " 30  name               801 non-null    object \n",
      " 31  percentage_male    801 non-null    float64\n",
      " 32  pokedex_number     801 non-null    int64  \n",
      " 33  sp_attack          801 non-null    int64  \n",
      " 34  sp_defense         801 non-null    int64  \n",
      " 35  speed              801 non-null    int64  \n",
      " 36  type1              801 non-null    object \n",
      " 37  type2              801 non-null    object \n",
      " 38  weight_kg          801 non-null    float64\n",
      " 39  generation         801 non-null    int64  \n",
      " 40  is_legendary       801 non-null    int64  \n",
      "dtypes: float64(21), int64(13), object(7)\n",
      "memory usage: 256.7+ KB\n"
     ]
    }
   ],
   "source": [
    "df.info()"
   ]
  },
  {
   "cell_type": "code",
   "execution_count": 19,
   "id": "2b63e787",
   "metadata": {},
   "outputs": [
    {
     "data": {
      "text/plain": [
       "array([\"['Overgrow', 'Chlorophyll']\", \"['Blaze', 'Solar Power']\",\n",
       "       \"['Torrent', 'Rain Dish']\", \"['Shield Dust', 'Run Away']\",\n",
       "       \"['Shed Skin']\", \"['Compoundeyes', 'Tinted Lens']\",\n",
       "       \"['Swarm', 'Sniper']\", \"['Keen Eye', 'Tangled Feet', 'Big Pecks']\",\n",
       "       \"['Run Away', 'Guts', 'Hustle', 'Gluttony', 'Hustle', 'Thick Fat']\",\n",
       "       \"['Keen Eye', 'Sniper']\", \"['Intimidate', 'Shed Skin', 'Unnerve']\",\n",
       "       \"['Static', 'Lightningrod']\",\n",
       "       \"['Static', 'Lightningrod', 'Surge Surfer']\",\n",
       "       \"['Sand Veil', 'Sand Rush', 'Snow Cloak', 'Slush Rush']\",\n",
       "       \"['Poison Point', 'Rivalry', 'Hustle']\",\n",
       "       \"['Poison Point', 'Rivalry', 'Sheer Force']\",\n",
       "       \"['Cute Charm', 'Magic Guard', 'Friend Guard']\",\n",
       "       \"['Cute Charm', 'Magic Guard', 'Unaware']\",\n",
       "       \"['Flash Fire', 'Drought', 'Snow Cloak', 'Snow Warning']\",\n",
       "       \"['Cute Charm', 'Competitive', 'Friend Guard']\",\n",
       "       \"['Cute Charm', 'Competitive', 'Frisk']\",\n",
       "       \"['Inner Focus', 'Infiltrator']\", \"['Chlorophyll', 'Run Away']\",\n",
       "       \"['Chlorophyll', 'Stench']\", \"['Chlorophyll', 'Effect Spore']\",\n",
       "       \"['Effect Spore', 'Dry Skin', 'Damp']\",\n",
       "       \"['Compoundeyes', 'Tinted Lens', 'Run Away']\",\n",
       "       \"['Shield Dust', 'Tinted Lens', 'Wonder Skin ']\",\n",
       "       \"['Sand Veil', 'Arena Trap', 'Sand Force', 'Sand Veil', 'Tangling Hair', 'Sand Force']\",\n",
       "       \"['Pickup', 'Technician', 'Unnerve', 'Pickup', 'Technician', 'Rattled']\",\n",
       "       \"['Limber', 'Technician', 'Unnerve', 'Fur Coat', 'Technician', 'Rattled']\",\n",
       "       \"['Damp', 'Cloud Nine', 'Swift Swim']\",\n",
       "       \"['Vital Spirit', 'Anger Point', 'Defiant']\",\n",
       "       \"['Intimidate', 'Flash Fire', 'Justified']\",\n",
       "       \"['Water Absorb', 'Damp', 'Swift Swim']\",\n",
       "       \"['Synchronize', 'Inner Focus', 'Magic Guard']\",\n",
       "       \"['Guts', 'No Guard', 'Steadfast']\", \"['Chlorophyll', 'Gluttony']\",\n",
       "       \"['Clear Body', 'Liquid Ooze', 'Rain Dish']\",\n",
       "       \"['Rock Head', 'Sturdy', 'Sand Veil', 'Magnet Pull', 'Sturdy', 'Galvanize']\",\n",
       "       \"['Run Away', 'Flash Fire', 'Flame Body']\",\n",
       "       \"['Oblivious', 'Own Tempo', 'Regenerator']\",\n",
       "       \"['Magnet Pull', 'Sturdy', 'Analytic']\",\n",
       "       \"['Keen Eye', 'Inner Focus', 'Defiant']\",\n",
       "       \"['Run Away', 'Early Bird', 'Tangled Feet']\",\n",
       "       \"['Thick Fat', 'Hydration', 'Ice Body']\",\n",
       "       \"['Stench', 'Sticky Hold', 'Poison Touch', 'Poison Touch', 'Gluttony', 'Power of Alchemy']\",\n",
       "       \"['Shell Armor', 'Skill Link', 'Overcoat']\", \"['Levitate']\",\n",
       "       \"['Cursed Body']\", \"['Rock Head', 'Sturdy', 'Weak Armor']\",\n",
       "       \"['Insomnia', 'Forewarn', 'Inner Focus']\",\n",
       "       \"['Hyper Cutter', 'Shell Armor', 'Sheer Force']\",\n",
       "       \"['Soundproof', 'Static', 'Aftermath']\",\n",
       "       \"['Chlorophyll', 'Harvest']\",\n",
       "       \"['Chlorophyll', 'Harvest', 'Frisk', 'Harvest']\",\n",
       "       \"['Rock Head', 'Lightningrod', 'Battle Armor']\",\n",
       "       \"['Rock Head', 'Lightningrod', 'Battle Armor', 'Cursed Body', 'Lightningrod', 'Rock Head']\",\n",
       "       \"['Limber', 'Reckless', 'Unburden']\",\n",
       "       \"['Keen Eye', 'Iron Fist', 'Inner Focus']\",\n",
       "       \"['Own Tempo', 'Oblivious', 'Cloud Nine']\",\n",
       "       \"['Lightningrod', 'Rock Head', 'Reckless']\",\n",
       "       \"['Natural Cure', 'Serene Grace', 'Healer']\",\n",
       "       \"['Chlorophyll', 'Leaf Guard', 'Regenerator']\",\n",
       "       \"['Early Bird', 'Scrappy', 'Inner Focus']\",\n",
       "       \"['Swift Swim', 'Sniper', 'Damp']\",\n",
       "       \"['Poison Point', 'Sniper', 'Damp']\",\n",
       "       \"['Swift Swim', 'Water Veil', 'Lightningrod']\",\n",
       "       \"['Illuminate', 'Natural Cure', 'Analytic']\",\n",
       "       \"['Soundproof', 'Filter', 'Technician']\",\n",
       "       \"['Swarm', 'Technician', 'Steadfast']\",\n",
       "       \"['Oblivious', 'Forewarn', 'Dry Skin']\",\n",
       "       \"['Static', 'Vital Spirit']\", \"['Flame Body', 'Vital Spirit']\",\n",
       "       \"['Hyper Cutter', 'Mold Breaker', 'Moxie']\",\n",
       "       \"['Intimidate', 'Anger Point', 'Sheer Force']\",\n",
       "       \"['Swift Swim', 'Rattled']\", \"['Intimidate', 'Moxie']\",\n",
       "       \"['Water Absorb', 'Shell Armor', 'Hydration']\",\n",
       "       \"['Limber', 'Imposter']\",\n",
       "       \"['Run Away', 'Adaptability', 'Anticipation']\",\n",
       "       \"['Water Absorb', 'Hydration']\", \"['Volt Absorb', 'Quick Feet']\",\n",
       "       \"['Flash Fire', 'Guts']\", \"['Trace', 'Download', 'Analytic']\",\n",
       "       \"['Swift Swim', 'Shell Armor', 'Weak Armor']\",\n",
       "       \"['Swift Swim', 'Battle Armor', 'Weak Armor']\",\n",
       "       \"['Rock Head', 'Pressure', 'Unnerve']\",\n",
       "       \"['Immunity', 'Thick Fat', 'Gluttony']\",\n",
       "       \"['Pressure', 'Snow Cloak']\", \"['Pressure', 'Static']\",\n",
       "       \"['Pressure', 'Flame Body']\", \"['Shed Skin', 'Marvel Scale']\",\n",
       "       \"['Inner Focus', 'Multiscale']\", \"['Pressure', 'Unnerve']\",\n",
       "       \"['Synchronize']\", \"['Overgrow', 'Leaf Guard']\",\n",
       "       \"['Blaze', 'Flash Fire']\", \"['Torrent', 'Sheer Force']\",\n",
       "       \"['Run Away', 'Keen Eye', 'Frisk']\",\n",
       "       \"['Insomnia', 'Keen Eye', 'Tinted Lens']\",\n",
       "       \"['Swarm', 'Early Bird', 'Rattled']\",\n",
       "       \"['Swarm', 'Early Bird', 'Iron Fist']\",\n",
       "       \"['Swarm', 'Insomnia', 'Sniper']\",\n",
       "       \"['Volt Absorb', 'Illuminate', 'Water Absorb']\",\n",
       "       \"['Hustle', 'Serene Grace', 'Super Luck']\",\n",
       "       \"['Synchronize', 'Early Bird', 'Magic Bounce']\",\n",
       "       \"['Static', 'Plus']\", \"['Chlorophyll', 'Healer']\",\n",
       "       \"['Thick Fat', 'Huge Power', 'Sap Sipper']\",\n",
       "       \"['Sturdy', 'Rock Head', 'Rattled']\",\n",
       "       \"['Water Absorb', 'Damp', 'Drizzle']\",\n",
       "       \"['Chlorophyll', 'Leaf Guard', 'Infiltrator']\",\n",
       "       \"['Run Away', 'Pickup', 'Skill Link']\",\n",
       "       \"['Chlorophyll', 'Solar Power', 'Early Bird']\",\n",
       "       \"['Speed Boost', 'Compoundeyes', 'Frisk']\",\n",
       "       \"['Damp', 'Water Absorb', 'Unaware']\",\n",
       "       \"['Synchronize', 'Magic Bounce']\",\n",
       "       \"['Synchronize', 'Inner Focus']\",\n",
       "       \"['Insomnia', 'Super Luck', 'Prankster']\",\n",
       "       \"['Shadow Tag', 'Telepathy']\",\n",
       "       \"['Inner Focus', 'Early Bird', 'Sap Sipper']\",\n",
       "       \"['Sturdy', 'Overcoat']\",\n",
       "       \"['Serene Grace', 'Run Away', 'Rattled']\",\n",
       "       \"['Hyper Cutter', 'Sand Veil', 'Immunity']\",\n",
       "       \"['Rock Head', 'Sturdy', 'Sheer Force']\",\n",
       "       \"['Intimidate', 'Run Away', 'Rattled']\",\n",
       "       \"['Intimidate', 'Quick Feet', 'Rattled']\",\n",
       "       \"['Poison Point', 'Swift Swim', 'Intimidate']\",\n",
       "       \"['Swarm', 'Technician', 'Light Metal']\",\n",
       "       \"['Sturdy', 'Gluttony', 'Contrary']\", \"['Swarm', 'Guts', 'Moxie']\",\n",
       "       \"['Inner Focus', 'Keen Eye', 'Pickpocket']\",\n",
       "       \"['Pickup', 'Quick Feet', 'Honey Gather']\",\n",
       "       \"['Guts', 'Quick Feet', 'Unnerve']\",\n",
       "       \"['Magma Armor', 'Flame Body', 'Weak Armor']\",\n",
       "       \"['Oblivious', 'Snow Cloak', 'Thick Fat']\",\n",
       "       \"['Hustle', 'Natural Cure', 'Regenerator']\",\n",
       "       \"['Hustle', 'Sniper', 'Moody']\",\n",
       "       \"['Suction Cups', 'Sniper', 'Moody']\",\n",
       "       \"['Vital Spirit', 'Hustle', 'Insomnia']\",\n",
       "       \"['Swift Swim', 'Water Absorb', 'Water Veil']\",\n",
       "       \"['Keen Eye', 'Sturdy', 'Weak Armor']\",\n",
       "       \"['Early Bird', 'Flash Fire', 'Unnerve']\",\n",
       "       \"['Pickup', 'Sand Veil']\", \"['Sturdy', 'Sand Veil']\",\n",
       "       \"['Intimidate', 'Frisk', 'Sap Sipper']\",\n",
       "       \"['Own Tempo', 'Technician', 'Moody']\",\n",
       "       \"['Guts', 'Steadfast', 'Vital Spirit']\",\n",
       "       \"['Intimidate', 'Technician', 'Steadfast']\",\n",
       "       \"['Oblivious', 'Forewarn', 'Hydration']\",\n",
       "       \"['Thick Fat', 'Scrappy', 'Sap Sipper']\",\n",
       "       \"['Pressure', 'Inner Focus']\", \"['Guts', 'Sand Veil']\",\n",
       "       \"['Sand Stream', 'Unnerve']\", \"['Pressure', 'Multiscale']\",\n",
       "       \"['Pressure', 'Regenerator']\", \"['Natural Cure']\",\n",
       "       \"['Overgrow', 'Unburden']\", \"['Blaze', 'Speed Boost']\",\n",
       "       \"['Torrent', 'Damp']\", \"['Run Away', 'Quick Feet', 'Rattled']\",\n",
       "       \"['Intimidate', 'Quick Feet', 'Moxie']\",\n",
       "       \"['Pickup', 'Gluttony', 'Quick Feet']\", \"['Swarm', 'Rivalry']\",\n",
       "       \"['Shield Dust', 'Compoundeyes']\",\n",
       "       \"['Swift Swim', 'Rain Dish', 'Own Tempo']\",\n",
       "       \"['Chlorophyll', 'Early Bird', 'Pickpocket']\",\n",
       "       \"['Guts', 'Scrappy']\", \"['Keen Eye', 'Hydration', 'Rain Dish']\",\n",
       "       \"['Keen Eye', 'Drizzle', 'Rain Dish']\",\n",
       "       \"['Synchronize', 'Trace', 'Telepathy']\",\n",
       "       \"['Swift Swim', 'Rain Dish']\", \"['Intimidate', 'Unnerve']\",\n",
       "       \"['Effect Spore', 'Poison Heal', 'Quick Feet']\",\n",
       "       \"['Effect Spore', 'Poison Heal', 'Technician']\", \"['Truant']\",\n",
       "       \"['Vital Spirit']\", \"['Compoundeyes', 'Run Away']\",\n",
       "       \"['Speed Boost', 'Infiltrator']\", \"['Wonder Guard']\",\n",
       "       \"['Soundproof', 'Rattled']\", \"['Soundproof', 'Scrappy']\",\n",
       "       \"['Thick Fat', 'Guts', 'Sheer Force']\",\n",
       "       \"['Sturdy', 'Magnet Pull', 'Sand Force']\",\n",
       "       \"['Cute Charm', 'Normalize', 'Wonder Skin ']\",\n",
       "       \"['Keen Eye', 'Stall', 'Prankster']\",\n",
       "       \"['Hyper Cutter', 'Intimidate', 'Sheer Force']\",\n",
       "       \"['Sturdy', 'Rock Head', 'Heavy Metal']\",\n",
       "       \"['Pure Power', 'Telepathy']\",\n",
       "       \"['Static', 'Lightningrod', 'Minus']\", \"['Plus', 'Lightningrod']\",\n",
       "       \"['Minus', 'Volt Absorb']\", \"['Illuminate', 'Swarm', 'Prankster']\",\n",
       "       \"['Oblivious', 'Tinted Lens', 'Prankster']\",\n",
       "       \"['Natural Cure', 'Poison Point', 'Leaf Guard']\",\n",
       "       \"['Liquid Ooze', 'Sticky Hold', 'Gluttony']\",\n",
       "       \"['Rough Skin', 'Speed Boost']\",\n",
       "       \"['Water Veil', 'Oblivious', 'Pressure']\",\n",
       "       \"['Oblivious', 'Simple', 'Own Tempo']\",\n",
       "       \"['Magma Armor', 'Solid Rock', 'Anger Point']\",\n",
       "       \"['White Smoke', 'Drought', 'Shell Armor']\",\n",
       "       \"['Thick Fat', 'Own Tempo', 'Gluttony']\",\n",
       "       \"['Own Tempo', 'Tangled Feet', 'Contrary']\",\n",
       "       \"['Hyper Cutter', 'Arena Trap', 'Sheer Force']\",\n",
       "       \"['Sand Veil', 'Water Absorb']\", \"['Natural Cure', 'Cloud Nine']\",\n",
       "       \"['Immunity', 'Toxic Boost']\", \"['Shed Skin', 'Infiltrator']\",\n",
       "       \"['Oblivious', 'Anticipation', 'Hydration']\",\n",
       "       \"['Hyper Cutter', 'Shell Armor', 'Adaptability']\",\n",
       "       \"['Suction Cups', 'Storm Drain']\",\n",
       "       \"['Battle Armor', 'Swift Swim']\",\n",
       "       \"['Swift Swim', 'Oblivious', 'Adaptability']\",\n",
       "       \"['Marvel Scale', 'Competitive', 'Cute Charm']\", \"['Forecast']\",\n",
       "       \"['Color Change', 'Protean']\",\n",
       "       \"['Insomnia', 'Frisk', 'Cursed Body']\", \"['Levitate', 'Frisk']\",\n",
       "       \"['Pressure', 'Frisk']\",\n",
       "       \"['Chlorophyll', 'Solar Power', 'Harvest']\",\n",
       "       \"['Pressure', 'Super Luck', 'Justified']\",\n",
       "       \"['Inner Focus', 'Ice Body', 'Moody']\",\n",
       "       \"['Thick Fat', 'Ice Body', 'Oblivious']\",\n",
       "       \"['Shell Armor', 'Rattled']\", \"['Swift Swim', 'Water Veil']\",\n",
       "       \"['Swift Swim', 'Hydration']\",\n",
       "       \"['Swift Swim', 'Rock Head', 'Sturdy']\",\n",
       "       \"['Rock Head', 'Sheer Force']\", \"['Rock Head', 'Overcoat']\",\n",
       "       \"['Clear Body', 'Light Metal']\", \"['Clear Body', 'Sturdy']\",\n",
       "       \"['Clear Body', 'Ice Body']\", \"['Drizzle']\", \"['Drought']\",\n",
       "       \"['Air Lock']\", \"['Serene Grace']\", \"['Pressure']\",\n",
       "       \"['Overgrow', 'Shell Armor']\", \"['Blaze', 'Iron Fist']\",\n",
       "       \"['Torrent', 'Defiant']\", \"['Keen Eye', 'Reckless']\",\n",
       "       \"['Intimidate', 'Reckless']\", \"['Simple', 'Unaware', 'Moody']\",\n",
       "       \"['Shed Skin', 'Run Away']\", \"['Swarm', 'Technician']\",\n",
       "       \"['Rivalry', 'Intimidate', 'Guts']\",\n",
       "       \"['Natural Cure', 'Poison Point', 'Technician']\",\n",
       "       \"['Mold Breaker', 'Sheer Force']\", \"['Sturdy', 'Soundproof']\",\n",
       "       \"['Shed Skin', 'Overcoat']\", \"['Anticipation', 'Overcoat']\",\n",
       "       \"['Swarm', 'Tinted Lens']\", \"['Honey Gather', 'Hustle']\",\n",
       "       \"['Run Away', 'Pickup', 'Volt Absorb']\", \"['Chlorophyll']\",\n",
       "       \"['Flower Gift']\", \"['Sticky Hold', 'Storm Drain', 'Sand Force']\",\n",
       "       \"['Technician', 'Pickup', 'Skill Link']\",\n",
       "       \"['Aftermath', 'Unburden', 'Flare Boost']\",\n",
       "       \"['Run Away', 'Klutz', 'Limber']\",\n",
       "       \"['Cute Charm', 'Klutz', 'Limber']\",\n",
       "       \"['Insomnia', 'Super Luck', 'Moxie']\",\n",
       "       \"['Limber', 'Own Tempo', 'Keen Eye']\",\n",
       "       \"['Thick Fat', 'Own Tempo', 'Defiant']\",\n",
       "       \"['Stench', 'Aftermath', 'Keen Eye']\",\n",
       "       \"['Levitate', 'Heatproof', 'Heavy Metal']\",\n",
       "       \"['Natural Cure', 'Serene Grace', 'Friend Guard']\",\n",
       "       \"['Pressure', 'Infiltrator']\", \"['Sand Veil', 'Rough Skin']\",\n",
       "       \"['Pickup', 'Thick Fat', 'Gluttony']\",\n",
       "       \"['Steadfast', 'Inner Focus', 'Prankster']\",\n",
       "       \"['Steadfast', 'Inner Focus', 'Justified']\",\n",
       "       \"['Sand Stream', 'Sand Force']\",\n",
       "       \"['Battle Armor', 'Sniper', 'Keen Eye']\",\n",
       "       \"['Anticipation', 'Dry Skin', 'Poison Touch']\",\n",
       "       \"['Swift Swim', 'Storm Drain', 'Water Veil']\",\n",
       "       \"['Snow Warning', 'Soundproof']\", \"['Pressure', 'Pickpocket']\",\n",
       "       \"['Lightningrod', 'Solid Rock', 'Reckless']\",\n",
       "       \"['Motor Drive', 'Vital Spirit']\",\n",
       "       \"['Speed Boost', 'Tinted Lens', 'Frisk']\",\n",
       "       \"['Leaf Guard', 'Chlorophyll']\", \"['Snow Cloak', 'Ice Body']\",\n",
       "       \"['Hyper Cutter', 'Sand Veil', 'Poison Heal']\",\n",
       "       \"['Adaptability', 'Download', 'Analytic']\",\n",
       "       \"['Steadfast', 'Justified']\", \"['Snow Cloak', 'Cursed Body']\",\n",
       "       \"['Pressure', 'Telepathy']\", \"['Flash Fire', 'Flame Body']\",\n",
       "       \"['Slow Start']\", \"['Pressure', 'Telepathy', 'Levitate']\",\n",
       "       \"['Hydration']\", \"['Bad Dreams']\",\n",
       "       \"['Natural Cure', 'Serene Grace']\", \"['Multitype']\",\n",
       "       \"['Victory Star']\", \"['Overgrow', 'Contrary']\",\n",
       "       \"['Blaze', 'Thick Fat']\", \"['Blaze', 'Reckless']\",\n",
       "       \"['Torrent', 'Shell Armor']\",\n",
       "       \"['Run Away', 'Keen Eye', 'Analytic']\",\n",
       "       \"['Illuminate', 'Keen Eye', 'Analytic']\",\n",
       "       \"['Vital Spirit', 'Pickup', 'Run Away']\",\n",
       "       \"['Intimidate', 'Sand Rush', 'Scrappy']\",\n",
       "       \"['Limber', 'Unburden', 'Prankster']\", \"['Gluttony', 'Overgrow']\",\n",
       "       \"['Gluttony', 'Blaze']\", \"['Gluttony', 'Torrent']\",\n",
       "       \"['Forewarn', 'Synchronize', 'Telepathy']\",\n",
       "       \"['Big Pecks', 'Super Luck', 'Rivalry']\",\n",
       "       \"['Lightningrod', 'Motor Drive', 'Sap Sipper']\",\n",
       "       \"['Sturdy', 'Weak Armor', 'Sand Force']\",\n",
       "       \"['Sturdy', 'Sand Stream', 'Sand Force']\",\n",
       "       \"['Unaware', 'Klutz', 'Simple']\",\n",
       "       \"['Sand Rush', 'Sand Force', 'Mold Breaker']\",\n",
       "       \"['Healer', 'Regenerator', 'Klutz']\",\n",
       "       \"['Guts', 'Sheer Force', 'Iron Fist']\",\n",
       "       \"['Swift Swim', 'Hydration', 'Water Absorb']\",\n",
       "       \"['Swift Swim', 'Poison Touch', 'Water Absorb']\",\n",
       "       \"['Guts', 'Inner Focus', 'Mold Breaker']\",\n",
       "       \"['Sturdy', 'Inner Focus', 'Mold Breaker']\",\n",
       "       \"['Swarm', 'Chlorophyll', 'Overcoat']\",\n",
       "       \"['Leaf Guard', 'Chlorophyll', 'Overcoat']\",\n",
       "       \"['Poison Point', 'Swarm', 'Speed Boost']\",\n",
       "       \"['Prankster', 'Infiltrator', 'Chlorophyll']\",\n",
       "       \"['Chlorophyll', 'Own Tempo', 'Leaf Guard']\",\n",
       "       \"['Reckless', 'Rock Head', 'Adaptability', 'Mold Breaker']\",\n",
       "       \"['Intimidate', 'Moxie', 'Anger Point']\",\n",
       "       \"['Hustle', 'Inner Focus']\", \"['Sheer Force', 'Zen Mode']\",\n",
       "       \"['Water Absorb', 'Chlorophyll', 'Storm Drain']\",\n",
       "       \"['Sturdy', 'Shell Armor', 'Weak Armor']\",\n",
       "       \"['Shed Skin', 'Moxie', 'Intimidate']\",\n",
       "       \"['Wonder Skin ', 'Magic Guard', 'Tinted Lens']\", \"['Mummy']\",\n",
       "       \"['Solid Rock', 'Sturdy', 'Swift Swim']\", \"['Defeatist']\",\n",
       "       \"['Stench', 'Sticky Hold', 'Aftermath']\",\n",
       "       \"['Stench', 'Weak Armor', 'Aftermath']\", \"['Illusion']\",\n",
       "       \"['Cute Charm', 'Technician', 'Skill Link']\",\n",
       "       \"['Frisk', 'Competitive', 'Shadow Tag']\",\n",
       "       \"['Overcoat', 'Magic Guard', 'Regenerator']\",\n",
       "       \"['Keen Eye', 'Big Pecks', 'Hydration']\",\n",
       "       \"['Ice Body', 'Snow Cloak', 'Weak Armor']\",\n",
       "       \"['Ice Body', 'Snow Warning', 'Weak Armor']\",\n",
       "       \"['Chlorophyll', 'Sap Sipper', 'Serene Grace']\",\n",
       "       \"['Static', 'Motor Drive']\", \"['Swarm', 'Shed Skin', 'No Guard']\",\n",
       "       \"['Swarm', 'Shell Armor', 'Overcoat']\",\n",
       "       \"['Effect Spore', 'Regenerator']\",\n",
       "       \"['Water Absorb', 'Cursed Body', 'Damp']\",\n",
       "       \"['Healer', 'Hydration', 'Regenerator']\",\n",
       "       \"['Compoundeyes', 'Unnerve', 'Swarm']\", \"['Iron Barbs']\",\n",
       "       \"['Iron Barbs', 'Anticipation']\",\n",
       "       \"['Plus', 'Minus', 'Clear Body']\",\n",
       "       \"['Telepathy', 'Synchronize', 'Analytic']\",\n",
       "       \"['Flash Fire', 'Flame Body', 'Infiltrator']\",\n",
       "       \"['Rivalry', 'Mold Breaker', 'Unnerve']\",\n",
       "       \"['Snow Cloak', 'Slush Rush', 'Rattled']\",\n",
       "       \"['Snow Cloak', 'Slush Rush', 'Swift Swim']\",\n",
       "       \"['Hydration', 'Shell Armor', 'Overcoat']\",\n",
       "       \"['Hydration', 'Sticky Hold', 'Unburden']\",\n",
       "       \"['Static', 'Limber', 'Sand Veil']\",\n",
       "       \"['Inner Focus', 'Regenerator', 'Reckless']\",\n",
       "       \"['Rough Skin', 'Sheer Force', 'Mold Breaker']\",\n",
       "       \"['Iron Fist', 'Klutz', 'No Guard']\",\n",
       "       \"['Defiant', 'Inner Focus', 'Pressure']\",\n",
       "       \"['Reckless', 'Sap Sipper', 'Soundproof']\",\n",
       "       \"['Keen Eye', 'Sheer Force', 'Hustle']\",\n",
       "       \"['Keen Eye', 'Sheer Force', 'Defiant']\",\n",
       "       \"['Big Pecks', 'Overcoat', 'Weak Armor']\",\n",
       "       \"['Gluttony', 'Flash Fire', 'White Smoke']\",\n",
       "       \"['Swarm', 'Hustle', 'Truant']\", \"['Hustle']\",\n",
       "       \"['Flame Body', 'Swarm']\", \"['Justified']\",\n",
       "       \"['Prankster', 'Defiant', 'Regenerator']\",\n",
       "       \"['Prankster', 'Defiant', 'Volt Absorb']\", \"['Turboblaze']\",\n",
       "       \"['Teravolt']\", \"['Sand Force', 'Sheer Force', 'Intimidate']\",\n",
       "       \"['Pressure', 'Teravolt', 'Turboblaze']\", \"['Download']\",\n",
       "       \"['Overgrow', 'Bulletproof']\", \"['Blaze', 'Magician']\",\n",
       "       \"['Torrent', 'Protean']\", \"['Torrent', 'Protean', 'Battle Bond']\",\n",
       "       \"['Pickup', 'Cheek Pouch', 'Huge Power']\",\n",
       "       \"['Big Pecks', 'Gale Wings']\", \"['Flame Body', 'Gale Wings']\",\n",
       "       \"['Shield Dust', 'Compoundeyes', 'Friend Guard']\",\n",
       "       \"['Shed Skin', 'Friend Guard']\", \"['Rivalry', 'Unnerve', 'Moxie']\",\n",
       "       \"['Flower Veil', 'Symbiosis']\", \"['Sap Sipper', 'Grass Pelt']\",\n",
       "       \"['Iron Fist', 'Mold Breaker', 'Scrappy']\", \"['Fur Coat']\",\n",
       "       \"['Keen Eye', 'Infiltrator', 'Own Tempo']\",\n",
       "       \"['Keen Eye', 'Infiltrator', 'Prankster', 'Competitive']\",\n",
       "       \"['No Guard']\", \"['Stance Change']\", \"['Healer', 'Aroma Veil']\",\n",
       "       \"['Sweet Veil', 'Unburden']\",\n",
       "       \"['Contrary', 'Suction Cups', 'Infiltrator']\",\n",
       "       \"['Tough Claws', 'Sniper', 'Pickpocket']\",\n",
       "       \"['Poison Point', 'Poison Touch', 'Adaptability']\",\n",
       "       \"['Mega Launcher']\", \"['Dry Skin', 'Sand Veil', 'Solar Power']\",\n",
       "       \"['Strong Jaw', 'Sturdy']\", \"['Strong Jaw', 'Rock Head']\",\n",
       "       \"['Refrigerate', 'Snow Warning']\", \"['Cute Charm', 'Pixilate']\",\n",
       "       \"['Limber', 'Unburden', 'Mold Breaker']\",\n",
       "       \"['Cheek Pouch', 'Pickup', 'Plus']\",\n",
       "       \"['Sap Sipper', 'Hydration', 'Gooey']\",\n",
       "       \"['Prankster', 'Magician']\",\n",
       "       \"['Natural Cure', 'Frisk', 'Harvest']\",\n",
       "       \"['Pickup', 'Frisk', 'Insomnia']\",\n",
       "       \"['Own Tempo', 'Ice Body', 'Sturdy']\",\n",
       "       \"['Frisk', 'Infiltrator', 'Telepathy']\", \"['Fairy Aura']\",\n",
       "       \"['Dark Aura']\", \"['Aura Break', 'Power Construct']\",\n",
       "       \"['Clear Body']\", \"['Magician']\", \"['Water Absorb']\",\n",
       "       \"['Overgrow', 'Long Reach']\", \"['Blaze', 'Intimidate']\",\n",
       "       \"['Torrent', 'Liquid Voice']\",\n",
       "       \"['Keen Eye', 'Skill Link', 'Pickup']\",\n",
       "       \"['Keen Eye', 'Skill Link', 'Sheer Force']\",\n",
       "       \"['Stakeout', 'Strong Jaw', 'Adaptability']\", \"['Swarm']\",\n",
       "       \"['Battery']\", \"['Hyper Cutter', 'Iron Fist', 'Anger Point']\",\n",
       "       \"['Dancer']\", \"['Honey Gather', 'Shield Dust', 'Sweet Veil']\",\n",
       "       \"['Keen Eye', 'Vital Spirit', 'Steadfast']\",\n",
       "       \"['Keen Eye', 'Sand Rush', 'Steadfast', 'Keen Eye', 'Vital Spirit', 'No Guard']\",\n",
       "       \"['Schooling']\", \"['Merciless', 'Limber', 'Regenerator']\",\n",
       "       \"['Own Tempo', 'Stamina', 'Inner Focus']\",\n",
       "       \"['Water Bubble', 'Water Absorb']\", \"['Leaf Guard', 'Contrary']\",\n",
       "       \"['Illuminate', 'Effect Spore', 'Rain Dish']\",\n",
       "       \"['Corrosion', 'Oblivious']\", \"['Fluffy', 'Klutz', 'Cute Charm']\",\n",
       "       \"['Fluffy', 'Klutz', 'Unnerve']\",\n",
       "       \"['Leaf Guard', 'Oblivious', 'Sweet Veil']\",\n",
       "       \"['Leaf Guard', 'Queenly Majesty', 'Sweet Veil']\",\n",
       "       \"['Flower Veil', 'Triage', 'Natural Cure']\",\n",
       "       \"['Inner Focus', 'Telepathy', 'Symbiosis']\",\n",
       "       \"['Receiver', 'Defiant']\", \"['Wimp Out']\", \"['Emergency Exit']\",\n",
       "       \"['Water Compaction', 'Sand Veil']\", \"['Innards Out', 'Unaware']\",\n",
       "       \"['Battle Armor']\", \"['RKS System']\", \"['Shields Down']\",\n",
       "       \"['Comatose']\", \"['Shell Armor']\",\n",
       "       \"['Iron Barbs', 'Lightningrod', 'Sturdy']\", \"['Disguise']\",\n",
       "       \"['Dazzling', 'Strong Jaw', 'Wonder Skin ']\",\n",
       "       \"['Berserk', 'Sap Sipper', 'Cloud Nine']\", \"['Steelworker']\",\n",
       "       \"['Bulletproof', 'Soundproof', 'Overcoat']\",\n",
       "       \"['Electric Surge', 'Telepathy']\",\n",
       "       \"['Psychic Surge', 'Telepathy']\", \"['Grassy Surge', 'Telepathy']\",\n",
       "       \"['Misty Surge', 'Telepathy']\", \"['Unaware']\", \"['Sturdy']\",\n",
       "       \"['Full Metal Body']\", \"['Shadow Shield']\", \"['Beast Boost']\",\n",
       "       \"['Prism Armor']\", \"['Soul-Heart']\"], dtype=object)"
      ]
     },
     "execution_count": 19,
     "metadata": {},
     "output_type": "execute_result"
    }
   ],
   "source": [
    "df['abilities'].unique()"
   ]
  },
  {
   "cell_type": "code",
   "execution_count": 20,
   "id": "1ceeface",
   "metadata": {},
   "outputs": [],
   "source": [
    "#eliminamos name y japanese_name por ser variables de identificación.\n",
    "df=df.drop(columns=['name','japanese_name','pokedex_number'])"
   ]
  },
  {
   "cell_type": "code",
   "execution_count": 21,
   "id": "d1f5ddc9",
   "metadata": {},
   "outputs": [
    {
     "data": {
      "text/plain": [
       "Index(['abilities', 'against_bug', 'against_dark', 'against_dragon',\n",
       "       'against_electric', 'against_fairy', 'against_fight', 'against_fire',\n",
       "       'against_flying', 'against_ghost', 'against_grass', 'against_ground',\n",
       "       'against_ice', 'against_normal', 'against_poison', 'against_psychic',\n",
       "       'against_rock', 'against_steel', 'against_water', 'attack',\n",
       "       'base_egg_steps', 'base_happiness', 'base_total', 'capture_rate',\n",
       "       'classfication', 'defense', 'experience_growth', 'height_m', 'hp',\n",
       "       'percentage_male', 'sp_attack', 'sp_defense', 'speed', 'type1', 'type2',\n",
       "       'weight_kg', 'generation', 'is_legendary'],\n",
       "      dtype='object')"
      ]
     },
     "execution_count": 21,
     "metadata": {},
     "output_type": "execute_result"
    }
   ],
   "source": [
    "df.columns"
   ]
  },
  {
   "cell_type": "code",
   "execution_count": 22,
   "id": "1abf9053",
   "metadata": {},
   "outputs": [],
   "source": [
    "df['abilities']=df['abilities'].map(lambda x: x.replace(\"[\",\" \").replace(\"]\",\" \"))"
   ]
  },
  {
   "cell_type": "code",
   "execution_count": 23,
   "id": "fca8bf6f",
   "metadata": {},
   "outputs": [],
   "source": [
    "#convierte a lista, quita los corchetes y las comillas dobles\n",
    "#M['abilities']=M['abilities'].map(lambda x: re.findall(r\"'(.*?)'\", x, re.DOTALL))"
   ]
  },
  {
   "cell_type": "code",
   "execution_count": 24,
   "id": "7eb628b0",
   "metadata": {},
   "outputs": [],
   "source": [
    "df['abilities']=df['abilities'].map(lambda x: x.replace(\"'\", \"\"))"
   ]
  },
  {
   "cell_type": "code",
   "execution_count": 25,
   "id": "8cc2aeb7",
   "metadata": {},
   "outputs": [],
   "source": [
    "df['abilities']=df['abilities'].map(lambda x: x.split(\",\"))"
   ]
  },
  {
   "cell_type": "code",
   "execution_count": 26,
   "id": "0a881b11",
   "metadata": {},
   "outputs": [
    {
     "data": {
      "text/plain": [
       "[' Overgrow', ' Chlorophyll ']"
      ]
     },
     "execution_count": 26,
     "metadata": {},
     "output_type": "execute_result"
    }
   ],
   "source": [
    "df['abilities'][1]"
   ]
  },
  {
   "cell_type": "code",
   "execution_count": 27,
   "id": "c9633b24",
   "metadata": {},
   "outputs": [
    {
     "name": "stdout",
     "output_type": "stream",
     "text": [
      " Overgrow  Chlorophyll   Overgrow  Chlorophyll   Overgrow  Chlorophyll   Blaze  Solar Power   Blaze  Solar Power   Blaze  Solar Power   Torrent  Rain Dish   Torrent  Rain Dish   Torrent  Rain Dish   Shield Dust  Run Away   Shed Skin   Compoundeyes  Tinted Lens   Shield Dust  Run Away   Shed Skin   Swarm  Sniper   Keen Eye  Tangled Feet  Big Pecks   Keen Eye  Tangled Feet  Big Pecks   Keen Eye  Tangled Feet  Big Pecks   Run Away  Guts  Hustle  Gluttony  Hustle  Thick Fat   Run Away  Guts  Hustle  Gluttony  Hustle  Thick Fat   Keen Eye  Sniper   Keen Eye  Sniper   Intimidate  Shed Skin  Unnerve   Intimidate  Shed Skin  Unnerve   Static  Lightningrod   Static  Lightningrod  Surge Surfer   Sand Veil  Sand Rush  Snow Cloak  Slush Rush   Sand Veil  Sand Rush  Snow Cloak  Slush Rush   Poison Point  Rivalry  Hustle   Poison Point  Rivalry  Hustle   Poison Point  Rivalry  Sheer Force   Poison Point  Rivalry  Hustle   Poison Point  Rivalry  Hustle   Poison Point  Rivalry  Sheer Force   Cute Charm  Magic Guard  Friend Guard   Cute Charm  Magic Guard  Unaware   Flash Fire  Drought  Snow Cloak  Snow Warning   Flash Fire  Drought  Snow Cloak  Snow Warning   Cute Charm  Competitive  Friend Guard   Cute Charm  Competitive  Frisk   Inner Focus  Infiltrator   Inner Focus  Infiltrator   Chlorophyll  Run Away   Chlorophyll  Stench   Chlorophyll  Effect Spore   Effect Spore  Dry Skin  Damp   Effect Spore  Dry Skin  Damp   Compoundeyes  Tinted Lens  Run Away   Shield Dust  Tinted Lens  Wonder Skin    Sand Veil  Arena Trap  Sand Force  Sand Veil  Tangling Hair  Sand Force   Sand Veil  Arena Trap  Sand Force  Sand Veil  Tangling Hair  Sand Force   Pickup  Technician  Unnerve  Pickup  Technician  Rattled   Limber  Technician  Unnerve  Fur Coat  Technician  Rattled   Damp  Cloud Nine  Swift Swim   Damp  Cloud Nine  Swift Swim   Vital Spirit  Anger Point  Defiant   Vital Spirit  Anger Point  Defiant   Intimidate  Flash Fire  Justified   Intimidate  Flash Fire  Justified   Water Absorb  Damp  Swift Swim   Water Absorb  Damp  Swift Swim   Water Absorb  Damp  Swift Swim   Synchronize  Inner Focus  Magic Guard   Synchronize  Inner Focus  Magic Guard   Synchronize  Inner Focus  Magic Guard   Guts  No Guard  Steadfast   Guts  No Guard  Steadfast   Guts  No Guard  Steadfast   Chlorophyll  Gluttony   Chlorophyll  Gluttony   Chlorophyll  Gluttony   Clear Body  Liquid Ooze  Rain Dish   Clear Body  Liquid Ooze  Rain Dish   Rock Head  Sturdy  Sand Veil  Magnet Pull  Sturdy  Galvanize   Rock Head  Sturdy  Sand Veil  Magnet Pull  Sturdy  Galvanize   Rock Head  Sturdy  Sand Veil  Magnet Pull  Sturdy  Galvanize   Run Away  Flash Fire  Flame Body   Run Away  Flash Fire  Flame Body   Oblivious  Own Tempo  Regenerator   Oblivious  Own Tempo  Regenerator   Magnet Pull  Sturdy  Analytic   Magnet Pull  Sturdy  Analytic   Keen Eye  Inner Focus  Defiant   Run Away  Early Bird  Tangled Feet   Run Away  Early Bird  Tangled Feet   Thick Fat  Hydration  Ice Body   Thick Fat  Hydration  Ice Body   Stench  Sticky Hold  Poison Touch  Poison Touch  Gluttony  Power of Alchemy   Stench  Sticky Hold  Poison Touch  Poison Touch  Gluttony  Power of Alchemy   Shell Armor  Skill Link  Overcoat   Shell Armor  Skill Link  Overcoat   Levitate   Levitate   Cursed Body   Rock Head  Sturdy  Weak Armor   Insomnia  Forewarn  Inner Focus   Insomnia  Forewarn  Inner Focus   Hyper Cutter  Shell Armor  Sheer Force   Hyper Cutter  Shell Armor  Sheer Force   Soundproof  Static  Aftermath   Soundproof  Static  Aftermath   Chlorophyll  Harvest   Chlorophyll  Harvest  Frisk  Harvest   Rock Head  Lightningrod  Battle Armor   Rock Head  Lightningrod  Battle Armor  Cursed Body  Lightningrod  Rock Head   Limber  Reckless  Unburden   Keen Eye  Iron Fist  Inner Focus   Own Tempo  Oblivious  Cloud Nine   Levitate   Levitate   Lightningrod  Rock Head  Reckless   Lightningrod  Rock Head  Reckless   Natural Cure  Serene Grace  Healer   Chlorophyll  Leaf Guard  Regenerator   Early Bird  Scrappy  Inner Focus   Swift Swim  Sniper  Damp   Poison Point  Sniper  Damp   Swift Swim  Water Veil  Lightningrod   Swift Swim  Water Veil  Lightningrod   Illuminate  Natural Cure  Analytic   Illuminate  Natural Cure  Analytic   Soundproof  Filter  Technician   Swarm  Technician  Steadfast   Oblivious  Forewarn  Dry Skin   Static  Vital Spirit   Flame Body  Vital Spirit   Hyper Cutter  Mold Breaker  Moxie   Intimidate  Anger Point  Sheer Force   Swift Swim  Rattled   Intimidate  Moxie   Water Absorb  Shell Armor  Hydration   Limber  Imposter   Run Away  Adaptability  Anticipation   Water Absorb  Hydration   Volt Absorb  Quick Feet   Flash Fire  Guts   Trace  Download  Analytic   Swift Swim  Shell Armor  Weak Armor   Swift Swim  Shell Armor  Weak Armor   Swift Swim  Battle Armor  Weak Armor   Swift Swim  Battle Armor  Weak Armor   Rock Head  Pressure  Unnerve   Immunity  Thick Fat  Gluttony   Pressure  Snow Cloak   Pressure  Static   Pressure  Flame Body   Shed Skin  Marvel Scale   Shed Skin  Marvel Scale   Inner Focus  Multiscale   Pressure  Unnerve   Synchronize   Overgrow  Leaf Guard   Overgrow  Leaf Guard   Overgrow  Leaf Guard   Blaze  Flash Fire   Blaze  Flash Fire   Blaze  Flash Fire   Torrent  Sheer Force   Torrent  Sheer Force   Torrent  Sheer Force   Run Away  Keen Eye  Frisk   Run Away  Keen Eye  Frisk   Insomnia  Keen Eye  Tinted Lens   Insomnia  Keen Eye  Tinted Lens   Swarm  Early Bird  Rattled   Swarm  Early Bird  Iron Fist   Swarm  Insomnia  Sniper   Swarm  Insomnia  Sniper   Inner Focus  Infiltrator   Volt Absorb  Illuminate  Water Absorb   Volt Absorb  Illuminate  Water Absorb   Static  Lightningrod   Cute Charm  Magic Guard  Friend Guard   Cute Charm  Competitive  Friend Guard   Hustle  Serene Grace  Super Luck   Hustle  Serene Grace  Super Luck   Synchronize  Early Bird  Magic Bounce   Synchronize  Early Bird  Magic Bounce   Static  Plus   Static  Plus   Static  Plus   Chlorophyll  Healer   Thick Fat  Huge Power  Sap Sipper   Thick Fat  Huge Power  Sap Sipper   Sturdy  Rock Head  Rattled   Water Absorb  Damp  Drizzle   Chlorophyll  Leaf Guard  Infiltrator   Chlorophyll  Leaf Guard  Infiltrator   Chlorophyll  Leaf Guard  Infiltrator   Run Away  Pickup  Skill Link   Chlorophyll  Solar Power  Early Bird   Chlorophyll  Solar Power  Early Bird   Speed Boost  Compoundeyes  Frisk   Damp  Water Absorb  Unaware   Damp  Water Absorb  Unaware   Synchronize  Magic Bounce   Synchronize  Inner Focus   Insomnia  Super Luck  Prankster   Oblivious  Own Tempo  Regenerator   Levitate   Levitate   Shadow Tag  Telepathy   Inner Focus  Early Bird  Sap Sipper   Sturdy  Overcoat   Sturdy  Overcoat   Serene Grace  Run Away  Rattled   Hyper Cutter  Sand Veil  Immunity   Rock Head  Sturdy  Sheer Force   Intimidate  Run Away  Rattled   Intimidate  Quick Feet  Rattled   Poison Point  Swift Swim  Intimidate   Swarm  Technician  Light Metal   Sturdy  Gluttony  Contrary   Swarm  Guts  Moxie   Inner Focus  Keen Eye  Pickpocket   Pickup  Quick Feet  Honey Gather   Guts  Quick Feet  Unnerve   Magma Armor  Flame Body  Weak Armor   Magma Armor  Flame Body  Weak Armor   Oblivious  Snow Cloak  Thick Fat   Oblivious  Snow Cloak  Thick Fat   Hustle  Natural Cure  Regenerator   Hustle  Sniper  Moody   Suction Cups  Sniper  Moody   Vital Spirit  Hustle  Insomnia   Swift Swim  Water Absorb  Water Veil   Keen Eye  Sturdy  Weak Armor   Early Bird  Flash Fire  Unnerve   Early Bird  Flash Fire  Unnerve   Swift Swim  Sniper  Damp   Pickup  Sand Veil   Sturdy  Sand Veil   Trace  Download  Analytic   Intimidate  Frisk  Sap Sipper   Own Tempo  Technician  Moody   Guts  Steadfast  Vital Spirit   Intimidate  Technician  Steadfast   Oblivious  Forewarn  Hydration   Static  Vital Spirit   Flame Body  Vital Spirit   Thick Fat  Scrappy  Sap Sipper   Natural Cure  Serene Grace  Healer   Pressure  Inner Focus   Pressure  Inner Focus   Pressure  Inner Focus   Guts  Sand Veil   Shed Skin   Sand Stream  Unnerve   Pressure  Multiscale   Pressure  Regenerator   Natural Cure   Overgrow  Unburden   Overgrow  Unburden   Overgrow  Unburden   Blaze  Speed Boost   Blaze  Speed Boost   Blaze  Speed Boost   Torrent  Damp   Torrent  Damp   Torrent  Damp   Run Away  Quick Feet  Rattled   Intimidate  Quick Feet  Moxie   Pickup  Gluttony  Quick Feet   Pickup  Gluttony  Quick Feet   Shield Dust  Run Away   Shed Skin   Swarm  Rivalry   Shed Skin   Shield Dust  Compoundeyes   Swift Swim  Rain Dish  Own Tempo   Swift Swim  Rain Dish  Own Tempo   Swift Swim  Rain Dish  Own Tempo   Chlorophyll  Early Bird  Pickpocket   Chlorophyll  Early Bird  Pickpocket   Chlorophyll  Early Bird  Pickpocket   Guts  Scrappy   Guts  Scrappy   Keen Eye  Hydration  Rain Dish   Keen Eye  Drizzle  Rain Dish   Synchronize  Trace  Telepathy   Synchronize  Trace  Telepathy   Synchronize  Trace  Telepathy   Swift Swim  Rain Dish   Intimidate  Unnerve   Effect Spore  Poison Heal  Quick Feet   Effect Spore  Poison Heal  Technician   Truant   Vital Spirit   Truant   Compoundeyes  Run Away   Speed Boost  Infiltrator   Wonder Guard   Soundproof  Rattled   Soundproof  Scrappy   Soundproof  Scrappy   Thick Fat  Guts  Sheer Force   Thick Fat  Guts  Sheer Force   Thick Fat  Huge Power  Sap Sipper   Sturdy  Magnet Pull  Sand Force   Cute Charm  Normalize  Wonder Skin    Cute Charm  Normalize  Wonder Skin    Keen Eye  Stall  Prankster   Hyper Cutter  Intimidate  Sheer Force   Sturdy  Rock Head  Heavy Metal   Sturdy  Rock Head  Heavy Metal   Sturdy  Rock Head  Heavy Metal   Pure Power  Telepathy   Pure Power  Telepathy   Static  Lightningrod  Minus   Static  Lightningrod  Minus   Plus  Lightningrod   Minus  Volt Absorb   Illuminate  Swarm  Prankster   Oblivious  Tinted Lens  Prankster   Natural Cure  Poison Point  Leaf Guard   Liquid Ooze  Sticky Hold  Gluttony   Liquid Ooze  Sticky Hold  Gluttony   Rough Skin  Speed Boost   Rough Skin  Speed Boost   Water Veil  Oblivious  Pressure   Water Veil  Oblivious  Pressure   Oblivious  Simple  Own Tempo   Magma Armor  Solid Rock  Anger Point   White Smoke  Drought  Shell Armor   Thick Fat  Own Tempo  Gluttony   Thick Fat  Own Tempo  Gluttony   Own Tempo  Tangled Feet  Contrary   Hyper Cutter  Arena Trap  Sheer Force   Levitate   Levitate   Sand Veil  Water Absorb   Sand Veil  Water Absorb   Natural Cure  Cloud Nine   Natural Cure  Cloud Nine   Immunity  Toxic Boost   Shed Skin  Infiltrator   Levitate   Levitate   Oblivious  Anticipation  Hydration   Oblivious  Anticipation  Hydration   Hyper Cutter  Shell Armor  Adaptability   Hyper Cutter  Shell Armor  Adaptability   Levitate   Levitate   Suction Cups  Storm Drain   Suction Cups  Storm Drain   Battle Armor  Swift Swim   Battle Armor  Swift Swim   Swift Swim  Oblivious  Adaptability   Marvel Scale  Competitive  Cute Charm   Forecast   Color Change  Protean   Insomnia  Frisk  Cursed Body   Insomnia  Frisk  Cursed Body   Levitate  Frisk   Pressure  Frisk   Chlorophyll  Solar Power  Harvest   Levitate   Pressure  Super Luck  Justified   Shadow Tag  Telepathy   Inner Focus  Ice Body  Moody   Inner Focus  Ice Body  Moody   Thick Fat  Ice Body  Oblivious   Thick Fat  Ice Body  Oblivious   Thick Fat  Ice Body  Oblivious   Shell Armor  Rattled   Swift Swim  Water Veil   Swift Swim  Hydration   Swift Swim  Rock Head  Sturdy   Swift Swim  Hydration   Rock Head  Sheer Force   Rock Head  Overcoat   Intimidate  Moxie   Clear Body  Light Metal   Clear Body  Light Metal   Clear Body  Light Metal   Clear Body  Sturdy   Clear Body  Ice Body   Clear Body  Light Metal   Levitate   Levitate   Drizzle   Drought   Air Lock   Serene Grace   Pressure   Overgrow  Shell Armor   Overgrow  Shell Armor   Overgrow  Shell Armor   Blaze  Iron Fist   Blaze  Iron Fist   Blaze  Iron Fist   Torrent  Defiant   Torrent  Defiant   Torrent  Defiant   Keen Eye  Reckless   Intimidate  Reckless   Intimidate  Reckless   Simple  Unaware  Moody   Simple  Unaware  Moody   Shed Skin  Run Away   Swarm  Technician   Rivalry  Intimidate  Guts   Rivalry  Intimidate  Guts   Rivalry  Intimidate  Guts   Natural Cure  Poison Point  Leaf Guard   Natural Cure  Poison Point  Technician   Mold Breaker  Sheer Force   Mold Breaker  Sheer Force   Sturdy  Soundproof   Sturdy  Soundproof   Shed Skin  Overcoat   Anticipation  Overcoat   Swarm  Tinted Lens   Honey Gather  Hustle   Pressure  Unnerve   Run Away  Pickup  Volt Absorb   Swift Swim  Water Veil   Swift Swim  Water Veil   Chlorophyll   Flower Gift   Sticky Hold  Storm Drain  Sand Force   Sticky Hold  Storm Drain  Sand Force   Technician  Pickup  Skill Link   Aftermath  Unburden  Flare Boost   Aftermath  Unburden  Flare Boost   Run Away  Klutz  Limber   Cute Charm  Klutz  Limber   Levitate   Insomnia  Super Luck  Moxie   Limber  Own Tempo  Keen Eye   Thick Fat  Own Tempo  Defiant   Levitate   Stench  Aftermath  Keen Eye   Stench  Aftermath  Keen Eye   Levitate  Heatproof  Heavy Metal   Levitate  Heatproof  Heavy Metal   Sturdy  Rock Head  Rattled   Soundproof  Filter  Technician   Natural Cure  Serene Grace  Friend Guard   Keen Eye  Tangled Feet  Big Pecks   Pressure  Infiltrator   Sand Veil  Rough Skin   Sand Veil  Rough Skin   Sand Veil  Rough Skin   Pickup  Thick Fat  Gluttony   Steadfast  Inner Focus  Prankster   Steadfast  Inner Focus  Justified   Sand Stream  Sand Force   Sand Stream  Sand Force   Battle Armor  Sniper  Keen Eye   Battle Armor  Sniper  Keen Eye   Anticipation  Dry Skin  Poison Touch   Anticipation  Dry Skin  Poison Touch   Levitate   Swift Swim  Storm Drain  Water Veil   Swift Swim  Storm Drain  Water Veil   Swift Swim  Water Absorb  Water Veil   Snow Warning  Soundproof   Snow Warning  Soundproof   Pressure  Pickpocket   Magnet Pull  Sturdy  Analytic   Own Tempo  Oblivious  Cloud Nine   Lightningrod  Solid Rock  Reckless   Chlorophyll  Leaf Guard  Regenerator   Motor Drive  Vital Spirit   Flame Body  Vital Spirit   Hustle  Serene Grace  Super Luck   Speed Boost  Tinted Lens  Frisk   Leaf Guard  Chlorophyll   Snow Cloak  Ice Body   Hyper Cutter  Sand Veil  Poison Heal   Oblivious  Snow Cloak  Thick Fat   Adaptability  Download  Analytic   Steadfast  Justified   Sturdy  Magnet Pull  Sand Force   Pressure  Frisk   Snow Cloak  Cursed Body   Levitate   Levitate   Levitate   Levitate   Pressure  Telepathy   Pressure  Telepathy   Flash Fire  Flame Body   Slow Start   Pressure  Telepathy  Levitate   Levitate   Hydration   Hydration   Bad Dreams   Natural Cure  Serene Grace   Multitype   Victory Star   Overgrow  Contrary   Overgrow  Contrary   Overgrow  Contrary   Blaze  Thick Fat   Blaze  Thick Fat   Blaze  Reckless   Torrent  Shell Armor   Torrent  Shell Armor   Torrent  Shell Armor   Run Away  Keen Eye  Analytic   Illuminate  Keen Eye  Analytic   Vital Spirit  Pickup  Run Away   Intimidate  Sand Rush  Scrappy   Intimidate  Sand Rush  Scrappy   Limber  Unburden  Prankster   Limber  Unburden  Prankster   Gluttony  Overgrow   Gluttony  Overgrow   Gluttony  Blaze   Gluttony  Blaze   Gluttony  Torrent   Gluttony  Torrent   Forewarn  Synchronize  Telepathy   Forewarn  Synchronize  Telepathy   Big Pecks  Super Luck  Rivalry   Big Pecks  Super Luck  Rivalry   Big Pecks  Super Luck  Rivalry   Lightningrod  Motor Drive  Sap Sipper   Lightningrod  Motor Drive  Sap Sipper   Sturdy  Weak Armor  Sand Force   Sturdy  Weak Armor  Sand Force   Sturdy  Sand Stream  Sand Force   Unaware  Klutz  Simple   Unaware  Klutz  Simple   Sand Rush  Sand Force  Mold Breaker   Sand Rush  Sand Force  Mold Breaker   Healer  Regenerator  Klutz   Guts  Sheer Force  Iron Fist   Guts  Sheer Force  Iron Fist   Guts  Sheer Force  Iron Fist   Swift Swim  Hydration  Water Absorb   Swift Swim  Hydration  Water Absorb   Swift Swim  Poison Touch  Water Absorb   Guts  Inner Focus  Mold Breaker   Sturdy  Inner Focus  Mold Breaker   Swarm  Chlorophyll  Overcoat   Leaf Guard  Chlorophyll  Overcoat   Swarm  Chlorophyll  Overcoat   Poison Point  Swarm  Speed Boost   Poison Point  Swarm  Speed Boost   Poison Point  Swarm  Speed Boost   Prankster  Infiltrator  Chlorophyll   Prankster  Infiltrator  Chlorophyll   Chlorophyll  Own Tempo  Leaf Guard   Chlorophyll  Own Tempo  Leaf Guard   Reckless  Rock Head  Adaptability  Mold Breaker   Intimidate  Moxie  Anger Point   Intimidate  Moxie  Anger Point   Intimidate  Moxie  Anger Point   Hustle  Inner Focus   Sheer Force  Zen Mode   Water Absorb  Chlorophyll  Storm Drain   Sturdy  Shell Armor  Weak Armor   Sturdy  Shell Armor  Weak Armor   Shed Skin  Moxie  Intimidate   Shed Skin  Moxie  Intimidate   Wonder Skin   Magic Guard  Tinted Lens   Mummy   Mummy   Solid Rock  Sturdy  Swift Swim   Solid Rock  Sturdy  Swift Swim   Defeatist   Defeatist   Stench  Sticky Hold  Aftermath   Stench  Weak Armor  Aftermath   Illusion   Illusion   Cute Charm  Technician  Skill Link   Cute Charm  Technician  Skill Link   Frisk  Competitive  Shadow Tag   Frisk  Competitive  Shadow Tag   Frisk  Competitive  Shadow Tag   Overcoat  Magic Guard  Regenerator   Overcoat  Magic Guard  Regenerator   Overcoat  Magic Guard  Regenerator   Keen Eye  Big Pecks  Hydration   Keen Eye  Big Pecks  Hydration   Ice Body  Snow Cloak  Weak Armor   Ice Body  Snow Cloak  Weak Armor   Ice Body  Snow Warning  Weak Armor   Chlorophyll  Sap Sipper  Serene Grace   Chlorophyll  Sap Sipper  Serene Grace   Static  Motor Drive   Swarm  Shed Skin  No Guard   Swarm  Shell Armor  Overcoat   Effect Spore  Regenerator   Effect Spore  Regenerator   Water Absorb  Cursed Body  Damp   Water Absorb  Cursed Body  Damp   Healer  Hydration  Regenerator   Compoundeyes  Unnerve  Swarm   Compoundeyes  Unnerve  Swarm   Iron Barbs   Iron Barbs  Anticipation   Plus  Minus  Clear Body   Plus  Minus  Clear Body   Plus  Minus  Clear Body   Levitate   Levitate   Levitate   Telepathy  Synchronize  Analytic   Telepathy  Synchronize  Analytic   Flash Fire  Flame Body  Infiltrator   Flash Fire  Flame Body  Infiltrator   Flash Fire  Flame Body  Infiltrator   Rivalry  Mold Breaker  Unnerve   Rivalry  Mold Breaker  Unnerve   Rivalry  Mold Breaker  Unnerve   Snow Cloak  Slush Rush  Rattled   Snow Cloak  Slush Rush  Swift Swim   Levitate   Hydration  Shell Armor  Overcoat   Hydration  Sticky Hold  Unburden   Static  Limber  Sand Veil   Inner Focus  Regenerator  Reckless   Inner Focus  Regenerator  Reckless   Rough Skin  Sheer Force  Mold Breaker   Iron Fist  Klutz  No Guard   Iron Fist  Klutz  No Guard   Defiant  Inner Focus  Pressure   Defiant  Inner Focus  Pressure   Reckless  Sap Sipper  Soundproof   Keen Eye  Sheer Force  Hustle   Keen Eye  Sheer Force  Defiant   Big Pecks  Overcoat  Weak Armor   Big Pecks  Overcoat  Weak Armor   Gluttony  Flash Fire  White Smoke   Swarm  Hustle  Truant   Hustle   Hustle   Levitate   Flame Body  Swarm   Flame Body  Swarm   Justified   Justified   Justified   Prankster  Defiant  Regenerator   Prankster  Defiant  Volt Absorb   Turboblaze   Teravolt   Sand Force  Sheer Force  Intimidate   Pressure  Teravolt  Turboblaze   Justified   Serene Grace   Download   Overgrow  Bulletproof   Overgrow  Bulletproof   Overgrow  Bulletproof   Blaze  Magician   Blaze  Magician   Blaze  Magician   Torrent  Protean   Torrent  Protean   Torrent  Protean  Battle Bond   Pickup  Cheek Pouch  Huge Power   Pickup  Cheek Pouch  Huge Power   Big Pecks  Gale Wings   Flame Body  Gale Wings   Flame Body  Gale Wings   Shield Dust  Compoundeyes  Friend Guard   Shed Skin  Friend Guard   Shield Dust  Compoundeyes  Friend Guard   Rivalry  Unnerve  Moxie   Rivalry  Unnerve  Moxie   Flower Veil  Symbiosis   Flower Veil  Symbiosis   Flower Veil  Symbiosis   Sap Sipper  Grass Pelt   Sap Sipper  Grass Pelt   Iron Fist  Mold Breaker  Scrappy   Iron Fist  Mold Breaker  Scrappy   Fur Coat   Keen Eye  Infiltrator  Own Tempo   Keen Eye  Infiltrator  Prankster  Competitive   No Guard   No Guard   Stance Change   Healer  Aroma Veil   Healer  Aroma Veil   Sweet Veil  Unburden   Sweet Veil  Unburden   Contrary  Suction Cups  Infiltrator   Contrary  Suction Cups  Infiltrator   Tough Claws  Sniper  Pickpocket   Tough Claws  Sniper  Pickpocket   Poison Point  Poison Touch  Adaptability   Poison Point  Poison Touch  Adaptability   Mega Launcher   Mega Launcher   Dry Skin  Sand Veil  Solar Power   Dry Skin  Sand Veil  Solar Power   Strong Jaw  Sturdy   Strong Jaw  Rock Head   Refrigerate  Snow Warning   Refrigerate  Snow Warning   Cute Charm  Pixilate   Limber  Unburden  Mold Breaker   Cheek Pouch  Pickup  Plus   Clear Body  Sturdy   Sap Sipper  Hydration  Gooey   Sap Sipper  Hydration  Gooey   Sap Sipper  Hydration  Gooey   Prankster  Magician   Natural Cure  Frisk  Harvest   Natural Cure  Frisk  Harvest   Pickup  Frisk  Insomnia   Pickup  Frisk  Insomnia   Own Tempo  Ice Body  Sturdy   Own Tempo  Ice Body  Sturdy   Frisk  Infiltrator  Telepathy   Frisk  Infiltrator  Telepathy   Fairy Aura   Dark Aura   Aura Break  Power Construct   Clear Body   Magician   Water Absorb   Overgrow  Long Reach   Overgrow  Long Reach   Overgrow  Long Reach   Blaze  Intimidate   Blaze  Intimidate   Blaze  Intimidate   Torrent  Liquid Voice   Torrent  Liquid Voice   Torrent  Liquid Voice   Keen Eye  Skill Link  Pickup   Keen Eye  Skill Link  Pickup   Keen Eye  Skill Link  Sheer Force   Stakeout  Strong Jaw  Adaptability   Stakeout  Strong Jaw  Adaptability   Swarm   Battery   Levitate   Hyper Cutter  Iron Fist  Anger Point   Hyper Cutter  Iron Fist  Anger Point   Dancer   Honey Gather  Shield Dust  Sweet Veil   Honey Gather  Shield Dust  Sweet Veil   Keen Eye  Vital Spirit  Steadfast   Keen Eye  Sand Rush  Steadfast  Keen Eye  Vital Spirit  No Guard   Schooling   Merciless  Limber  Regenerator   Merciless  Limber  Regenerator   Own Tempo  Stamina  Inner Focus   Own Tempo  Stamina  Inner Focus   Water Bubble  Water Absorb   Water Bubble  Water Absorb   Leaf Guard  Contrary   Leaf Guard  Contrary   Illuminate  Effect Spore  Rain Dish   Illuminate  Effect Spore  Rain Dish   Corrosion  Oblivious   Corrosion  Oblivious   Fluffy  Klutz  Cute Charm   Fluffy  Klutz  Unnerve   Leaf Guard  Oblivious  Sweet Veil   Leaf Guard  Oblivious  Sweet Veil   Leaf Guard  Queenly Majesty  Sweet Veil   Flower Veil  Triage  Natural Cure   Inner Focus  Telepathy  Symbiosis   Receiver  Defiant   Wimp Out   Emergency Exit   Water Compaction  Sand Veil   Water Compaction  Sand Veil   Innards Out  Unaware   Battle Armor   RKS System   Shields Down   Comatose   Shell Armor   Iron Barbs  Lightningrod  Sturdy   Disguise   Dazzling  Strong Jaw  Wonder Skin    Berserk  Sap Sipper  Cloud Nine   Steelworker   Bulletproof  Soundproof  Overcoat   Bulletproof  Soundproof  Overcoat   Bulletproof  Soundproof  Overcoat   Electric Surge  Telepathy   Psychic Surge  Telepathy   Grassy Surge  Telepathy   Misty Surge  Telepathy   Unaware   Sturdy   Full Metal Body   Shadow Shield   Beast Boost   Beast Boost   Beast Boost   Beast Boost   Beast Boost   Beast Boost   Beast Boost   Prism Armor   Soul-Heart  "
     ]
    }
   ],
   "source": [
    "text=[]\n",
    "for lista in df['abilities']:\n",
    "    for word in lista:\n",
    "        text.append(word)\n",
    "        print(word,sep=\" \",end=\" \")     "
   ]
  },
  {
   "cell_type": "code",
   "execution_count": 28,
   "id": "68a709d4",
   "metadata": {},
   "outputs": [
    {
     "data": {
      "text/plain": [
       "[' Overgrow',\n",
       " ' Chlorophyll ',\n",
       " ' Overgrow',\n",
       " ' Chlorophyll ',\n",
       " ' Overgrow',\n",
       " ' Chlorophyll ',\n",
       " ' Blaze',\n",
       " ' Solar Power ',\n",
       " ' Blaze',\n",
       " ' Solar Power ',\n",
       " ' Blaze',\n",
       " ' Solar Power ',\n",
       " ' Torrent',\n",
       " ' Rain Dish ',\n",
       " ' Torrent',\n",
       " ' Rain Dish ',\n",
       " ' Torrent',\n",
       " ' Rain Dish ',\n",
       " ' Shield Dust',\n",
       " ' Run Away ',\n",
       " ' Shed Skin ',\n",
       " ' Compoundeyes',\n",
       " ' Tinted Lens ',\n",
       " ' Shield Dust',\n",
       " ' Run Away ',\n",
       " ' Shed Skin ',\n",
       " ' Swarm',\n",
       " ' Sniper ',\n",
       " ' Keen Eye',\n",
       " ' Tangled Feet',\n",
       " ' Big Pecks ',\n",
       " ' Keen Eye',\n",
       " ' Tangled Feet',\n",
       " ' Big Pecks ',\n",
       " ' Keen Eye',\n",
       " ' Tangled Feet',\n",
       " ' Big Pecks ',\n",
       " ' Run Away',\n",
       " ' Guts',\n",
       " ' Hustle',\n",
       " ' Gluttony',\n",
       " ' Hustle',\n",
       " ' Thick Fat ',\n",
       " ' Run Away',\n",
       " ' Guts',\n",
       " ' Hustle',\n",
       " ' Gluttony',\n",
       " ' Hustle',\n",
       " ' Thick Fat ',\n",
       " ' Keen Eye',\n",
       " ' Sniper ',\n",
       " ' Keen Eye',\n",
       " ' Sniper ',\n",
       " ' Intimidate',\n",
       " ' Shed Skin',\n",
       " ' Unnerve ',\n",
       " ' Intimidate',\n",
       " ' Shed Skin',\n",
       " ' Unnerve ',\n",
       " ' Static',\n",
       " ' Lightningrod ',\n",
       " ' Static',\n",
       " ' Lightningrod',\n",
       " ' Surge Surfer ',\n",
       " ' Sand Veil',\n",
       " ' Sand Rush',\n",
       " ' Snow Cloak',\n",
       " ' Slush Rush ',\n",
       " ' Sand Veil',\n",
       " ' Sand Rush',\n",
       " ' Snow Cloak',\n",
       " ' Slush Rush ',\n",
       " ' Poison Point',\n",
       " ' Rivalry',\n",
       " ' Hustle ',\n",
       " ' Poison Point',\n",
       " ' Rivalry',\n",
       " ' Hustle ',\n",
       " ' Poison Point',\n",
       " ' Rivalry',\n",
       " ' Sheer Force ',\n",
       " ' Poison Point',\n",
       " ' Rivalry',\n",
       " ' Hustle ',\n",
       " ' Poison Point',\n",
       " ' Rivalry',\n",
       " ' Hustle ',\n",
       " ' Poison Point',\n",
       " ' Rivalry',\n",
       " ' Sheer Force ',\n",
       " ' Cute Charm',\n",
       " ' Magic Guard',\n",
       " ' Friend Guard ',\n",
       " ' Cute Charm',\n",
       " ' Magic Guard',\n",
       " ' Unaware ',\n",
       " ' Flash Fire',\n",
       " ' Drought',\n",
       " ' Snow Cloak',\n",
       " ' Snow Warning ',\n",
       " ' Flash Fire',\n",
       " ' Drought',\n",
       " ' Snow Cloak',\n",
       " ' Snow Warning ',\n",
       " ' Cute Charm',\n",
       " ' Competitive',\n",
       " ' Friend Guard ',\n",
       " ' Cute Charm',\n",
       " ' Competitive',\n",
       " ' Frisk ',\n",
       " ' Inner Focus',\n",
       " ' Infiltrator ',\n",
       " ' Inner Focus',\n",
       " ' Infiltrator ',\n",
       " ' Chlorophyll',\n",
       " ' Run Away ',\n",
       " ' Chlorophyll',\n",
       " ' Stench ',\n",
       " ' Chlorophyll',\n",
       " ' Effect Spore ',\n",
       " ' Effect Spore',\n",
       " ' Dry Skin',\n",
       " ' Damp ',\n",
       " ' Effect Spore',\n",
       " ' Dry Skin',\n",
       " ' Damp ',\n",
       " ' Compoundeyes',\n",
       " ' Tinted Lens',\n",
       " ' Run Away ',\n",
       " ' Shield Dust',\n",
       " ' Tinted Lens',\n",
       " ' Wonder Skin  ',\n",
       " ' Sand Veil',\n",
       " ' Arena Trap',\n",
       " ' Sand Force',\n",
       " ' Sand Veil',\n",
       " ' Tangling Hair',\n",
       " ' Sand Force ',\n",
       " ' Sand Veil',\n",
       " ' Arena Trap',\n",
       " ' Sand Force',\n",
       " ' Sand Veil',\n",
       " ' Tangling Hair',\n",
       " ' Sand Force ',\n",
       " ' Pickup',\n",
       " ' Technician',\n",
       " ' Unnerve',\n",
       " ' Pickup',\n",
       " ' Technician',\n",
       " ' Rattled ',\n",
       " ' Limber',\n",
       " ' Technician',\n",
       " ' Unnerve',\n",
       " ' Fur Coat',\n",
       " ' Technician',\n",
       " ' Rattled ',\n",
       " ' Damp',\n",
       " ' Cloud Nine',\n",
       " ' Swift Swim ',\n",
       " ' Damp',\n",
       " ' Cloud Nine',\n",
       " ' Swift Swim ',\n",
       " ' Vital Spirit',\n",
       " ' Anger Point',\n",
       " ' Defiant ',\n",
       " ' Vital Spirit',\n",
       " ' Anger Point',\n",
       " ' Defiant ',\n",
       " ' Intimidate',\n",
       " ' Flash Fire',\n",
       " ' Justified ',\n",
       " ' Intimidate',\n",
       " ' Flash Fire',\n",
       " ' Justified ',\n",
       " ' Water Absorb',\n",
       " ' Damp',\n",
       " ' Swift Swim ',\n",
       " ' Water Absorb',\n",
       " ' Damp',\n",
       " ' Swift Swim ',\n",
       " ' Water Absorb',\n",
       " ' Damp',\n",
       " ' Swift Swim ',\n",
       " ' Synchronize',\n",
       " ' Inner Focus',\n",
       " ' Magic Guard ',\n",
       " ' Synchronize',\n",
       " ' Inner Focus',\n",
       " ' Magic Guard ',\n",
       " ' Synchronize',\n",
       " ' Inner Focus',\n",
       " ' Magic Guard ',\n",
       " ' Guts',\n",
       " ' No Guard',\n",
       " ' Steadfast ',\n",
       " ' Guts',\n",
       " ' No Guard',\n",
       " ' Steadfast ',\n",
       " ' Guts',\n",
       " ' No Guard',\n",
       " ' Steadfast ',\n",
       " ' Chlorophyll',\n",
       " ' Gluttony ',\n",
       " ' Chlorophyll',\n",
       " ' Gluttony ',\n",
       " ' Chlorophyll',\n",
       " ' Gluttony ',\n",
       " ' Clear Body',\n",
       " ' Liquid Ooze',\n",
       " ' Rain Dish ',\n",
       " ' Clear Body',\n",
       " ' Liquid Ooze',\n",
       " ' Rain Dish ',\n",
       " ' Rock Head',\n",
       " ' Sturdy',\n",
       " ' Sand Veil',\n",
       " ' Magnet Pull',\n",
       " ' Sturdy',\n",
       " ' Galvanize ',\n",
       " ' Rock Head',\n",
       " ' Sturdy',\n",
       " ' Sand Veil',\n",
       " ' Magnet Pull',\n",
       " ' Sturdy',\n",
       " ' Galvanize ',\n",
       " ' Rock Head',\n",
       " ' Sturdy',\n",
       " ' Sand Veil',\n",
       " ' Magnet Pull',\n",
       " ' Sturdy',\n",
       " ' Galvanize ',\n",
       " ' Run Away',\n",
       " ' Flash Fire',\n",
       " ' Flame Body ',\n",
       " ' Run Away',\n",
       " ' Flash Fire',\n",
       " ' Flame Body ',\n",
       " ' Oblivious',\n",
       " ' Own Tempo',\n",
       " ' Regenerator ',\n",
       " ' Oblivious',\n",
       " ' Own Tempo',\n",
       " ' Regenerator ',\n",
       " ' Magnet Pull',\n",
       " ' Sturdy',\n",
       " ' Analytic ',\n",
       " ' Magnet Pull',\n",
       " ' Sturdy',\n",
       " ' Analytic ',\n",
       " ' Keen Eye',\n",
       " ' Inner Focus',\n",
       " ' Defiant ',\n",
       " ' Run Away',\n",
       " ' Early Bird',\n",
       " ' Tangled Feet ',\n",
       " ' Run Away',\n",
       " ' Early Bird',\n",
       " ' Tangled Feet ',\n",
       " ' Thick Fat',\n",
       " ' Hydration',\n",
       " ' Ice Body ',\n",
       " ' Thick Fat',\n",
       " ' Hydration',\n",
       " ' Ice Body ',\n",
       " ' Stench',\n",
       " ' Sticky Hold',\n",
       " ' Poison Touch',\n",
       " ' Poison Touch',\n",
       " ' Gluttony',\n",
       " ' Power of Alchemy ',\n",
       " ' Stench',\n",
       " ' Sticky Hold',\n",
       " ' Poison Touch',\n",
       " ' Poison Touch',\n",
       " ' Gluttony',\n",
       " ' Power of Alchemy ',\n",
       " ' Shell Armor',\n",
       " ' Skill Link',\n",
       " ' Overcoat ',\n",
       " ' Shell Armor',\n",
       " ' Skill Link',\n",
       " ' Overcoat ',\n",
       " ' Levitate ',\n",
       " ' Levitate ',\n",
       " ' Cursed Body ',\n",
       " ' Rock Head',\n",
       " ' Sturdy',\n",
       " ' Weak Armor ',\n",
       " ' Insomnia',\n",
       " ' Forewarn',\n",
       " ' Inner Focus ',\n",
       " ' Insomnia',\n",
       " ' Forewarn',\n",
       " ' Inner Focus ',\n",
       " ' Hyper Cutter',\n",
       " ' Shell Armor',\n",
       " ' Sheer Force ',\n",
       " ' Hyper Cutter',\n",
       " ' Shell Armor',\n",
       " ' Sheer Force ',\n",
       " ' Soundproof',\n",
       " ' Static',\n",
       " ' Aftermath ',\n",
       " ' Soundproof',\n",
       " ' Static',\n",
       " ' Aftermath ',\n",
       " ' Chlorophyll',\n",
       " ' Harvest ',\n",
       " ' Chlorophyll',\n",
       " ' Harvest',\n",
       " ' Frisk',\n",
       " ' Harvest ',\n",
       " ' Rock Head',\n",
       " ' Lightningrod',\n",
       " ' Battle Armor ',\n",
       " ' Rock Head',\n",
       " ' Lightningrod',\n",
       " ' Battle Armor',\n",
       " ' Cursed Body',\n",
       " ' Lightningrod',\n",
       " ' Rock Head ',\n",
       " ' Limber',\n",
       " ' Reckless',\n",
       " ' Unburden ',\n",
       " ' Keen Eye',\n",
       " ' Iron Fist',\n",
       " ' Inner Focus ',\n",
       " ' Own Tempo',\n",
       " ' Oblivious',\n",
       " ' Cloud Nine ',\n",
       " ' Levitate ',\n",
       " ' Levitate ',\n",
       " ' Lightningrod',\n",
       " ' Rock Head',\n",
       " ' Reckless ',\n",
       " ' Lightningrod',\n",
       " ' Rock Head',\n",
       " ' Reckless ',\n",
       " ' Natural Cure',\n",
       " ' Serene Grace',\n",
       " ' Healer ',\n",
       " ' Chlorophyll',\n",
       " ' Leaf Guard',\n",
       " ' Regenerator ',\n",
       " ' Early Bird',\n",
       " ' Scrappy',\n",
       " ' Inner Focus ',\n",
       " ' Swift Swim',\n",
       " ' Sniper',\n",
       " ' Damp ',\n",
       " ' Poison Point',\n",
       " ' Sniper',\n",
       " ' Damp ',\n",
       " ' Swift Swim',\n",
       " ' Water Veil',\n",
       " ' Lightningrod ',\n",
       " ' Swift Swim',\n",
       " ' Water Veil',\n",
       " ' Lightningrod ',\n",
       " ' Illuminate',\n",
       " ' Natural Cure',\n",
       " ' Analytic ',\n",
       " ' Illuminate',\n",
       " ' Natural Cure',\n",
       " ' Analytic ',\n",
       " ' Soundproof',\n",
       " ' Filter',\n",
       " ' Technician ',\n",
       " ' Swarm',\n",
       " ' Technician',\n",
       " ' Steadfast ',\n",
       " ' Oblivious',\n",
       " ' Forewarn',\n",
       " ' Dry Skin ',\n",
       " ' Static',\n",
       " ' Vital Spirit ',\n",
       " ' Flame Body',\n",
       " ' Vital Spirit ',\n",
       " ' Hyper Cutter',\n",
       " ' Mold Breaker',\n",
       " ' Moxie ',\n",
       " ' Intimidate',\n",
       " ' Anger Point',\n",
       " ' Sheer Force ',\n",
       " ' Swift Swim',\n",
       " ' Rattled ',\n",
       " ' Intimidate',\n",
       " ' Moxie ',\n",
       " ' Water Absorb',\n",
       " ' Shell Armor',\n",
       " ' Hydration ',\n",
       " ' Limber',\n",
       " ' Imposter ',\n",
       " ' Run Away',\n",
       " ' Adaptability',\n",
       " ' Anticipation ',\n",
       " ' Water Absorb',\n",
       " ' Hydration ',\n",
       " ' Volt Absorb',\n",
       " ' Quick Feet ',\n",
       " ' Flash Fire',\n",
       " ' Guts ',\n",
       " ' Trace',\n",
       " ' Download',\n",
       " ' Analytic ',\n",
       " ' Swift Swim',\n",
       " ' Shell Armor',\n",
       " ' Weak Armor ',\n",
       " ' Swift Swim',\n",
       " ' Shell Armor',\n",
       " ' Weak Armor ',\n",
       " ' Swift Swim',\n",
       " ' Battle Armor',\n",
       " ' Weak Armor ',\n",
       " ' Swift Swim',\n",
       " ' Battle Armor',\n",
       " ' Weak Armor ',\n",
       " ' Rock Head',\n",
       " ' Pressure',\n",
       " ' Unnerve ',\n",
       " ' Immunity',\n",
       " ' Thick Fat',\n",
       " ' Gluttony ',\n",
       " ' Pressure',\n",
       " ' Snow Cloak ',\n",
       " ' Pressure',\n",
       " ' Static ',\n",
       " ' Pressure',\n",
       " ' Flame Body ',\n",
       " ' Shed Skin',\n",
       " ' Marvel Scale ',\n",
       " ' Shed Skin',\n",
       " ' Marvel Scale ',\n",
       " ' Inner Focus',\n",
       " ' Multiscale ',\n",
       " ' Pressure',\n",
       " ' Unnerve ',\n",
       " ' Synchronize ',\n",
       " ' Overgrow',\n",
       " ' Leaf Guard ',\n",
       " ' Overgrow',\n",
       " ' Leaf Guard ',\n",
       " ' Overgrow',\n",
       " ' Leaf Guard ',\n",
       " ' Blaze',\n",
       " ' Flash Fire ',\n",
       " ' Blaze',\n",
       " ' Flash Fire ',\n",
       " ' Blaze',\n",
       " ' Flash Fire ',\n",
       " ' Torrent',\n",
       " ' Sheer Force ',\n",
       " ' Torrent',\n",
       " ' Sheer Force ',\n",
       " ' Torrent',\n",
       " ' Sheer Force ',\n",
       " ' Run Away',\n",
       " ' Keen Eye',\n",
       " ' Frisk ',\n",
       " ' Run Away',\n",
       " ' Keen Eye',\n",
       " ' Frisk ',\n",
       " ' Insomnia',\n",
       " ' Keen Eye',\n",
       " ' Tinted Lens ',\n",
       " ' Insomnia',\n",
       " ' Keen Eye',\n",
       " ' Tinted Lens ',\n",
       " ' Swarm',\n",
       " ' Early Bird',\n",
       " ' Rattled ',\n",
       " ' Swarm',\n",
       " ' Early Bird',\n",
       " ' Iron Fist ',\n",
       " ' Swarm',\n",
       " ' Insomnia',\n",
       " ' Sniper ',\n",
       " ' Swarm',\n",
       " ' Insomnia',\n",
       " ' Sniper ',\n",
       " ' Inner Focus',\n",
       " ' Infiltrator ',\n",
       " ' Volt Absorb',\n",
       " ' Illuminate',\n",
       " ' Water Absorb ',\n",
       " ' Volt Absorb',\n",
       " ' Illuminate',\n",
       " ' Water Absorb ',\n",
       " ' Static',\n",
       " ' Lightningrod ',\n",
       " ' Cute Charm',\n",
       " ' Magic Guard',\n",
       " ' Friend Guard ',\n",
       " ' Cute Charm',\n",
       " ' Competitive',\n",
       " ' Friend Guard ',\n",
       " ' Hustle',\n",
       " ' Serene Grace',\n",
       " ' Super Luck ',\n",
       " ' Hustle',\n",
       " ' Serene Grace',\n",
       " ' Super Luck ',\n",
       " ' Synchronize',\n",
       " ' Early Bird',\n",
       " ' Magic Bounce ',\n",
       " ' Synchronize',\n",
       " ' Early Bird',\n",
       " ' Magic Bounce ',\n",
       " ' Static',\n",
       " ' Plus ',\n",
       " ' Static',\n",
       " ' Plus ',\n",
       " ' Static',\n",
       " ' Plus ',\n",
       " ' Chlorophyll',\n",
       " ' Healer ',\n",
       " ' Thick Fat',\n",
       " ' Huge Power',\n",
       " ' Sap Sipper ',\n",
       " ' Thick Fat',\n",
       " ' Huge Power',\n",
       " ' Sap Sipper ',\n",
       " ' Sturdy',\n",
       " ' Rock Head',\n",
       " ' Rattled ',\n",
       " ' Water Absorb',\n",
       " ' Damp',\n",
       " ' Drizzle ',\n",
       " ' Chlorophyll',\n",
       " ' Leaf Guard',\n",
       " ' Infiltrator ',\n",
       " ' Chlorophyll',\n",
       " ' Leaf Guard',\n",
       " ' Infiltrator ',\n",
       " ' Chlorophyll',\n",
       " ' Leaf Guard',\n",
       " ' Infiltrator ',\n",
       " ' Run Away',\n",
       " ' Pickup',\n",
       " ' Skill Link ',\n",
       " ' Chlorophyll',\n",
       " ' Solar Power',\n",
       " ' Early Bird ',\n",
       " ' Chlorophyll',\n",
       " ' Solar Power',\n",
       " ' Early Bird ',\n",
       " ' Speed Boost',\n",
       " ' Compoundeyes',\n",
       " ' Frisk ',\n",
       " ' Damp',\n",
       " ' Water Absorb',\n",
       " ' Unaware ',\n",
       " ' Damp',\n",
       " ' Water Absorb',\n",
       " ' Unaware ',\n",
       " ' Synchronize',\n",
       " ' Magic Bounce ',\n",
       " ' Synchronize',\n",
       " ' Inner Focus ',\n",
       " ' Insomnia',\n",
       " ' Super Luck',\n",
       " ' Prankster ',\n",
       " ' Oblivious',\n",
       " ' Own Tempo',\n",
       " ' Regenerator ',\n",
       " ' Levitate ',\n",
       " ' Levitate ',\n",
       " ' Shadow Tag',\n",
       " ' Telepathy ',\n",
       " ' Inner Focus',\n",
       " ' Early Bird',\n",
       " ' Sap Sipper ',\n",
       " ' Sturdy',\n",
       " ' Overcoat ',\n",
       " ' Sturdy',\n",
       " ' Overcoat ',\n",
       " ' Serene Grace',\n",
       " ' Run Away',\n",
       " ' Rattled ',\n",
       " ' Hyper Cutter',\n",
       " ' Sand Veil',\n",
       " ' Immunity ',\n",
       " ' Rock Head',\n",
       " ' Sturdy',\n",
       " ' Sheer Force ',\n",
       " ' Intimidate',\n",
       " ' Run Away',\n",
       " ' Rattled ',\n",
       " ' Intimidate',\n",
       " ' Quick Feet',\n",
       " ' Rattled ',\n",
       " ' Poison Point',\n",
       " ' Swift Swim',\n",
       " ' Intimidate ',\n",
       " ' Swarm',\n",
       " ' Technician',\n",
       " ' Light Metal ',\n",
       " ' Sturdy',\n",
       " ' Gluttony',\n",
       " ' Contrary ',\n",
       " ' Swarm',\n",
       " ' Guts',\n",
       " ' Moxie ',\n",
       " ' Inner Focus',\n",
       " ' Keen Eye',\n",
       " ' Pickpocket ',\n",
       " ' Pickup',\n",
       " ' Quick Feet',\n",
       " ' Honey Gather ',\n",
       " ' Guts',\n",
       " ' Quick Feet',\n",
       " ' Unnerve ',\n",
       " ' Magma Armor',\n",
       " ' Flame Body',\n",
       " ' Weak Armor ',\n",
       " ' Magma Armor',\n",
       " ' Flame Body',\n",
       " ' Weak Armor ',\n",
       " ' Oblivious',\n",
       " ' Snow Cloak',\n",
       " ' Thick Fat ',\n",
       " ' Oblivious',\n",
       " ' Snow Cloak',\n",
       " ' Thick Fat ',\n",
       " ' Hustle',\n",
       " ' Natural Cure',\n",
       " ' Regenerator ',\n",
       " ' Hustle',\n",
       " ' Sniper',\n",
       " ' Moody ',\n",
       " ' Suction Cups',\n",
       " ' Sniper',\n",
       " ' Moody ',\n",
       " ' Vital Spirit',\n",
       " ' Hustle',\n",
       " ' Insomnia ',\n",
       " ' Swift Swim',\n",
       " ' Water Absorb',\n",
       " ' Water Veil ',\n",
       " ' Keen Eye',\n",
       " ' Sturdy',\n",
       " ' Weak Armor ',\n",
       " ' Early Bird',\n",
       " ' Flash Fire',\n",
       " ' Unnerve ',\n",
       " ' Early Bird',\n",
       " ' Flash Fire',\n",
       " ' Unnerve ',\n",
       " ' Swift Swim',\n",
       " ' Sniper',\n",
       " ' Damp ',\n",
       " ' Pickup',\n",
       " ' Sand Veil ',\n",
       " ' Sturdy',\n",
       " ' Sand Veil ',\n",
       " ' Trace',\n",
       " ' Download',\n",
       " ' Analytic ',\n",
       " ' Intimidate',\n",
       " ' Frisk',\n",
       " ' Sap Sipper ',\n",
       " ' Own Tempo',\n",
       " ' Technician',\n",
       " ' Moody ',\n",
       " ' Guts',\n",
       " ' Steadfast',\n",
       " ' Vital Spirit ',\n",
       " ' Intimidate',\n",
       " ' Technician',\n",
       " ' Steadfast ',\n",
       " ' Oblivious',\n",
       " ' Forewarn',\n",
       " ' Hydration ',\n",
       " ' Static',\n",
       " ' Vital Spirit ',\n",
       " ' Flame Body',\n",
       " ' Vital Spirit ',\n",
       " ' Thick Fat',\n",
       " ' Scrappy',\n",
       " ' Sap Sipper ',\n",
       " ' Natural Cure',\n",
       " ' Serene Grace',\n",
       " ' Healer ',\n",
       " ' Pressure',\n",
       " ' Inner Focus ',\n",
       " ' Pressure',\n",
       " ' Inner Focus ',\n",
       " ' Pressure',\n",
       " ' Inner Focus ',\n",
       " ' Guts',\n",
       " ' Sand Veil ',\n",
       " ' Shed Skin ',\n",
       " ' Sand Stream',\n",
       " ' Unnerve ',\n",
       " ' Pressure',\n",
       " ' Multiscale ',\n",
       " ' Pressure',\n",
       " ' Regenerator ',\n",
       " ' Natural Cure ',\n",
       " ' Overgrow',\n",
       " ' Unburden ',\n",
       " ' Overgrow',\n",
       " ' Unburden ',\n",
       " ' Overgrow',\n",
       " ' Unburden ',\n",
       " ' Blaze',\n",
       " ' Speed Boost ',\n",
       " ' Blaze',\n",
       " ' Speed Boost ',\n",
       " ' Blaze',\n",
       " ' Speed Boost ',\n",
       " ' Torrent',\n",
       " ' Damp ',\n",
       " ' Torrent',\n",
       " ' Damp ',\n",
       " ' Torrent',\n",
       " ' Damp ',\n",
       " ' Run Away',\n",
       " ' Quick Feet',\n",
       " ' Rattled ',\n",
       " ' Intimidate',\n",
       " ' Quick Feet',\n",
       " ' Moxie ',\n",
       " ' Pickup',\n",
       " ' Gluttony',\n",
       " ' Quick Feet ',\n",
       " ' Pickup',\n",
       " ' Gluttony',\n",
       " ' Quick Feet ',\n",
       " ' Shield Dust',\n",
       " ' Run Away ',\n",
       " ' Shed Skin ',\n",
       " ' Swarm',\n",
       " ' Rivalry ',\n",
       " ' Shed Skin ',\n",
       " ' Shield Dust',\n",
       " ' Compoundeyes ',\n",
       " ' Swift Swim',\n",
       " ' Rain Dish',\n",
       " ' Own Tempo ',\n",
       " ' Swift Swim',\n",
       " ' Rain Dish',\n",
       " ' Own Tempo ',\n",
       " ' Swift Swim',\n",
       " ' Rain Dish',\n",
       " ' Own Tempo ',\n",
       " ' Chlorophyll',\n",
       " ' Early Bird',\n",
       " ' Pickpocket ',\n",
       " ' Chlorophyll',\n",
       " ' Early Bird',\n",
       " ' Pickpocket ',\n",
       " ' Chlorophyll',\n",
       " ' Early Bird',\n",
       " ' Pickpocket ',\n",
       " ' Guts',\n",
       " ' Scrappy ',\n",
       " ' Guts',\n",
       " ' Scrappy ',\n",
       " ' Keen Eye',\n",
       " ' Hydration',\n",
       " ' Rain Dish ',\n",
       " ' Keen Eye',\n",
       " ' Drizzle',\n",
       " ' Rain Dish ',\n",
       " ' Synchronize',\n",
       " ' Trace',\n",
       " ' Telepathy ',\n",
       " ' Synchronize',\n",
       " ' Trace',\n",
       " ' Telepathy ',\n",
       " ' Synchronize',\n",
       " ' Trace',\n",
       " ' Telepathy ',\n",
       " ' Swift Swim',\n",
       " ' Rain Dish ',\n",
       " ' Intimidate',\n",
       " ' Unnerve ',\n",
       " ' Effect Spore',\n",
       " ' Poison Heal',\n",
       " ' Quick Feet ',\n",
       " ' Effect Spore',\n",
       " ' Poison Heal',\n",
       " ' Technician ',\n",
       " ' Truant ',\n",
       " ' Vital Spirit ',\n",
       " ' Truant ',\n",
       " ' Compoundeyes',\n",
       " ' Run Away ',\n",
       " ' Speed Boost',\n",
       " ' Infiltrator ',\n",
       " ' Wonder Guard ',\n",
       " ' Soundproof',\n",
       " ' Rattled ',\n",
       " ' Soundproof',\n",
       " ' Scrappy ',\n",
       " ' Soundproof',\n",
       " ' Scrappy ',\n",
       " ' Thick Fat',\n",
       " ' Guts',\n",
       " ' Sheer Force ',\n",
       " ' Thick Fat',\n",
       " ' Guts',\n",
       " ' Sheer Force ',\n",
       " ' Thick Fat',\n",
       " ' Huge Power',\n",
       " ' Sap Sipper ',\n",
       " ' Sturdy',\n",
       " ' Magnet Pull',\n",
       " ' Sand Force ',\n",
       " ' Cute Charm',\n",
       " ' Normalize',\n",
       " ' Wonder Skin  ',\n",
       " ' Cute Charm',\n",
       " ' Normalize',\n",
       " ' Wonder Skin  ',\n",
       " ' Keen Eye',\n",
       " ' Stall',\n",
       " ' Prankster ',\n",
       " ' Hyper Cutter',\n",
       " ' Intimidate',\n",
       " ' Sheer Force ',\n",
       " ' Sturdy',\n",
       " ' Rock Head',\n",
       " ' Heavy Metal ',\n",
       " ' Sturdy',\n",
       " ' Rock Head',\n",
       " ' Heavy Metal ',\n",
       " ' Sturdy',\n",
       " ' Rock Head',\n",
       " ' Heavy Metal ',\n",
       " ' Pure Power',\n",
       " ' Telepathy ',\n",
       " ' Pure Power',\n",
       " ' Telepathy ',\n",
       " ' Static',\n",
       " ' Lightningrod',\n",
       " ' Minus ',\n",
       " ' Static',\n",
       " ' Lightningrod',\n",
       " ' Minus ',\n",
       " ' Plus',\n",
       " ' Lightningrod ',\n",
       " ' Minus',\n",
       " ' Volt Absorb ',\n",
       " ' Illuminate',\n",
       " ' Swarm',\n",
       " ' Prankster ',\n",
       " ' Oblivious',\n",
       " ' Tinted Lens',\n",
       " ' Prankster ',\n",
       " ' Natural Cure',\n",
       " ' Poison Point',\n",
       " ' Leaf Guard ',\n",
       " ' Liquid Ooze',\n",
       " ' Sticky Hold',\n",
       " ' Gluttony ',\n",
       " ' Liquid Ooze',\n",
       " ' Sticky Hold',\n",
       " ' Gluttony ',\n",
       " ' Rough Skin',\n",
       " ' Speed Boost ',\n",
       " ' Rough Skin',\n",
       " ' Speed Boost ',\n",
       " ' Water Veil',\n",
       " ' Oblivious',\n",
       " ' Pressure ',\n",
       " ' Water Veil',\n",
       " ' Oblivious',\n",
       " ' Pressure ',\n",
       " ' Oblivious',\n",
       " ' Simple',\n",
       " ' Own Tempo ',\n",
       " ' Magma Armor',\n",
       " ' Solid Rock',\n",
       " ' Anger Point ',\n",
       " ' White Smoke',\n",
       " ' Drought',\n",
       " ' Shell Armor ',\n",
       " ' Thick Fat',\n",
       " ' Own Tempo',\n",
       " ' Gluttony ',\n",
       " ' Thick Fat',\n",
       " ' Own Tempo',\n",
       " ' Gluttony ',\n",
       " ' Own Tempo',\n",
       " ' Tangled Feet',\n",
       " ' Contrary ',\n",
       " ' Hyper Cutter',\n",
       " ' Arena Trap',\n",
       " ' Sheer Force ',\n",
       " ' Levitate ',\n",
       " ' Levitate ',\n",
       " ' Sand Veil',\n",
       " ' Water Absorb ',\n",
       " ' Sand Veil',\n",
       " ' Water Absorb ',\n",
       " ' Natural Cure',\n",
       " ' Cloud Nine ',\n",
       " ' Natural Cure',\n",
       " ' Cloud Nine ',\n",
       " ' Immunity',\n",
       " ' Toxic Boost ',\n",
       " ' Shed Skin',\n",
       " ' Infiltrator ',\n",
       " ' Levitate ',\n",
       " ' Levitate ',\n",
       " ' Oblivious',\n",
       " ' Anticipation',\n",
       " ' Hydration ',\n",
       " ' Oblivious',\n",
       " ' Anticipation',\n",
       " ' Hydration ',\n",
       " ' Hyper Cutter',\n",
       " ' Shell Armor',\n",
       " ' Adaptability ',\n",
       " ' Hyper Cutter',\n",
       " ' Shell Armor',\n",
       " ' Adaptability ',\n",
       " ' Levitate ',\n",
       " ' Levitate ',\n",
       " ' Suction Cups',\n",
       " ' Storm Drain ',\n",
       " ' Suction Cups',\n",
       " ' Storm Drain ',\n",
       " ' Battle Armor',\n",
       " ' Swift Swim ',\n",
       " ' Battle Armor',\n",
       " ' Swift Swim ',\n",
       " ' Swift Swim',\n",
       " ' Oblivious',\n",
       " ' Adaptability ',\n",
       " ' Marvel Scale',\n",
       " ' Competitive',\n",
       " ' Cute Charm ',\n",
       " ' Forecast ',\n",
       " ' Color Change',\n",
       " ' Protean ',\n",
       " ' Insomnia',\n",
       " ' Frisk',\n",
       " ' Cursed Body ',\n",
       " ' Insomnia',\n",
       " ' Frisk',\n",
       " ' Cursed Body ',\n",
       " ' Levitate',\n",
       " ' Frisk ',\n",
       " ' Pressure',\n",
       " ' Frisk ',\n",
       " ' Chlorophyll',\n",
       " ' Solar Power',\n",
       " ' Harvest ',\n",
       " ' Levitate ',\n",
       " ' Pressure',\n",
       " ' Super Luck',\n",
       " ' Justified ',\n",
       " ' Shadow Tag',\n",
       " ' Telepathy ',\n",
       " ' Inner Focus',\n",
       " ' Ice Body',\n",
       " ' Moody ',\n",
       " ' Inner Focus',\n",
       " ' Ice Body',\n",
       " ' Moody ',\n",
       " ' Thick Fat',\n",
       " ' Ice Body',\n",
       " ' Oblivious ',\n",
       " ' Thick Fat',\n",
       " ' Ice Body',\n",
       " ' Oblivious ',\n",
       " ' Thick Fat',\n",
       " ' Ice Body',\n",
       " ' Oblivious ',\n",
       " ' Shell Armor',\n",
       " ' Rattled ',\n",
       " ' Swift Swim',\n",
       " ' Water Veil ',\n",
       " ' Swift Swim',\n",
       " ' Hydration ',\n",
       " ' Swift Swim',\n",
       " ' Rock Head',\n",
       " ' Sturdy ',\n",
       " ' Swift Swim',\n",
       " ' Hydration ',\n",
       " ' Rock Head',\n",
       " ' Sheer Force ',\n",
       " ' Rock Head',\n",
       " ' Overcoat ',\n",
       " ' Intimidate',\n",
       " ' Moxie ',\n",
       " ' Clear Body',\n",
       " ' Light Metal ',\n",
       " ' Clear Body',\n",
       " ' Light Metal ',\n",
       " ' Clear Body',\n",
       " ' Light Metal ',\n",
       " ' Clear Body',\n",
       " ' Sturdy ',\n",
       " ' Clear Body',\n",
       " ' Ice Body ',\n",
       " ' Clear Body',\n",
       " ...]"
      ]
     },
     "execution_count": 28,
     "metadata": {},
     "output_type": "execute_result"
    }
   ],
   "source": [
    "text\n"
   ]
  },
  {
   "cell_type": "code",
   "execution_count": 29,
   "id": "8e3a4e7d",
   "metadata": {},
   "outputs": [],
   "source": [
    "def unique(list1):\n",
    "    x = np.array(list1)\n",
    "    m=np.unique(x)\n",
    "    return(m)"
   ]
  },
  {
   "cell_type": "code",
   "execution_count": 30,
   "id": "3de24d00",
   "metadata": {},
   "outputs": [],
   "source": [
    "abilities_uniques=unique(text)"
   ]
  },
  {
   "cell_type": "code",
   "execution_count": 31,
   "id": "78b516f3",
   "metadata": {},
   "outputs": [
    {
     "data": {
      "text/plain": [
       "349"
      ]
     },
     "execution_count": 31,
     "metadata": {},
     "output_type": "execute_result"
    }
   ],
   "source": [
    "len(abilities_uniques)"
   ]
  },
  {
   "cell_type": "code",
   "execution_count": 32,
   "id": "10a03b5a",
   "metadata": {},
   "outputs": [],
   "source": [
    "#número de habilidades\n",
    "df['abilities_num']=df['abilities'].map(lambda x: len(x))"
   ]
  },
  {
   "cell_type": "code",
   "execution_count": 33,
   "id": "61330df0",
   "metadata": {},
   "outputs": [
    {
     "data": {
      "text/plain": [
       "3    427\n",
       "2    245\n",
       "1    109\n",
       "6     13\n",
       "4      7\n",
       "Name: abilities_num, dtype: int64"
      ]
     },
     "execution_count": 33,
     "metadata": {},
     "output_type": "execute_result"
    }
   ],
   "source": [
    "df['abilities_num'].value_counts()"
   ]
  },
  {
   "cell_type": "code",
   "execution_count": 34,
   "id": "5ceb8573",
   "metadata": {},
   "outputs": [
    {
     "data": {
      "text/plain": [
       "Dragon Pokémon      8\n",
       "Mouse Pokémon       6\n",
       "Mushroom Pokémon    6\n",
       "Fox Pokémon         5\n",
       "Flame Pokémon       5\n",
       "                   ..\n",
       "Sleeping Pokémon    1\n",
       "Swallow Pokémon     1\n",
       "Flailing Pokémon    1\n",
       "Catty Pokémon       1\n",
       "Rock Inn Pokémon    1\n",
       "Name: classfication, Length: 588, dtype: int64"
      ]
     },
     "execution_count": 34,
     "metadata": {},
     "output_type": "execute_result"
    }
   ],
   "source": [
    "#classification- tiene muchas categorías, solo se asigna una a cada pokemon\n",
    "df['classfication'].value_counts()"
   ]
  },
  {
   "cell_type": "code",
   "execution_count": 35,
   "id": "db985e86",
   "metadata": {},
   "outputs": [
    {
     "data": {
      "text/plain": [
       "115        [ Swift Swim,  Sniper,  Damp ]\n",
       "116      [ Poison Point,  Sniper,  Damp ]\n",
       "146          [ Shed Skin,  Marvel Scale ]\n",
       "147          [ Shed Skin,  Marvel Scale ]\n",
       "148          [ Inner Focus,  Multiscale ]\n",
       "229        [ Swift Swim,  Sniper,  Damp ]\n",
       "372                [ Intimidate,  Moxie ]\n",
       "705    [ Sap Sipper,  Hydration,  Gooey ]\n",
       "Name: abilities, dtype: object"
      ]
     },
     "execution_count": 35,
     "metadata": {},
     "output_type": "execute_result"
    }
   ],
   "source": [
    "df[df['classfication']==\"Dragon Pokémon\"][\"abilities\"]"
   ]
  },
  {
   "cell_type": "code",
   "execution_count": 36,
   "id": "c02ec33f",
   "metadata": {},
   "outputs": [
    {
     "data": {
      "text/plain": [
       "Dragon Pokémon      8\n",
       "Mouse Pokémon       6\n",
       "Mushroom Pokémon    6\n",
       "Fox Pokémon         5\n",
       "Flame Pokémon       5\n",
       "                   ..\n",
       "Sleeping Pokémon    1\n",
       "Swallow Pokémon     1\n",
       "Flailing Pokémon    1\n",
       "Catty Pokémon       1\n",
       "Rock Inn Pokémon    1\n",
       "Name: classfication, Length: 588, dtype: int64"
      ]
     },
     "execution_count": 36,
     "metadata": {},
     "output_type": "execute_result"
    }
   ],
   "source": [
    "#type1 y 2, pocas categorías,solo se asigna una a cada pokemon\n",
    "\n",
    "df['classfication'].value_counts()"
   ]
  },
  {
   "cell_type": "code",
   "execution_count": 37,
   "id": "8018b22d",
   "metadata": {},
   "outputs": [],
   "source": [
    "type1_mode=df['type1'].mode()"
   ]
  },
  {
   "cell_type": "code",
   "execution_count": 38,
   "id": "7c298984",
   "metadata": {},
   "outputs": [],
   "source": [
    "df['type1']=df['type1'].fillna(type1_mode)"
   ]
  },
  {
   "cell_type": "code",
   "execution_count": 39,
   "id": "f2b7ddb6",
   "metadata": {},
   "outputs": [],
   "source": [
    "type2_mode=df['type2'].mode()"
   ]
  },
  {
   "cell_type": "code",
   "execution_count": 40,
   "id": "5a801dbe",
   "metadata": {},
   "outputs": [],
   "source": [
    "df['type2']=df['type2'].fillna(type2_mode)"
   ]
  },
  {
   "cell_type": "code",
   "execution_count": 41,
   "id": "778986b8",
   "metadata": {},
   "outputs": [
    {
     "data": {
      "text/plain": [
       "('classfication', 'type1', 'type2')"
      ]
     },
     "execution_count": 41,
     "metadata": {},
     "output_type": "execute_result"
    }
   ],
   "source": [
    "'classfication','type1','type2',"
   ]
  },
  {
   "cell_type": "code",
   "execution_count": 42,
   "id": "bfed1b17",
   "metadata": {},
   "outputs": [
    {
     "data": {
      "text/html": [
       "<div>\n",
       "<style scoped>\n",
       "    .dataframe tbody tr th:only-of-type {\n",
       "        vertical-align: middle;\n",
       "    }\n",
       "\n",
       "    .dataframe tbody tr th {\n",
       "        vertical-align: top;\n",
       "    }\n",
       "\n",
       "    .dataframe thead th {\n",
       "        text-align: right;\n",
       "    }\n",
       "</style>\n",
       "<table border=\"1\" class=\"dataframe\">\n",
       "  <thead>\n",
       "    <tr style=\"text-align: right;\">\n",
       "      <th></th>\n",
       "      <th>against_bug</th>\n",
       "      <th>against_dark</th>\n",
       "      <th>against_dragon</th>\n",
       "      <th>against_electric</th>\n",
       "      <th>against_fairy</th>\n",
       "      <th>against_fight</th>\n",
       "      <th>against_fire</th>\n",
       "      <th>against_flying</th>\n",
       "      <th>against_ghost</th>\n",
       "      <th>against_grass</th>\n",
       "      <th>...</th>\n",
       "      <th>height_m</th>\n",
       "      <th>hp</th>\n",
       "      <th>percentage_male</th>\n",
       "      <th>sp_attack</th>\n",
       "      <th>sp_defense</th>\n",
       "      <th>speed</th>\n",
       "      <th>weight_kg</th>\n",
       "      <th>generation</th>\n",
       "      <th>is_legendary</th>\n",
       "      <th>abilities_num</th>\n",
       "    </tr>\n",
       "  </thead>\n",
       "  <tbody>\n",
       "    <tr>\n",
       "      <th>count</th>\n",
       "      <td>801.000000</td>\n",
       "      <td>801.000000</td>\n",
       "      <td>801.000000</td>\n",
       "      <td>801.000000</td>\n",
       "      <td>801.000000</td>\n",
       "      <td>801.000000</td>\n",
       "      <td>801.000000</td>\n",
       "      <td>801.000000</td>\n",
       "      <td>801.000000</td>\n",
       "      <td>801.000000</td>\n",
       "      <td>...</td>\n",
       "      <td>801.000000</td>\n",
       "      <td>801.000000</td>\n",
       "      <td>801.000000</td>\n",
       "      <td>801.000000</td>\n",
       "      <td>801.000000</td>\n",
       "      <td>801.000000</td>\n",
       "      <td>801.000000</td>\n",
       "      <td>801.000000</td>\n",
       "      <td>801.000000</td>\n",
       "      <td>801.000000</td>\n",
       "    </tr>\n",
       "    <tr>\n",
       "      <th>mean</th>\n",
       "      <td>0.996255</td>\n",
       "      <td>1.057116</td>\n",
       "      <td>0.968789</td>\n",
       "      <td>1.073970</td>\n",
       "      <td>1.068976</td>\n",
       "      <td>1.065543</td>\n",
       "      <td>1.135456</td>\n",
       "      <td>1.192884</td>\n",
       "      <td>0.985019</td>\n",
       "      <td>1.034020</td>\n",
       "      <td>...</td>\n",
       "      <td>1.163892</td>\n",
       "      <td>68.958801</td>\n",
       "      <td>48.407615</td>\n",
       "      <td>71.305868</td>\n",
       "      <td>70.911361</td>\n",
       "      <td>66.334582</td>\n",
       "      <td>61.378105</td>\n",
       "      <td>3.690387</td>\n",
       "      <td>0.087391</td>\n",
       "      <td>2.479401</td>\n",
       "    </tr>\n",
       "    <tr>\n",
       "      <th>std</th>\n",
       "      <td>0.597248</td>\n",
       "      <td>0.438142</td>\n",
       "      <td>0.353058</td>\n",
       "      <td>0.654962</td>\n",
       "      <td>0.522167</td>\n",
       "      <td>0.717251</td>\n",
       "      <td>0.691853</td>\n",
       "      <td>0.604488</td>\n",
       "      <td>0.558256</td>\n",
       "      <td>0.788896</td>\n",
       "      <td>...</td>\n",
       "      <td>1.066737</td>\n",
       "      <td>26.576015</td>\n",
       "      <td>26.216655</td>\n",
       "      <td>32.353826</td>\n",
       "      <td>27.942501</td>\n",
       "      <td>28.907662</td>\n",
       "      <td>107.979179</td>\n",
       "      <td>1.930420</td>\n",
       "      <td>0.282583</td>\n",
       "      <td>0.857256</td>\n",
       "    </tr>\n",
       "    <tr>\n",
       "      <th>min</th>\n",
       "      <td>0.250000</td>\n",
       "      <td>0.250000</td>\n",
       "      <td>0.000000</td>\n",
       "      <td>0.000000</td>\n",
       "      <td>0.250000</td>\n",
       "      <td>0.000000</td>\n",
       "      <td>0.250000</td>\n",
       "      <td>0.250000</td>\n",
       "      <td>0.000000</td>\n",
       "      <td>0.250000</td>\n",
       "      <td>...</td>\n",
       "      <td>0.100000</td>\n",
       "      <td>1.000000</td>\n",
       "      <td>0.000000</td>\n",
       "      <td>10.000000</td>\n",
       "      <td>20.000000</td>\n",
       "      <td>5.000000</td>\n",
       "      <td>0.100000</td>\n",
       "      <td>1.000000</td>\n",
       "      <td>0.000000</td>\n",
       "      <td>1.000000</td>\n",
       "    </tr>\n",
       "    <tr>\n",
       "      <th>25%</th>\n",
       "      <td>0.500000</td>\n",
       "      <td>1.000000</td>\n",
       "      <td>1.000000</td>\n",
       "      <td>0.500000</td>\n",
       "      <td>1.000000</td>\n",
       "      <td>0.500000</td>\n",
       "      <td>0.500000</td>\n",
       "      <td>1.000000</td>\n",
       "      <td>1.000000</td>\n",
       "      <td>0.500000</td>\n",
       "      <td>...</td>\n",
       "      <td>0.600000</td>\n",
       "      <td>50.000000</td>\n",
       "      <td>50.000000</td>\n",
       "      <td>45.000000</td>\n",
       "      <td>50.000000</td>\n",
       "      <td>45.000000</td>\n",
       "      <td>9.300000</td>\n",
       "      <td>2.000000</td>\n",
       "      <td>0.000000</td>\n",
       "      <td>2.000000</td>\n",
       "    </tr>\n",
       "    <tr>\n",
       "      <th>50%</th>\n",
       "      <td>1.000000</td>\n",
       "      <td>1.000000</td>\n",
       "      <td>1.000000</td>\n",
       "      <td>1.000000</td>\n",
       "      <td>1.000000</td>\n",
       "      <td>1.000000</td>\n",
       "      <td>1.000000</td>\n",
       "      <td>1.000000</td>\n",
       "      <td>1.000000</td>\n",
       "      <td>1.000000</td>\n",
       "      <td>...</td>\n",
       "      <td>1.000000</td>\n",
       "      <td>65.000000</td>\n",
       "      <td>50.000000</td>\n",
       "      <td>65.000000</td>\n",
       "      <td>66.000000</td>\n",
       "      <td>65.000000</td>\n",
       "      <td>28.500000</td>\n",
       "      <td>4.000000</td>\n",
       "      <td>0.000000</td>\n",
       "      <td>3.000000</td>\n",
       "    </tr>\n",
       "    <tr>\n",
       "      <th>75%</th>\n",
       "      <td>1.000000</td>\n",
       "      <td>1.000000</td>\n",
       "      <td>1.000000</td>\n",
       "      <td>1.000000</td>\n",
       "      <td>1.000000</td>\n",
       "      <td>1.000000</td>\n",
       "      <td>2.000000</td>\n",
       "      <td>1.000000</td>\n",
       "      <td>1.000000</td>\n",
       "      <td>1.000000</td>\n",
       "      <td>...</td>\n",
       "      <td>1.500000</td>\n",
       "      <td>80.000000</td>\n",
       "      <td>50.000000</td>\n",
       "      <td>91.000000</td>\n",
       "      <td>90.000000</td>\n",
       "      <td>85.000000</td>\n",
       "      <td>61.500000</td>\n",
       "      <td>5.000000</td>\n",
       "      <td>0.000000</td>\n",
       "      <td>3.000000</td>\n",
       "    </tr>\n",
       "    <tr>\n",
       "      <th>max</th>\n",
       "      <td>4.000000</td>\n",
       "      <td>4.000000</td>\n",
       "      <td>2.000000</td>\n",
       "      <td>4.000000</td>\n",
       "      <td>4.000000</td>\n",
       "      <td>4.000000</td>\n",
       "      <td>4.000000</td>\n",
       "      <td>4.000000</td>\n",
       "      <td>4.000000</td>\n",
       "      <td>4.000000</td>\n",
       "      <td>...</td>\n",
       "      <td>14.500000</td>\n",
       "      <td>255.000000</td>\n",
       "      <td>100.000000</td>\n",
       "      <td>194.000000</td>\n",
       "      <td>230.000000</td>\n",
       "      <td>180.000000</td>\n",
       "      <td>999.900000</td>\n",
       "      <td>7.000000</td>\n",
       "      <td>1.000000</td>\n",
       "      <td>6.000000</td>\n",
       "    </tr>\n",
       "  </tbody>\n",
       "</table>\n",
       "<p>8 rows × 34 columns</p>\n",
       "</div>"
      ],
      "text/plain": [
       "       against_bug  against_dark  against_dragon  against_electric  \\\n",
       "count   801.000000    801.000000      801.000000        801.000000   \n",
       "mean      0.996255      1.057116        0.968789          1.073970   \n",
       "std       0.597248      0.438142        0.353058          0.654962   \n",
       "min       0.250000      0.250000        0.000000          0.000000   \n",
       "25%       0.500000      1.000000        1.000000          0.500000   \n",
       "50%       1.000000      1.000000        1.000000          1.000000   \n",
       "75%       1.000000      1.000000        1.000000          1.000000   \n",
       "max       4.000000      4.000000        2.000000          4.000000   \n",
       "\n",
       "       against_fairy  against_fight  against_fire  against_flying  \\\n",
       "count     801.000000     801.000000    801.000000      801.000000   \n",
       "mean        1.068976       1.065543      1.135456        1.192884   \n",
       "std         0.522167       0.717251      0.691853        0.604488   \n",
       "min         0.250000       0.000000      0.250000        0.250000   \n",
       "25%         1.000000       0.500000      0.500000        1.000000   \n",
       "50%         1.000000       1.000000      1.000000        1.000000   \n",
       "75%         1.000000       1.000000      2.000000        1.000000   \n",
       "max         4.000000       4.000000      4.000000        4.000000   \n",
       "\n",
       "       against_ghost  against_grass  ...    height_m          hp  \\\n",
       "count     801.000000     801.000000  ...  801.000000  801.000000   \n",
       "mean        0.985019       1.034020  ...    1.163892   68.958801   \n",
       "std         0.558256       0.788896  ...    1.066737   26.576015   \n",
       "min         0.000000       0.250000  ...    0.100000    1.000000   \n",
       "25%         1.000000       0.500000  ...    0.600000   50.000000   \n",
       "50%         1.000000       1.000000  ...    1.000000   65.000000   \n",
       "75%         1.000000       1.000000  ...    1.500000   80.000000   \n",
       "max         4.000000       4.000000  ...   14.500000  255.000000   \n",
       "\n",
       "       percentage_male   sp_attack  sp_defense       speed   weight_kg  \\\n",
       "count       801.000000  801.000000  801.000000  801.000000  801.000000   \n",
       "mean         48.407615   71.305868   70.911361   66.334582   61.378105   \n",
       "std          26.216655   32.353826   27.942501   28.907662  107.979179   \n",
       "min           0.000000   10.000000   20.000000    5.000000    0.100000   \n",
       "25%          50.000000   45.000000   50.000000   45.000000    9.300000   \n",
       "50%          50.000000   65.000000   66.000000   65.000000   28.500000   \n",
       "75%          50.000000   91.000000   90.000000   85.000000   61.500000   \n",
       "max         100.000000  194.000000  230.000000  180.000000  999.900000   \n",
       "\n",
       "       generation  is_legendary  abilities_num  \n",
       "count  801.000000    801.000000     801.000000  \n",
       "mean     3.690387      0.087391       2.479401  \n",
       "std      1.930420      0.282583       0.857256  \n",
       "min      1.000000      0.000000       1.000000  \n",
       "25%      2.000000      0.000000       2.000000  \n",
       "50%      4.000000      0.000000       3.000000  \n",
       "75%      5.000000      0.000000       3.000000  \n",
       "max      7.000000      1.000000       6.000000  \n",
       "\n",
       "[8 rows x 34 columns]"
      ]
     },
     "execution_count": 42,
     "metadata": {},
     "output_type": "execute_result"
    }
   ],
   "source": [
    "df.describe()"
   ]
  },
  {
   "cell_type": "code",
   "execution_count": 43,
   "id": "0e66b59f",
   "metadata": {},
   "outputs": [],
   "source": [
    "#sin todas las variables categoricas\n",
    "df_aux_2=df.drop(columns=['abilities','classfication','type1','type2'])"
   ]
  },
  {
   "cell_type": "code",
   "execution_count": 44,
   "id": "fcf2c21a",
   "metadata": {},
   "outputs": [],
   "source": [
    "#sin variables categoricas con amplias categorias\n",
    "df=df.drop(columns=['abilities','classfication'])"
   ]
  },
  {
   "cell_type": "code",
   "execution_count": 124,
   "id": "ffb36892",
   "metadata": {},
   "outputs": [],
   "source": [
    "#sin variables categoricas con amplias categorias con dummies\n",
    "df_aux=pd.get_dummies(data=df, columns=['type1','type2'], drop_first=True)"
   ]
  },
  {
   "cell_type": "code",
   "execution_count": 125,
   "id": "25c385bb",
   "metadata": {},
   "outputs": [],
   "source": [
    "#otras variables a eliminar"
   ]
  },
  {
   "cell_type": "code",
   "execution_count": 126,
   "id": "b7eb96ba",
   "metadata": {},
   "outputs": [],
   "source": [
    "from sklearn.preprocessing import MinMaxScaler"
   ]
  },
  {
   "cell_type": "code",
   "execution_count": 214,
   "id": "0a005b6a",
   "metadata": {},
   "outputs": [],
   "source": [
    "X=df_aux_2.copy()"
   ]
  },
  {
   "cell_type": "code",
   "execution_count": 215,
   "id": "422d4405",
   "metadata": {},
   "outputs": [],
   "source": [
    "sc = MinMaxScaler()\n",
    "\n",
    "Xs = pd.DataFrame(index = X.index, data = sc.fit_transform(X), columns=X.columns)"
   ]
  },
  {
   "cell_type": "code",
   "execution_count": 216,
   "id": "adf5ab31",
   "metadata": {},
   "outputs": [
    {
     "data": {
      "text/plain": [
       "35"
      ]
     },
     "execution_count": 216,
     "metadata": {},
     "output_type": "execute_result"
    }
   ],
   "source": [
    "len(X.columns)"
   ]
  },
  {
   "cell_type": "code",
   "execution_count": 217,
   "id": "e7e2b028",
   "metadata": {},
   "outputs": [],
   "source": [
    "from sklearn.decomposition import PCA"
   ]
  },
  {
   "cell_type": "code",
   "execution_count": 276,
   "id": "23cd3c26",
   "metadata": {},
   "outputs": [],
   "source": [
    "pca=PCA(n_components=19)"
   ]
  },
  {
   "cell_type": "code",
   "execution_count": 277,
   "id": "c3273174",
   "metadata": {},
   "outputs": [
    {
     "data": {
      "text/plain": [
       "PCA(n_components=19)"
      ]
     },
     "execution_count": 277,
     "metadata": {},
     "output_type": "execute_result"
    }
   ],
   "source": [
    "pca.fit(Xs)"
   ]
  },
  {
   "cell_type": "code",
   "execution_count": 278,
   "id": "409ae7c5",
   "metadata": {},
   "outputs": [
    {
     "data": {
      "text/plain": [
       "array([0.32693961, 0.14247827, 0.07555482, 0.06591198, 0.04756085,\n",
       "       0.039339  , 0.03347778, 0.02914065, 0.02708453, 0.02288102,\n",
       "       0.02083065, 0.01987883, 0.0172823 , 0.01398811, 0.01260075,\n",
       "       0.01231162, 0.01187883, 0.01056459, 0.00912203])"
      ]
     },
     "execution_count": 278,
     "metadata": {},
     "output_type": "execute_result"
    }
   ],
   "source": [
    "pca.explained_variance_ratio_"
   ]
  },
  {
   "cell_type": "code",
   "execution_count": 279,
   "id": "e6eff918",
   "metadata": {},
   "outputs": [
    {
     "data": {
      "text/plain": [
       "array([0.32693961, 0.46941788, 0.5449727 , 0.61088468, 0.65844553,\n",
       "       0.69778453, 0.73126231, 0.76040296, 0.78748749, 0.81036851,\n",
       "       0.83119916, 0.85107799, 0.86836029, 0.8823484 , 0.89494915,\n",
       "       0.90726077, 0.9191396 , 0.92970418, 0.93882621])"
      ]
     },
     "execution_count": 279,
     "metadata": {},
     "output_type": "execute_result"
    }
   ],
   "source": [
    "pca.explained_variance_ratio_.cumsum()"
   ]
  },
  {
   "cell_type": "code",
   "execution_count": 281,
   "id": "a18699b0",
   "metadata": {},
   "outputs": [],
   "source": [
    "columns = ['pca_comp_%i' % i for i in range(1,20)]"
   ]
  },
  {
   "cell_type": "code",
   "execution_count": 282,
   "id": "c2cd3fbe",
   "metadata": {},
   "outputs": [],
   "source": [
    "Xp = pd.DataFrame(pca.transform(Xs),columns=columns)"
   ]
  },
  {
   "cell_type": "code",
   "execution_count": 283,
   "id": "85bf6a87",
   "metadata": {},
   "outputs": [
    {
     "data": {
      "text/html": [
       "<div>\n",
       "<style scoped>\n",
       "    .dataframe tbody tr th:only-of-type {\n",
       "        vertical-align: middle;\n",
       "    }\n",
       "\n",
       "    .dataframe tbody tr th {\n",
       "        vertical-align: top;\n",
       "    }\n",
       "\n",
       "    .dataframe thead th {\n",
       "        text-align: right;\n",
       "    }\n",
       "</style>\n",
       "<table border=\"1\" class=\"dataframe\">\n",
       "  <thead>\n",
       "    <tr style=\"text-align: right;\">\n",
       "      <th></th>\n",
       "      <th>pca_comp_1</th>\n",
       "      <th>pca_comp_2</th>\n",
       "      <th>pca_comp_3</th>\n",
       "      <th>pca_comp_4</th>\n",
       "      <th>pca_comp_5</th>\n",
       "      <th>pca_comp_6</th>\n",
       "      <th>pca_comp_7</th>\n",
       "      <th>pca_comp_8</th>\n",
       "      <th>pca_comp_9</th>\n",
       "      <th>pca_comp_10</th>\n",
       "      <th>pca_comp_11</th>\n",
       "      <th>pca_comp_12</th>\n",
       "      <th>pca_comp_13</th>\n",
       "      <th>pca_comp_14</th>\n",
       "      <th>pca_comp_15</th>\n",
       "      <th>pca_comp_16</th>\n",
       "      <th>pca_comp_17</th>\n",
       "      <th>pca_comp_18</th>\n",
       "      <th>pca_comp_19</th>\n",
       "    </tr>\n",
       "  </thead>\n",
       "  <tbody>\n",
       "    <tr>\n",
       "      <th>0</th>\n",
       "      <td>-0.596953</td>\n",
       "      <td>-0.166276</td>\n",
       "      <td>-0.327428</td>\n",
       "      <td>-0.323198</td>\n",
       "      <td>0.306448</td>\n",
       "      <td>-0.179708</td>\n",
       "      <td>0.187877</td>\n",
       "      <td>-0.248728</td>\n",
       "      <td>-0.320743</td>\n",
       "      <td>0.168284</td>\n",
       "      <td>-0.018121</td>\n",
       "      <td>0.106994</td>\n",
       "      <td>0.300284</td>\n",
       "      <td>-0.110048</td>\n",
       "      <td>0.033932</td>\n",
       "      <td>0.024029</td>\n",
       "      <td>0.036360</td>\n",
       "      <td>-0.088354</td>\n",
       "      <td>-0.036412</td>\n",
       "    </tr>\n",
       "    <tr>\n",
       "      <th>1</th>\n",
       "      <td>-0.592587</td>\n",
       "      <td>-0.026772</td>\n",
       "      <td>-0.345292</td>\n",
       "      <td>-0.352174</td>\n",
       "      <td>0.302982</td>\n",
       "      <td>-0.171697</td>\n",
       "      <td>0.170446</td>\n",
       "      <td>-0.272432</td>\n",
       "      <td>-0.323378</td>\n",
       "      <td>0.155134</td>\n",
       "      <td>-0.045136</td>\n",
       "      <td>0.025700</td>\n",
       "      <td>0.174883</td>\n",
       "      <td>-0.092115</td>\n",
       "      <td>0.055444</td>\n",
       "      <td>-0.022806</td>\n",
       "      <td>0.016333</td>\n",
       "      <td>-0.074404</td>\n",
       "      <td>-0.006684</td>\n",
       "    </tr>\n",
       "    <tr>\n",
       "      <th>2</th>\n",
       "      <td>-0.581086</td>\n",
       "      <td>0.342398</td>\n",
       "      <td>-0.366313</td>\n",
       "      <td>-0.413327</td>\n",
       "      <td>0.298568</td>\n",
       "      <td>-0.180682</td>\n",
       "      <td>0.127719</td>\n",
       "      <td>-0.345968</td>\n",
       "      <td>-0.344344</td>\n",
       "      <td>0.102736</td>\n",
       "      <td>-0.096194</td>\n",
       "      <td>-0.199581</td>\n",
       "      <td>-0.109872</td>\n",
       "      <td>0.031995</td>\n",
       "      <td>0.180107</td>\n",
       "      <td>-0.200367</td>\n",
       "      <td>-0.029048</td>\n",
       "      <td>-0.053985</td>\n",
       "      <td>0.060693</td>\n",
       "    </tr>\n",
       "    <tr>\n",
       "      <th>3</th>\n",
       "      <td>-0.618507</td>\n",
       "      <td>-0.118850</td>\n",
       "      <td>0.120301</td>\n",
       "      <td>-0.426758</td>\n",
       "      <td>0.079669</td>\n",
       "      <td>0.320443</td>\n",
       "      <td>0.223322</td>\n",
       "      <td>-0.261948</td>\n",
       "      <td>-0.079049</td>\n",
       "      <td>0.254325</td>\n",
       "      <td>-0.006942</td>\n",
       "      <td>0.365677</td>\n",
       "      <td>0.166567</td>\n",
       "      <td>-0.008273</td>\n",
       "      <td>-0.091201</td>\n",
       "      <td>0.035727</td>\n",
       "      <td>0.072745</td>\n",
       "      <td>0.002861</td>\n",
       "      <td>-0.060468</td>\n",
       "    </tr>\n",
       "    <tr>\n",
       "      <th>4</th>\n",
       "      <td>-0.613082</td>\n",
       "      <td>0.035979</td>\n",
       "      <td>0.100473</td>\n",
       "      <td>-0.459160</td>\n",
       "      <td>0.076759</td>\n",
       "      <td>0.331143</td>\n",
       "      <td>0.203611</td>\n",
       "      <td>-0.283921</td>\n",
       "      <td>-0.083999</td>\n",
       "      <td>0.243445</td>\n",
       "      <td>-0.038200</td>\n",
       "      <td>0.279874</td>\n",
       "      <td>0.027270</td>\n",
       "      <td>0.015106</td>\n",
       "      <td>-0.060111</td>\n",
       "      <td>-0.020108</td>\n",
       "      <td>0.059160</td>\n",
       "      <td>0.019554</td>\n",
       "      <td>-0.028744</td>\n",
       "    </tr>\n",
       "    <tr>\n",
       "      <th>...</th>\n",
       "      <td>...</td>\n",
       "      <td>...</td>\n",
       "      <td>...</td>\n",
       "      <td>...</td>\n",
       "      <td>...</td>\n",
       "      <td>...</td>\n",
       "      <td>...</td>\n",
       "      <td>...</td>\n",
       "      <td>...</td>\n",
       "      <td>...</td>\n",
       "      <td>...</td>\n",
       "      <td>...</td>\n",
       "      <td>...</td>\n",
       "      <td>...</td>\n",
       "      <td>...</td>\n",
       "      <td>...</td>\n",
       "      <td>...</td>\n",
       "      <td>...</td>\n",
       "      <td>...</td>\n",
       "    </tr>\n",
       "    <tr>\n",
       "      <th>796</th>\n",
       "      <td>1.995367</td>\n",
       "      <td>1.018145</td>\n",
       "      <td>0.113692</td>\n",
       "      <td>0.403503</td>\n",
       "      <td>0.200630</td>\n",
       "      <td>0.149208</td>\n",
       "      <td>-0.003542</td>\n",
       "      <td>-0.139278</td>\n",
       "      <td>0.162231</td>\n",
       "      <td>-0.252390</td>\n",
       "      <td>0.382381</td>\n",
       "      <td>-0.152730</td>\n",
       "      <td>0.202811</td>\n",
       "      <td>0.154796</td>\n",
       "      <td>0.158756</td>\n",
       "      <td>-0.088475</td>\n",
       "      <td>0.121503</td>\n",
       "      <td>-0.372258</td>\n",
       "      <td>-0.517205</td>\n",
       "    </tr>\n",
       "    <tr>\n",
       "      <th>797</th>\n",
       "      <td>2.041580</td>\n",
       "      <td>0.381250</td>\n",
       "      <td>0.138211</td>\n",
       "      <td>0.614131</td>\n",
       "      <td>0.191724</td>\n",
       "      <td>-0.333042</td>\n",
       "      <td>-0.277319</td>\n",
       "      <td>-0.466628</td>\n",
       "      <td>0.038079</td>\n",
       "      <td>-0.003752</td>\n",
       "      <td>0.558933</td>\n",
       "      <td>-0.403843</td>\n",
       "      <td>-0.317495</td>\n",
       "      <td>0.037372</td>\n",
       "      <td>-0.498063</td>\n",
       "      <td>-0.094200</td>\n",
       "      <td>-0.246856</td>\n",
       "      <td>-0.287955</td>\n",
       "      <td>-0.355669</td>\n",
       "    </tr>\n",
       "    <tr>\n",
       "      <th>798</th>\n",
       "      <td>1.972029</td>\n",
       "      <td>0.974891</td>\n",
       "      <td>-0.357384</td>\n",
       "      <td>0.224212</td>\n",
       "      <td>-0.773968</td>\n",
       "      <td>-0.492939</td>\n",
       "      <td>0.179262</td>\n",
       "      <td>0.186340</td>\n",
       "      <td>0.343177</td>\n",
       "      <td>0.111794</td>\n",
       "      <td>0.427932</td>\n",
       "      <td>0.143984</td>\n",
       "      <td>0.268575</td>\n",
       "      <td>0.006907</td>\n",
       "      <td>0.243268</td>\n",
       "      <td>-0.101156</td>\n",
       "      <td>0.213044</td>\n",
       "      <td>0.188379</td>\n",
       "      <td>-0.214659</td>\n",
       "    </tr>\n",
       "    <tr>\n",
       "      <th>799</th>\n",
       "      <td>1.973374</td>\n",
       "      <td>0.982638</td>\n",
       "      <td>-0.144174</td>\n",
       "      <td>0.243896</td>\n",
       "      <td>-0.125941</td>\n",
       "      <td>0.037560</td>\n",
       "      <td>-0.004923</td>\n",
       "      <td>0.274469</td>\n",
       "      <td>-0.164735</td>\n",
       "      <td>0.109820</td>\n",
       "      <td>0.000108</td>\n",
       "      <td>0.167826</td>\n",
       "      <td>0.034734</td>\n",
       "      <td>0.188926</td>\n",
       "      <td>-0.079278</td>\n",
       "      <td>-0.005155</td>\n",
       "      <td>0.042125</td>\n",
       "      <td>-0.012949</td>\n",
       "      <td>-0.296245</td>\n",
       "    </tr>\n",
       "    <tr>\n",
       "      <th>800</th>\n",
       "      <td>1.952000</td>\n",
       "      <td>0.995374</td>\n",
       "      <td>0.374776</td>\n",
       "      <td>0.456933</td>\n",
       "      <td>0.176573</td>\n",
       "      <td>0.214823</td>\n",
       "      <td>-0.269037</td>\n",
       "      <td>-0.305932</td>\n",
       "      <td>-0.165159</td>\n",
       "      <td>-0.031762</td>\n",
       "      <td>0.114984</td>\n",
       "      <td>-0.008732</td>\n",
       "      <td>0.150927</td>\n",
       "      <td>-0.150041</td>\n",
       "      <td>0.012258</td>\n",
       "      <td>-0.033825</td>\n",
       "      <td>0.193988</td>\n",
       "      <td>-0.202493</td>\n",
       "      <td>-0.283264</td>\n",
       "    </tr>\n",
       "  </tbody>\n",
       "</table>\n",
       "<p>801 rows × 19 columns</p>\n",
       "</div>"
      ],
      "text/plain": [
       "     pca_comp_1  pca_comp_2  pca_comp_3  pca_comp_4  pca_comp_5  pca_comp_6  \\\n",
       "0     -0.596953   -0.166276   -0.327428   -0.323198    0.306448   -0.179708   \n",
       "1     -0.592587   -0.026772   -0.345292   -0.352174    0.302982   -0.171697   \n",
       "2     -0.581086    0.342398   -0.366313   -0.413327    0.298568   -0.180682   \n",
       "3     -0.618507   -0.118850    0.120301   -0.426758    0.079669    0.320443   \n",
       "4     -0.613082    0.035979    0.100473   -0.459160    0.076759    0.331143   \n",
       "..          ...         ...         ...         ...         ...         ...   \n",
       "796    1.995367    1.018145    0.113692    0.403503    0.200630    0.149208   \n",
       "797    2.041580    0.381250    0.138211    0.614131    0.191724   -0.333042   \n",
       "798    1.972029    0.974891   -0.357384    0.224212   -0.773968   -0.492939   \n",
       "799    1.973374    0.982638   -0.144174    0.243896   -0.125941    0.037560   \n",
       "800    1.952000    0.995374    0.374776    0.456933    0.176573    0.214823   \n",
       "\n",
       "     pca_comp_7  pca_comp_8  pca_comp_9  pca_comp_10  pca_comp_11  \\\n",
       "0      0.187877   -0.248728   -0.320743     0.168284    -0.018121   \n",
       "1      0.170446   -0.272432   -0.323378     0.155134    -0.045136   \n",
       "2      0.127719   -0.345968   -0.344344     0.102736    -0.096194   \n",
       "3      0.223322   -0.261948   -0.079049     0.254325    -0.006942   \n",
       "4      0.203611   -0.283921   -0.083999     0.243445    -0.038200   \n",
       "..          ...         ...         ...          ...          ...   \n",
       "796   -0.003542   -0.139278    0.162231    -0.252390     0.382381   \n",
       "797   -0.277319   -0.466628    0.038079    -0.003752     0.558933   \n",
       "798    0.179262    0.186340    0.343177     0.111794     0.427932   \n",
       "799   -0.004923    0.274469   -0.164735     0.109820     0.000108   \n",
       "800   -0.269037   -0.305932   -0.165159    -0.031762     0.114984   \n",
       "\n",
       "     pca_comp_12  pca_comp_13  pca_comp_14  pca_comp_15  pca_comp_16  \\\n",
       "0       0.106994     0.300284    -0.110048     0.033932     0.024029   \n",
       "1       0.025700     0.174883    -0.092115     0.055444    -0.022806   \n",
       "2      -0.199581    -0.109872     0.031995     0.180107    -0.200367   \n",
       "3       0.365677     0.166567    -0.008273    -0.091201     0.035727   \n",
       "4       0.279874     0.027270     0.015106    -0.060111    -0.020108   \n",
       "..           ...          ...          ...          ...          ...   \n",
       "796    -0.152730     0.202811     0.154796     0.158756    -0.088475   \n",
       "797    -0.403843    -0.317495     0.037372    -0.498063    -0.094200   \n",
       "798     0.143984     0.268575     0.006907     0.243268    -0.101156   \n",
       "799     0.167826     0.034734     0.188926    -0.079278    -0.005155   \n",
       "800    -0.008732     0.150927    -0.150041     0.012258    -0.033825   \n",
       "\n",
       "     pca_comp_17  pca_comp_18  pca_comp_19  \n",
       "0       0.036360    -0.088354    -0.036412  \n",
       "1       0.016333    -0.074404    -0.006684  \n",
       "2      -0.029048    -0.053985     0.060693  \n",
       "3       0.072745     0.002861    -0.060468  \n",
       "4       0.059160     0.019554    -0.028744  \n",
       "..           ...          ...          ...  \n",
       "796     0.121503    -0.372258    -0.517205  \n",
       "797    -0.246856    -0.287955    -0.355669  \n",
       "798     0.213044     0.188379    -0.214659  \n",
       "799     0.042125    -0.012949    -0.296245  \n",
       "800     0.193988    -0.202493    -0.283264  \n",
       "\n",
       "[801 rows x 19 columns]"
      ]
     },
     "execution_count": 283,
     "metadata": {},
     "output_type": "execute_result"
    }
   ],
   "source": [
    "Xp"
   ]
  },
  {
   "cell_type": "code",
   "execution_count": 284,
   "id": "1cddfc3c",
   "metadata": {},
   "outputs": [],
   "source": [
    "from sklearn.cluster import KMeans"
   ]
  },
  {
   "cell_type": "code",
   "execution_count": 285,
   "id": "9771e845",
   "metadata": {},
   "outputs": [],
   "source": [
    "lst_inertia = []\n",
    "for k in range(2,11):\n",
    "    cl = KMeans(n_clusters=k)\n",
    "    cl.fit(Xp)\n",
    "    lst_inertia.append(cl.inertia_)"
   ]
  },
  {
   "cell_type": "code",
   "execution_count": 286,
   "id": "78007f83",
   "metadata": {},
   "outputs": [
    {
     "data": {
      "text/plain": [
       "[<matplotlib.lines.Line2D at 0x15529b47280>]"
      ]
     },
     "execution_count": 286,
     "metadata": {},
     "output_type": "execute_result"
    },
    {
     "data": {
      "image/png": "[encoded data removed]",
      "text/plain": [
       "<Figure size 432x288 with 1 Axes>"
      ]
     },
     "metadata": {
      "needs_background": "light"
     },
     "output_type": "display_data"
    }
   ],
   "source": [
    "plt.plot(range(2,11),lst_inertia,marker='o')"
   ]
  },
  {
   "cell_type": "code",
   "execution_count": 287,
   "id": "202db856",
   "metadata": {},
   "outputs": [],
   "source": [
    "lst_silhouette = []\n",
    "for k in range(2,11):\n",
    "    cl_sil = KMeans(n_clusters=k)\n",
    "    cl_sil.fit(Xs)\n",
    "    lst_silhouette.append(silhouette_score(Xp,cl_sil.predict(Xs)))"
   ]
  },
  {
   "cell_type": "code",
   "execution_count": 288,
   "id": "14bb4e29",
   "metadata": {},
   "outputs": [
    {
     "data": {
      "text/plain": [
       "[<matplotlib.lines.Line2D at 0x15529b9d8e0>]"
      ]
     },
     "execution_count": 288,
     "metadata": {},
     "output_type": "execute_result"
    },
    {
     "data": {
      "image/png": "[encoded data removed]",
      "text/plain": [
       "<Figure size 432x288 with 1 Axes>"
      ]
     },
     "metadata": {
      "needs_background": "light"
     },
     "output_type": "display_data"
    }
   ],
   "source": [
    "plt.plot(range(2,11),lst_silhouette,marker='o')"
   ]
  },
  {
   "cell_type": "code",
   "execution_count": 289,
   "id": "64212f10",
   "metadata": {},
   "outputs": [],
   "source": [
    "lst_dbscore=[]\n",
    "for k in range(2,11):\n",
    "    cl_db = KMeans(n_clusters=k)\n",
    "    cl_db.fit(Xs)\n",
    "    lst_dbscore.append(davies_bouldin_score(Xp,cl_db.predict(Xs)))\n"
   ]
  },
  {
   "cell_type": "code",
   "execution_count": 290,
   "id": "35e853e0",
   "metadata": {},
   "outputs": [
    {
     "data": {
      "text/plain": [
       "[<matplotlib.lines.Line2D at 0x15529c06550>]"
      ]
     },
     "execution_count": 290,
     "metadata": {},
     "output_type": "execute_result"
    },
    {
     "data": {
      "image/png": "[encoded data removed]",
      "text/plain": [
       "<Figure size 432x288 with 1 Axes>"
      ]
     },
     "metadata": {
      "needs_background": "light"
     },
     "output_type": "display_data"
    }
   ],
   "source": [
    "plt.plot(range(2,11),lst_dbscore,marker='o')"
   ]
  },
  {
   "cell_type": "code",
   "execution_count": 271,
   "id": "70e1f32b",
   "metadata": {},
   "outputs": [],
   "source": [
    "cluster = KMeans(n_clusters=3, random_state=1,n_init=25)"
   ]
  },
  {
   "cell_type": "code",
   "execution_count": 294,
   "id": "b16c587d",
   "metadata": {},
   "outputs": [],
   "source": [
    "X[\"cl\"] = Xp[\"cl\"] = Xs['cl'] =cluster.fit_predict(Xp)"
   ]
  },
  {
   "cell_type": "code",
   "execution_count": 295,
   "id": "4512a50e",
   "metadata": {},
   "outputs": [
    {
     "data": {
      "text/html": [
       "<style  type=\"text/css\" >\n",
       "#T_3851c_row0_col0{\n",
       "            background-color:  #4a98c9;\n",
       "            color:  #000000;\n",
       "        }#T_3851c_row0_col1{\n",
       "            background-color:  #eff6fc;\n",
       "            color:  #000000;\n",
       "        }#T_3851c_row0_col2{\n",
       "            background-color:  #084387;\n",
       "            color:  #f1f1f1;\n",
       "        }#T_3851c_row0_col3,#T_3851c_row0_col7{\n",
       "            background-color:  #63a8d3;\n",
       "            color:  #000000;\n",
       "        }#T_3851c_row0_col4{\n",
       "            background-color:  #4d99ca;\n",
       "            color:  #000000;\n",
       "        }#T_3851c_row0_col5{\n",
       "            background-color:  #ecf4fb;\n",
       "            color:  #000000;\n",
       "        }#T_3851c_row0_col6{\n",
       "            background-color:  #8cc0dd;\n",
       "            color:  #000000;\n",
       "        }#T_3851c_row0_col8,#T_3851c_row1_col0,#T_3851c_row1_col1,#T_3851c_row1_col3,#T_3851c_row1_col4,#T_3851c_row1_col5,#T_3851c_row1_col6,#T_3851c_row1_col7,#T_3851c_row1_col9,#T_3851c_row1_col10,#T_3851c_row1_col11,#T_3851c_row1_col12,#T_3851c_row1_col13,#T_3851c_row1_col14,#T_3851c_row2_col2,#T_3851c_row2_col15{\n",
       "            background-color:  #08306b;\n",
       "            color:  #f1f1f1;\n",
       "        }#T_3851c_row0_col9{\n",
       "            background-color:  #7ab6d9;\n",
       "            color:  #000000;\n",
       "        }#T_3851c_row0_col10{\n",
       "            background-color:  #64a9d3;\n",
       "            color:  #000000;\n",
       "        }#T_3851c_row0_col11{\n",
       "            background-color:  #7cb7da;\n",
       "            color:  #000000;\n",
       "        }#T_3851c_row0_col12{\n",
       "            background-color:  #c1d9ed;\n",
       "            color:  #000000;\n",
       "        }#T_3851c_row0_col13{\n",
       "            background-color:  #e7f1fa;\n",
       "            color:  #000000;\n",
       "        }#T_3851c_row0_col14,#T_3851c_row1_col2,#T_3851c_row1_col8,#T_3851c_row1_col15,#T_3851c_row2_col0,#T_3851c_row2_col1,#T_3851c_row2_col3,#T_3851c_row2_col4,#T_3851c_row2_col5,#T_3851c_row2_col6,#T_3851c_row2_col7,#T_3851c_row2_col9,#T_3851c_row2_col10,#T_3851c_row2_col11,#T_3851c_row2_col12,#T_3851c_row2_col13,#T_3851c_row2_col14{\n",
       "            background-color:  #f7fbff;\n",
       "            color:  #000000;\n",
       "        }#T_3851c_row0_col15,#T_3851c_row2_col8{\n",
       "            background-color:  #0e58a2;\n",
       "            color:  #f1f1f1;\n",
       "        }</style><table id=\"T_3851c_\" ><thead>    <tr>        <th class=\"blank level0\" ></th>        <th class=\"col_heading level0 col0\" >attack</th>        <th class=\"col_heading level0 col1\" >base_egg_steps</th>        <th class=\"col_heading level0 col2\" >base_happiness</th>        <th class=\"col_heading level0 col3\" >base_total</th>        <th class=\"col_heading level0 col4\" >defense</th>        <th class=\"col_heading level0 col5\" >experience_growth</th>        <th class=\"col_heading level0 col6\" >height_m</th>        <th class=\"col_heading level0 col7\" >hp</th>        <th class=\"col_heading level0 col8\" >percentage_male</th>        <th class=\"col_heading level0 col9\" >sp_attack</th>        <th class=\"col_heading level0 col10\" >sp_defense</th>        <th class=\"col_heading level0 col11\" >speed</th>        <th class=\"col_heading level0 col12\" >weight_kg</th>        <th class=\"col_heading level0 col13\" >generation</th>        <th class=\"col_heading level0 col14\" >is_legendary</th>        <th class=\"col_heading level0 col15\" >abilities_num</th>    </tr>    <tr>        <th class=\"index_name level0\" >cl</th>        <th class=\"blank\" ></th>        <th class=\"blank\" ></th>        <th class=\"blank\" ></th>        <th class=\"blank\" ></th>        <th class=\"blank\" ></th>        <th class=\"blank\" ></th>        <th class=\"blank\" ></th>        <th class=\"blank\" ></th>        <th class=\"blank\" ></th>        <th class=\"blank\" ></th>        <th class=\"blank\" ></th>        <th class=\"blank\" ></th>        <th class=\"blank\" ></th>        <th class=\"blank\" ></th>        <th class=\"blank\" ></th>        <th class=\"blank\" ></th>    </tr></thead><tbody>\n",
       "                <tr>\n",
       "                        <th id=\"T_3851c_level0_row0\" class=\"row_heading level0 row0\" >0</th>\n",
       "                        <td id=\"T_3851c_row0_col0\" class=\"data row0 col0\" >86.613588</td>\n",
       "                        <td id=\"T_3851c_row0_col1\" class=\"data row0 col1\" >5668.959660</td>\n",
       "                        <td id=\"T_3851c_row0_col2\" class=\"data row0 col2\" >67.239915</td>\n",
       "                        <td id=\"T_3851c_row0_col3\" class=\"data row0 col3\" >467.333333</td>\n",
       "                        <td id=\"T_3851c_row0_col4\" class=\"data row0 col4\" >80.176221</td>\n",
       "                        <td id=\"T_3851c_row0_col5\" class=\"data row0 col5\" >1040850.700637</td>\n",
       "                        <td id=\"T_3851c_row0_col6\" class=\"data row0 col6\" >1.301068</td>\n",
       "                        <td id=\"T_3851c_row0_col7\" class=\"data row0 col7\" >74.535032</td>\n",
       "                        <td id=\"T_3851c_row0_col8\" class=\"data row0 col8\" >55.280467</td>\n",
       "                        <td id=\"T_3851c_row0_col9\" class=\"data row0 col9\" >77.940552</td>\n",
       "                        <td id=\"T_3851c_row0_col10\" class=\"data row0 col10\" >77.295117</td>\n",
       "                        <td id=\"T_3851c_row0_col11\" class=\"data row0 col11\" >70.772824</td>\n",
       "                        <td id=\"T_3851c_row0_col12\" class=\"data row0 col12\" >64.853629</td>\n",
       "                        <td id=\"T_3851c_row0_col13\" class=\"data row0 col13\" >3.628450</td>\n",
       "                        <td id=\"T_3851c_row0_col14\" class=\"data row0 col14\" >0.000000</td>\n",
       "                        <td id=\"T_3851c_row0_col15\" class=\"data row0 col15\" >2.513800</td>\n",
       "            </tr>\n",
       "            <tr>\n",
       "                        <th id=\"T_3851c_level0_row1\" class=\"row_heading level0 row1\" >1</th>\n",
       "                        <td id=\"T_3851c_row1_col0\" class=\"data row1 col0\" >108.958333</td>\n",
       "                        <td id=\"T_3851c_row1_col1\" class=\"data row1 col1\" >25831.111111</td>\n",
       "                        <td id=\"T_3851c_row1_col2\" class=\"data row1 col2\" >38.125000</td>\n",
       "                        <td id=\"T_3851c_row1_col3\" class=\"data row1 col3\" >613.500000</td>\n",
       "                        <td id=\"T_3851c_row1_col4\" class=\"data row1 col4\" >99.277778</td>\n",
       "                        <td id=\"T_3851c_row1_col5\" class=\"data row1 col5\" >1242077.500000</td>\n",
       "                        <td id=\"T_3851c_row1_col6\" class=\"data row1 col6\" >2.260610</td>\n",
       "                        <td id=\"T_3851c_row1_col7\" class=\"data row1 col7\" >95.416667</td>\n",
       "                        <td id=\"T_3851c_row1_col8\" class=\"data row1 col8\" >6.250000</td>\n",
       "                        <td id=\"T_3851c_row1_col9\" class=\"data row1 col9\" >113.236111</td>\n",
       "                        <td id=\"T_3851c_row1_col10\" class=\"data row1 col10\" >101.694444</td>\n",
       "                        <td id=\"T_3851c_row1_col11\" class=\"data row1 col11\" >94.916667</td>\n",
       "                        <td id=\"T_3851c_row1_col12\" class=\"data row1 col12\" >194.966363</td>\n",
       "                        <td id=\"T_3851c_row1_col13\" class=\"data row1 col13\" >4.625000</td>\n",
       "                        <td id=\"T_3851c_row1_col14\" class=\"data row1 col14\" >0.972222</td>\n",
       "                        <td id=\"T_3851c_row1_col15\" class=\"data row1 col15\" >1.430556</td>\n",
       "            </tr>\n",
       "            <tr>\n",
       "                        <th id=\"T_3851c_level0_row2\" class=\"row_heading level0 row2\" >2</th>\n",
       "                        <td id=\"T_3851c_row2_col0\" class=\"data row2 col0\" >53.193798</td>\n",
       "                        <td id=\"T_3851c_row2_col1\" class=\"data row2 col1\" >4767.751938</td>\n",
       "                        <td id=\"T_3851c_row2_col2\" class=\"data row2 col2\" >69.534884</td>\n",
       "                        <td id=\"T_3851c_row2_col3\" class=\"data row2 col3\" >305.596899</td>\n",
       "                        <td id=\"T_3851c_row2_col4\" class=\"data row2 col4\" >52.593023</td>\n",
       "                        <td id=\"T_3851c_row2_col5\" class=\"data row2 col5\" >1028610.310078</td>\n",
       "                        <td id=\"T_3851c_row2_col6\" class=\"data row2 col6\" >0.607408</td>\n",
       "                        <td id=\"T_3851c_row2_col7\" class=\"data row2 col7\" >51.395349</td>\n",
       "                        <td id=\"T_3851c_row2_col8\" class=\"data row2 col8\" >47.625581</td>\n",
       "                        <td id=\"T_3851c_row2_col9\" class=\"data row2 col9\" >47.492248</td>\n",
       "                        <td id=\"T_3851c_row2_col10\" class=\"data row2 col10\" >50.666667</td>\n",
       "                        <td id=\"T_3851c_row2_col11\" class=\"data row2 col11\" >50.255814</td>\n",
       "                        <td id=\"T_3851c_row2_col12\" class=\"data row2 col12\" >17.752809</td>\n",
       "                        <td id=\"T_3851c_row2_col13\" class=\"data row2 col13\" >3.542636</td>\n",
       "                        <td id=\"T_3851c_row2_col14\" class=\"data row2 col14\" >0.000000</td>\n",
       "                        <td id=\"T_3851c_row2_col15\" class=\"data row2 col15\" >2.709302</td>\n",
       "            </tr>\n",
       "    </tbody></table>"
      ],
      "text/plain": [
       "<pandas.io.formats.style.Styler at 0x15529c39940>"
      ]
     },
     "execution_count": 295,
     "metadata": {},
     "output_type": "execute_result"
    }
   ],
   "source": [
    "X[['attack', 'base_egg_steps',\n",
    "       'base_happiness', 'base_total', 'capture_rate', 'defense',\n",
    "       'experience_growth', 'height_m', 'hp', 'percentage_male', 'sp_attack',\n",
    "       'sp_defense', 'speed', 'weight_kg', 'generation', 'is_legendary',\n",
    "       'abilities_num','cl']].groupby(\"cl\").mean().style.background_gradient(cmap='Blues')"
   ]
  },
  {
   "cell_type": "code",
   "execution_count": 296,
   "id": "413b2b91",
   "metadata": {},
   "outputs": [
    {
     "data": {
      "text/plain": [
       "0    0.588015\n",
       "2    0.322097\n",
       "1    0.089888\n",
       "Name: cl, dtype: float64"
      ]
     },
     "execution_count": 296,
     "metadata": {},
     "output_type": "execute_result"
    }
   ],
   "source": [
    "X[\"cl\"].value_counts(1)"
   ]
  },
  {
   "cell_type": "code",
   "execution_count": 300,
   "id": "657a2362",
   "metadata": {},
   "outputs": [],
   "source": [
    "Xp['cl'] = Xp['cl'].astype(str)"
   ]
  },
  {
   "cell_type": "code",
   "execution_count": 301,
   "id": "9271c2db",
   "metadata": {},
   "outputs": [
    {
     "name": "stderr",
     "output_type": "stream",
     "text": [
      "C:\\ProgramData\\Anaconda3\\lib\\site-packages\\cufflinks\\plotlytools.py:807: FutureWarning:\n",
      "\n",
      "The pandas.np module is deprecated and will be removed from pandas in a future version. Import numpy directly instead\n",
      "\n",
      "C:\\ProgramData\\Anaconda3\\lib\\site-packages\\cufflinks\\plotlytools.py:810: FutureWarning:\n",
      "\n",
      "The pandas.np module is deprecated and will be removed from pandas in a future version. Import numpy directly instead\n",
      "\n"
     ]
    },
    {
     "data": {
      "application/vnd.plotly.v1+json": {
       "config": {
        "linkText": "Export to plot.ly",
        "plotlyServerURL": "https://plot.ly",
        "showLink": true
       },
       "data": [
        {
         "marker": {
          "color": "rgba(255, 153, 51, 1.0)",
          "line": {
           "width": 1.3
          },
          "opacity": 0.8,
          "size": 3,
          "symbol": "circle"
         },
         "mode": "markers",
         "name": "0",
         "textfont": {
          "color": "#4D5663"
         },
         "type": "scatter",
         "x": [
          -0.5969528541478533,
          -0.5925868377560006,
          -0.5810864148516187,
          -0.6185067997070297,
          -0.6130817227245987,
          -0.5925292098402736,
          -0.6255934491569825,
          -0.6208933134792554,
          -0.6070148731291279,
          -0.5326697616271944,
          -0.5394545627254608,
          -0.5444021776183151,
          -0.5322238135618204,
          -0.5300600264574898,
          -0.5503469009233642,
          -0.5630335450267583,
          -0.4513009532240651,
          -0.6185241611444989,
          -0.6439668156580883,
          -0.5623213709308978,
          -0.5014118839174599,
          -0.5328413253864944,
          -0.5218664248172851,
          -0.515296901426956,
          -0.51589628023868,
          -0.5249376052577333,
          -0.5960295139932857,
          -0.5771007764496559,
          -0.5434005940823861,
          -0.5453658884029999,
          -0.5699925870127205,
          -0.5319513571983521,
          -0.562568443560634,
          -0.54618220883825,
          -0.5519935048608227,
          -0.5900223146183132,
          -0.6014295894677286,
          -0.5158524609974781,
          -0.5276262733052791,
          -0.6263684644682819,
          -0.6509713081689131,
          -0.5449281423826412,
          -0.5257150179108827,
          -0.4465313943988394,
          -0.5575774521685021,
          -0.5502078401808734,
          -0.5517849916286321,
          -0.5758099712001691,
          -0.5449111056184359,
          -0.49114539880447566,
          -0.4945520108239911,
          -0.5894026023691409,
          -0.5166678788133405,
          -0.5601517893057825,
          -0.43737576960196434,
          -0.5046402102030282,
          -0.5914632835806125,
          -0.6464505116447402,
          -0.6471685198846906,
          -0.5647519896845066,
          -0.5188814654626493,
          -0.5691491224913985,
          -0.5872683411511456,
          -0.4754224208055317,
          -0.5309745079276558,
          -0.4607833064120615,
          -0.5470641986047583,
          -0.5561140073007601,
          -0.41597355335607145,
          -0.5146657901817149,
          -0.5287158385466368,
          -0.4165967858813788,
          -0.5716463336543541,
          -0.5779264087179715,
          -0.5134483624571795,
          -0.643237680664848,
          -0.5425257916767731,
          -0.5057731744947467,
          -0.46329972931720503,
          -0.6141963503465715,
          -0.5872070319414835,
          -0.572793844113233,
          -0.5883606157620056,
          -0.46566579862014307,
          -0.6541526036358594,
          -0.6468245587628852,
          -0.6583643847606773,
          -0.6524842581183995,
          -0.5862099785191458,
          -0.5789620500648287,
          -0.47346373879085274,
          -0.46639504137917825,
          -0.4510138388607535,
          -0.5865872337792528,
          -0.5822505474453077,
          -0.5740121658748438,
          -0.608237311455763,
          -0.6028592755825151,
          -0.5940872655128282,
          -0.6169725311038595,
          -0.6122559638406304,
          -0.604436345678856,
          -0.5455129099553806,
          -0.5298461615704559,
          -0.5313524878127247,
          -0.5394380743011098,
          -0.5061078706185045,
          -0.522335167318081,
          -0.6239336269492657,
          -0.5023077272398543,
          -0.5121677677411076,
          -0.5060404676862019,
          -0.5666456988602973,
          -0.5712483661134509,
          -0.5429823022354697,
          -0.5133834710133685,
          -0.5676708106231491,
          -0.49097896621123427,
          -0.5157716719937415,
          -0.5524764330090187,
          -0.5426115717706429,
          -0.562573203125392,
          -0.5236074341959934,
          -0.519128719090241,
          -0.48968204414791083,
          -0.5127565911911409,
          -0.5261017605919891,
          -0.5031326734881082,
          -0.5298589248231371,
          -0.5366443813695784,
          -0.4906266168717487,
          -0.5485303628698999,
          -0.5210470466236264,
          -0.5149164958680217,
          -0.5339602479101748,
          -0.5447358378042175,
          -0.5653628629934047,
          -0.5317648067693544,
          -0.5464319384817085,
          -0.5387500935934709,
          -0.5507695808828497,
          -0.5141301205692144,
          -0.5192359625427365,
          -0.5096945789422579,
          -0.5344925504782159,
          -0.534246718866934,
          -0.45035364883890977,
          -0.5330704493229743,
          -0.6371926605565502,
          -0.4158564644389606,
          -0.5677738487805052,
          -0.5746351213471399,
          -0.4391974097615655,
          -0.4575847475572687,
          -0.5176034223415177,
          -0.49794783642682233,
          -0.49272087538652776,
          -0.5724069681574657,
          -0.5666189065087294,
          -0.5527593274807125,
          -0.5988357842340839,
          -0.5999761143067648,
          -0.5892783859147903,
          -0.6063586019236028,
          -0.6181207762860556,
          -0.6091868017861349,
          -0.5178656129430844,
          -0.5341581602419807,
          -0.51342120488377,
          -0.5183516357064287,
          -0.5217282856734632,
          -0.5189167538256394,
          -0.5216578441345273,
          -0.5296327574131247,
          -0.46249241708285177,
          -0.49991188014886695,
          -0.478656947921409,
          -0.48325628502172013,
          -0.5018900148787141,
          -0.5078533479501988,
          -0.43773561325837007,
          -0.5203771950647594,
          -0.5079554237257575,
          -0.5028074225496931,
          -0.544261417708527,
          -0.49366245662297226,
          -0.5001162981385602,
          -0.48740268684061094,
          -0.5000346535253752,
          -0.4772892076137825,
          -0.49020401508969746,
          -0.4332375201834581,
          -0.43710053145244887,
          -0.4965263351281187,
          -0.5220295427961167,
          -0.5098150824692035,
          -0.47981436720185405,
          -0.49690562537596566,
          -0.47481727879517965,
          -0.5269766889140326,
          -0.5364722855332152,
          -0.4576007440502139,
          -0.4080241199135561,
          -0.41567923867728085,
          -0.5447596331772444,
          -0.48030067809582755,
          -0.37825780778223195,
          -0.6066650105981557,
          -0.6006410705040252,
          -0.6129212506728569,
          -0.6087107710180679,
          -0.5428043485668786,
          -0.5084726226551721,
          -0.5071619078215441,
          -0.48209206333201643,
          -0.48541824976836156,
          -0.5051844344196263,
          -0.5073232756811517,
          -0.514873802757006,
          -0.5350809760257127,
          -0.5458402773732106,
          -0.5426921991676017,
          -0.6098903415942757,
          -0.45475618121048433,
          -0.4490930241405888,
          -0.4284614235526003,
          -0.3575716616711551,
          -0.34863142344367626,
          -0.3259797519306776,
          -0.5686916392952676,
          -0.5635097899690281,
          -0.5560114547018378,
          -0.5885265241590119,
          -0.5878891350548641,
          -0.5804850239577392,
          -0.5937145991486695,
          -0.5887410056605658,
          -0.5805605433034263,
          -0.5164422150895374,
          -0.523801526836367,
          -0.5046816149521448,
          -0.5134860561308826,
          -0.4796961291269417,
          -0.6240756930447313,
          -0.6165578925155732,
          -0.6271220106487099,
          -0.6205806919982954,
          -0.39349536578132577,
          -0.6014281077035312,
          -0.40512539405614995,
          -0.5017094716613261,
          -0.4624565412923751,
          -0.5338393352911662,
          -0.5551063751234702,
          -0.4415002867420492,
          -0.5554984153433212,
          -0.4634009520570994,
          -0.5009378779596447,
          -0.47962261342112433,
          -0.513305553126616,
          -0.3848747790515689,
          -0.504474472849228,
          -0.4652900843310949,
          -0.46538595370347824,
          -0.45868370679505843,
          -0.44711301713186985,
          -0.557236383125133,
          -0.5833722336070926,
          -0.5760358112475155,
          -0.47208560616730805,
          -0.5040060253846409,
          -0.5118582678370381,
          -0.5402242890058734,
          -0.5047770619687917,
          -0.46218597046862614,
          -0.50365430728691,
          -0.42127913419766455,
          -0.5316770826739805,
          -0.5602111798488416,
          -0.5015791848594573,
          -0.544276881816941,
          -0.5485267431859858,
          -0.6081446943814077,
          -0.5048842980617573,
          -0.5198060006826996,
          -0.5327292076068577,
          -0.5180392935404324,
          -0.5085265179294007,
          -0.4289437602761751,
          -0.560108186937055,
          -0.537663781376784,
          -0.4835956822155946,
          -0.38375327764785455,
          -0.3842412434102335,
          -0.36059481108540964,
          -0.5546984525249341,
          -0.549736247795257,
          -0.5410836917912798,
          -0.5807598523840461,
          -0.5795553194328732,
          -0.5714082066220821,
          -0.583038614867915,
          -0.5777251048764817,
          -0.5708015015329299,
          -0.5276856944098425,
          -0.49482043268401876,
          -0.5362219860882517,
          -0.5603094056344617,
          -0.5647002521014107,
          -0.5050072818168972,
          -0.5174765204905084,
          -0.4919194872091571,
          -0.5234943399041256,
          -0.5428085481084123,
          -0.4924684887495803,
          -0.5136817398713072,
          -0.5520036151945651,
          -0.5644983442409561,
          -0.5060394074487959,
          -0.5280164410409216,
          -0.6173408225833878,
          -0.6161162468229757,
          -0.48393755789234383,
          -0.48870549123825274,
          -0.4709569895492999,
          -0.3762813080900151,
          -0.5004451619242477,
          -0.5108176378204189,
          -0.5199414639461135,
          -0.48050075123148417,
          -0.5070083011379948,
          -0.5155862567849053,
          -0.48000125929504134,
          -0.44708963547380454,
          -0.6193612969965109,
          -0.6118630531856644,
          -0.555261369997126,
          -0.5447808416224397,
          -0.49985179020306963,
          -0.5427786277092573,
          -0.5512913789082138,
          -0.4853283832123078,
          -0.4176580228740053,
          -0.4302424023739946,
          -0.4639686197480985,
          -0.48021023595945717,
          -0.5077359544577473,
          -0.47064327240441617,
          -0.49140567398621887,
          -0.48957423025622593,
          -0.49840835612076917,
          -0.4715051105472762,
          -0.4987021142641899,
          -0.486101572364902,
          -0.4802589227017594,
          -0.46869159358173407,
          -0.40700058931408056,
          -0.4139637214504932,
          -0.4672451605485805,
          -0.4710488760013479,
          -0.4685758955131483,
          -0.48557507799778576,
          -0.4917091208956889,
          -0.4368441203714186,
          -0.4392830911493271,
          -0.4365645480356578,
          -0.5024115242586051,
          -0.3753424635210643,
          -0.48499043560813365,
          -0.5107162674088875,
          -0.4974535923208146,
          -0.4883984664774732,
          -0.3818174057458456,
          -0.4918171640313537,
          -0.5128342950498221,
          -0.5232014588365882,
          -0.5890112890529055,
          -0.37247309455973443,
          -0.4943580777503333,
          -0.4789740136844252,
          -0.4286339778333159,
          -0.4220104876860723,
          -0.4060585077692233,
          -0.4497692297052969,
          -0.4413841234547815,
          -0.5471256340042575,
          -0.5434143322028955,
          -0.5452325297253201,
          -0.566376597894452,
          -0.5605077130313314,
          -0.5349926522241772,
          -0.570879706369987,
          -0.5647336192276681,
          -0.5722485114998664,
          -0.5003013393496868,
          -0.4683010261753353,
          -0.48804122733667954,
          -0.49288184136567403,
          -0.4202707682275808,
          -0.3458566492208029,
          -0.3746545994954804,
          -0.4618944038068665,
          -0.49080555357418054,
          -0.43980294035644946,
          -0.47627936763735035,
          -0.4499447480538345,
          -0.44939366342470194,
          -0.44512437660499005,
          -0.44456922697064943,
          -0.474862908312268,
          -0.5448514034176501,
          -0.48876932984810945,
          -0.4689700559768108,
          -0.49038702162394515,
          -0.5680275604087605,
          -0.5539210525442638,
          -0.5858863234664845,
          -0.5715592245204068,
          -0.5195944458274001,
          -0.4731723164204838,
          -0.38367386631548983,
          -0.4338814454285518,
          -0.42616560961300026,
          -0.4145130639524322,
          -0.483732584411019,
          -0.4704274994423585,
          -0.47251354284138003,
          -0.49351908936877426,
          -0.47950507279879023,
          -0.5418755776938143,
          -0.5372164981140942,
          -0.5272135368747485,
          -0.566075756978049,
          -0.5604065386416018,
          -0.5677483373137127,
          -0.571391817372196,
          -0.5659706767417089,
          -0.5520265231249603,
          -0.5016565056974795,
          -0.4852922102414108,
          -0.4399112763798855,
          -0.4525279714275402,
          -0.4925491918119907,
          -0.4109978786604534,
          -0.45540344411469563,
          -0.5476769226209396,
          -0.4864824302015688,
          -0.4863425902982337,
          -0.47006942878750607,
          -0.4626805682488653,
          -0.4491762719852453,
          -0.45474715090476076,
          -0.378562879198373,
          -0.5060017250725709,
          -0.37330959007223113,
          -0.43550101198337154,
          -0.4633903730073672,
          -0.4687831981733845,
          -0.4626168550526408,
          -0.473574632443722,
          -0.5127218434183622,
          -0.36482992557240235,
          -0.46135264962403333,
          -0.45235321770466685,
          -0.45750539247251587,
          -0.4768477999604978,
          -0.47623360964925376,
          -0.3354966286134293,
          -0.44137779578021763,
          -0.44172258497911127,
          -0.4332683578284023
         ],
         "y": [
          -0.16627597423269005,
          -0.026771720796731926,
          0.34239797338786115,
          -0.11884990649419531,
          0.03597918390100982,
          0.39645861123077974,
          -0.13972156405964026,
          0.008547714102873794,
          0.39785010077907185,
          -0.026404539136984036,
          0.16049168845315312,
          0.2899451606016721,
          -0.02010119835107307,
          0.030645809277572298,
          0.11779118247832114,
          -0.013593500395208926,
          0.27741173846869654,
          -0.2526698100621008,
          0.16755717728415498,
          0.09658088462670876,
          0.14481746269129653,
          -0.013062857901369792,
          -0.005232700240931055,
          0.1647708302575555,
          -0.13250586047023577,
          0.0003480288155935969,
          0.025930894078914832,
          -0.08772205217653602,
          0.13062870554054704,
          0.04295413129338739,
          0.24060411118190472,
          -0.16784448160370571,
          0.18293707847046792,
          -0.06882878128870866,
          0.3673202387370181,
          -0.10203013560073539,
          0.1716127169261178,
          0.1774440626295515,
          0.19324901903733024,
          -0.09817332863315155,
          0.2308506935072203,
          0.19009212135350603,
          0.28026340387485554,
          0.2937618353720702,
          -0.033388622220109,
          0.1282463938603078,
          0.06988585932638297,
          0.039152543393399325,
          0.22452043897588503,
          0.1648415873441377,
          0.5854242098249873,
          0.1808923942213019,
          0.11157725046367638,
          0.12993808244617486,
          0.22009007476624792,
          0.2311165016085863,
          -0.05968287952085694,
          0.06291946334008901,
          0.05074209170688529,
          -0.02293878774681146,
          0.18819489658013294,
          -0.07791331678184919,
          0.28773672136820444,
          0.053663745888482974,
          0.03645608660323688,
          0.384535665656859,
          0.03210509420025886,
          0.07365140488016776,
          0.30721122385508043,
          0.12567616727134145,
          0.1446766069300431,
          0.21671935553401855,
          0.21094663838597502,
          0.22026076990479887,
          0.36250342854563583,
          0.11837174337821509,
          0.447434032944313,
          0.308929556420395,
          -0.0580380887022754,
          -0.12638424395866088,
          0.2166748124708292,
          0.2672150784487693,
          0.28077390443520317,
          0.07547557875670556,
          0.03191286465480682,
          0.254424542179864,
          0.040887339295138644,
          0.2682249758243925,
          0.46405870481782946,
          0.32581630940375217,
          0.03332228974318448,
          0.23695503905701568,
          0.5212521450517421,
          -0.15559684056292353,
          -0.016351446577652595,
          0.18629074482149724,
          -0.0990116626865249,
          0.055333461893763446,
          0.27432578233609195,
          -0.11465014566368119,
          0.03373604719853723,
          0.2474434551129463,
          -0.05799176005014515,
          -0.029328665863889238,
          -0.17349788465502833,
          -0.12250752190602139,
          0.14295594231929068,
          0.09106469727339281,
          -0.17999658922138687,
          0.10586867173090134,
          0.4624352547462926,
          0.1671511443398182,
          -0.10485449375681992,
          0.11505596968126156,
          0.20376137173578737,
          0.0620278917848781,
          -0.04809599867653192,
          -0.10876868667289495,
          -0.08749429529208334,
          0.010886036669609637,
          0.2992174796978932,
          0.25985906011589427,
          0.12397280547096003,
          0.16162949292514248,
          0.32022931637760993,
          0.019790397805823663,
          0.11517997276248043,
          0.14059165322615944,
          0.05492751149930183,
          0.5925608760641383,
          0.043291448865424804,
          0.10526782671064723,
          0.4786460720502267,
          0.34961563593617406,
          0.10508924073900171,
          0.1937303850913143,
          0.15766605261076996,
          0.09109212444134347,
          0.12498800927951133,
          0.1282670588224775,
          -0.11687151739837094,
          0.2297899573810014,
          0.25685098400591283,
          0.4610221697421511,
          0.3282353826498094,
          0.22416607395105645,
          0.28449891206453676,
          0.18579478018472362,
          0.06342399875271117,
          -0.012348872818249392,
          0.018819976421577792,
          0.025773731848706603,
          0.2426922479262051,
          0.23150763026360296,
          0.14488371447036244,
          0.35608456587897214,
          0.8043848117045949,
          -0.13614901967342705,
          0.026235792634663916,
          0.414219666744912,
          -0.07230536189682192,
          0.06744200000689833,
          0.4657326997609808,
          -0.09442234439568141,
          0.07603752803412021,
          0.4645814745836753,
          -0.07569060649096353,
          -0.03430300120473823,
          0.0317903393028178,
          -0.0029708648423076816,
          0.15111146627291794,
          0.17198752267398595,
          0.14888002748014156,
          0.09882301561123655,
          0.4822704197710049,
          0.039592058491830145,
          0.05648148555446231,
          0.011355173450844597,
          0.5651846525152542,
          -0.08939922220452311,
          0.014539166211874305,
          0.24091857246773304,
          0.0215732778521051,
          0.3827601210834838,
          0.23565665225876758,
          0.27094399286202697,
          0.7174536279939173,
          0.19030476372390037,
          0.4130902100785889,
          0.15572140904059256,
          0.4265445201568578,
          -0.010198078011836014,
          0.3840545912174981,
          0.19648121333295762,
          0.09075760531025755,
          0.14149570039893813,
          -0.0823170687139969,
          0.38066251990343913,
          0.22140652144676495,
          0.38726710754569393,
          0.05789553101263123,
          0.17790965486184196,
          0.4038234832769595,
          0.4022423816628446,
          0.11188442585180212,
          0.01994277198234729,
          0.2833932336351109,
          0.012254329656056735,
          0.24929466096855435,
          0.04180279507083626,
          0.27142724232471815,
          0.2467764005487991,
          0.14267723663891074,
          0.5282677621240752,
          0.24163694150237616,
          0.2083501963993868,
          0.47557194454595886,
          0.3347311455248453,
          -0.08958515132018031,
          0.2746415440773073,
          0.18093368912183974,
          0.1805666912093383,
          0.33765719308662034,
          0.06967253701779857,
          0.26623934381036757,
          0.7083802110401171,
          0.28161948322069547,
          0.48672719044863527,
          0.9950985447335124,
          -0.1135346963949372,
          0.03533552850599847,
          0.27676524472016184,
          -0.058328173544426466,
          0.08238362565341678,
          0.30088513893121466,
          -0.07428461424144982,
          0.07749604975849446,
          0.37881371104938766,
          0.21055632784459405,
          -0.10131221240388712,
          0.04113068429327611,
          0.3342848096432471,
          0.18313545574523174,
          0.09821465262736745,
          0.34991421702325015,
          0.12754212138558238,
          0.34738808096702245,
          0.08355423245468685,
          0.03701446812661992,
          0.22307332490595305,
          0.21162424801615137,
          0.09823688658023916,
          0.15263516490916895,
          0.17417519770791412,
          0.3974605658740345,
          0.2938253782993618,
          0.4628994453385525,
          0.33170967840512733,
          0.11309168776144705,
          0.19140611309109165,
          0.3270120191656619,
          0.1381990759762323,
          0.3180872013430268,
          0.07200328766021587,
          0.2552562456521842,
          0.7494938381369971,
          0.047374289040935776,
          -0.20358528495986875,
          0.5419679937473282,
          0.3651755696154922,
          0.28299682872006876,
          0.14947087798665748,
          0.07325409180697683,
          0.03540246554997235,
          0.3911191446668591,
          0.3362625004761011,
          0.5389866005122295,
          0.29261809547116574,
          0.515331931321553,
          0.3086997747448115,
          0.4107531839809729,
          0.3925973466418977,
          0.19263006350788364,
          0.257355000343479,
          0.2765619407482987,
          0.3206845537394063,
          0.29342659817195704,
          0.3585318207823905,
          0.409880477846077,
          0.4819141039397147,
          0.43490918532717093,
          0.494154529542525,
          0.37670393278426406,
          0.5610553395422996,
          0.4183080056563983,
          -0.11206886728449512,
          0.05445007733212531,
          0.2534357510832231,
          -0.05198256460166068,
          0.11823987655720467,
          0.3179695691348034,
          -0.0583112369265052,
          0.11349241148996032,
          0.3116571530020257,
          0.2476963129687629,
          0.11802511731496705,
          0.1486396861939163,
          0.20625621252541118,
          0.19188586939269273,
          0.14586378555709562,
          0.2164760696759003,
          0.2389494740943527,
          0.03784482812270657,
          0.42274718612726697,
          0.13533761178306625,
          0.3416124714515105,
          -0.03141467775102375,
          0.2400946928160181,
          -0.06357278139877522,
          0.30875628146877393,
          0.10203426408352351,
          0.13617131398553306,
          0.15853886854327964,
          0.2345049323185665,
          0.06479025235429894,
          0.19252095078575504,
          0.27916514020216443,
          -0.022893504983646475,
          0.34777833212211656,
          0.32936221994229553,
          0.2670020606145551,
          0.14143155683467756,
          0.25383637578154733,
          0.34583108011354335,
          0.10946601599991651,
          0.3474579870462898,
          0.22988114271022636,
          0.5103755899736787,
          0.20124429722262255,
          -0.01668930956388581,
          0.3515772627359589,
          0.1815927741819161,
          0.02147126121085541,
          0.2966260041673841,
          -0.02036993601307897,
          0.2648054390762097,
          0.20541295655623243,
          -0.041158054955987074,
          0.3574231261637393,
          0.12013345541415088,
          0.22650127441582948,
          0.10817217634756672,
          0.3496388835698139,
          0.12457298359141776,
          0.1496048451345737,
          0.2072616605842037,
          0.2901077440370685,
          0.48945459885345716,
          0.18552110100788474,
          0.44921172981304447,
          0.18417821441234805,
          0.12841543012007905,
          0.4859323903380308,
          0.04802162330353687,
          0.23166827313583663,
          0.49141547471794345,
          0.27473801950249,
          0.4531665442519986,
          0.14959021301181588,
          0.1677728280674672,
          0.32114159092907546,
          0.3228393789324553,
          0.4278517023767273,
          -0.030701366369048005,
          0.39059602207020394,
          0.23628138366499862,
          0.17647325726317384,
          0.30987050996214055,
          0.17756520597929762,
          0.17597379762152715,
          0.15215620641731603,
          0.34912552953783393,
          0.6640749854549362,
          0.11292446558457866,
          0.4853359628835455,
          -0.08219119788539365,
          0.06702545089625926,
          0.2443598398742011,
          -0.023751670611494576,
          0.14460328137041287,
          0.3714389761120919,
          -0.022227768430029018,
          0.12465383559792398,
          0.5432136616778558,
          -0.03924240235505561,
          -0.07787190353128094,
          0.27332275265421135,
          0.07190413566655651,
          0.32575258798015894,
          0.2505075397149123,
          0.4137872640793514,
          0.322444618231116,
          0.29136741951314,
          0.027677582997484535,
          0.14961041511559692,
          0.3037243046687506,
          0.6070298601595593,
          -0.00802099257258877,
          0.023466499910538095,
          0.1969959865524865,
          0.3913652518421303,
          0.30046242373322113,
          0.33836153890776827,
          0.21441940243887492,
          0.20814755867693951,
          0.49669438164401797,
          0.17428468487955465,
          0.44613980103416645,
          0.29047413217385065,
          0.12842522232037096,
          0.4046011554447339,
          0.09640959690938658,
          0.3438811069412149,
          0.6021652692668973,
          0.24012412993176932,
          0.33422729656258177,
          0.3473936855583681,
          0.309998779066906,
          0.3628245290339828,
          -0.08391742280667465,
          0.0832855131416077,
          0.45754294567485615,
          0.012490828137865662,
          0.17810884732249288,
          0.3606721354454473,
          -0.010261628694618701,
          0.15574880270235392,
          0.29960763125229045,
          0.2523003793712804,
          -0.02208092402283626,
          -0.0032191837025402586,
          0.35272037509941123,
          0.24414406026027782,
          0.3221343724266656,
          0.10358488022848168,
          0.21637294349614686,
          0.5233350292699984,
          0.20040802080807457,
          0.39401972030303556,
          0.07845119312745062,
          0.1974522369183017,
          -0.014433456356475912,
          0.40629369674609395,
          0.2243188480043017,
          0.34692761069788164,
          0.20962448277493848,
          0.30642726424449374,
          0.32217396509500645,
          0.3790981281886552,
          0.4455047469451743,
          0.08474960773202873,
          0.5646074942596799,
          0.35475123109519935,
          0.3408583739518362,
          0.422746256857348,
          0.21221426787845804,
          0.2959564159716734,
          0.6712676821800582,
          0.09068590774685266,
          0.2821187551765237,
          0.5803816072897549
         ]
        },
        {
         "marker": {
          "color": "rgba(55, 128, 191, 1.0)",
          "line": {
           "width": 1.3
          },
          "opacity": 0.8,
          "size": 3,
          "symbol": "circle"
         },
         "mode": "markers",
         "name": "2",
         "textfont": {
          "color": "#4D5663"
         },
         "type": "scatter",
         "x": [
          0.41973434816135613,
          0.3829182762850354,
          0.41824926285488717,
          0.3813613053859492,
          0.3996299131556663,
          0.3555490243675905,
          0.35142476927965366,
          0.3094056627306078,
          0.4088603358892307,
          0.4114055283546259,
          0.3831123935854838,
          0.38198369865741216,
          0.5025656444471679,
          0.46486141760577515,
          0.3090456642319272,
          0.3641486123630815,
          0.4208746333534506,
          0.3920881302532356,
          0.41745358195543575,
          0.4435371378463453,
          0.39677551784788634,
          0.41165313803658066,
          0.39580408668979944,
          0.36504231518642405,
          0.3668267298291975,
          0.3784791080347134,
          0.3797259398927273,
          0.34894832412779486,
          0.40508806819462606,
          0.3750424965535885,
          0.327289010263468,
          0.4418817660493674,
          0.3964294420478486,
          0.40149324727893787,
          0.3091361544144345,
          0.386259832598023,
          0.39068648772551223,
          0.48281191838830523,
          0.38370961283461,
          0.3788316031841423,
          0.3486827301529697,
          0.38608539279606174,
          0.43108369407424074,
          0.4064998813336937,
          0.3815231718975836,
          0.48903396221200524,
          0.4154233356793487,
          0.3732034870180651,
          0.4115198631041508,
          0.3905053860086118,
          0.38731371301570106,
          0.506839045950921,
          0.3967842587111586,
          0.39457000231376294,
          0.40889303391596216,
          0.4120877784173608,
          0.40522867034512794,
          0.4047512044727013,
          0.3879536100893184,
          0.37001341243385044,
          0.40059027147122467,
          0.2944458914755098,
          0.4219792048431695,
          0.4297332137820801,
          0.3911819388169716,
          0.35736053358911707,
          0.4427798568430445,
          0.39813278537941627,
          0.4288211385224008,
          0.38674981566655614,
          0.5889850488072612,
          0.41424289824981764,
          0.38878891202994187,
          0.4352792605023151,
          0.38824027000523686,
          0.3577987565549359,
          0.39062783445883736,
          0.4063367528991124,
          0.3879678305759129,
          0.39247337632051293,
          0.3723239873446844,
          0.32157609812311133,
          0.2575132591534294,
          0.4096477340674375,
          0.40866061195114145,
          0.437979212874396,
          0.40162370877232634,
          0.401735966650524,
          0.43084677665232973,
          0.3878146609199748,
          0.4373719100479809,
          0.39109177167520404,
          0.41431776103196233,
          0.4079137829085834,
          0.47057347698979196,
          0.43328711891163685,
          0.4186391382755808,
          0.47503240625571963,
          0.44598979748575285,
          0.41192586847335627,
          0.40917241079512423,
          0.3896642628723357,
          0.38200958886399794,
          0.4017584856258005,
          0.40134440501572277,
          0.4039374523677184,
          0.4453751117379448,
          0.4248449788703101,
          0.4252914596777833,
          0.39875741112604285,
          0.4328987718114678,
          0.43232882119720273,
          0.27863877966850314,
          0.5378759242252564,
          0.4199499193037388,
          0.4582498951307882,
          0.4470101950123245,
          0.4155312132658758,
          0.44465965069493046,
          0.40123040646629404,
          0.41819884120322504,
          0.46003285818514783,
          0.41711668265831725,
          0.38046886655682316,
          0.42702043563724895,
          0.5615218500814994,
          0.39503144559490655,
          0.41811407003056306,
          0.4417938954455304,
          0.4384384873862946,
          0.46437771731646804,
          0.4107044606449059,
          0.40319898637832535,
          0.4176365368798755,
          0.4110137023087173,
          0.4635836039437728,
          0.44246972122413775,
          0.39681173636466954,
          0.4171036957992346,
          0.4537876693860249,
          0.43409757147350314,
          0.3829340413655835,
          0.4617375891698387,
          0.4022933035345004,
          0.33434222512366746,
          0.3935708475768034,
          0.42349764119379624,
          0.4604219629417854,
          0.40716754376235315,
          0.4651970436355023,
          0.44126445105769396,
          0.4448173734004639,
          0.4344122808199066,
          0.4303540041030508,
          0.5537721823212322,
          0.40270775500322287,
          0.4333117676075047,
          0.4708285131142066,
          0.43222931973546286,
          0.4152039801611752,
          0.3609295578175961,
          0.493552688130764,
          0.38487714779113924,
          0.4379091257634576,
          0.4274695917391134,
          0.44480962576463284,
          0.43073129135058835,
          0.38423807909053637,
          0.4456291454439237,
          0.3856897930110465,
          0.3617612147494732,
          0.35741695168896326,
          0.41819503544104647,
          0.43965572061598296,
          0.39464186537351204,
          0.4295760690996785,
          0.4092660702781745,
          0.443029160562697,
          0.38992742151503434,
          0.43744050161649306,
          0.3672065173482144,
          0.44526608492893605,
          0.47315350833245706,
          0.4258255788934036,
          0.4528094314545188,
          0.40718223808579357,
          0.4504438362971113,
          0.543265311787481,
          0.40878000845612933,
          0.407320890155196,
          0.47857841417203456,
          0.41485686447291387,
          0.41899923853575693,
          0.46979620535294253,
          0.4307697478682087,
          0.46906058322281324,
          0.5040520135633894,
          0.45797259620116587,
          0.42510024983485223,
          0.46330536234445735,
          0.434807839271412,
          0.46057037731966616,
          0.43232935300487535,
          0.4533653141537244,
          0.4290805853536067,
          0.4416310220804906,
          0.4857919232570169,
          0.5015042921400474,
          0.4660078763704732,
          0.47309493272805025,
          0.43307471388356944,
          0.3972091843645007,
          0.43078328755267925,
          0.43248220010794053,
          0.5312378214977225,
          0.34190801613272,
          0.5584481974594675,
          0.4389045316488325,
          0.4652476394685345,
          0.4587109743869179,
          0.4219847432682746,
          0.5153061896061966,
          0.5674223543947816,
          0.4749172674224513,
          0.4508104303324735,
          0.46075205083422754,
          0.47112497822690086,
          0.4596549534499953,
          0.4611662516689172,
          0.44576273127674376,
          0.3660390157742798,
          0.4452740804232289,
          0.4715726302207293,
          0.42889688830464495,
          0.4484881780622682,
          0.43425787535894084,
          0.4346143446589227,
          0.4313652951306865,
          0.4457356276620006,
          0.45713409713100306,
          0.4114129811073631,
          0.4468395715954415,
          0.4991098502239581,
          0.45450270763895567,
          0.46612609961490536,
          0.40815273568934246,
          0.44187015649234057,
          0.43980884645793233,
          0.4554244382651887,
          0.4757673458889268,
          0.47058678298230505,
          0.3572697153075963,
          0.4020493055299797,
          0.5784773918657466,
          0.5411523675179449,
          0.43774933066735866,
          0.4323208146490793,
          0.4234786010417226
         ],
         "y": [
          -0.9966424566544239,
          -0.6641779679459447,
          -0.9954380866158895,
          -0.6635448386189218,
          -0.9102630089125112,
          -0.4532378766484211,
          -0.9420288938698951,
          -0.42754623273782755,
          -0.8665243559247615,
          -0.7927694652646011,
          -0.5823418958988812,
          -0.7966493019500772,
          -0.72426780152253,
          -0.3241526684747134,
          -0.8420364401913525,
          -0.6311079591916231,
          -0.616541878232458,
          -0.7357160561094199,
          -0.8986008608614938,
          -0.7631632170856739,
          -0.34558012711887176,
          -0.7663108215388892,
          -0.6849449797003685,
          -0.8705060352713022,
          -0.8764601750138854,
          -0.6063988413278926,
          -0.6385674082767152,
          -0.5469738971432987,
          -0.7824868258570684,
          -0.6252282531508311,
          -0.6577815094406764,
          -0.7796325950591582,
          -0.33706324930376663,
          -0.5670320136517519,
          -0.7256186959592577,
          -0.4372502784637245,
          -0.6114486200476348,
          -0.4127299295446613,
          -0.6391121592599448,
          -0.6107952213808743,
          -0.6759438116852969,
          -0.6133606279497057,
          -0.39432365854880974,
          -0.5847098202993736,
          -0.6695813469871834,
          -0.5178033464583683,
          -0.3738761176427758,
          -0.6081650201865196,
          -0.5274870065767845,
          -0.7224113157968352,
          -0.6914496796553301,
          -0.5594170040257287,
          -0.9510567081731744,
          -0.9179692484359278,
          -0.8889030925738239,
          -0.9243334738521595,
          -0.9137876703825242,
          -0.546962240986264,
          -0.7424909315849468,
          -0.7782564950338107,
          -0.8067116922805407,
          -0.8590593381608072,
          -0.5810300863247876,
          -0.7024901822062849,
          -0.3120743267158107,
          -0.8238488195577018,
          -0.9086045953269943,
          -0.4720718047338088,
          -0.9576100924726952,
          -0.902051178461124,
          -0.44430313647220215,
          -0.662583155594575,
          -0.4604005132552699,
          -0.6467531611767326,
          -0.3001645348684116,
          -0.42276264477045583,
          -0.6757619946468761,
          -0.7507039288950773,
          -0.6027116022561771,
          -0.3300994952038512,
          -0.395291371997602,
          -0.4255065112535986,
          -0.5805489826935446,
          -0.8657939955429934,
          -0.8712596365495049,
          -0.9497214605549891,
          -0.6170107071235785,
          -0.6162976447051016,
          -0.9253591139481268,
          -0.4300656482233424,
          -0.9329718657936024,
          -0.4155765063289062,
          -0.6889737498359938,
          -0.6789038049935789,
          -0.8339780254079348,
          -0.44674119512090854,
          -0.7023412526135067,
          -0.7740951333863647,
          -0.7316255411320286,
          -0.8503363443416805,
          -0.6732723516252506,
          -0.3237690734939289,
          -0.6748913475839134,
          -0.3291637133251047,
          -0.7754498592539443,
          -0.5265076509769332,
          -0.8221109860009924,
          -0.2800769494674591,
          -0.5821563584317166,
          -0.40229516689740397,
          -0.40866889543361823,
          -0.42025174198287757,
          -0.46853198844065747,
          -0.25080635891995146,
          -0.37832798366695247,
          -0.6388226678605176,
          -0.552088272785222,
          -0.687873947395179,
          -0.6999107931891162,
          -0.6882544191152447,
          -0.712718962252306,
          -0.5032547923567956,
          -0.791302269418991,
          -0.6057537690303838,
          -0.566416994709977,
          -0.5979078544694254,
          -0.9561916762931606,
          -0.3750629880502922,
          -0.4975411565629617,
          -0.42778763669055125,
          -0.4000355240391731,
          -0.5181626268500021,
          -0.6127143538707351,
          -0.7714525452156209,
          -0.6710736804434291,
          -0.6108683903179527,
          -0.8289045875456997,
          -0.3777393318897749,
          -0.834527918669477,
          -0.9310683500246417,
          -0.7059793763161417,
          -0.3070087252367703,
          -0.8051164948633652,
          -0.5909340910462006,
          -0.6170705421364922,
          -0.4845090002037953,
          -0.49863815574797277,
          -0.6202163094171267,
          -0.5593156356344131,
          -0.16934062148365378,
          -0.4615040345504901,
          -0.5616614710152756,
          -0.390023740069125,
          -0.6018005954027401,
          -0.5941234866586916,
          -0.6468046928037585,
          -0.4691765447636551,
          -0.5928874100460293,
          -0.33888877069538953,
          -0.4160918479398201,
          -0.5361607931868537,
          -0.2998001385713463,
          -0.57894146475808,
          -0.3831018743098293,
          -0.7961767899242626,
          -0.5132858778217101,
          -0.764772934475304,
          -0.3159097924316444,
          -0.7165683956007588,
          -0.6048643143563888,
          -0.5463710851753025,
          -0.5605777878769067,
          -0.6072856320516676,
          -0.8091096732692179,
          -0.35427285787343454,
          -0.5352336041911034,
          -0.6428178500440535,
          -0.5447905416230916,
          -0.3418313881590132,
          -0.3735222659874626,
          -0.5853067139358945,
          -0.711556348008199,
          -0.8132335374097476,
          -0.40564869473065074,
          -0.8247577358122028,
          -0.36737286376928846,
          -0.7097175629934264,
          -0.5744663822166505,
          -0.5055297775161119,
          -0.34475703677866604,
          -0.4736300279010498,
          -0.4602588296859232,
          -0.43317302289921733,
          -0.35943433222373955,
          -0.5239505697975536,
          -0.7179061842644657,
          -0.548027631977341,
          -0.5564176748068621,
          -0.5981609797189827,
          -0.6763003810058561,
          -0.565979527495046,
          -0.3596816238139931,
          -0.6070480269155125,
          -0.6000590267240384,
          -0.3587085447412502,
          -0.5538077787405414,
          -0.6272121273690858,
          -0.2804503051293022,
          -0.5035025690713464,
          -0.6161632824197074,
          -0.4414245821456687,
          -0.3975776817534857,
          -0.6480488710702856,
          -0.4409567282364595,
          -0.3054977910857635,
          -0.5617895348168128,
          -0.3718868237315086,
          -0.8113577728878011,
          -0.7399684247262057,
          -0.9042419200040874,
          -0.5738324744012433,
          -0.43978994299797236,
          -0.5718009732684887,
          -0.5001694873386168,
          -0.5373286123538137,
          -0.4387817190291931,
          -0.2747830773303663,
          -0.5306062750086123,
          -0.5260396727390768,
          -0.5522808931624006,
          -0.2800365746265463,
          -0.5863324093491397,
          -0.5150899817288923,
          -0.5419687412663391,
          -0.33370175130203544,
          -0.2536642013042646,
          -0.22533521532574538,
          -0.5411030932218138,
          -0.6180667834930034,
          -0.7551818176053156,
          -0.31940548977632927,
          -0.7537742190138594,
          -0.6604565244927797,
          -0.5469881248873958,
          -0.5933022877860702,
          -0.45492201883122335,
          -0.5226131505356467,
          -0.3495067254442841,
          -0.6257391344912604,
          -0.6136141248208163,
          -0.6469883487422498,
          -0.32346874670537085,
          -0.3870980528637506,
          -0.752919028275444,
          -0.3700740759349011,
          -0.4046127154733193,
          -0.19144990052304706,
          -0.19649954277822598
         ]
        },
        {
         "marker": {
          "color": "rgba(50, 171, 96, 1.0)",
          "line": {
           "width": 1.3
          },
          "opacity": 0.8,
          "size": 3,
          "symbol": "circle"
         },
         "mode": "markers",
         "name": "1",
         "textfont": {
          "color": "#4D5663"
         },
         "type": "scatter",
         "x": [
          1.7851009585760982,
          1.794341458079824,
          1.7827925870437507,
          1.9098656663080653,
          1.8592493044123528,
          1.8004516364414598,
          1.789285004849117,
          1.7854384592157153,
          1.9151822890301462,
          1.8897433385610056,
          1.8893188254075228,
          1.7683641397236114,
          1.8035474398087041,
          1.8002160111416088,
          1.8917254882091596,
          1.699171813649474,
          1.917252410132389,
          1.9277750806090583,
          1.9474042025836005,
          1.874220385604885,
          1.930948692478626,
          1.7904171027425557,
          1.7910220413782818,
          1.7948134032618859,
          1.9286192651948053,
          1.9176484525016424,
          1.5560816008118017,
          1.9142992390421758,
          1.9283419430340314,
          1.8874301918832894,
          1.6669609304138961,
          1.9159655838364367,
          1.8806282571349238,
          1.9199213981054826,
          1.8883731365800234,
          1.834578752997709,
          1.8043085322015862,
          1.8522287150448131,
          1.6746432962845452,
          1.6789950482238936,
          1.9388571663630976,
          1.9382105371351925,
          1.6671320842493889,
          1.9157139505556244,
          1.8241428159666382,
          1.8802218947438083,
          1.9446468059496842,
          1.9679856209143831,
          1.9652417489356384,
          1.9333714110751414,
          1.7109501988230944,
          1.929568782959502,
          1.8846025341620551,
          1.6255632942052614,
          1.628680911472065,
          1.7115486078782225,
          1.728145402525626,
          1.724204036721577,
          1.700039411425958,
          1.962347366940047,
          1.9971768970802082,
          1.9883009301769865,
          2.005931615632432,
          1.9490181924526027,
          1.959860573974899,
          2.050838515452516,
          1.966916701832323,
          1.9953665070848237,
          2.0415804047158344,
          1.9720290512956846,
          1.9733744549284755,
          1.951999620089295
         ],
         "y": [
          0.573556179368661,
          0.6227275382652209,
          0.6132876126723981,
          1.149002930587042,
          0.6243348122164891,
          0.6875303323257925,
          0.6740390085602049,
          0.6372821944703504,
          0.933468913289817,
          0.926901846854098,
          0.5993279023434729,
          0.7591229657530344,
          0.6452101307683364,
          0.7367488798455656,
          1.0015077222041826,
          0.9093387674695831,
          1.2018654304856817,
          1.2775361895417867,
          1.1537967571170047,
          0.8520347796388349,
          0.8821498828583615,
          0.6220164923315397,
          0.6531740831835743,
          0.6826657362611305,
          1.181247901857186,
          1.069924347307133,
          0.6121672078201826,
          1.0211298689620179,
          1.20559892422163,
          0.7707010825478634,
          0.5361824181639362,
          0.8967715855565174,
          0.6072427047450506,
          1.077240997692691,
          0.8292149786189994,
          0.81673195176126,
          0.8589640440820266,
          0.6671868055059682,
          0.5995329913991754,
          0.6304327030858974,
          1.108059498604888,
          1.1251662448539006,
          0.6714561559333241,
          1.0827050029787655,
          0.7144019517202648,
          0.7992723253269048,
          0.9462379077852366,
          0.930826887376453,
          0.9735326640401253,
          1.0782262625229446,
          0.9156120892212393,
          1.2186137740468064,
          0.8693650219051244,
          0.5040299977358629,
          0.5600778795451823,
          0.5529412616257707,
          0.5494219655606014,
          0.4726538623224865,
          0.4985552781734659,
          0.1946381601697948,
          0.5870996854500861,
          1.0865460659652555,
          1.1773154244447914,
          0.8849584630733581,
          0.7798854372895004,
          0.30692022685922593,
          0.89277278529626,
          1.0181446692106195,
          0.38125012605013675,
          0.9748911937438701,
          0.9826384921295003,
          0.9953741539085387
         ]
        }
       ],
       "layout": {
        "legend": {
         "bgcolor": "#F5F6F9",
         "font": {
          "color": "#4D5663"
         }
        },
        "paper_bgcolor": "#F5F6F9",
        "plot_bgcolor": "#F5F6F9",
        "template": {
         "data": {
          "bar": [
           {
            "error_x": {
             "color": "#2a3f5f"
            },
            "error_y": {
             "color": "#2a3f5f"
            },
            "marker": {
             "line": {
              "color": "#E5ECF6",
              "width": 0.5
             },
             "pattern": {
              "fillmode": "overlay",
              "size": 10,
              "solidity": 0.2
             }
            },
            "type": "bar"
           }
          ],
          "barpolar": [
           {
            "marker": {
             "line": {
              "color": "#E5ECF6",
              "width": 0.5
             },
             "pattern": {
              "fillmode": "overlay",
              "size": 10,
              "solidity": 0.2
             }
            },
            "type": "barpolar"
           }
          ],
          "carpet": [
           {
            "aaxis": {
             "endlinecolor": "#2a3f5f",
             "gridcolor": "white",
             "linecolor": "white",
             "minorgridcolor": "white",
             "startlinecolor": "#2a3f5f"
            },
            "baxis": {
             "endlinecolor": "#2a3f5f",
             "gridcolor": "white",
             "linecolor": "white",
             "minorgridcolor": "white",
             "startlinecolor": "#2a3f5f"
            },
            "type": "carpet"
           }
          ],
          "choropleth": [
           {
            "colorbar": {
             "outlinewidth": 0,
             "ticks": ""
            },
            "type": "choropleth"
           }
          ],
          "contour": [
           {
            "colorbar": {
             "outlinewidth": 0,
             "ticks": ""
            },
            "colorscale": [
             [
              0,
              "#0d0887"
             ],
             [
              0.1111111111111111,
              "#46039f"
             ],
             [
              0.2222222222222222,
              "#7201a8"
             ],
             [
              0.3333333333333333,
              "#9c179e"
             ],
             [
              0.4444444444444444,
              "#bd3786"
             ],
             [
              0.5555555555555556,
              "#d8576b"
             ],
             [
              0.6666666666666666,
              "#ed7953"
             ],
             [
              0.7777777777777778,
              "#fb9f3a"
             ],
             [
              0.8888888888888888,
              "#fdca26"
             ],
             [
              1,
              "#f0f921"
             ]
            ],
            "type": "contour"
           }
          ],
          "contourcarpet": [
           {
            "colorbar": {
             "outlinewidth": 0,
             "ticks": ""
            },
            "type": "contourcarpet"
           }
          ],
          "heatmap": [
           {
            "colorbar": {
             "outlinewidth": 0,
             "ticks": ""
            },
            "colorscale": [
             [
              0,
              "#0d0887"
             ],
             [
              0.1111111111111111,
              "#46039f"
             ],
             [
              0.2222222222222222,
              "#7201a8"
             ],
             [
              0.3333333333333333,
              "#9c179e"
             ],
             [
              0.4444444444444444,
              "#bd3786"
             ],
             [
              0.5555555555555556,
              "#d8576b"
             ],
             [
              0.6666666666666666,
              "#ed7953"
             ],
             [
              0.7777777777777778,
              "#fb9f3a"
             ],
             [
              0.8888888888888888,
              "#fdca26"
             ],
             [
              1,
              "#f0f921"
             ]
            ],
            "type": "heatmap"
           }
          ],
          "heatmapgl": [
           {
            "colorbar": {
             "outlinewidth": 0,
             "ticks": ""
            },
            "colorscale": [
             [
              0,
              "#0d0887"
             ],
             [
              0.1111111111111111,
              "#46039f"
             ],
             [
              0.2222222222222222,
              "#7201a8"
             ],
             [
              0.3333333333333333,
              "#9c179e"
             ],
             [
              0.4444444444444444,
              "#bd3786"
             ],
             [
              0.5555555555555556,
              "#d8576b"
             ],
             [
              0.6666666666666666,
              "#ed7953"
             ],
             [
              0.7777777777777778,
              "#fb9f3a"
             ],
             [
              0.8888888888888888,
              "#fdca26"
             ],
             [
              1,
              "#f0f921"
             ]
            ],
            "type": "heatmapgl"
           }
          ],
          "histogram": [
           {
            "marker": {
             "pattern": {
              "fillmode": "overlay",
              "size": 10,
              "solidity": 0.2
             }
            },
            "type": "histogram"
           }
          ],
          "histogram2d": [
           {
            "colorbar": {
             "outlinewidth": 0,
             "ticks": ""
            },
            "colorscale": [
             [
              0,
              "#0d0887"
             ],
             [
              0.1111111111111111,
              "#46039f"
             ],
             [
              0.2222222222222222,
              "#7201a8"
             ],
             [
              0.3333333333333333,
              "#9c179e"
             ],
             [
              0.4444444444444444,
              "#bd3786"
             ],
             [
              0.5555555555555556,
              "#d8576b"
             ],
             [
              0.6666666666666666,
              "#ed7953"
             ],
             [
              0.7777777777777778,
              "#fb9f3a"
             ],
             [
              0.8888888888888888,
              "#fdca26"
             ],
             [
              1,
              "#f0f921"
             ]
            ],
            "type": "histogram2d"
           }
          ],
          "histogram2dcontour": [
           {
            "colorbar": {
             "outlinewidth": 0,
             "ticks": ""
            },
            "colorscale": [
             [
              0,
              "#0d0887"
             ],
             [
              0.1111111111111111,
              "#46039f"
             ],
             [
              0.2222222222222222,
              "#7201a8"
             ],
             [
              0.3333333333333333,
              "#9c179e"
             ],
             [
              0.4444444444444444,
              "#bd3786"
             ],
             [
              0.5555555555555556,
              "#d8576b"
             ],
             [
              0.6666666666666666,
              "#ed7953"
             ],
             [
              0.7777777777777778,
              "#fb9f3a"
             ],
             [
              0.8888888888888888,
              "#fdca26"
             ],
             [
              1,
              "#f0f921"
             ]
            ],
            "type": "histogram2dcontour"
           }
          ],
          "mesh3d": [
           {
            "colorbar": {
             "outlinewidth": 0,
             "ticks": ""
            },
            "type": "mesh3d"
           }
          ],
          "parcoords": [
           {
            "line": {
             "colorbar": {
              "outlinewidth": 0,
              "ticks": ""
             }
            },
            "type": "parcoords"
           }
          ],
          "pie": [
           {
            "automargin": true,
            "type": "pie"
           }
          ],
          "scatter": [
           {
            "marker": {
             "colorbar": {
              "outlinewidth": 0,
              "ticks": ""
             }
            },
            "type": "scatter"
           }
          ],
          "scatter3d": [
           {
            "line": {
             "colorbar": {
              "outlinewidth": 0,
              "ticks": ""
             }
            },
            "marker": {
             "colorbar": {
              "outlinewidth": 0,
              "ticks": ""
             }
            },
            "type": "scatter3d"
           }
          ],
          "scattercarpet": [
           {
            "marker": {
             "colorbar": {
              "outlinewidth": 0,
              "ticks": ""
             }
            },
            "type": "scattercarpet"
           }
          ],
          "scattergeo": [
           {
            "marker": {
             "colorbar": {
              "outlinewidth": 0,
              "ticks": ""
             }
            },
            "type": "scattergeo"
           }
          ],
          "scattergl": [
           {
            "marker": {
             "colorbar": {
              "outlinewidth": 0,
              "ticks": ""
             }
            },
            "type": "scattergl"
           }
          ],
          "scattermapbox": [
           {
            "marker": {
             "colorbar": {
              "outlinewidth": 0,
              "ticks": ""
             }
            },
            "type": "scattermapbox"
           }
          ],
          "scatterpolar": [
           {
            "marker": {
             "colorbar": {
              "outlinewidth": 0,
              "ticks": ""
             }
            },
            "type": "scatterpolar"
           }
          ],
          "scatterpolargl": [
           {
            "marker": {
             "colorbar": {
              "outlinewidth": 0,
              "ticks": ""
             }
            },
            "type": "scatterpolargl"
           }
          ],
          "scatterternary": [
           {
            "marker": {
             "colorbar": {
              "outlinewidth": 0,
              "ticks": ""
             }
            },
            "type": "scatterternary"
           }
          ],
          "surface": [
           {
            "colorbar": {
             "outlinewidth": 0,
             "ticks": ""
            },
            "colorscale": [
             [
              0,
              "#0d0887"
             ],
             [
              0.1111111111111111,
              "#46039f"
             ],
             [
              0.2222222222222222,
              "#7201a8"
             ],
             [
              0.3333333333333333,
              "#9c179e"
             ],
             [
              0.4444444444444444,
              "#bd3786"
             ],
             [
              0.5555555555555556,
              "#d8576b"
             ],
             [
              0.6666666666666666,
              "#ed7953"
             ],
             [
              0.7777777777777778,
              "#fb9f3a"
             ],
             [
              0.8888888888888888,
              "#fdca26"
             ],
             [
              1,
              "#f0f921"
             ]
            ],
            "type": "surface"
           }
          ],
          "table": [
           {
            "cells": {
             "fill": {
              "color": "#EBF0F8"
             },
             "line": {
              "color": "white"
             }
            },
            "header": {
             "fill": {
              "color": "#C8D4E3"
             },
             "line": {
              "color": "white"
             }
            },
            "type": "table"
           }
          ]
         },
         "layout": {
          "annotationdefaults": {
           "arrowcolor": "#2a3f5f",
           "arrowhead": 0,
           "arrowwidth": 1
          },
          "autotypenumbers": "strict",
          "coloraxis": {
           "colorbar": {
            "outlinewidth": 0,
            "ticks": ""
           }
          },
          "colorscale": {
           "diverging": [
            [
             0,
             "#8e0152"
            ],
            [
             0.1,
             "#c51b7d"
            ],
            [
             0.2,
             "#de77ae"
            ],
            [
             0.3,
             "#f1b6da"
            ],
            [
             0.4,
             "#fde0ef"
            ],
            [
             0.5,
             "#f7f7f7"
            ],
            [
             0.6,
             "#e6f5d0"
            ],
            [
             0.7,
             "#b8e186"
            ],
            [
             0.8,
             "#7fbc41"
            ],
            [
             0.9,
             "#4d9221"
            ],
            [
             1,
             "#276419"
            ]
           ],
           "sequential": [
            [
             0,
             "#0d0887"
            ],
            [
             0.1111111111111111,
             "#46039f"
            ],
            [
             0.2222222222222222,
             "#7201a8"
            ],
            [
             0.3333333333333333,
             "#9c179e"
            ],
            [
             0.4444444444444444,
             "#bd3786"
            ],
            [
             0.5555555555555556,
             "#d8576b"
            ],
            [
             0.6666666666666666,
             "#ed7953"
            ],
            [
             0.7777777777777778,
             "#fb9f3a"
            ],
            [
             0.8888888888888888,
             "#fdca26"
            ],
            [
             1,
             "#f0f921"
            ]
           ],
           "sequentialminus": [
            [
             0,
             "#0d0887"
            ],
            [
             0.1111111111111111,
             "#46039f"
            ],
            [
             0.2222222222222222,
             "#7201a8"
            ],
            [
             0.3333333333333333,
             "#9c179e"
            ],
            [
             0.4444444444444444,
             "#bd3786"
            ],
            [
             0.5555555555555556,
             "#d8576b"
            ],
            [
             0.6666666666666666,
             "#ed7953"
            ],
            [
             0.7777777777777778,
             "#fb9f3a"
            ],
            [
             0.8888888888888888,
             "#fdca26"
            ],
            [
             1,
             "#f0f921"
            ]
           ]
          },
          "colorway": [
           "#636efa",
           "#EF553B",
           "#00cc96",
           "#ab63fa",
           "#FFA15A",
           "#19d3f3",
           "#FF6692",
           "#B6E880",
           "#FF97FF",
           "#FECB52"
          ],
          "font": {
           "color": "#2a3f5f"
          },
          "geo": {
           "bgcolor": "white",
           "lakecolor": "white",
           "landcolor": "#E5ECF6",
           "showlakes": true,
           "showland": true,
           "subunitcolor": "white"
          },
          "hoverlabel": {
           "align": "left"
          },
          "hovermode": "closest",
          "mapbox": {
           "style": "light"
          },
          "paper_bgcolor": "white",
          "plot_bgcolor": "#E5ECF6",
          "polar": {
           "angularaxis": {
            "gridcolor": "white",
            "linecolor": "white",
            "ticks": ""
           },
           "bgcolor": "#E5ECF6",
           "radialaxis": {
            "gridcolor": "white",
            "linecolor": "white",
            "ticks": ""
           }
          },
          "scene": {
           "xaxis": {
            "backgroundcolor": "#E5ECF6",
            "gridcolor": "white",
            "gridwidth": 2,
            "linecolor": "white",
            "showbackground": true,
            "ticks": "",
            "zerolinecolor": "white"
           },
           "yaxis": {
            "backgroundcolor": "#E5ECF6",
            "gridcolor": "white",
            "gridwidth": 2,
            "linecolor": "white",
            "showbackground": true,
            "ticks": "",
            "zerolinecolor": "white"
           },
           "zaxis": {
            "backgroundcolor": "#E5ECF6",
            "gridcolor": "white",
            "gridwidth": 2,
            "linecolor": "white",
            "showbackground": true,
            "ticks": "",
            "zerolinecolor": "white"
           }
          },
          "shapedefaults": {
           "line": {
            "color": "#2a3f5f"
           }
          },
          "ternary": {
           "aaxis": {
            "gridcolor": "white",
            "linecolor": "white",
            "ticks": ""
           },
           "baxis": {
            "gridcolor": "white",
            "linecolor": "white",
            "ticks": ""
           },
           "bgcolor": "#E5ECF6",
           "caxis": {
            "gridcolor": "white",
            "linecolor": "white",
            "ticks": ""
           }
          },
          "title": {
           "x": 0.05
          },
          "xaxis": {
           "automargin": true,
           "gridcolor": "white",
           "linecolor": "white",
           "ticks": "",
           "title": {
            "standoff": 15
           },
           "zerolinecolor": "white",
           "zerolinewidth": 2
          },
          "yaxis": {
           "automargin": true,
           "gridcolor": "white",
           "linecolor": "white",
           "ticks": "",
           "title": {
            "standoff": 15
           },
           "zerolinecolor": "white",
           "zerolinewidth": 2
          }
         }
        },
        "title": {
         "font": {
          "color": "#4D5663"
         }
        },
        "xaxis": {
         "gridcolor": "#E1E5ED",
         "showgrid": true,
         "tickfont": {
          "color": "#4D5663"
         },
         "title": {
          "font": {
           "color": "#4D5663"
          },
          "text": ""
         },
         "zerolinecolor": "#E1E5ED"
        },
        "yaxis": {
         "gridcolor": "#E1E5ED",
         "showgrid": true,
         "tickfont": {
          "color": "#4D5663"
         },
         "title": {
          "font": {
           "color": "#4D5663"
          },
          "text": ""
         },
         "zerolinecolor": "#E1E5ED"
        }
       }
      },
      "text/html": [
       "<div>                            <div id=\"317504c5-7c8c-4d68-94b4-88cda7a78f92\" class=\"plotly-graph-div\" style=\"height:525px; width:100%;\"></div>            <script type=\"text/javascript\">                require([\"plotly\"], function(Plotly) {                    window.PLOTLYENV=window.PLOTLYENV || {};\n",
       "                    window.PLOTLYENV.BASE_URL='https://plot.ly';                                    if (document.getElementById(\"317504c5-7c8c-4d68-94b4-88cda7a78f92\")) {                    Plotly.newPlot(                        \"317504c5-7c8c-4d68-94b4-88cda7a78f92\",                        [{\"marker\":{\"color\":\"rgba(255, 153, 51, 1.0)\",\"line\":{\"width\":1.3},\"opacity\":0.8,\"size\":3,\"symbol\":\"circle\"},\"mode\":\"markers\",\"name\":\"0\",\"textfont\":{\"color\":\"#4D5663\"},\"x\":[-0.5969528541478533,-0.5925868377560006,-0.5810864148516187,-0.6185067997070297,-0.6130817227245987,-0.5925292098402736,-0.6255934491569825,-0.6208933134792554,-0.6070148731291279,-0.5326697616271944,-0.5394545627254608,-0.5444021776183151,-0.5322238135618204,-0.5300600264574898,-0.5503469009233642,-0.5630335450267583,-0.4513009532240651,-0.6185241611444989,-0.6439668156580883,-0.5623213709308978,-0.5014118839174599,-0.5328413253864944,-0.5218664248172851,-0.515296901426956,-0.51589628023868,-0.5249376052577333,-0.5960295139932857,-0.5771007764496559,-0.5434005940823861,-0.5453658884029999,-0.5699925870127205,-0.5319513571983521,-0.562568443560634,-0.54618220883825,-0.5519935048608227,-0.5900223146183132,-0.6014295894677286,-0.5158524609974781,-0.5276262733052791,-0.6263684644682819,-0.6509713081689131,-0.5449281423826412,-0.5257150179108827,-0.4465313943988394,-0.5575774521685021,-0.5502078401808734,-0.5517849916286321,-0.5758099712001691,-0.5449111056184359,-0.49114539880447566,-0.4945520108239911,-0.5894026023691409,-0.5166678788133405,-0.5601517893057825,-0.43737576960196434,-0.5046402102030282,-0.5914632835806125,-0.6464505116447402,-0.6471685198846906,-0.5647519896845066,-0.5188814654626493,-0.5691491224913985,-0.5872683411511456,-0.4754224208055317,-0.5309745079276558,-0.4607833064120615,-0.5470641986047583,-0.5561140073007601,-0.41597355335607145,-0.5146657901817149,-0.5287158385466368,-0.4165967858813788,-0.5716463336543541,-0.5779264087179715,-0.5134483624571795,-0.643237680664848,-0.5425257916767731,-0.5057731744947467,-0.46329972931720503,-0.6141963503465715,-0.5872070319414835,-0.572793844113233,-0.5883606157620056,-0.46566579862014307,-0.6541526036358594,-0.6468245587628852,-0.6583643847606773,-0.6524842581183995,-0.5862099785191458,-0.5789620500648287,-0.47346373879085274,-0.46639504137917825,-0.4510138388607535,-0.5865872337792528,-0.5822505474453077,-0.5740121658748438,-0.608237311455763,-0.6028592755825151,-0.5940872655128282,-0.6169725311038595,-0.6122559638406304,-0.604436345678856,-0.5455129099553806,-0.5298461615704559,-0.5313524878127247,-0.5394380743011098,-0.5061078706185045,-0.522335167318081,-0.6239336269492657,-0.5023077272398543,-0.5121677677411076,-0.5060404676862019,-0.5666456988602973,-0.5712483661134509,-0.5429823022354697,-0.5133834710133685,-0.5676708106231491,-0.49097896621123427,-0.5157716719937415,-0.5524764330090187,-0.5426115717706429,-0.562573203125392,-0.5236074341959934,-0.519128719090241,-0.48968204414791083,-0.5127565911911409,-0.5261017605919891,-0.5031326734881082,-0.5298589248231371,-0.5366443813695784,-0.4906266168717487,-0.5485303628698999,-0.5210470466236264,-0.5149164958680217,-0.5339602479101748,-0.5447358378042175,-0.5653628629934047,-0.5317648067693544,-0.5464319384817085,-0.5387500935934709,-0.5507695808828497,-0.5141301205692144,-0.5192359625427365,-0.5096945789422579,-0.5344925504782159,-0.534246718866934,-0.45035364883890977,-0.5330704493229743,-0.6371926605565502,-0.4158564644389606,-0.5677738487805052,-0.5746351213471399,-0.4391974097615655,-0.4575847475572687,-0.5176034223415177,-0.49794783642682233,-0.49272087538652776,-0.5724069681574657,-0.5666189065087294,-0.5527593274807125,-0.5988357842340839,-0.5999761143067648,-0.5892783859147903,-0.6063586019236028,-0.6181207762860556,-0.6091868017861349,-0.5178656129430844,-0.5341581602419807,-0.51342120488377,-0.5183516357064287,-0.5217282856734632,-0.5189167538256394,-0.5216578441345273,-0.5296327574131247,-0.46249241708285177,-0.49991188014886695,-0.478656947921409,-0.48325628502172013,-0.5018900148787141,-0.5078533479501988,-0.43773561325837007,-0.5203771950647594,-0.5079554237257575,-0.5028074225496931,-0.544261417708527,-0.49366245662297226,-0.5001162981385602,-0.48740268684061094,-0.5000346535253752,-0.4772892076137825,-0.49020401508969746,-0.4332375201834581,-0.43710053145244887,-0.4965263351281187,-0.5220295427961167,-0.5098150824692035,-0.47981436720185405,-0.49690562537596566,-0.47481727879517965,-0.5269766889140326,-0.5364722855332152,-0.4576007440502139,-0.4080241199135561,-0.41567923867728085,-0.5447596331772444,-0.48030067809582755,-0.37825780778223195,-0.6066650105981557,-0.6006410705040252,-0.6129212506728569,-0.6087107710180679,-0.5428043485668786,-0.5084726226551721,-0.5071619078215441,-0.48209206333201643,-0.48541824976836156,-0.5051844344196263,-0.5073232756811517,-0.514873802757006,-0.5350809760257127,-0.5458402773732106,-0.5426921991676017,-0.6098903415942757,-0.45475618121048433,-0.4490930241405888,-0.4284614235526003,-0.3575716616711551,-0.34863142344367626,-0.3259797519306776,-0.5686916392952676,-0.5635097899690281,-0.5560114547018378,-0.5885265241590119,-0.5878891350548641,-0.5804850239577392,-0.5937145991486695,-0.5887410056605658,-0.5805605433034263,-0.5164422150895374,-0.523801526836367,-0.5046816149521448,-0.5134860561308826,-0.4796961291269417,-0.6240756930447313,-0.6165578925155732,-0.6271220106487099,-0.6205806919982954,-0.39349536578132577,-0.6014281077035312,-0.40512539405614995,-0.5017094716613261,-0.4624565412923751,-0.5338393352911662,-0.5551063751234702,-0.4415002867420492,-0.5554984153433212,-0.4634009520570994,-0.5009378779596447,-0.47962261342112433,-0.513305553126616,-0.3848747790515689,-0.504474472849228,-0.4652900843310949,-0.46538595370347824,-0.45868370679505843,-0.44711301713186985,-0.557236383125133,-0.5833722336070926,-0.5760358112475155,-0.47208560616730805,-0.5040060253846409,-0.5118582678370381,-0.5402242890058734,-0.5047770619687917,-0.46218597046862614,-0.50365430728691,-0.42127913419766455,-0.5316770826739805,-0.5602111798488416,-0.5015791848594573,-0.544276881816941,-0.5485267431859858,-0.6081446943814077,-0.5048842980617573,-0.5198060006826996,-0.5327292076068577,-0.5180392935404324,-0.5085265179294007,-0.4289437602761751,-0.560108186937055,-0.537663781376784,-0.4835956822155946,-0.38375327764785455,-0.3842412434102335,-0.36059481108540964,-0.5546984525249341,-0.549736247795257,-0.5410836917912798,-0.5807598523840461,-0.5795553194328732,-0.5714082066220821,-0.583038614867915,-0.5777251048764817,-0.5708015015329299,-0.5276856944098425,-0.49482043268401876,-0.5362219860882517,-0.5603094056344617,-0.5647002521014107,-0.5050072818168972,-0.5174765204905084,-0.4919194872091571,-0.5234943399041256,-0.5428085481084123,-0.4924684887495803,-0.5136817398713072,-0.5520036151945651,-0.5644983442409561,-0.5060394074487959,-0.5280164410409216,-0.6173408225833878,-0.6161162468229757,-0.48393755789234383,-0.48870549123825274,-0.4709569895492999,-0.3762813080900151,-0.5004451619242477,-0.5108176378204189,-0.5199414639461135,-0.48050075123148417,-0.5070083011379948,-0.5155862567849053,-0.48000125929504134,-0.44708963547380454,-0.6193612969965109,-0.6118630531856644,-0.555261369997126,-0.5447808416224397,-0.49985179020306963,-0.5427786277092573,-0.5512913789082138,-0.4853283832123078,-0.4176580228740053,-0.4302424023739946,-0.4639686197480985,-0.48021023595945717,-0.5077359544577473,-0.47064327240441617,-0.49140567398621887,-0.48957423025622593,-0.49840835612076917,-0.4715051105472762,-0.4987021142641899,-0.486101572364902,-0.4802589227017594,-0.46869159358173407,-0.40700058931408056,-0.4139637214504932,-0.4672451605485805,-0.4710488760013479,-0.4685758955131483,-0.48557507799778576,-0.4917091208956889,-0.4368441203714186,-0.4392830911493271,-0.4365645480356578,-0.5024115242586051,-0.3753424635210643,-0.48499043560813365,-0.5107162674088875,-0.4974535923208146,-0.4883984664774732,-0.3818174057458456,-0.4918171640313537,-0.5128342950498221,-0.5232014588365882,-0.5890112890529055,-0.37247309455973443,-0.4943580777503333,-0.4789740136844252,-0.4286339778333159,-0.4220104876860723,-0.4060585077692233,-0.4497692297052969,-0.4413841234547815,-0.5471256340042575,-0.5434143322028955,-0.5452325297253201,-0.566376597894452,-0.5605077130313314,-0.5349926522241772,-0.570879706369987,-0.5647336192276681,-0.5722485114998664,-0.5003013393496868,-0.4683010261753353,-0.48804122733667954,-0.49288184136567403,-0.4202707682275808,-0.3458566492208029,-0.3746545994954804,-0.4618944038068665,-0.49080555357418054,-0.43980294035644946,-0.47627936763735035,-0.4499447480538345,-0.44939366342470194,-0.44512437660499005,-0.44456922697064943,-0.474862908312268,-0.5448514034176501,-0.48876932984810945,-0.4689700559768108,-0.49038702162394515,-0.5680275604087605,-0.5539210525442638,-0.5858863234664845,-0.5715592245204068,-0.5195944458274001,-0.4731723164204838,-0.38367386631548983,-0.4338814454285518,-0.42616560961300026,-0.4145130639524322,-0.483732584411019,-0.4704274994423585,-0.47251354284138003,-0.49351908936877426,-0.47950507279879023,-0.5418755776938143,-0.5372164981140942,-0.5272135368747485,-0.566075756978049,-0.5604065386416018,-0.5677483373137127,-0.571391817372196,-0.5659706767417089,-0.5520265231249603,-0.5016565056974795,-0.4852922102414108,-0.4399112763798855,-0.4525279714275402,-0.4925491918119907,-0.4109978786604534,-0.45540344411469563,-0.5476769226209396,-0.4864824302015688,-0.4863425902982337,-0.47006942878750607,-0.4626805682488653,-0.4491762719852453,-0.45474715090476076,-0.378562879198373,-0.5060017250725709,-0.37330959007223113,-0.43550101198337154,-0.4633903730073672,-0.4687831981733845,-0.4626168550526408,-0.473574632443722,-0.5127218434183622,-0.36482992557240235,-0.46135264962403333,-0.45235321770466685,-0.45750539247251587,-0.4768477999604978,-0.47623360964925376,-0.3354966286134293,-0.44137779578021763,-0.44172258497911127,-0.4332683578284023],\"y\":[-0.16627597423269005,-0.026771720796731926,0.34239797338786115,-0.11884990649419531,0.03597918390100982,0.39645861123077974,-0.13972156405964026,0.008547714102873794,0.39785010077907185,-0.026404539136984036,0.16049168845315312,0.2899451606016721,-0.02010119835107307,0.030645809277572298,0.11779118247832114,-0.013593500395208926,0.27741173846869654,-0.2526698100621008,0.16755717728415498,0.09658088462670876,0.14481746269129653,-0.013062857901369792,-0.005232700240931055,0.1647708302575555,-0.13250586047023577,0.0003480288155935969,0.025930894078914832,-0.08772205217653602,0.13062870554054704,0.04295413129338739,0.24060411118190472,-0.16784448160370571,0.18293707847046792,-0.06882878128870866,0.3673202387370181,-0.10203013560073539,0.1716127169261178,0.1774440626295515,0.19324901903733024,-0.09817332863315155,0.2308506935072203,0.19009212135350603,0.28026340387485554,0.2937618353720702,-0.033388622220109,0.1282463938603078,0.06988585932638297,0.039152543393399325,0.22452043897588503,0.1648415873441377,0.5854242098249873,0.1808923942213019,0.11157725046367638,0.12993808244617486,0.22009007476624792,0.2311165016085863,-0.05968287952085694,0.06291946334008901,0.05074209170688529,-0.02293878774681146,0.18819489658013294,-0.07791331678184919,0.28773672136820444,0.053663745888482974,0.03645608660323688,0.384535665656859,0.03210509420025886,0.07365140488016776,0.30721122385508043,0.12567616727134145,0.1446766069300431,0.21671935553401855,0.21094663838597502,0.22026076990479887,0.36250342854563583,0.11837174337821509,0.447434032944313,0.308929556420395,-0.0580380887022754,-0.12638424395866088,0.2166748124708292,0.2672150784487693,0.28077390443520317,0.07547557875670556,0.03191286465480682,0.254424542179864,0.040887339295138644,0.2682249758243925,0.46405870481782946,0.32581630940375217,0.03332228974318448,0.23695503905701568,0.5212521450517421,-0.15559684056292353,-0.016351446577652595,0.18629074482149724,-0.0990116626865249,0.055333461893763446,0.27432578233609195,-0.11465014566368119,0.03373604719853723,0.2474434551129463,-0.05799176005014515,-0.029328665863889238,-0.17349788465502833,-0.12250752190602139,0.14295594231929068,0.09106469727339281,-0.17999658922138687,0.10586867173090134,0.4624352547462926,0.1671511443398182,-0.10485449375681992,0.11505596968126156,0.20376137173578737,0.0620278917848781,-0.04809599867653192,-0.10876868667289495,-0.08749429529208334,0.010886036669609637,0.2992174796978932,0.25985906011589427,0.12397280547096003,0.16162949292514248,0.32022931637760993,0.019790397805823663,0.11517997276248043,0.14059165322615944,0.05492751149930183,0.5925608760641383,0.043291448865424804,0.10526782671064723,0.4786460720502267,0.34961563593617406,0.10508924073900171,0.1937303850913143,0.15766605261076996,0.09109212444134347,0.12498800927951133,0.1282670588224775,-0.11687151739837094,0.2297899573810014,0.25685098400591283,0.4610221697421511,0.3282353826498094,0.22416607395105645,0.28449891206453676,0.18579478018472362,0.06342399875271117,-0.012348872818249392,0.018819976421577792,0.025773731848706603,0.2426922479262051,0.23150763026360296,0.14488371447036244,0.35608456587897214,0.8043848117045949,-0.13614901967342705,0.026235792634663916,0.414219666744912,-0.07230536189682192,0.06744200000689833,0.4657326997609808,-0.09442234439568141,0.07603752803412021,0.4645814745836753,-0.07569060649096353,-0.03430300120473823,0.0317903393028178,-0.0029708648423076816,0.15111146627291794,0.17198752267398595,0.14888002748014156,0.09882301561123655,0.4822704197710049,0.039592058491830145,0.05648148555446231,0.011355173450844597,0.5651846525152542,-0.08939922220452311,0.014539166211874305,0.24091857246773304,0.0215732778521051,0.3827601210834838,0.23565665225876758,0.27094399286202697,0.7174536279939173,0.19030476372390037,0.4130902100785889,0.15572140904059256,0.4265445201568578,-0.010198078011836014,0.3840545912174981,0.19648121333295762,0.09075760531025755,0.14149570039893813,-0.0823170687139969,0.38066251990343913,0.22140652144676495,0.38726710754569393,0.05789553101263123,0.17790965486184196,0.4038234832769595,0.4022423816628446,0.11188442585180212,0.01994277198234729,0.2833932336351109,0.012254329656056735,0.24929466096855435,0.04180279507083626,0.27142724232471815,0.2467764005487991,0.14267723663891074,0.5282677621240752,0.24163694150237616,0.2083501963993868,0.47557194454595886,0.3347311455248453,-0.08958515132018031,0.2746415440773073,0.18093368912183974,0.1805666912093383,0.33765719308662034,0.06967253701779857,0.26623934381036757,0.7083802110401171,0.28161948322069547,0.48672719044863527,0.9950985447335124,-0.1135346963949372,0.03533552850599847,0.27676524472016184,-0.058328173544426466,0.08238362565341678,0.30088513893121466,-0.07428461424144982,0.07749604975849446,0.37881371104938766,0.21055632784459405,-0.10131221240388712,0.04113068429327611,0.3342848096432471,0.18313545574523174,0.09821465262736745,0.34991421702325015,0.12754212138558238,0.34738808096702245,0.08355423245468685,0.03701446812661992,0.22307332490595305,0.21162424801615137,0.09823688658023916,0.15263516490916895,0.17417519770791412,0.3974605658740345,0.2938253782993618,0.4628994453385525,0.33170967840512733,0.11309168776144705,0.19140611309109165,0.3270120191656619,0.1381990759762323,0.3180872013430268,0.07200328766021587,0.2552562456521842,0.7494938381369971,0.047374289040935776,-0.20358528495986875,0.5419679937473282,0.3651755696154922,0.28299682872006876,0.14947087798665748,0.07325409180697683,0.03540246554997235,0.3911191446668591,0.3362625004761011,0.5389866005122295,0.29261809547116574,0.515331931321553,0.3086997747448115,0.4107531839809729,0.3925973466418977,0.19263006350788364,0.257355000343479,0.2765619407482987,0.3206845537394063,0.29342659817195704,0.3585318207823905,0.409880477846077,0.4819141039397147,0.43490918532717093,0.494154529542525,0.37670393278426406,0.5610553395422996,0.4183080056563983,-0.11206886728449512,0.05445007733212531,0.2534357510832231,-0.05198256460166068,0.11823987655720467,0.3179695691348034,-0.0583112369265052,0.11349241148996032,0.3116571530020257,0.2476963129687629,0.11802511731496705,0.1486396861939163,0.20625621252541118,0.19188586939269273,0.14586378555709562,0.2164760696759003,0.2389494740943527,0.03784482812270657,0.42274718612726697,0.13533761178306625,0.3416124714515105,-0.03141467775102375,0.2400946928160181,-0.06357278139877522,0.30875628146877393,0.10203426408352351,0.13617131398553306,0.15853886854327964,0.2345049323185665,0.06479025235429894,0.19252095078575504,0.27916514020216443,-0.022893504983646475,0.34777833212211656,0.32936221994229553,0.2670020606145551,0.14143155683467756,0.25383637578154733,0.34583108011354335,0.10946601599991651,0.3474579870462898,0.22988114271022636,0.5103755899736787,0.20124429722262255,-0.01668930956388581,0.3515772627359589,0.1815927741819161,0.02147126121085541,0.2966260041673841,-0.02036993601307897,0.2648054390762097,0.20541295655623243,-0.041158054955987074,0.3574231261637393,0.12013345541415088,0.22650127441582948,0.10817217634756672,0.3496388835698139,0.12457298359141776,0.1496048451345737,0.2072616605842037,0.2901077440370685,0.48945459885345716,0.18552110100788474,0.44921172981304447,0.18417821441234805,0.12841543012007905,0.4859323903380308,0.04802162330353687,0.23166827313583663,0.49141547471794345,0.27473801950249,0.4531665442519986,0.14959021301181588,0.1677728280674672,0.32114159092907546,0.3228393789324553,0.4278517023767273,-0.030701366369048005,0.39059602207020394,0.23628138366499862,0.17647325726317384,0.30987050996214055,0.17756520597929762,0.17597379762152715,0.15215620641731603,0.34912552953783393,0.6640749854549362,0.11292446558457866,0.4853359628835455,-0.08219119788539365,0.06702545089625926,0.2443598398742011,-0.023751670611494576,0.14460328137041287,0.3714389761120919,-0.022227768430029018,0.12465383559792398,0.5432136616778558,-0.03924240235505561,-0.07787190353128094,0.27332275265421135,0.07190413566655651,0.32575258798015894,0.2505075397149123,0.4137872640793514,0.322444618231116,0.29136741951314,0.027677582997484535,0.14961041511559692,0.3037243046687506,0.6070298601595593,-0.00802099257258877,0.023466499910538095,0.1969959865524865,0.3913652518421303,0.30046242373322113,0.33836153890776827,0.21441940243887492,0.20814755867693951,0.49669438164401797,0.17428468487955465,0.44613980103416645,0.29047413217385065,0.12842522232037096,0.4046011554447339,0.09640959690938658,0.3438811069412149,0.6021652692668973,0.24012412993176932,0.33422729656258177,0.3473936855583681,0.309998779066906,0.3628245290339828,-0.08391742280667465,0.0832855131416077,0.45754294567485615,0.012490828137865662,0.17810884732249288,0.3606721354454473,-0.010261628694618701,0.15574880270235392,0.29960763125229045,0.2523003793712804,-0.02208092402283626,-0.0032191837025402586,0.35272037509941123,0.24414406026027782,0.3221343724266656,0.10358488022848168,0.21637294349614686,0.5233350292699984,0.20040802080807457,0.39401972030303556,0.07845119312745062,0.1974522369183017,-0.014433456356475912,0.40629369674609395,0.2243188480043017,0.34692761069788164,0.20962448277493848,0.30642726424449374,0.32217396509500645,0.3790981281886552,0.4455047469451743,0.08474960773202873,0.5646074942596799,0.35475123109519935,0.3408583739518362,0.422746256857348,0.21221426787845804,0.2959564159716734,0.6712676821800582,0.09068590774685266,0.2821187551765237,0.5803816072897549],\"type\":\"scatter\"},{\"marker\":{\"color\":\"rgba(55, 128, 191, 1.0)\",\"line\":{\"width\":1.3},\"opacity\":0.8,\"size\":3,\"symbol\":\"circle\"},\"mode\":\"markers\",\"name\":\"2\",\"textfont\":{\"color\":\"#4D5663\"},\"x\":[0.41973434816135613,0.3829182762850354,0.41824926285488717,0.3813613053859492,0.3996299131556663,0.3555490243675905,0.35142476927965366,0.3094056627306078,0.4088603358892307,0.4114055283546259,0.3831123935854838,0.38198369865741216,0.5025656444471679,0.46486141760577515,0.3090456642319272,0.3641486123630815,0.4208746333534506,0.3920881302532356,0.41745358195543575,0.4435371378463453,0.39677551784788634,0.41165313803658066,0.39580408668979944,0.36504231518642405,0.3668267298291975,0.3784791080347134,0.3797259398927273,0.34894832412779486,0.40508806819462606,0.3750424965535885,0.327289010263468,0.4418817660493674,0.3964294420478486,0.40149324727893787,0.3091361544144345,0.386259832598023,0.39068648772551223,0.48281191838830523,0.38370961283461,0.3788316031841423,0.3486827301529697,0.38608539279606174,0.43108369407424074,0.4064998813336937,0.3815231718975836,0.48903396221200524,0.4154233356793487,0.3732034870180651,0.4115198631041508,0.3905053860086118,0.38731371301570106,0.506839045950921,0.3967842587111586,0.39457000231376294,0.40889303391596216,0.4120877784173608,0.40522867034512794,0.4047512044727013,0.3879536100893184,0.37001341243385044,0.40059027147122467,0.2944458914755098,0.4219792048431695,0.4297332137820801,0.3911819388169716,0.35736053358911707,0.4427798568430445,0.39813278537941627,0.4288211385224008,0.38674981566655614,0.5889850488072612,0.41424289824981764,0.38878891202994187,0.4352792605023151,0.38824027000523686,0.3577987565549359,0.39062783445883736,0.4063367528991124,0.3879678305759129,0.39247337632051293,0.3723239873446844,0.32157609812311133,0.2575132591534294,0.4096477340674375,0.40866061195114145,0.437979212874396,0.40162370877232634,0.401735966650524,0.43084677665232973,0.3878146609199748,0.4373719100479809,0.39109177167520404,0.41431776103196233,0.4079137829085834,0.47057347698979196,0.43328711891163685,0.4186391382755808,0.47503240625571963,0.44598979748575285,0.41192586847335627,0.40917241079512423,0.3896642628723357,0.38200958886399794,0.4017584856258005,0.40134440501572277,0.4039374523677184,0.4453751117379448,0.4248449788703101,0.4252914596777833,0.39875741112604285,0.4328987718114678,0.43232882119720273,0.27863877966850314,0.5378759242252564,0.4199499193037388,0.4582498951307882,0.4470101950123245,0.4155312132658758,0.44465965069493046,0.40123040646629404,0.41819884120322504,0.46003285818514783,0.41711668265831725,0.38046886655682316,0.42702043563724895,0.5615218500814994,0.39503144559490655,0.41811407003056306,0.4417938954455304,0.4384384873862946,0.46437771731646804,0.4107044606449059,0.40319898637832535,0.4176365368798755,0.4110137023087173,0.4635836039437728,0.44246972122413775,0.39681173636466954,0.4171036957992346,0.4537876693860249,0.43409757147350314,0.3829340413655835,0.4617375891698387,0.4022933035345004,0.33434222512366746,0.3935708475768034,0.42349764119379624,0.4604219629417854,0.40716754376235315,0.4651970436355023,0.44126445105769396,0.4448173734004639,0.4344122808199066,0.4303540041030508,0.5537721823212322,0.40270775500322287,0.4333117676075047,0.4708285131142066,0.43222931973546286,0.4152039801611752,0.3609295578175961,0.493552688130764,0.38487714779113924,0.4379091257634576,0.4274695917391134,0.44480962576463284,0.43073129135058835,0.38423807909053637,0.4456291454439237,0.3856897930110465,0.3617612147494732,0.35741695168896326,0.41819503544104647,0.43965572061598296,0.39464186537351204,0.4295760690996785,0.4092660702781745,0.443029160562697,0.38992742151503434,0.43744050161649306,0.3672065173482144,0.44526608492893605,0.47315350833245706,0.4258255788934036,0.4528094314545188,0.40718223808579357,0.4504438362971113,0.543265311787481,0.40878000845612933,0.407320890155196,0.47857841417203456,0.41485686447291387,0.41899923853575693,0.46979620535294253,0.4307697478682087,0.46906058322281324,0.5040520135633894,0.45797259620116587,0.42510024983485223,0.46330536234445735,0.434807839271412,0.46057037731966616,0.43232935300487535,0.4533653141537244,0.4290805853536067,0.4416310220804906,0.4857919232570169,0.5015042921400474,0.4660078763704732,0.47309493272805025,0.43307471388356944,0.3972091843645007,0.43078328755267925,0.43248220010794053,0.5312378214977225,0.34190801613272,0.5584481974594675,0.4389045316488325,0.4652476394685345,0.4587109743869179,0.4219847432682746,0.5153061896061966,0.5674223543947816,0.4749172674224513,0.4508104303324735,0.46075205083422754,0.47112497822690086,0.4596549534499953,0.4611662516689172,0.44576273127674376,0.3660390157742798,0.4452740804232289,0.4715726302207293,0.42889688830464495,0.4484881780622682,0.43425787535894084,0.4346143446589227,0.4313652951306865,0.4457356276620006,0.45713409713100306,0.4114129811073631,0.4468395715954415,0.4991098502239581,0.45450270763895567,0.46612609961490536,0.40815273568934246,0.44187015649234057,0.43980884645793233,0.4554244382651887,0.4757673458889268,0.47058678298230505,0.3572697153075963,0.4020493055299797,0.5784773918657466,0.5411523675179449,0.43774933066735866,0.4323208146490793,0.4234786010417226],\"y\":[-0.9966424566544239,-0.6641779679459447,-0.9954380866158895,-0.6635448386189218,-0.9102630089125112,-0.4532378766484211,-0.9420288938698951,-0.42754623273782755,-0.8665243559247615,-0.7927694652646011,-0.5823418958988812,-0.7966493019500772,-0.72426780152253,-0.3241526684747134,-0.8420364401913525,-0.6311079591916231,-0.616541878232458,-0.7357160561094199,-0.8986008608614938,-0.7631632170856739,-0.34558012711887176,-0.7663108215388892,-0.6849449797003685,-0.8705060352713022,-0.8764601750138854,-0.6063988413278926,-0.6385674082767152,-0.5469738971432987,-0.7824868258570684,-0.6252282531508311,-0.6577815094406764,-0.7796325950591582,-0.33706324930376663,-0.5670320136517519,-0.7256186959592577,-0.4372502784637245,-0.6114486200476348,-0.4127299295446613,-0.6391121592599448,-0.6107952213808743,-0.6759438116852969,-0.6133606279497057,-0.39432365854880974,-0.5847098202993736,-0.6695813469871834,-0.5178033464583683,-0.3738761176427758,-0.6081650201865196,-0.5274870065767845,-0.7224113157968352,-0.6914496796553301,-0.5594170040257287,-0.9510567081731744,-0.9179692484359278,-0.8889030925738239,-0.9243334738521595,-0.9137876703825242,-0.546962240986264,-0.7424909315849468,-0.7782564950338107,-0.8067116922805407,-0.8590593381608072,-0.5810300863247876,-0.7024901822062849,-0.3120743267158107,-0.8238488195577018,-0.9086045953269943,-0.4720718047338088,-0.9576100924726952,-0.902051178461124,-0.44430313647220215,-0.662583155594575,-0.4604005132552699,-0.6467531611767326,-0.3001645348684116,-0.42276264477045583,-0.6757619946468761,-0.7507039288950773,-0.6027116022561771,-0.3300994952038512,-0.395291371997602,-0.4255065112535986,-0.5805489826935446,-0.8657939955429934,-0.8712596365495049,-0.9497214605549891,-0.6170107071235785,-0.6162976447051016,-0.9253591139481268,-0.4300656482233424,-0.9329718657936024,-0.4155765063289062,-0.6889737498359938,-0.6789038049935789,-0.8339780254079348,-0.44674119512090854,-0.7023412526135067,-0.7740951333863647,-0.7316255411320286,-0.8503363443416805,-0.6732723516252506,-0.3237690734939289,-0.6748913475839134,-0.3291637133251047,-0.7754498592539443,-0.5265076509769332,-0.8221109860009924,-0.2800769494674591,-0.5821563584317166,-0.40229516689740397,-0.40866889543361823,-0.42025174198287757,-0.46853198844065747,-0.25080635891995146,-0.37832798366695247,-0.6388226678605176,-0.552088272785222,-0.687873947395179,-0.6999107931891162,-0.6882544191152447,-0.712718962252306,-0.5032547923567956,-0.791302269418991,-0.6057537690303838,-0.566416994709977,-0.5979078544694254,-0.9561916762931606,-0.3750629880502922,-0.4975411565629617,-0.42778763669055125,-0.4000355240391731,-0.5181626268500021,-0.6127143538707351,-0.7714525452156209,-0.6710736804434291,-0.6108683903179527,-0.8289045875456997,-0.3777393318897749,-0.834527918669477,-0.9310683500246417,-0.7059793763161417,-0.3070087252367703,-0.8051164948633652,-0.5909340910462006,-0.6170705421364922,-0.4845090002037953,-0.49863815574797277,-0.6202163094171267,-0.5593156356344131,-0.16934062148365378,-0.4615040345504901,-0.5616614710152756,-0.390023740069125,-0.6018005954027401,-0.5941234866586916,-0.6468046928037585,-0.4691765447636551,-0.5928874100460293,-0.33888877069538953,-0.4160918479398201,-0.5361607931868537,-0.2998001385713463,-0.57894146475808,-0.3831018743098293,-0.7961767899242626,-0.5132858778217101,-0.764772934475304,-0.3159097924316444,-0.7165683956007588,-0.6048643143563888,-0.5463710851753025,-0.5605777878769067,-0.6072856320516676,-0.8091096732692179,-0.35427285787343454,-0.5352336041911034,-0.6428178500440535,-0.5447905416230916,-0.3418313881590132,-0.3735222659874626,-0.5853067139358945,-0.711556348008199,-0.8132335374097476,-0.40564869473065074,-0.8247577358122028,-0.36737286376928846,-0.7097175629934264,-0.5744663822166505,-0.5055297775161119,-0.34475703677866604,-0.4736300279010498,-0.4602588296859232,-0.43317302289921733,-0.35943433222373955,-0.5239505697975536,-0.7179061842644657,-0.548027631977341,-0.5564176748068621,-0.5981609797189827,-0.6763003810058561,-0.565979527495046,-0.3596816238139931,-0.6070480269155125,-0.6000590267240384,-0.3587085447412502,-0.5538077787405414,-0.6272121273690858,-0.2804503051293022,-0.5035025690713464,-0.6161632824197074,-0.4414245821456687,-0.3975776817534857,-0.6480488710702856,-0.4409567282364595,-0.3054977910857635,-0.5617895348168128,-0.3718868237315086,-0.8113577728878011,-0.7399684247262057,-0.9042419200040874,-0.5738324744012433,-0.43978994299797236,-0.5718009732684887,-0.5001694873386168,-0.5373286123538137,-0.4387817190291931,-0.2747830773303663,-0.5306062750086123,-0.5260396727390768,-0.5522808931624006,-0.2800365746265463,-0.5863324093491397,-0.5150899817288923,-0.5419687412663391,-0.33370175130203544,-0.2536642013042646,-0.22533521532574538,-0.5411030932218138,-0.6180667834930034,-0.7551818176053156,-0.31940548977632927,-0.7537742190138594,-0.6604565244927797,-0.5469881248873958,-0.5933022877860702,-0.45492201883122335,-0.5226131505356467,-0.3495067254442841,-0.6257391344912604,-0.6136141248208163,-0.6469883487422498,-0.32346874670537085,-0.3870980528637506,-0.752919028275444,-0.3700740759349011,-0.4046127154733193,-0.19144990052304706,-0.19649954277822598],\"type\":\"scatter\"},{\"marker\":{\"color\":\"rgba(50, 171, 96, 1.0)\",\"line\":{\"width\":1.3},\"opacity\":0.8,\"size\":3,\"symbol\":\"circle\"},\"mode\":\"markers\",\"name\":\"1\",\"textfont\":{\"color\":\"#4D5663\"},\"x\":[1.7851009585760982,1.794341458079824,1.7827925870437507,1.9098656663080653,1.8592493044123528,1.8004516364414598,1.789285004849117,1.7854384592157153,1.9151822890301462,1.8897433385610056,1.8893188254075228,1.7683641397236114,1.8035474398087041,1.8002160111416088,1.8917254882091596,1.699171813649474,1.917252410132389,1.9277750806090583,1.9474042025836005,1.874220385604885,1.930948692478626,1.7904171027425557,1.7910220413782818,1.7948134032618859,1.9286192651948053,1.9176484525016424,1.5560816008118017,1.9142992390421758,1.9283419430340314,1.8874301918832894,1.6669609304138961,1.9159655838364367,1.8806282571349238,1.9199213981054826,1.8883731365800234,1.834578752997709,1.8043085322015862,1.8522287150448131,1.6746432962845452,1.6789950482238936,1.9388571663630976,1.9382105371351925,1.6671320842493889,1.9157139505556244,1.8241428159666382,1.8802218947438083,1.9446468059496842,1.9679856209143831,1.9652417489356384,1.9333714110751414,1.7109501988230944,1.929568782959502,1.8846025341620551,1.6255632942052614,1.628680911472065,1.7115486078782225,1.728145402525626,1.724204036721577,1.700039411425958,1.962347366940047,1.9971768970802082,1.9883009301769865,2.005931615632432,1.9490181924526027,1.959860573974899,2.050838515452516,1.966916701832323,1.9953665070848237,2.0415804047158344,1.9720290512956846,1.9733744549284755,1.951999620089295],\"y\":[0.573556179368661,0.6227275382652209,0.6132876126723981,1.149002930587042,0.6243348122164891,0.6875303323257925,0.6740390085602049,0.6372821944703504,0.933468913289817,0.926901846854098,0.5993279023434729,0.7591229657530344,0.6452101307683364,0.7367488798455656,1.0015077222041826,0.9093387674695831,1.2018654304856817,1.2775361895417867,1.1537967571170047,0.8520347796388349,0.8821498828583615,0.6220164923315397,0.6531740831835743,0.6826657362611305,1.181247901857186,1.069924347307133,0.6121672078201826,1.0211298689620179,1.20559892422163,0.7707010825478634,0.5361824181639362,0.8967715855565174,0.6072427047450506,1.077240997692691,0.8292149786189994,0.81673195176126,0.8589640440820266,0.6671868055059682,0.5995329913991754,0.6304327030858974,1.108059498604888,1.1251662448539006,0.6714561559333241,1.0827050029787655,0.7144019517202648,0.7992723253269048,0.9462379077852366,0.930826887376453,0.9735326640401253,1.0782262625229446,0.9156120892212393,1.2186137740468064,0.8693650219051244,0.5040299977358629,0.5600778795451823,0.5529412616257707,0.5494219655606014,0.4726538623224865,0.4985552781734659,0.1946381601697948,0.5870996854500861,1.0865460659652555,1.1773154244447914,0.8849584630733581,0.7798854372895004,0.30692022685922593,0.89277278529626,1.0181446692106195,0.38125012605013675,0.9748911937438701,0.9826384921295003,0.9953741539085387],\"type\":\"scatter\"}],                        {\"legend\":{\"bgcolor\":\"#F5F6F9\",\"font\":{\"color\":\"#4D5663\"}},\"paper_bgcolor\":\"#F5F6F9\",\"plot_bgcolor\":\"#F5F6F9\",\"template\":{\"data\":{\"barpolar\":[{\"marker\":{\"line\":{\"color\":\"#E5ECF6\",\"width\":0.5},\"pattern\":{\"fillmode\":\"overlay\",\"size\":10,\"solidity\":0.2}},\"type\":\"barpolar\"}],\"bar\":[{\"error_x\":{\"color\":\"#2a3f5f\"},\"error_y\":{\"color\":\"#2a3f5f\"},\"marker\":{\"line\":{\"color\":\"#E5ECF6\",\"width\":0.5},\"pattern\":{\"fillmode\":\"overlay\",\"size\":10,\"solidity\":0.2}},\"type\":\"bar\"}],\"carpet\":[{\"aaxis\":{\"endlinecolor\":\"#2a3f5f\",\"gridcolor\":\"white\",\"linecolor\":\"white\",\"minorgridcolor\":\"white\",\"startlinecolor\":\"#2a3f5f\"},\"baxis\":{\"endlinecolor\":\"#2a3f5f\",\"gridcolor\":\"white\",\"linecolor\":\"white\",\"minorgridcolor\":\"white\",\"startlinecolor\":\"#2a3f5f\"},\"type\":\"carpet\"}],\"choropleth\":[{\"colorbar\":{\"outlinewidth\":0,\"ticks\":\"\"},\"type\":\"choropleth\"}],\"contourcarpet\":[{\"colorbar\":{\"outlinewidth\":0,\"ticks\":\"\"},\"type\":\"contourcarpet\"}],\"contour\":[{\"colorbar\":{\"outlinewidth\":0,\"ticks\":\"\"},\"colorscale\":[[0.0,\"#0d0887\"],[0.1111111111111111,\"#46039f\"],[0.2222222222222222,\"#7201a8\"],[0.3333333333333333,\"#9c179e\"],[0.4444444444444444,\"#bd3786\"],[0.5555555555555556,\"#d8576b\"],[0.6666666666666666,\"#ed7953\"],[0.7777777777777778,\"#fb9f3a\"],[0.8888888888888888,\"#fdca26\"],[1.0,\"#f0f921\"]],\"type\":\"contour\"}],\"heatmapgl\":[{\"colorbar\":{\"outlinewidth\":0,\"ticks\":\"\"},\"colorscale\":[[0.0,\"#0d0887\"],[0.1111111111111111,\"#46039f\"],[0.2222222222222222,\"#7201a8\"],[0.3333333333333333,\"#9c179e\"],[0.4444444444444444,\"#bd3786\"],[0.5555555555555556,\"#d8576b\"],[0.6666666666666666,\"#ed7953\"],[0.7777777777777778,\"#fb9f3a\"],[0.8888888888888888,\"#fdca26\"],[1.0,\"#f0f921\"]],\"type\":\"heatmapgl\"}],\"heatmap\":[{\"colorbar\":{\"outlinewidth\":0,\"ticks\":\"\"},\"colorscale\":[[0.0,\"#0d0887\"],[0.1111111111111111,\"#46039f\"],[0.2222222222222222,\"#7201a8\"],[0.3333333333333333,\"#9c179e\"],[0.4444444444444444,\"#bd3786\"],[0.5555555555555556,\"#d8576b\"],[0.6666666666666666,\"#ed7953\"],[0.7777777777777778,\"#fb9f3a\"],[0.8888888888888888,\"#fdca26\"],[1.0,\"#f0f921\"]],\"type\":\"heatmap\"}],\"histogram2dcontour\":[{\"colorbar\":{\"outlinewidth\":0,\"ticks\":\"\"},\"colorscale\":[[0.0,\"#0d0887\"],[0.1111111111111111,\"#46039f\"],[0.2222222222222222,\"#7201a8\"],[0.3333333333333333,\"#9c179e\"],[0.4444444444444444,\"#bd3786\"],[0.5555555555555556,\"#d8576b\"],[0.6666666666666666,\"#ed7953\"],[0.7777777777777778,\"#fb9f3a\"],[0.8888888888888888,\"#fdca26\"],[1.0,\"#f0f921\"]],\"type\":\"histogram2dcontour\"}],\"histogram2d\":[{\"colorbar\":{\"outlinewidth\":0,\"ticks\":\"\"},\"colorscale\":[[0.0,\"#0d0887\"],[0.1111111111111111,\"#46039f\"],[0.2222222222222222,\"#7201a8\"],[0.3333333333333333,\"#9c179e\"],[0.4444444444444444,\"#bd3786\"],[0.5555555555555556,\"#d8576b\"],[0.6666666666666666,\"#ed7953\"],[0.7777777777777778,\"#fb9f3a\"],[0.8888888888888888,\"#fdca26\"],[1.0,\"#f0f921\"]],\"type\":\"histogram2d\"}],\"histogram\":[{\"marker\":{\"pattern\":{\"fillmode\":\"overlay\",\"size\":10,\"solidity\":0.2}},\"type\":\"histogram\"}],\"mesh3d\":[{\"colorbar\":{\"outlinewidth\":0,\"ticks\":\"\"},\"type\":\"mesh3d\"}],\"parcoords\":[{\"line\":{\"colorbar\":{\"outlinewidth\":0,\"ticks\":\"\"}},\"type\":\"parcoords\"}],\"pie\":[{\"automargin\":true,\"type\":\"pie\"}],\"scatter3d\":[{\"line\":{\"colorbar\":{\"outlinewidth\":0,\"ticks\":\"\"}},\"marker\":{\"colorbar\":{\"outlinewidth\":0,\"ticks\":\"\"}},\"type\":\"scatter3d\"}],\"scattercarpet\":[{\"marker\":{\"colorbar\":{\"outlinewidth\":0,\"ticks\":\"\"}},\"type\":\"scattercarpet\"}],\"scattergeo\":[{\"marker\":{\"colorbar\":{\"outlinewidth\":0,\"ticks\":\"\"}},\"type\":\"scattergeo\"}],\"scattergl\":[{\"marker\":{\"colorbar\":{\"outlinewidth\":0,\"ticks\":\"\"}},\"type\":\"scattergl\"}],\"scattermapbox\":[{\"marker\":{\"colorbar\":{\"outlinewidth\":0,\"ticks\":\"\"}},\"type\":\"scattermapbox\"}],\"scatterpolargl\":[{\"marker\":{\"colorbar\":{\"outlinewidth\":0,\"ticks\":\"\"}},\"type\":\"scatterpolargl\"}],\"scatterpolar\":[{\"marker\":{\"colorbar\":{\"outlinewidth\":0,\"ticks\":\"\"}},\"type\":\"scatterpolar\"}],\"scatter\":[{\"marker\":{\"colorbar\":{\"outlinewidth\":0,\"ticks\":\"\"}},\"type\":\"scatter\"}],\"scatterternary\":[{\"marker\":{\"colorbar\":{\"outlinewidth\":0,\"ticks\":\"\"}},\"type\":\"scatterternary\"}],\"surface\":[{\"colorbar\":{\"outlinewidth\":0,\"ticks\":\"\"},\"colorscale\":[[0.0,\"#0d0887\"],[0.1111111111111111,\"#46039f\"],[0.2222222222222222,\"#7201a8\"],[0.3333333333333333,\"#9c179e\"],[0.4444444444444444,\"#bd3786\"],[0.5555555555555556,\"#d8576b\"],[0.6666666666666666,\"#ed7953\"],[0.7777777777777778,\"#fb9f3a\"],[0.8888888888888888,\"#fdca26\"],[1.0,\"#f0f921\"]],\"type\":\"surface\"}],\"table\":[{\"cells\":{\"fill\":{\"color\":\"#EBF0F8\"},\"line\":{\"color\":\"white\"}},\"header\":{\"fill\":{\"color\":\"#C8D4E3\"},\"line\":{\"color\":\"white\"}},\"type\":\"table\"}]},\"layout\":{\"annotationdefaults\":{\"arrowcolor\":\"#2a3f5f\",\"arrowhead\":0,\"arrowwidth\":1},\"autotypenumbers\":\"strict\",\"coloraxis\":{\"colorbar\":{\"outlinewidth\":0,\"ticks\":\"\"}},\"colorscale\":{\"diverging\":[[0,\"#8e0152\"],[0.1,\"#c51b7d\"],[0.2,\"#de77ae\"],[0.3,\"#f1b6da\"],[0.4,\"#fde0ef\"],[0.5,\"#f7f7f7\"],[0.6,\"#e6f5d0\"],[0.7,\"#b8e186\"],[0.8,\"#7fbc41\"],[0.9,\"#4d9221\"],[1,\"#276419\"]],\"sequential\":[[0.0,\"#0d0887\"],[0.1111111111111111,\"#46039f\"],[0.2222222222222222,\"#7201a8\"],[0.3333333333333333,\"#9c179e\"],[0.4444444444444444,\"#bd3786\"],[0.5555555555555556,\"#d8576b\"],[0.6666666666666666,\"#ed7953\"],[0.7777777777777778,\"#fb9f3a\"],[0.8888888888888888,\"#fdca26\"],[1.0,\"#f0f921\"]],\"sequentialminus\":[[0.0,\"#0d0887\"],[0.1111111111111111,\"#46039f\"],[0.2222222222222222,\"#7201a8\"],[0.3333333333333333,\"#9c179e\"],[0.4444444444444444,\"#bd3786\"],[0.5555555555555556,\"#d8576b\"],[0.6666666666666666,\"#ed7953\"],[0.7777777777777778,\"#fb9f3a\"],[0.8888888888888888,\"#fdca26\"],[1.0,\"#f0f921\"]]},\"colorway\":[\"#636efa\",\"#EF553B\",\"#00cc96\",\"#ab63fa\",\"#FFA15A\",\"#19d3f3\",\"#FF6692\",\"#B6E880\",\"#FF97FF\",\"#FECB52\"],\"font\":{\"color\":\"#2a3f5f\"},\"geo\":{\"bgcolor\":\"white\",\"lakecolor\":\"white\",\"landcolor\":\"#E5ECF6\",\"showlakes\":true,\"showland\":true,\"subunitcolor\":\"white\"},\"hoverlabel\":{\"align\":\"left\"},\"hovermode\":\"closest\",\"mapbox\":{\"style\":\"light\"},\"paper_bgcolor\":\"white\",\"plot_bgcolor\":\"#E5ECF6\",\"polar\":{\"angularaxis\":{\"gridcolor\":\"white\",\"linecolor\":\"white\",\"ticks\":\"\"},\"bgcolor\":\"#E5ECF6\",\"radialaxis\":{\"gridcolor\":\"white\",\"linecolor\":\"white\",\"ticks\":\"\"}},\"scene\":{\"xaxis\":{\"backgroundcolor\":\"#E5ECF6\",\"gridcolor\":\"white\",\"gridwidth\":2,\"linecolor\":\"white\",\"showbackground\":true,\"ticks\":\"\",\"zerolinecolor\":\"white\"},\"yaxis\":{\"backgroundcolor\":\"#E5ECF6\",\"gridcolor\":\"white\",\"gridwidth\":2,\"linecolor\":\"white\",\"showbackground\":true,\"ticks\":\"\",\"zerolinecolor\":\"white\"},\"zaxis\":{\"backgroundcolor\":\"#E5ECF6\",\"gridcolor\":\"white\",\"gridwidth\":2,\"linecolor\":\"white\",\"showbackground\":true,\"ticks\":\"\",\"zerolinecolor\":\"white\"}},\"shapedefaults\":{\"line\":{\"color\":\"#2a3f5f\"}},\"ternary\":{\"aaxis\":{\"gridcolor\":\"white\",\"linecolor\":\"white\",\"ticks\":\"\"},\"baxis\":{\"gridcolor\":\"white\",\"linecolor\":\"white\",\"ticks\":\"\"},\"bgcolor\":\"#E5ECF6\",\"caxis\":{\"gridcolor\":\"white\",\"linecolor\":\"white\",\"ticks\":\"\"}},\"title\":{\"x\":0.05},\"xaxis\":{\"automargin\":true,\"gridcolor\":\"white\",\"linecolor\":\"white\",\"ticks\":\"\",\"title\":{\"standoff\":15},\"zerolinecolor\":\"white\",\"zerolinewidth\":2},\"yaxis\":{\"automargin\":true,\"gridcolor\":\"white\",\"linecolor\":\"white\",\"ticks\":\"\",\"title\":{\"standoff\":15},\"zerolinecolor\":\"white\",\"zerolinewidth\":2}}},\"title\":{\"font\":{\"color\":\"#4D5663\"}},\"xaxis\":{\"gridcolor\":\"#E1E5ED\",\"showgrid\":true,\"tickfont\":{\"color\":\"#4D5663\"},\"title\":{\"font\":{\"color\":\"#4D5663\"},\"text\":\"\"},\"zerolinecolor\":\"#E1E5ED\"},\"yaxis\":{\"gridcolor\":\"#E1E5ED\",\"showgrid\":true,\"tickfont\":{\"color\":\"#4D5663\"},\"title\":{\"font\":{\"color\":\"#4D5663\"},\"text\":\"\"},\"zerolinecolor\":\"#E1E5ED\"}},                        {\"showLink\": true, \"linkText\": \"Export to plot.ly\", \"plotlyServerURL\": \"https://plot.ly\", \"responsive\": true}                    ).then(function(){\n",
       "                            \n",
       "var gd = document.getElementById('317504c5-7c8c-4d68-94b4-88cda7a78f92');\n",
       "var x = new MutationObserver(function (mutations, observer) {{\n",
       "        var display = window.getComputedStyle(gd).display;\n",
       "        if (!display || display === 'none') {{\n",
       "            console.log([gd, 'removed!']);\n",
       "            Plotly.purge(gd);\n",
       "            observer.disconnect();\n",
       "        }}\n",
       "}});\n",
       "\n",
       "// Listen for the removal of the full notebook cells\n",
       "var notebookContainer = gd.closest('#notebook-container');\n",
       "if (notebookContainer) {{\n",
       "    x.observe(notebookContainer, {childList: true});\n",
       "}}\n",
       "\n",
       "// Listen for the clearing of the current output cell\n",
       "var outputEl = gd.closest('.output');\n",
       "if (outputEl) {{\n",
       "    x.observe(outputEl, {childList: true});\n",
       "}}\n",
       "\n",
       "                        })                };                });            </script>        </div>"
      ]
     },
     "metadata": {},
     "output_type": "display_data"
    }
   ],
   "source": [
    "Xp.iplot(kind='scatter',x='pca_comp_1',y='pca_comp_2',mode='markers',size=3,categories='cl')"
   ]
  },
  {
   "cell_type": "code",
   "execution_count": 302,
   "id": "20f10f06",
   "metadata": {},
   "outputs": [
    {
     "data": {
      "text/plain": [
       "<AxesSubplot:xlabel='pca_comp_1', ylabel='pca_comp_2'>"
      ]
     },
     "execution_count": 302,
     "metadata": {},
     "output_type": "execute_result"
    },
    {
     "data": {
      "image/png": "[encoded data removed]",
      "text/plain": [
       "<Figure size 432x288 with 1 Axes>"
      ]
     },
     "metadata": {
      "needs_background": "light"
     },
     "output_type": "display_data"
    }
   ],
   "source": [
    "plt.figure()\n",
    "sns.kdeplot(data=Xp,x='pca_comp_1',y='pca_comp_2',fill=False,hue='cl')"
   ]
  },
  {
   "cell_type": "code",
   "execution_count": null,
   "id": "2ab95c69",
   "metadata": {},
   "outputs": [],
   "source": []
  }
 ],
 "metadata": {
  "kernelspec": {
   "display_name": "Python 3",
   "language": "python",
   "name": "python3"
  },
  "language_info": {
   "codemirror_mode": {
    "name": "ipython",
    "version": 3
   },
   "file_extension": ".py",
   "mimetype": "text/x-python",
   "name": "python",
   "nbconvert_exporter": "python",
   "pygments_lexer": "ipython3",
   "version": "3.8.8"
  }
 },
 "nbformat": 4,
 "nbformat_minor": 5
}
