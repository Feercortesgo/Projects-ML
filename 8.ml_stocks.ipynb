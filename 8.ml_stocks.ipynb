{
 "cells": [
  {
   "cell_type": "code",
   "execution_count": null,
   "id": "cb0c2662",
   "metadata": {},
   "outputs": [],
   "source": [
    "#bibliotecas\n",
    "import yfinance as yf\n",
    "import pandas_datareader.data as web\n",
    "import requests \n",
    "import pandas as pd \n",
    "from pandas.tseries.offsets import BDay\n",
    "import datetime \n",
    "import os \n",
    "import matplotlib.pyplot as plt \n",
    "import numpy as np \n",
    "import math\n",
    "import statsmodels.api as sm \n",
    "import statsmodels.formula.api as smf\n",
    "import sys\n",
    "import matplotlib as mpl\n",
    "from colorama import Fore, Style "
   ]
  },
  {
   "cell_type": "code",
   "execution_count": null,
   "id": "a1ec1ba8",
   "metadata": {},
   "outputs": [],
   "source": [
    "#asignas la ruta de carga del archivo\n",
    "data_path = '...'\n",
    "\n",
    "#nombre del archivo \n",
    "source = 'Datos_Python.xlsx' \n",
    "#lee el archivo en formato excel, siento el index la fecha\n",
    "holdings = pd.read_excel(  data_path+source ,\n",
    "                         parse_dates = ['Date'],\n",
    "                         index_col = 'Date')"
   ]
  },
  {
   "cell_type": "code",
   "execution_count": null,
   "id": "cc942428",
   "metadata": {},
   "outputs": [],
   "source": [
    "#Crea una lista interable con la posición que tiene cada stock y el stock\n",
    "for i,stock in enumerate(holdings.columns.to_list()):\n",
    "  #print(i,stock)\n",
    "  #Se usa ticker para generar un objeto que nos permita iterar sobre él para implicarle funciones, en este caso dividendos. \n",
    "  #Guarda dicha implicación y la guardaremos en un df\n",
    "    df = pd.DataFrame(yf.Ticker(stock).dividends)\n",
    "  #Modifica el nombre de las columnas que por default asigna a el nombre de la stock\n",
    "    df.rename(columns={'Dividends':stock}, inplace=True)\n",
    "    #buble para mantener solo en la primer iteración df y despues agregar la información proveniente de un merge outer con index en Fecha coinicdente, lo cual genera una fusión de amos df involucrados.\n",
    "    if i == 0:\n",
    "        result = df\n",
    "    else:\n",
    "        result = pd.merge(result,df, how = 'outer', left_index = True, right_index = True)\n",
    "\n",
    "#guarda el df resultante en un csv\n",
    "result.to_csv(data_path + 'results.csv')"
   ]
  }
 ],
 "metadata": {
  "kernelspec": {
   "display_name": "Python 3",
   "language": "python",
   "name": "python3"
  },
  "language_info": {
   "codemirror_mode": {
    "name": "ipython",
    "version": 3
   },
   "file_extension": ".py",
   "mimetype": "text/x-python",
   "name": "python",
   "nbconvert_exporter": "python",
   "pygments_lexer": "ipython3",
   "version": "3.8.8"
  }
 },
 "nbformat": 4,
 "nbformat_minor": 5
}
