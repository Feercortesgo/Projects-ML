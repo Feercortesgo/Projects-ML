{
 "cells": [
  {
   "cell_type": "code",
   "execution_count": 28,
   "id": "a002c74d",
   "metadata": {},
   "outputs": [],
   "source": [
    "import os\n",
    "import re\n",
    "import emoji\n",
    "import numpy as np\n",
    "import unicodedata\n",
    "import pandas as pd\n",
    "from bs4 import BeautifulSoup\n",
    "from sklearn.metrics import roc_auc_score\n",
    "from nltk.corpus import stopwords\n",
    "from sklearn.linear_model import LogisticRegression\n",
    "from sklearn.feature_selection import SelectKBest, f_classif\n",
    "from sklearn.model_selection import cross_val_score, train_test_split\n",
    "from sklearn.feature_extraction.text import CountVectorizer, TfidfVectorizer\n",
    "\n",
    "\n",
    "#pca\n",
    "from sklearn.decomposition import PCA\n",
    "from sklearn.pipeline import make_pipeline\n",
    "from sklearn.preprocessing import StandardScaler\n",
    "from sklearn.preprocessing import scale\n",
    "\n",
    "\n",
    "# Tratamiento de datos\n",
    "import numpy as np\n",
    "import pandas as pd\n",
    "import statsmodels.api as sm\n",
    "\n",
    "# Gráficos\n",
    "import matplotlib.pyplot as plt\n",
    "import matplotlib.font_manager\n",
    "from matplotlib import style\n",
    "style.use('ggplot') or plt.style.use('ggplot')\n",
    "import seaborn as sns\n",
    "\n",
    "# Preprocesado y modelado\n",
    "\n",
    "from sklearn.decomposition import PCA\n",
    "from sklearn.pipeline import make_pipeline\n",
    "from sklearn.preprocessing import StandardScaler\n",
    "from sklearn.preprocessing import scale\n",
    "\n",
    "# Configuración warnings\n",
    "\n",
    "import warnings\n",
    "warnings.filterwarnings('ignore')\n",
    "\n",
    "\n",
    "#modelado TSE MDS\n",
    "from sklearn.manifold import MDS, TSNE\n",
    "from sklearn.preprocessing import StandardScaler"
   ]
  },
  {
   "cell_type": "code",
   "execution_count": 29,
   "id": "a3ff9887",
   "metadata": {},
   "outputs": [],
   "source": [
    "df=pd.read_csv(\"C:/Users/MX03932000/Documents/Personales/Mod_3/Fraud_Data_sep/Fraud_Data_sep.txt\", sep=\"|\")"
   ]
  },
  {
   "cell_type": "code",
   "execution_count": 30,
   "id": "6f139094",
   "metadata": {},
   "outputs": [
    {
     "data": {
      "text/html": [
       "<div>\n",
       "<style scoped>\n",
       "    .dataframe tbody tr th:only-of-type {\n",
       "        vertical-align: middle;\n",
       "    }\n",
       "\n",
       "    .dataframe tbody tr th {\n",
       "        vertical-align: top;\n",
       "    }\n",
       "\n",
       "    .dataframe thead th {\n",
       "        text-align: right;\n",
       "    }\n",
       "</style>\n",
       "<table border=\"1\" class=\"dataframe\">\n",
       "  <thead>\n",
       "    <tr style=\"text-align: right;\">\n",
       "      <th></th>\n",
       "      <th>step</th>\n",
       "      <th>customer</th>\n",
       "      <th>age</th>\n",
       "      <th>gender</th>\n",
       "      <th>zipcodeOri</th>\n",
       "      <th>merchant</th>\n",
       "      <th>zipMerchant</th>\n",
       "      <th>category</th>\n",
       "      <th>amount</th>\n",
       "      <th>fraud</th>\n",
       "      <th>...</th>\n",
       "      <th>enrichment_INDUS</th>\n",
       "      <th>enrichment_CHAS</th>\n",
       "      <th>enrichment_NOX</th>\n",
       "      <th>enrichment_RM</th>\n",
       "      <th>enrichment_DIS</th>\n",
       "      <th>enrichment_RAD</th>\n",
       "      <th>enrichment_TAX</th>\n",
       "      <th>enrichment_PTRATIO</th>\n",
       "      <th>enrichment_B</th>\n",
       "      <th>enrichment_LSTAT</th>\n",
       "    </tr>\n",
       "  </thead>\n",
       "  <tbody>\n",
       "    <tr>\n",
       "      <th>0</th>\n",
       "      <td>0</td>\n",
       "      <td>'C1093826151'</td>\n",
       "      <td>'4'</td>\n",
       "      <td>'M'</td>\n",
       "      <td>'28007'</td>\n",
       "      <td>'M348934600'</td>\n",
       "      <td>'28007'</td>\n",
       "      <td>'es_transportation'</td>\n",
       "      <td>4550.0</td>\n",
       "      <td>0</td>\n",
       "      <td>...</td>\n",
       "      <td>2.31</td>\n",
       "      <td>0.0</td>\n",
       "      <td>0.538</td>\n",
       "      <td>6.575</td>\n",
       "      <td>4.09</td>\n",
       "      <td>1.0</td>\n",
       "      <td>296.0</td>\n",
       "      <td>15.3</td>\n",
       "      <td>396.9</td>\n",
       "      <td>4.98</td>\n",
       "    </tr>\n",
       "    <tr>\n",
       "      <th>1</th>\n",
       "      <td>1</td>\n",
       "      <td>'C1093826151'</td>\n",
       "      <td>'4'</td>\n",
       "      <td>NaN</td>\n",
       "      <td>'28007'</td>\n",
       "      <td>'M855959430'</td>\n",
       "      <td>'28007'</td>\n",
       "      <td>'es_hyper'</td>\n",
       "      <td>14380.0</td>\n",
       "      <td>0</td>\n",
       "      <td>...</td>\n",
       "      <td>2.31</td>\n",
       "      <td>0.0</td>\n",
       "      <td>0.538</td>\n",
       "      <td>6.575</td>\n",
       "      <td>4.09</td>\n",
       "      <td>1.0</td>\n",
       "      <td>NaN</td>\n",
       "      <td>15.3</td>\n",
       "      <td>NaN</td>\n",
       "      <td>4.98</td>\n",
       "    </tr>\n",
       "    <tr>\n",
       "      <th>2</th>\n",
       "      <td>2</td>\n",
       "      <td>'C1093826151'</td>\n",
       "      <td>'4'</td>\n",
       "      <td>'M'</td>\n",
       "      <td>'28007'</td>\n",
       "      <td>'M348934600'</td>\n",
       "      <td>'28007'</td>\n",
       "      <td>'es_transportation'</td>\n",
       "      <td>37210.0</td>\n",
       "      <td>0</td>\n",
       "      <td>...</td>\n",
       "      <td>2.31</td>\n",
       "      <td>0.0</td>\n",
       "      <td>0.538</td>\n",
       "      <td>6.575</td>\n",
       "      <td>4.09</td>\n",
       "      <td>1.0</td>\n",
       "      <td>296.0</td>\n",
       "      <td>15.3</td>\n",
       "      <td>396.9</td>\n",
       "      <td>4.98</td>\n",
       "    </tr>\n",
       "    <tr>\n",
       "      <th>3</th>\n",
       "      <td>3</td>\n",
       "      <td>'C1093826151'</td>\n",
       "      <td>'4'</td>\n",
       "      <td>'M'</td>\n",
       "      <td>'28007'</td>\n",
       "      <td>'M348934600'</td>\n",
       "      <td>'28007'</td>\n",
       "      <td>'es_transportation'</td>\n",
       "      <td>31630.0</td>\n",
       "      <td>0</td>\n",
       "      <td>...</td>\n",
       "      <td>2.31</td>\n",
       "      <td>0.0</td>\n",
       "      <td>NaN</td>\n",
       "      <td>6.575</td>\n",
       "      <td>4.09</td>\n",
       "      <td>NaN</td>\n",
       "      <td>296.0</td>\n",
       "      <td>15.3</td>\n",
       "      <td>NaN</td>\n",
       "      <td>4.98</td>\n",
       "    </tr>\n",
       "    <tr>\n",
       "      <th>4</th>\n",
       "      <td>4</td>\n",
       "      <td>'C1093826151'</td>\n",
       "      <td>'4'</td>\n",
       "      <td>'M'</td>\n",
       "      <td>'28007'</td>\n",
       "      <td>'M348934600'</td>\n",
       "      <td>'28007'</td>\n",
       "      <td>'es_transportation'</td>\n",
       "      <td>35860.0</td>\n",
       "      <td>0</td>\n",
       "      <td>...</td>\n",
       "      <td>2.31</td>\n",
       "      <td>NaN</td>\n",
       "      <td>0.538</td>\n",
       "      <td>6.575</td>\n",
       "      <td>4.09</td>\n",
       "      <td>1.0</td>\n",
       "      <td>296.0</td>\n",
       "      <td>15.3</td>\n",
       "      <td>NaN</td>\n",
       "      <td>4.98</td>\n",
       "    </tr>\n",
       "  </tbody>\n",
       "</table>\n",
       "<p>5 rows × 25 columns</p>\n",
       "</div>"
      ],
      "text/plain": [
       "   step       customer  age gender zipcodeOri      merchant zipMerchant  \\\n",
       "0     0  'C1093826151'  '4'    'M'    '28007'  'M348934600'     '28007'   \n",
       "1     1  'C1093826151'  '4'    NaN    '28007'  'M855959430'     '28007'   \n",
       "2     2  'C1093826151'  '4'    'M'    '28007'  'M348934600'     '28007'   \n",
       "3     3  'C1093826151'  '4'    'M'    '28007'  'M348934600'     '28007'   \n",
       "4     4  'C1093826151'  '4'    'M'    '28007'  'M348934600'     '28007'   \n",
       "\n",
       "              category   amount  fraud  ...  enrichment_INDUS  \\\n",
       "0  'es_transportation'   4550.0      0  ...              2.31   \n",
       "1           'es_hyper'  14380.0      0  ...              2.31   \n",
       "2  'es_transportation'  37210.0      0  ...              2.31   \n",
       "3  'es_transportation'  31630.0      0  ...              2.31   \n",
       "4  'es_transportation'  35860.0      0  ...              2.31   \n",
       "\n",
       "   enrichment_CHAS  enrichment_NOX  enrichment_RM  enrichment_DIS  \\\n",
       "0              0.0           0.538          6.575            4.09   \n",
       "1              0.0           0.538          6.575            4.09   \n",
       "2              0.0           0.538          6.575            4.09   \n",
       "3              0.0             NaN          6.575            4.09   \n",
       "4              NaN           0.538          6.575            4.09   \n",
       "\n",
       "   enrichment_RAD  enrichment_TAX  enrichment_PTRATIO  enrichment_B  \\\n",
       "0             1.0           296.0                15.3         396.9   \n",
       "1             1.0             NaN                15.3           NaN   \n",
       "2             1.0           296.0                15.3         396.9   \n",
       "3             NaN           296.0                15.3           NaN   \n",
       "4             1.0           296.0                15.3           NaN   \n",
       "\n",
       "   enrichment_LSTAT  \n",
       "0              4.98  \n",
       "1              4.98  \n",
       "2              4.98  \n",
       "3              4.98  \n",
       "4              4.98  \n",
       "\n",
       "[5 rows x 25 columns]"
      ]
     },
     "execution_count": 30,
     "metadata": {},
     "output_type": "execute_result"
    }
   ],
   "source": [
    "df.head()"
   ]
  },
  {
   "cell_type": "code",
   "execution_count": 31,
   "id": "b0b1a8a3",
   "metadata": {},
   "outputs": [],
   "source": [
    "def dequote(s):\n",
    "    \"\"\"\n",
    "    If a string has single or double quotes around it, remove them.\n",
    "    Make sure the pair of quotes match.\n",
    "    If a matching pair of quotes is not found, return the string unchanged.\n",
    "    \"\"\"\n",
    "    if (s[0] == s[-1]) and s.startswith((\"'\", '\"')):\n",
    "        return s[1:-1]\n",
    "    return s"
   ]
  },
  {
   "cell_type": "code",
   "execution_count": 32,
   "id": "06154344",
   "metadata": {},
   "outputs": [],
   "source": [
    "df[\"customer\"]=df[\"customer\"].map(lambda x: dequote(x))"
   ]
  },
  {
   "cell_type": "code",
   "execution_count": 33,
   "id": "ced72054",
   "metadata": {},
   "outputs": [],
   "source": [
    "df[\"age\"]=df[\"age\"].map(lambda x: dequote(str(x)))"
   ]
  },
  {
   "cell_type": "code",
   "execution_count": 34,
   "id": "d882d4ad",
   "metadata": {},
   "outputs": [],
   "source": [
    "df[\"gender\"]=df[\"gender\"].map(lambda x: dequote(str(x)))"
   ]
  },
  {
   "cell_type": "code",
   "execution_count": 35,
   "id": "d08ae0a0",
   "metadata": {},
   "outputs": [],
   "source": [
    "df[\"zipcodeOri\"]=df[\"zipcodeOri\"].map(lambda x: dequote(str(x)))"
   ]
  },
  {
   "cell_type": "code",
   "execution_count": 36,
   "id": "cf27a37c",
   "metadata": {},
   "outputs": [],
   "source": [
    "\n",
    "df[\"merchant\"]=df[\"merchant\"].map(lambda x: dequote(str(x)))"
   ]
  },
  {
   "cell_type": "code",
   "execution_count": 37,
   "id": "28a99380",
   "metadata": {},
   "outputs": [],
   "source": [
    "\n",
    "df[\"zipMerchant\"]=df[\"zipMerchant\"].map(lambda x: dequote(str(x)))"
   ]
  },
  {
   "cell_type": "code",
   "execution_count": 38,
   "id": "64862d02",
   "metadata": {},
   "outputs": [],
   "source": [
    "\n",
    "df[\"category\"]=df[\"category\"].map(lambda x: dequote(str(x)))"
   ]
  },
  {
   "cell_type": "code",
   "execution_count": 39,
   "id": "a5aa4514",
   "metadata": {},
   "outputs": [
    {
     "name": "stdout",
     "output_type": "stream",
     "text": [
      "step\n"
     ]
    },
    {
     "data": {
      "text/plain": [
       "175    3774\n",
       "177    3758\n",
       "152    3746\n",
       "178    3743\n",
       "174    3743\n",
       "       ... \n",
       "5      2525\n",
       "3      2499\n",
       "2      2462\n",
       "0      2430\n",
       "1      2424\n",
       "Name: step, Length: 180, dtype: int64"
      ]
     },
     "metadata": {},
     "output_type": "display_data"
    },
    {
     "name": "stdout",
     "output_type": "stream",
     "text": [
      "customer\n"
     ]
    },
    {
     "data": {
      "text/plain": [
       "C1978250683    265\n",
       "C1275518867    252\n",
       "C806399525     237\n",
       "C515668508     205\n",
       "C1338396147    195\n",
       "              ... \n",
       "C1345586046      6\n",
       "C1156745710      6\n",
       "C1809646275      5\n",
       "C1404665203      5\n",
       "C1743702978      5\n",
       "Name: customer, Length: 4112, dtype: int64"
      ]
     },
     "metadata": {},
     "output_type": "display_data"
    },
    {
     "name": "stdout",
     "output_type": "stream",
     "text": [
      "age\n"
     ]
    },
    {
     "data": {
      "text/plain": [
       "2      177868\n",
       "3      139839\n",
       "4      103682\n",
       "5       59495\n",
       "1       55217\n",
       "nan     29643\n",
       "6       25463\n",
       "0        2305\n",
       "U        1131\n",
       "Name: age, dtype: int64"
      ]
     },
     "metadata": {},
     "output_type": "display_data"
    },
    {
     "name": "stdout",
     "output_type": "stream",
     "text": [
      "gender\n"
     ]
    },
    {
     "data": {
      "text/plain": [
       "F      285518\n",
       "M      236433\n",
       "nan     71178\n",
       "E        1057\n",
       "U         457\n",
       "Name: gender, dtype: int64"
      ]
     },
     "metadata": {},
     "output_type": "display_data"
    },
    {
     "name": "stdout",
     "output_type": "stream",
     "text": [
      "zipcodeOri\n"
     ]
    },
    {
     "data": {
      "text/plain": [
       "28007    594643\n",
       "Name: zipcodeOri, dtype: int64"
      ]
     },
     "metadata": {},
     "output_type": "display_data"
    },
    {
     "name": "stdout",
     "output_type": "stream",
     "text": [
      "merchant\n"
     ]
    },
    {
     "data": {
      "text/plain": [
       "M1823072687    299693\n",
       "M348934600     205426\n",
       "M85975013       26254\n",
       "M1053599405      6821\n",
       "M151143676       6373\n",
       "M855959430       6098\n",
       "M1946091778      5343\n",
       "M1913465890      3988\n",
       "M209847108       3814\n",
       "M480139044       3508\n",
       "M349281107       2881\n",
       "M1600850729      2624\n",
       "M1535107174      1868\n",
       "M980657600       1769\n",
       "M78078399        1608\n",
       "M1198415165      1580\n",
       "M840466850       1399\n",
       "M1649169323      1173\n",
       "M547558035        949\n",
       "M50039827         916\n",
       "M1888755466       912\n",
       "M692898500        900\n",
       "M1400236507       776\n",
       "M1842530320       751\n",
       "M732195782        608\n",
       "M97925176         599\n",
       "M45060432         573\n",
       "M1741626453       528\n",
       "M1313686961       527\n",
       "M1872033263       525\n",
       "M1352454843       370\n",
       "M677738360        358\n",
       "M2122776122       341\n",
       "M923029380        323\n",
       "M3697346          308\n",
       "M17379832         282\n",
       "M1748431652       274\n",
       "M1873032707       250\n",
       "M2011752106       244\n",
       "M1416436880       220\n",
       "M1294758098       191\n",
       "M1788569036       181\n",
       "M857378720        122\n",
       "M348875670        107\n",
       "M1353266412        78\n",
       "M495352832         69\n",
       "M933210764         69\n",
       "M2080407379        48\n",
       "M117188757         21\n",
       "M1726401631         3\n",
       "Name: merchant, dtype: int64"
      ]
     },
     "metadata": {},
     "output_type": "display_data"
    },
    {
     "name": "stdout",
     "output_type": "stream",
     "text": [
      "zipMerchant\n"
     ]
    },
    {
     "data": {
      "text/plain": [
       "28007    594643\n",
       "Name: zipMerchant, dtype: int64"
      ]
     },
     "metadata": {},
     "output_type": "display_data"
    },
    {
     "name": "stdout",
     "output_type": "stream",
     "text": [
      "category\n"
     ]
    },
    {
     "data": {
      "text/plain": [
       "es_transportation        505119\n",
       "es_food                   26254\n",
       "es_health                 16133\n",
       "es_wellnessandbeauty      15086\n",
       "es_fashion                 6454\n",
       "es_barsandrestaurants      6373\n",
       "es_hyper                   6098\n",
       "es_sportsandtoys           4002\n",
       "es_tech                    2370\n",
       "es_home                    1986\n",
       "es_hotelservices           1744\n",
       "es_otherservices            912\n",
       "es_contents                 885\n",
       "es_travel                   728\n",
       "es_leisure                  499\n",
       "Name: category, dtype: int64"
      ]
     },
     "metadata": {},
     "output_type": "display_data"
    },
    {
     "name": "stdout",
     "output_type": "stream",
     "text": [
      "amount\n"
     ]
    },
    {
     "data": {
      "text/plain": [
       "14930.0     146\n",
       "26670.0     146\n",
       "17570.0     145\n",
       "16120.0     143\n",
       "17260.0     143\n",
       "           ... \n",
       "200720.0      1\n",
       "575170.0      1\n",
       "107330.0      1\n",
       "106400.0      1\n",
       "532670.0      1\n",
       "Name: amount, Length: 23767, dtype: int64"
      ]
     },
     "metadata": {},
     "output_type": "display_data"
    },
    {
     "name": "stdout",
     "output_type": "stream",
     "text": [
      "fraud\n"
     ]
    },
    {
     "data": {
      "text/plain": [
       "0    587443\n",
       "1      7200\n",
       "Name: fraud, dtype: int64"
      ]
     },
     "metadata": {},
     "output_type": "display_data"
    },
    {
     "name": "stdout",
     "output_type": "stream",
     "text": [
      "interest_rate\n"
     ]
    },
    {
     "data": {
      "text/plain": [
       "0.055480    1\n",
       "0.036167    1\n",
       "0.120796    1\n",
       "0.021276    1\n",
       "0.114838    1\n",
       "           ..\n",
       "0.145116    1\n",
       "0.144645    1\n",
       "0.081143    1\n",
       "0.016349    1\n",
       "0.121481    1\n",
       "Name: interest_rate, Length: 357338, dtype: int64"
      ]
     },
     "metadata": {},
     "output_type": "display_data"
    },
    {
     "name": "stdout",
     "output_type": "stream",
     "text": [
      "debt\n"
     ]
    },
    {
     "data": {
      "text/plain": [
       "0.000000        52\n",
       "2982.786368      1\n",
       "27729.856885     1\n",
       "8682.241509      1\n",
       "1921.996696      1\n",
       "                ..\n",
       "1486.868507      1\n",
       "4476.410388      1\n",
       "5237.941990      1\n",
       "1177.471882      1\n",
       "8216.878163      1\n",
       "Name: debt, Length: 594592, dtype: int64"
      ]
     },
     "metadata": {},
     "output_type": "display_data"
    },
    {
     "name": "stdout",
     "output_type": "stream",
     "text": [
      "term\n"
     ]
    },
    {
     "data": {
      "text/plain": [
       "14    279134\n",
       "13    125909\n",
       "12     41885\n",
       "15     30771\n",
       "11     30265\n",
       "10     21150\n",
       "9      18534\n",
       "8      12786\n",
       "7      11126\n",
       "6       7929\n",
       "5       5147\n",
       "4       3177\n",
       "3       2062\n",
       "2       1618\n",
       "1       1510\n",
       "16       387\n",
       "0        294\n",
       "22       265\n",
       "21       252\n",
       "19       237\n",
       "17       205\n",
       "Name: term, dtype: int64"
      ]
     },
     "metadata": {},
     "output_type": "display_data"
    },
    {
     "name": "stdout",
     "output_type": "stream",
     "text": [
      "enrichment_CRIM\n"
     ]
    },
    {
     "data": {
      "text/plain": [
       "0.01501     1446\n",
       "14.33370    1380\n",
       "0.14455      852\n",
       "0.15936      852\n",
       "0.62976      849\n",
       "            ... \n",
       "0.08873      507\n",
       "28.65580     503\n",
       "15.57570     496\n",
       "5.09017      493\n",
       "7.52601      476\n",
       "Name: enrichment_CRIM, Length: 504, dtype: int64"
      ]
     },
     "metadata": {},
     "output_type": "display_data"
    },
    {
     "name": "stdout",
     "output_type": "stream",
     "text": [
      "enrichment_ZN\n"
     ]
    },
    {
     "data": {
      "text/plain": [
       "0.0      392349\n",
       "20.0      22089\n",
       "80.0      15282\n",
       "12.5      11250\n",
       "25.0      11211\n",
       "22.0      10436\n",
       "40.0       7530\n",
       "30.0       6655\n",
       "45.0       6591\n",
       "90.0       5021\n",
       "60.0       4435\n",
       "21.0       4360\n",
       "95.0       4053\n",
       "33.0       3880\n",
       "75.0       3260\n",
       "52.5       3255\n",
       "28.0       3237\n",
       "55.0       3176\n",
       "70.0       3160\n",
       "35.0       3054\n",
       "34.0       2994\n",
       "82.5       2263\n",
       "85.0       2140\n",
       "18.0       1195\n",
       "17.5       1125\n",
       "100.0      1113\n",
       "Name: enrichment_ZN, dtype: int64"
      ]
     },
     "metadata": {},
     "output_type": "display_data"
    },
    {
     "name": "stdout",
     "output_type": "stream",
     "text": [
      "enrichment_INDUS\n"
     ]
    },
    {
     "data": {
      "text/plain": [
       "18.10    135858\n",
       "19.58     32614\n",
       "8.14      25963\n",
       "6.20      19288\n",
       "21.89     16342\n",
       "          ...  \n",
       "0.74       1075\n",
       "4.15       1062\n",
       "1.21       1036\n",
       "3.75        886\n",
       "2.97        834\n",
       "Name: enrichment_INDUS, Length: 76, dtype: int64"
      ]
     },
     "metadata": {},
     "output_type": "display_data"
    },
    {
     "name": "stdout",
     "output_type": "stream",
     "text": [
      "enrichment_CHAS\n"
     ]
    },
    {
     "data": {
      "text/plain": [
       "0.0    331662\n",
       "1.0     25322\n",
       "Name: enrichment_CHAS, dtype: int64"
      ]
     },
     "metadata": {},
     "output_type": "display_data"
    },
    {
     "name": "stdout",
     "output_type": "stream",
     "text": [
      "enrichment_NOX\n"
     ]
    },
    {
     "data": {
      "text/plain": [
       "0.538    18002\n",
       "0.437    12000\n",
       "0.713    11938\n",
       "0.871    11833\n",
       "0.624    11072\n",
       "         ...  \n",
       "0.389      744\n",
       "0.435      736\n",
       "0.518      730\n",
       "0.422      667\n",
       "0.394      566\n",
       "Name: enrichment_NOX, Length: 81, dtype: int64"
      ]
     },
     "metadata": {},
     "output_type": "display_data"
    },
    {
     "name": "stdout",
     "output_type": "stream",
     "text": [
      "enrichment_RM\n"
     ]
    },
    {
     "data": {
      "text/plain": [
       "6.405    3330\n",
       "6.127    3158\n",
       "6.229    3142\n",
       "5.713    3126\n",
       "6.167    2953\n",
       "         ... \n",
       "5.783     802\n",
       "6.333     769\n",
       "5.963     765\n",
       "5.155     733\n",
       "6.297     718\n",
       "Name: enrichment_RM, Length: 446, dtype: int64"
      ]
     },
     "metadata": {},
     "output_type": "display_data"
    },
    {
     "name": "stdout",
     "output_type": "stream",
     "text": [
      "enrichment_DIS\n"
     ]
    },
    {
     "data": {
      "text/plain": [
       "3.4952    5567\n",
       "5.7209    4716\n",
       "6.8147    4627\n",
       "5.4007    4512\n",
       "5.2873    4336\n",
       "          ... \n",
       "4.0983     844\n",
       "2.1850     792\n",
       "2.9084     789\n",
       "1.5894     778\n",
       "2.3682     748\n",
       "Name: enrichment_DIS, Length: 412, dtype: int64"
      ]
     },
     "metadata": {},
     "output_type": "display_data"
    },
    {
     "name": "stdout",
     "output_type": "stream",
     "text": [
      "enrichment_RAD\n"
     ]
    },
    {
     "data": {
      "text/plain": [
       "24.0    135875\n",
       "5.0     123341\n",
       "4.0     117488\n",
       "3.0      39836\n",
       "6.0      28553\n",
       "8.0      26154\n",
       "2.0      25108\n",
       "1.0      21218\n",
       "7.0      17357\n",
       "Name: enrichment_RAD, dtype: int64"
      ]
     },
     "metadata": {},
     "output_type": "display_data"
    },
    {
     "name": "stdout",
     "output_type": "stream",
     "text": [
      "enrichment_TAX\n"
     ]
    },
    {
     "data": {
      "text/plain": [
       "666.0    90864\n",
       "307.0    30048\n",
       "403.0    21677\n",
       "437.0    10800\n",
       "304.0     9578\n",
       "         ...  \n",
       "198.0      703\n",
       "187.0      699\n",
       "351.0      699\n",
       "244.0      588\n",
       "285.0      554\n",
       "Name: enrichment_TAX, Length: 66, dtype: int64"
      ]
     },
     "metadata": {},
     "output_type": "display_data"
    },
    {
     "name": "stdout",
     "output_type": "stream",
     "text": [
      "enrichment_PTRATIO\n"
     ]
    },
    {
     "data": {
      "text/plain": [
       "20.2    144611\n",
       "14.7     36772\n",
       "21.0     31168\n",
       "17.8     24816\n",
       "19.2     19594\n",
       "17.4     19307\n",
       "18.6     17815\n",
       "19.1     17687\n",
       "16.6     17332\n",
       "21.2     16363\n",
       "18.4     16183\n",
       "15.2     14665\n",
       "13.0     12968\n",
       "17.9     11934\n",
       "20.9     11588\n",
       "18.7      9862\n",
       "19.7      8878\n",
       "19.6      7947\n",
       "17.6      7586\n",
       "16.4      6477\n",
       "18.0      5294\n",
       "16.0      5048\n",
       "16.1      5000\n",
       "16.9      4867\n",
       "20.1      4811\n",
       "18.3      4405\n",
       "18.2      4371\n",
       "16.8      4368\n",
       "17.0      4330\n",
       "19.0      4302\n",
       "18.5      4132\n",
       "14.9      4043\n",
       "14.8      3161\n",
       "15.3      3150\n",
       "18.9      3143\n",
       "12.6      3009\n",
       "15.6      2133\n",
       "18.8      2016\n",
       "15.9      1972\n",
       "22.0      1795\n",
       "21.1      1167\n",
       "17.3      1109\n",
       "14.4      1092\n",
       "15.1      1089\n",
       "15.5      1052\n",
       "13.6      1029\n",
       "Name: enrichment_PTRATIO, dtype: int64"
      ]
     },
     "metadata": {},
     "output_type": "display_data"
    },
    {
     "name": "stdout",
     "output_type": "stream",
     "text": [
      "enrichment_B\n"
     ]
    },
    {
     "data": {
      "text/plain": [
       "396.90    85388\n",
       "395.24     2346\n",
       "393.74     1972\n",
       "395.60     1557\n",
       "395.62     1554\n",
       "          ...  \n",
       "392.85      520\n",
       "385.09      494\n",
       "368.74      493\n",
       "304.21      491\n",
       "210.97      481\n",
       "Name: enrichment_B, Length: 357, dtype: int64"
      ]
     },
     "metadata": {},
     "output_type": "display_data"
    },
    {
     "name": "stdout",
     "output_type": "stream",
     "text": [
      "enrichment_LSTAT\n"
     ]
    },
    {
     "data": {
      "text/plain": [
       "7.79     3367\n",
       "6.36     3269\n",
       "8.05     3041\n",
       "14.10    3038\n",
       "18.13    2679\n",
       "         ... \n",
       "10.42     791\n",
       "13.45     767\n",
       "7.34      762\n",
       "19.31     743\n",
       "20.08     737\n",
       "Name: enrichment_LSTAT, Length: 455, dtype: int64"
      ]
     },
     "metadata": {},
     "output_type": "display_data"
    }
   ],
   "source": [
    "for col in df:\n",
    "    print(col)\n",
    "    display(df[col].value_counts())"
   ]
  },
  {
   "cell_type": "code",
   "execution_count": 40,
   "id": "07fa88d7",
   "metadata": {},
   "outputs": [],
   "source": [
    "\n",
    "#eliminamos las variables que son constantes\n",
    "df=df.drop(columns=[\"zipcodeOri\",\"zipMerchant\"])\n",
    "\n"
   ]
  },
  {
   "cell_type": "code",
   "execution_count": 41,
   "id": "17b7c31e",
   "metadata": {
    "scrolled": true
   },
   "outputs": [
    {
     "name": "stdout",
     "output_type": "stream",
     "text": [
      "step\n"
     ]
    },
    {
     "data": {
      "text/plain": [
       "0"
      ]
     },
     "metadata": {},
     "output_type": "display_data"
    },
    {
     "name": "stdout",
     "output_type": "stream",
     "text": [
      "customer\n"
     ]
    },
    {
     "data": {
      "text/plain": [
       "0"
      ]
     },
     "metadata": {},
     "output_type": "display_data"
    },
    {
     "name": "stdout",
     "output_type": "stream",
     "text": [
      "age\n"
     ]
    },
    {
     "data": {
      "text/plain": [
       "0"
      ]
     },
     "metadata": {},
     "output_type": "display_data"
    },
    {
     "name": "stdout",
     "output_type": "stream",
     "text": [
      "gender\n"
     ]
    },
    {
     "data": {
      "text/plain": [
       "0"
      ]
     },
     "metadata": {},
     "output_type": "display_data"
    },
    {
     "name": "stdout",
     "output_type": "stream",
     "text": [
      "merchant\n"
     ]
    },
    {
     "data": {
      "text/plain": [
       "0"
      ]
     },
     "metadata": {},
     "output_type": "display_data"
    },
    {
     "name": "stdout",
     "output_type": "stream",
     "text": [
      "category\n"
     ]
    },
    {
     "data": {
      "text/plain": [
       "0"
      ]
     },
     "metadata": {},
     "output_type": "display_data"
    },
    {
     "name": "stdout",
     "output_type": "stream",
     "text": [
      "amount\n"
     ]
    },
    {
     "data": {
      "text/plain": [
       "0"
      ]
     },
     "metadata": {},
     "output_type": "display_data"
    },
    {
     "name": "stdout",
     "output_type": "stream",
     "text": [
      "fraud\n"
     ]
    },
    {
     "data": {
      "text/plain": [
       "0"
      ]
     },
     "metadata": {},
     "output_type": "display_data"
    },
    {
     "name": "stdout",
     "output_type": "stream",
     "text": [
      "interest_rate\n"
     ]
    },
    {
     "data": {
      "text/plain": [
       "237305"
      ]
     },
     "metadata": {},
     "output_type": "display_data"
    },
    {
     "name": "stdout",
     "output_type": "stream",
     "text": [
      "debt\n"
     ]
    },
    {
     "data": {
      "text/plain": [
       "0"
      ]
     },
     "metadata": {},
     "output_type": "display_data"
    },
    {
     "name": "stdout",
     "output_type": "stream",
     "text": [
      "term\n"
     ]
    },
    {
     "data": {
      "text/plain": [
       "0"
      ]
     },
     "metadata": {},
     "output_type": "display_data"
    },
    {
     "name": "stdout",
     "output_type": "stream",
     "text": [
      "enrichment_CRIM\n"
     ]
    },
    {
     "data": {
      "text/plain": [
       "238062"
      ]
     },
     "metadata": {},
     "output_type": "display_data"
    },
    {
     "name": "stdout",
     "output_type": "stream",
     "text": [
      "enrichment_ZN\n"
     ]
    },
    {
     "data": {
      "text/plain": [
       "59529"
      ]
     },
     "metadata": {},
     "output_type": "display_data"
    },
    {
     "name": "stdout",
     "output_type": "stream",
     "text": [
      "enrichment_INDUS\n"
     ]
    },
    {
     "data": {
      "text/plain": [
       "59109"
      ]
     },
     "metadata": {},
     "output_type": "display_data"
    },
    {
     "name": "stdout",
     "output_type": "stream",
     "text": [
      "enrichment_CHAS\n"
     ]
    },
    {
     "data": {
      "text/plain": [
       "237659"
      ]
     },
     "metadata": {},
     "output_type": "display_data"
    },
    {
     "name": "stdout",
     "output_type": "stream",
     "text": [
      "enrichment_NOX\n"
     ]
    },
    {
     "data": {
      "text/plain": [
       "237366"
      ]
     },
     "metadata": {},
     "output_type": "display_data"
    },
    {
     "name": "stdout",
     "output_type": "stream",
     "text": [
      "enrichment_RM\n"
     ]
    },
    {
     "data": {
      "text/plain": [
       "59198"
      ]
     },
     "metadata": {},
     "output_type": "display_data"
    },
    {
     "name": "stdout",
     "output_type": "stream",
     "text": [
      "enrichment_DIS\n"
     ]
    },
    {
     "data": {
      "text/plain": [
       "29750"
      ]
     },
     "metadata": {},
     "output_type": "display_data"
    },
    {
     "name": "stdout",
     "output_type": "stream",
     "text": [
      "enrichment_RAD\n"
     ]
    },
    {
     "data": {
      "text/plain": [
       "59713"
      ]
     },
     "metadata": {},
     "output_type": "display_data"
    },
    {
     "name": "stdout",
     "output_type": "stream",
     "text": [
      "enrichment_TAX\n"
     ]
    },
    {
     "data": {
      "text/plain": [
       "237700"
      ]
     },
     "metadata": {},
     "output_type": "display_data"
    },
    {
     "name": "stdout",
     "output_type": "stream",
     "text": [
      "enrichment_PTRATIO\n"
     ]
    },
    {
     "data": {
      "text/plain": [
       "59202"
      ]
     },
     "metadata": {},
     "output_type": "display_data"
    },
    {
     "name": "stdout",
     "output_type": "stream",
     "text": [
      "enrichment_B\n"
     ]
    },
    {
     "data": {
      "text/plain": [
       "237704"
      ]
     },
     "metadata": {},
     "output_type": "display_data"
    },
    {
     "name": "stdout",
     "output_type": "stream",
     "text": [
      "enrichment_LSTAT\n"
     ]
    },
    {
     "data": {
      "text/plain": [
       "59571"
      ]
     },
     "metadata": {},
     "output_type": "display_data"
    }
   ],
   "source": [
    "#checamos nulls\n",
    "for col in df:\n",
    "    print(col)\n",
    "    display(df[col].isnull().sum())"
   ]
  },
  {
   "cell_type": "code",
   "execution_count": 42,
   "id": "4e206e9a",
   "metadata": {},
   "outputs": [
    {
     "data": {
      "text/plain": [
       "0    2\n",
       "dtype: object"
      ]
     },
     "execution_count": 42,
     "metadata": {},
     "output_type": "execute_result"
    }
   ],
   "source": [
    "#age\n",
    "df[\"age\"].mode()"
   ]
  },
  {
   "cell_type": "code",
   "execution_count": 43,
   "id": "bec62e18",
   "metadata": {},
   "outputs": [],
   "source": [
    "df[\"age\"]=df[\"age\"].replace(\"U\",2)\n",
    "df[\"age\"]=df[\"age\"].fillna(2)\n",
    "df[\"age\"]=df[\"age\"].replace(\"nan\",2)\n"
   ]
  },
  {
   "cell_type": "code",
   "execution_count": 44,
   "id": "c0a6fd24",
   "metadata": {},
   "outputs": [
    {
     "data": {
      "text/plain": [
       "0    F\n",
       "dtype: object"
      ]
     },
     "execution_count": 44,
     "metadata": {},
     "output_type": "execute_result"
    }
   ],
   "source": [
    "#gender\n",
    "df[\"gender\"].mode()"
   ]
  },
  {
   "cell_type": "code",
   "execution_count": 45,
   "id": "415cd475",
   "metadata": {},
   "outputs": [],
   "source": [
    "df[\"gender\"]=df[\"gender\"].replace(\"U\",\"F\")\n",
    "df[\"gender\"]=df[\"gender\"].fillna(\"F\")\n",
    "df[\"gender\"]=df[\"gender\"].replace(\"nan\",\"F\")"
   ]
  },
  {
   "cell_type": "code",
   "execution_count": 46,
   "id": "944e1939",
   "metadata": {},
   "outputs": [],
   "source": [
    "col_null=[\"interest_rate\",\"enrichment_CRIM\",\"enrichment_ZN\",\"enrichment_INDUS\",\"enrichment_CHAS\",\"enrichment_NOX\",\"enrichment_RM\",\n",
    "\"enrichment_DIS\",\"enrichment_RAD\",\"enrichment_TAX\",\"enrichment_PTRATIO\",\"enrichment_B\",\"enrichment_LSTAT\"]"
   ]
  },
  {
   "cell_type": "code",
   "execution_count": 47,
   "id": "cabdb627",
   "metadata": {},
   "outputs": [],
   "source": [
    "def fillnull_mean(cad_columnas,df):        \n",
    "    for x in cad_columnas: \n",
    "        m=df[x].mean()\n",
    "        df[x]=df[x].fillna(m)\n",
    "    return df "
   ]
  },
  {
   "cell_type": "code",
   "execution_count": 48,
   "id": "1ec2078f",
   "metadata": {},
   "outputs": [],
   "source": [
    "df_no=fillnull_mean(col_null,df)"
   ]
  },
  {
   "cell_type": "code",
   "execution_count": 49,
   "id": "ef289a61",
   "metadata": {},
   "outputs": [
    {
     "data": {
      "text/html": [
       "<div>\n",
       "<style scoped>\n",
       "    .dataframe tbody tr th:only-of-type {\n",
       "        vertical-align: middle;\n",
       "    }\n",
       "\n",
       "    .dataframe tbody tr th {\n",
       "        vertical-align: top;\n",
       "    }\n",
       "\n",
       "    .dataframe thead th {\n",
       "        text-align: right;\n",
       "    }\n",
       "</style>\n",
       "<table border=\"1\" class=\"dataframe\">\n",
       "  <thead>\n",
       "    <tr style=\"text-align: right;\">\n",
       "      <th></th>\n",
       "      <th>step</th>\n",
       "      <th>customer</th>\n",
       "      <th>age</th>\n",
       "      <th>gender</th>\n",
       "      <th>merchant</th>\n",
       "      <th>category</th>\n",
       "      <th>amount</th>\n",
       "      <th>fraud</th>\n",
       "      <th>interest_rate</th>\n",
       "      <th>debt</th>\n",
       "      <th>...</th>\n",
       "      <th>enrichment_INDUS</th>\n",
       "      <th>enrichment_CHAS</th>\n",
       "      <th>enrichment_NOX</th>\n",
       "      <th>enrichment_RM</th>\n",
       "      <th>enrichment_DIS</th>\n",
       "      <th>enrichment_RAD</th>\n",
       "      <th>enrichment_TAX</th>\n",
       "      <th>enrichment_PTRATIO</th>\n",
       "      <th>enrichment_B</th>\n",
       "      <th>enrichment_LSTAT</th>\n",
       "    </tr>\n",
       "  </thead>\n",
       "  <tbody>\n",
       "    <tr>\n",
       "      <th>0</th>\n",
       "      <td>0</td>\n",
       "      <td>C1093826151</td>\n",
       "      <td>4</td>\n",
       "      <td>M</td>\n",
       "      <td>M348934600</td>\n",
       "      <td>es_transportation</td>\n",
       "      <td>4550.0</td>\n",
       "      <td>0</td>\n",
       "      <td>0.176965</td>\n",
       "      <td>384.701865</td>\n",
       "      <td>...</td>\n",
       "      <td>2.310000</td>\n",
       "      <td>0.000000</td>\n",
       "      <td>0.538000</td>\n",
       "      <td>6.575</td>\n",
       "      <td>4.0900</td>\n",
       "      <td>1.000000</td>\n",
       "      <td>296.000000</td>\n",
       "      <td>15.3</td>\n",
       "      <td>396.900000</td>\n",
       "      <td>4.98</td>\n",
       "    </tr>\n",
       "    <tr>\n",
       "      <th>1</th>\n",
       "      <td>1</td>\n",
       "      <td>C1093826151</td>\n",
       "      <td>4</td>\n",
       "      <td>F</td>\n",
       "      <td>M855959430</td>\n",
       "      <td>es_hyper</td>\n",
       "      <td>14380.0</td>\n",
       "      <td>0</td>\n",
       "      <td>0.151851</td>\n",
       "      <td>5346.143350</td>\n",
       "      <td>...</td>\n",
       "      <td>2.310000</td>\n",
       "      <td>0.000000</td>\n",
       "      <td>0.538000</td>\n",
       "      <td>6.575</td>\n",
       "      <td>4.0900</td>\n",
       "      <td>1.000000</td>\n",
       "      <td>406.148626</td>\n",
       "      <td>15.3</td>\n",
       "      <td>357.015747</td>\n",
       "      <td>4.98</td>\n",
       "    </tr>\n",
       "    <tr>\n",
       "      <th>2</th>\n",
       "      <td>2</td>\n",
       "      <td>C1093826151</td>\n",
       "      <td>4</td>\n",
       "      <td>M</td>\n",
       "      <td>M348934600</td>\n",
       "      <td>es_transportation</td>\n",
       "      <td>37210.0</td>\n",
       "      <td>0</td>\n",
       "      <td>0.114909</td>\n",
       "      <td>15249.782295</td>\n",
       "      <td>...</td>\n",
       "      <td>2.310000</td>\n",
       "      <td>0.000000</td>\n",
       "      <td>0.538000</td>\n",
       "      <td>6.575</td>\n",
       "      <td>4.0900</td>\n",
       "      <td>1.000000</td>\n",
       "      <td>296.000000</td>\n",
       "      <td>15.3</td>\n",
       "      <td>396.900000</td>\n",
       "      <td>4.98</td>\n",
       "    </tr>\n",
       "    <tr>\n",
       "      <th>3</th>\n",
       "      <td>3</td>\n",
       "      <td>C1093826151</td>\n",
       "      <td>4</td>\n",
       "      <td>M</td>\n",
       "      <td>M348934600</td>\n",
       "      <td>es_transportation</td>\n",
       "      <td>31630.0</td>\n",
       "      <td>0</td>\n",
       "      <td>0.177298</td>\n",
       "      <td>4101.539296</td>\n",
       "      <td>...</td>\n",
       "      <td>2.310000</td>\n",
       "      <td>0.000000</td>\n",
       "      <td>0.554865</td>\n",
       "      <td>6.575</td>\n",
       "      <td>4.0900</td>\n",
       "      <td>9.423005</td>\n",
       "      <td>296.000000</td>\n",
       "      <td>15.3</td>\n",
       "      <td>357.015747</td>\n",
       "      <td>4.98</td>\n",
       "    </tr>\n",
       "    <tr>\n",
       "      <th>4</th>\n",
       "      <td>4</td>\n",
       "      <td>C1093826151</td>\n",
       "      <td>4</td>\n",
       "      <td>M</td>\n",
       "      <td>M348934600</td>\n",
       "      <td>es_transportation</td>\n",
       "      <td>35860.0</td>\n",
       "      <td>0</td>\n",
       "      <td>0.087209</td>\n",
       "      <td>14069.969512</td>\n",
       "      <td>...</td>\n",
       "      <td>2.310000</td>\n",
       "      <td>0.070933</td>\n",
       "      <td>0.538000</td>\n",
       "      <td>6.575</td>\n",
       "      <td>4.0900</td>\n",
       "      <td>1.000000</td>\n",
       "      <td>296.000000</td>\n",
       "      <td>15.3</td>\n",
       "      <td>357.015747</td>\n",
       "      <td>4.98</td>\n",
       "    </tr>\n",
       "    <tr>\n",
       "      <th>...</th>\n",
       "      <td>...</td>\n",
       "      <td>...</td>\n",
       "      <td>...</td>\n",
       "      <td>...</td>\n",
       "      <td>...</td>\n",
       "      <td>...</td>\n",
       "      <td>...</td>\n",
       "      <td>...</td>\n",
       "      <td>...</td>\n",
       "      <td>...</td>\n",
       "      <td>...</td>\n",
       "      <td>...</td>\n",
       "      <td>...</td>\n",
       "      <td>...</td>\n",
       "      <td>...</td>\n",
       "      <td>...</td>\n",
       "      <td>...</td>\n",
       "      <td>...</td>\n",
       "      <td>...</td>\n",
       "      <td>...</td>\n",
       "      <td>...</td>\n",
       "    </tr>\n",
       "    <tr>\n",
       "      <th>594638</th>\n",
       "      <td>135</td>\n",
       "      <td>C1809646275</td>\n",
       "      <td>3</td>\n",
       "      <td>F</td>\n",
       "      <td>M480139044</td>\n",
       "      <td>es_health</td>\n",
       "      <td>274070.0</td>\n",
       "      <td>1</td>\n",
       "      <td>0.048787</td>\n",
       "      <td>132128.846791</td>\n",
       "      <td>...</td>\n",
       "      <td>5.130000</td>\n",
       "      <td>0.000000</td>\n",
       "      <td>0.453000</td>\n",
       "      <td>6.762</td>\n",
       "      <td>7.9809</td>\n",
       "      <td>9.423005</td>\n",
       "      <td>284.000000</td>\n",
       "      <td>19.7</td>\n",
       "      <td>395.580000</td>\n",
       "      <td>9.50</td>\n",
       "    </tr>\n",
       "    <tr>\n",
       "      <th>594639</th>\n",
       "      <td>149</td>\n",
       "      <td>C1809646275</td>\n",
       "      <td>3</td>\n",
       "      <td>F</td>\n",
       "      <td>M980657600</td>\n",
       "      <td>es_sportsandtoys</td>\n",
       "      <td>258290.0</td>\n",
       "      <td>1</td>\n",
       "      <td>0.087178</td>\n",
       "      <td>20163.667699</td>\n",
       "      <td>...</td>\n",
       "      <td>5.130000</td>\n",
       "      <td>0.070933</td>\n",
       "      <td>0.554865</td>\n",
       "      <td>6.762</td>\n",
       "      <td>7.9809</td>\n",
       "      <td>8.000000</td>\n",
       "      <td>406.148626</td>\n",
       "      <td>19.7</td>\n",
       "      <td>357.015747</td>\n",
       "      <td>9.50</td>\n",
       "    </tr>\n",
       "    <tr>\n",
       "      <th>594640</th>\n",
       "      <td>152</td>\n",
       "      <td>C1809646275</td>\n",
       "      <td>3</td>\n",
       "      <td>F</td>\n",
       "      <td>M980657600</td>\n",
       "      <td>es_sportsandtoys</td>\n",
       "      <td>64760.0</td>\n",
       "      <td>0</td>\n",
       "      <td>0.012046</td>\n",
       "      <td>6484.634258</td>\n",
       "      <td>...</td>\n",
       "      <td>5.130000</td>\n",
       "      <td>0.070933</td>\n",
       "      <td>0.554865</td>\n",
       "      <td>6.762</td>\n",
       "      <td>7.9809</td>\n",
       "      <td>8.000000</td>\n",
       "      <td>284.000000</td>\n",
       "      <td>19.7</td>\n",
       "      <td>357.015747</td>\n",
       "      <td>9.50</td>\n",
       "    </tr>\n",
       "    <tr>\n",
       "      <th>594641</th>\n",
       "      <td>152</td>\n",
       "      <td>C1809646275</td>\n",
       "      <td>3</td>\n",
       "      <td>F</td>\n",
       "      <td>M2122776122</td>\n",
       "      <td>es_home</td>\n",
       "      <td>139140.0</td>\n",
       "      <td>1</td>\n",
       "      <td>0.104999</td>\n",
       "      <td>48207.639552</td>\n",
       "      <td>...</td>\n",
       "      <td>11.077004</td>\n",
       "      <td>0.000000</td>\n",
       "      <td>0.453000</td>\n",
       "      <td>6.762</td>\n",
       "      <td>7.9809</td>\n",
       "      <td>8.000000</td>\n",
       "      <td>284.000000</td>\n",
       "      <td>19.7</td>\n",
       "      <td>357.015747</td>\n",
       "      <td>9.50</td>\n",
       "    </tr>\n",
       "    <tr>\n",
       "      <th>594642</th>\n",
       "      <td>152</td>\n",
       "      <td>C1809646275</td>\n",
       "      <td>3</td>\n",
       "      <td>F</td>\n",
       "      <td>M2122776122</td>\n",
       "      <td>es_home</td>\n",
       "      <td>615290.0</td>\n",
       "      <td>1</td>\n",
       "      <td>0.104999</td>\n",
       "      <td>148448.602560</td>\n",
       "      <td>...</td>\n",
       "      <td>5.130000</td>\n",
       "      <td>0.000000</td>\n",
       "      <td>0.554865</td>\n",
       "      <td>6.762</td>\n",
       "      <td>7.9809</td>\n",
       "      <td>8.000000</td>\n",
       "      <td>406.148626</td>\n",
       "      <td>19.7</td>\n",
       "      <td>357.015747</td>\n",
       "      <td>9.50</td>\n",
       "    </tr>\n",
       "  </tbody>\n",
       "</table>\n",
       "<p>594643 rows × 23 columns</p>\n",
       "</div>"
      ],
      "text/plain": [
       "        step     customer age gender     merchant           category  \\\n",
       "0          0  C1093826151   4      M   M348934600  es_transportation   \n",
       "1          1  C1093826151   4      F   M855959430           es_hyper   \n",
       "2          2  C1093826151   4      M   M348934600  es_transportation   \n",
       "3          3  C1093826151   4      M   M348934600  es_transportation   \n",
       "4          4  C1093826151   4      M   M348934600  es_transportation   \n",
       "...      ...          ...  ..    ...          ...                ...   \n",
       "594638   135  C1809646275   3      F   M480139044          es_health   \n",
       "594639   149  C1809646275   3      F   M980657600   es_sportsandtoys   \n",
       "594640   152  C1809646275   3      F   M980657600   es_sportsandtoys   \n",
       "594641   152  C1809646275   3      F  M2122776122            es_home   \n",
       "594642   152  C1809646275   3      F  M2122776122            es_home   \n",
       "\n",
       "          amount  fraud  interest_rate           debt  ...  enrichment_INDUS  \\\n",
       "0         4550.0      0       0.176965     384.701865  ...          2.310000   \n",
       "1        14380.0      0       0.151851    5346.143350  ...          2.310000   \n",
       "2        37210.0      0       0.114909   15249.782295  ...          2.310000   \n",
       "3        31630.0      0       0.177298    4101.539296  ...          2.310000   \n",
       "4        35860.0      0       0.087209   14069.969512  ...          2.310000   \n",
       "...          ...    ...            ...            ...  ...               ...   \n",
       "594638  274070.0      1       0.048787  132128.846791  ...          5.130000   \n",
       "594639  258290.0      1       0.087178   20163.667699  ...          5.130000   \n",
       "594640   64760.0      0       0.012046    6484.634258  ...          5.130000   \n",
       "594641  139140.0      1       0.104999   48207.639552  ...         11.077004   \n",
       "594642  615290.0      1       0.104999  148448.602560  ...          5.130000   \n",
       "\n",
       "        enrichment_CHAS  enrichment_NOX  enrichment_RM  enrichment_DIS  \\\n",
       "0              0.000000        0.538000          6.575          4.0900   \n",
       "1              0.000000        0.538000          6.575          4.0900   \n",
       "2              0.000000        0.538000          6.575          4.0900   \n",
       "3              0.000000        0.554865          6.575          4.0900   \n",
       "4              0.070933        0.538000          6.575          4.0900   \n",
       "...                 ...             ...            ...             ...   \n",
       "594638         0.000000        0.453000          6.762          7.9809   \n",
       "594639         0.070933        0.554865          6.762          7.9809   \n",
       "594640         0.070933        0.554865          6.762          7.9809   \n",
       "594641         0.000000        0.453000          6.762          7.9809   \n",
       "594642         0.000000        0.554865          6.762          7.9809   \n",
       "\n",
       "        enrichment_RAD  enrichment_TAX  enrichment_PTRATIO  enrichment_B  \\\n",
       "0             1.000000      296.000000                15.3    396.900000   \n",
       "1             1.000000      406.148626                15.3    357.015747   \n",
       "2             1.000000      296.000000                15.3    396.900000   \n",
       "3             9.423005      296.000000                15.3    357.015747   \n",
       "4             1.000000      296.000000                15.3    357.015747   \n",
       "...                ...             ...                 ...           ...   \n",
       "594638        9.423005      284.000000                19.7    395.580000   \n",
       "594639        8.000000      406.148626                19.7    357.015747   \n",
       "594640        8.000000      284.000000                19.7    357.015747   \n",
       "594641        8.000000      284.000000                19.7    357.015747   \n",
       "594642        8.000000      406.148626                19.7    357.015747   \n",
       "\n",
       "        enrichment_LSTAT  \n",
       "0                   4.98  \n",
       "1                   4.98  \n",
       "2                   4.98  \n",
       "3                   4.98  \n",
       "4                   4.98  \n",
       "...                  ...  \n",
       "594638              9.50  \n",
       "594639              9.50  \n",
       "594640              9.50  \n",
       "594641              9.50  \n",
       "594642              9.50  \n",
       "\n",
       "[594643 rows x 23 columns]"
      ]
     },
     "execution_count": 49,
     "metadata": {},
     "output_type": "execute_result"
    }
   ],
   "source": [
    "df_no"
   ]
  },
  {
   "cell_type": "code",
   "execution_count": 50,
   "id": "a623d852",
   "metadata": {},
   "outputs": [],
   "source": [
    "#transformación categoricas a dummie\n",
    "df_no_dummies=df_no.drop(columns=[\"customer\",\"step\"])"
   ]
  },
  {
   "cell_type": "code",
   "execution_count": 51,
   "id": "d3d3c5fb",
   "metadata": {},
   "outputs": [],
   "source": [
    "df_no_dummies=pd.get_dummies(data=df_no_dummies,columns=[\"gender\",\"merchant\",\"category\"])"
   ]
  },
  {
   "cell_type": "code",
   "execution_count": 52,
   "id": "97bb559e",
   "metadata": {},
   "outputs": [],
   "source": [
    "#feature selection\n",
    "data=df_no_dummies.copy()"
   ]
  },
  {
   "cell_type": "code",
   "execution_count": 53,
   "id": "4c0a49a8",
   "metadata": {},
   "outputs": [],
   "source": [
    "data.to_csv(\"C:/Users/MX03932000/Documents/Personales/Mod_3/p1/df.csv\",index=False)"
   ]
  },
  {
   "cell_type": "code",
   "execution_count": 54,
   "id": "e367883a",
   "metadata": {},
   "outputs": [],
   "source": [
    "X=data.drop(columns=[\"fraud\"])\n",
    "y=data[[\"fraud\"]]"
   ]
  },
  {
   "cell_type": "code",
   "execution_count": 55,
   "id": "a15ef9fd",
   "metadata": {},
   "outputs": [],
   "source": [
    "X_train, X_test, y_train, y_test = train_test_split(X, y, test_size=0.30, random_state=12345,stratify=y)"
   ]
  },
  {
   "cell_type": "code",
   "execution_count": 28,
   "id": "a98d7c07",
   "metadata": {},
   "outputs": [
    {
     "name": "stderr",
     "output_type": "stream",
     "text": [
      "C:\\Users\\MX03932000\\Documents\\BD SQL\\WinPython\\WPy64-3890\\python-3.8.9.amd64\\lib\\site-packages\\sklearn\\utils\\validation.py:63: DataConversionWarning: A column-vector y was passed when a 1d array was expected. Please change the shape of y to (n_samples, ), for example using ravel().\n",
      "  return f(*args, **kwargs)\n"
     ]
    },
    {
     "data": {
      "text/plain": [
       "array([1.98617915e-02, 4.13875556e-02, 1.34410680e-03, 3.42727493e-02,\n",
       "       3.42881120e-02, 1.60717008e-02, 2.60158644e-03, 1.35683068e-02,\n",
       "       1.50698883e-03, 1.23575000e-02, 6.55614879e-03, 5.73241134e-03,\n",
       "       1.74832472e-02, 1.86941091e-02, 1.10671285e-02, 1.99369634e-02,\n",
       "       6.32758927e-03, 0.00000000e+00, 3.66793025e-02, 1.59357623e-02,\n",
       "       4.38105178e-05, 0.00000000e+00, 1.06877966e-03, 1.15974861e-03,\n",
       "       2.32387934e-07, 2.49252666e-04, 4.49526935e-04, 0.00000000e+00,\n",
       "       3.53224898e-05, 0.00000000e+00, 4.75045149e-04, 0.00000000e+00,\n",
       "       1.21443093e-05, 0.00000000e+00, 1.23699140e-03, 9.88789818e-04,\n",
       "       7.91242595e-06, 0.00000000e+00, 3.49671403e-02, 0.00000000e+00,\n",
       "       0.00000000e+00, 1.70627847e-03, 9.15485869e-04, 4.41445950e-04,\n",
       "       0.00000000e+00, 8.38833304e-04, 1.27307854e-04, 1.09931219e-04,\n",
       "       1.04098315e-03, 1.62640412e-04, 1.71678211e-02, 0.00000000e+00,\n",
       "       1.80851635e-03, 9.66114877e-05, 7.94042473e-03, 1.27365169e-05,\n",
       "       1.02927000e-05, 0.00000000e+00, 3.13957997e-05, 4.18353647e-04,\n",
       "       3.51121385e-03, 6.77177762e-05, 3.31438596e-04, 2.57733986e-04,\n",
       "       8.28203771e-04, 5.72244701e-04, 3.49417890e-04, 0.00000000e+00,\n",
       "       0.00000000e+00, 9.90052764e-03, 7.88727814e-05, 3.39077189e-04,\n",
       "       0.00000000e+00, 5.28659896e-04, 3.91609965e-03, 1.13282812e-03,\n",
       "       2.45272838e-03, 3.14394865e-04, 3.42383870e-03, 1.09725494e-03,\n",
       "       1.05559668e-02, 2.41119552e-04, 9.82383601e-02, 3.74692694e-03,\n",
       "       1.04928313e-03])"
      ]
     },
     "execution_count": 28,
     "metadata": {},
     "output_type": "execute_result"
    }
   ],
   "source": [
    "from sklearn.feature_selection import mutual_info_classif\n",
    "# determine the mutual information\n",
    "mutual_info = mutual_info_classif(X_train, y_train)\n",
    "mutual_info"
   ]
  },
  {
   "cell_type": "code",
   "execution_count": 29,
   "id": "16da547f",
   "metadata": {},
   "outputs": [
    {
     "data": {
      "text/plain": [
       "category_es_transportation    False\n",
       "amount                        False\n",
       "gender_F                      False\n",
       "merchant_M1823072687          False\n",
       "term                          False\n",
       "                              ...  \n",
       "merchant_M151143676           False\n",
       "merchant_M97925176            False\n",
       "merchant_M933210764           False\n",
       "merchant_M547558035           False\n",
       "merchant_M1788569036          False\n",
       "Length: 85, dtype: bool"
      ]
     },
     "execution_count": 29,
     "metadata": {},
     "output_type": "execute_result"
    }
   ],
   "source": [
    "mutual_info = pd.Series(mutual_info)\n",
    "mutual_info.index = X_train.columns\n",
    "mutual_info.sort_values(ascending=False)>.2"
   ]
  },
  {
   "cell_type": "code",
   "execution_count": 30,
   "id": "f7a03b30",
   "metadata": {},
   "outputs": [
    {
     "data": {
      "text/plain": [
       "<AxesSubplot:>"
      ]
     },
     "execution_count": 30,
     "metadata": {},
     "output_type": "execute_result"
    },
    {
     "data": {
      "image/png": "[encoded data removed]",
      "text/plain": [
       "<Figure size 1440x576 with 1 Axes>"
      ]
     },
     "metadata": {},
     "output_type": "display_data"
    }
   ],
   "source": [
    "mutual_info.sort_values(ascending=False).plot.bar(figsize=(20, 8))"
   ]
  },
  {
   "cell_type": "code",
   "execution_count": 31,
   "id": "c06862d1",
   "metadata": {},
   "outputs": [],
   "source": [
    "from sklearn.feature_selection import SelectKBest"
   ]
  },
  {
   "cell_type": "code",
   "execution_count": 32,
   "id": "4b2bdcbd",
   "metadata": {},
   "outputs": [
    {
     "name": "stderr",
     "output_type": "stream",
     "text": [
      "C:\\Users\\MX03932000\\Documents\\BD SQL\\WinPython\\WPy64-3890\\python-3.8.9.amd64\\lib\\site-packages\\sklearn\\utils\\validation.py:63: DataConversionWarning: A column-vector y was passed when a 1d array was expected. Please change the shape of y to (n_samples, ), for example using ravel().\n",
      "  return f(*args, **kwargs)\n"
     ]
    },
    {
     "data": {
      "text/plain": [
       "Index(['age', 'amount', 'debt', 'term', 'enrichment_RAD', 'enrichment_TAX',\n",
       "       'enrichment_B', 'gender_F', 'merchant_M1823072687',\n",
       "       'category_es_transportation'],\n",
       "      dtype='object')"
      ]
     },
     "execution_count": 32,
     "metadata": {},
     "output_type": "execute_result"
    }
   ],
   "source": [
    "#se usa chi2, que funciona mejor para tareas de clasificación, elimina variables menos importantes, correlaciones negativas,\n",
    "\n",
    "sel_five_cols = SelectKBest(mutual_info_classif, k=10)\n",
    "sel_five_cols.fit(X_train, y_train)\n",
    "X_train.columns[sel_five_cols.get_support()]"
   ]
  },
  {
   "cell_type": "code",
   "execution_count": 56,
   "id": "e093a058",
   "metadata": {},
   "outputs": [],
   "source": [
    "X_=data[['age', 'amount', 'debt', 'term', 'enrichment_RAD', 'enrichment_TAX',\n",
    "       'enrichment_B', 'gender_F', 'merchant_M1823072687',\n",
    "       'category_es_transportation']]\n",
    "y=y.copy()"
   ]
  },
  {
   "cell_type": "code",
   "execution_count": null,
   "id": "39c57c38",
   "metadata": {},
   "outputs": [],
   "source": []
  }
 ],
 "metadata": {
  "kernelspec": {
   "display_name": "Python 3",
   "language": "python",
   "name": "python3"
  },
  "language_info": {
   "codemirror_mode": {
    "name": "ipython",
    "version": 3
   },
   "file_extension": ".py",
   "mimetype": "text/x-python",
   "name": "python",
   "nbconvert_exporter": "python",
   "pygments_lexer": "ipython3",
   "version": "3.8.9"
  }
 },
 "nbformat": 4,
 "nbformat_minor": 5
}
