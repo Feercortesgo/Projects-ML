{
 "cells": [
  {
   "cell_type": "markdown",
   "metadata": {},
   "source": [
    "# Tarea 1 \n",
    "Esta tarea consiste de tres partes, dos se ellas son obligatorias, y la última es extra. \n",
    "\n",
    "Sigue las instrucciones en los comentarios para resolver las dos primeras partes. \n",
    "\n",
    "**Deadline: 10 octubre 23:59 PM**"
   ]
  },
  {
   "cell_type": "code",
   "execution_count": 1,
   "metadata": {},
   "outputs": [],
   "source": [
    "## Importa librerías útiles\n",
    "import pandas as pd\n",
    "import numpy as np\n",
    "import matplotlib.pyplot as plt\n",
    "import datetime\n",
    "import itertools\n",
    "import random\n",
    "\n",
    "\n",
    "# Sklearn\n",
    "from sklearn.linear_model import LinearRegression\n",
    "from sklearn.linear_model import LogisticRegression\n",
    "from sklearn.metrics import mean_squared_error, roc_curve, confusion_matrix, roc_auc_score\n",
    "from sklearn.model_selection import train_test_split, cross_val_score\n",
    "from sklearn import preprocessing"
   ]
  },
  {
   "cell_type": "code",
   "execution_count": 2,
   "metadata": {},
   "outputs": [],
   "source": [
    "# Funciones útiles\n",
    "def grafica_matriz_confusion(cm, classes=[0,1], normalize=False, title='Matriz de confusión\\n', cmap=plt.cm.Reds):\n",
    "    \"\"\" \n",
    "    Función para mostrar la matriz de confusión de un problema de clasificación binario. \n",
    "    El parámetro cm puede ser el objeto resultante de ejecutar la función confusion_matrix() de la librería sklearn.\n",
    "    \n",
    "    Args:\n",
    "        cm         matriz de confusión de sklearn\n",
    "        classes    categorías de la variable target\n",
    "        normalize  normaliza asignando el parámetro True\n",
    "        title      string para definir el título para la gráfica\n",
    "        cmap       mapa de colores\n",
    "    \"\"\"\n",
    "    plt.imshow(cm, interpolation='nearest', cmap=cmap)\n",
    "    plt.title(title)\n",
    "    plt.colorbar()\n",
    "    tick_marks = np.arange(len(classes))\n",
    "    plt.xticks(tick_marks, classes, rotation=0)\n",
    "    plt.yticks(tick_marks, classes)\n",
    "    if normalize:\n",
    "        cm = cm.astype('float') / cm.sum(axis=1)[:, np.newaxis]\n",
    "    thresh = cm.max()\n",
    "    text = [[\"VN =\", \"FN =\"], [\"FP =\", \"VP =\"]]\n",
    "    for i, j in itertools.product(range(cm.shape[0]), range(cm.shape[1])):\n",
    "        plt.text(j, i, \"     {}\".format(round (cm[i, j],2)), horizontalalignment=\"left\",\n",
    "                 color=\"white\" if cm[i, j] > thresh else \"black\")\n",
    "    for i, j in itertools.product(range(cm.shape[0]), range(cm.shape[1])):\n",
    "        plt.text(j, i, text[j][i] , horizontalalignment=\"center\",\n",
    "                 color=\"white\" if cm[i, j] > thresh else \"black\")\n",
    "    plt.tight_layout()\n",
    "    plt.ylabel('Valor real')\n",
    "    plt.xlabel('Predicción')\n",
    "    \n",
    "def grafica_curva_roc(fpr, tpr, title='Curva ROC', note=''):\n",
    "    \"\"\"\n",
    "    Función para graficar la curva ROC\n",
    "    Los parámetros fpr y tpr son el output de ejecutar la función roc_curve de sklearn\n",
    "    \n",
    "    Args:\n",
    "        fpr        Tasa de falsos positivos \n",
    "        tpr        Tasa de verdaderos positivos\n",
    "        title      sting para definir el título de la gráfica\n",
    "        note       Nota para mostrar en la gráfica\n",
    "    \"\"\"\n",
    "    plt.figure(1)\n",
    "    plt.plot([0, 1], [0, 1], 'k--')\n",
    "    plt.plot(fpr, tpr)\n",
    "    plt.xlabel('Tasa de falsos positivos ')\n",
    "    plt.ylabel('Tasa de verdaderos positivos')\n",
    "    plt.title(title)\n",
    "    if note: plt.text(0.6, 0.2, note)\n",
    "    plt.show()"
   ]
  },
  {
   "cell_type": "markdown",
   "metadata": {},
   "source": [
    "## 1) Exploración y Limpieza de datos I (50 puntos)\n",
    "Tu tarea aquí es explorar los data sets **happiness2020.pkl** y **countries_info.csv** y responder algunas preguntas.\n",
    "\n",
    "El layout de **happiness2020.csv** es:\n",
    "\n",
    "* country: Nombre del país\n",
    "* happiness_score: Score de felicidad\n",
    "* social_support: Ayuda social\n",
    "* healthy_life_expectancy: Expectativa de vida\n",
    "* freedom_of_choices: Libertar de tomar decisiones de vida\n",
    "* generosity: Generosidad\n",
    "* perception_of_corruption: Percepción de la corrupción\n",
    "* world_region: Región en donde se encuentra el país en cuestión\n",
    "\n",
    "\n",
    "El layout de **countries_info.csv**\n",
    "\n",
    "* country_name: Nombre del país\n",
    "* area: Área en metros cuadrados\n",
    "* population: Número de personas\n",
    "* literacy: Porcentaje de alfabetismo\n"
   ]
  },
  {
   "cell_type": "code",
   "execution_count": 3,
   "metadata": {},
   "outputs": [],
   "source": [
    "# Carga el data set happiness2020.csv\n"
   ]
  },
  {
   "cell_type": "code",
   "execution_count": 4,
   "metadata": {},
   "outputs": [],
   "source": [
    "# Explora el set de datos (número de variables, observaciones, checa 5 registros y más!)\n"
   ]
  },
  {
   "cell_type": "code",
   "execution_count": 5,
   "metadata": {},
   "outputs": [],
   "source": [
    "# Carga el data set countries_info.csv\n",
    "# La variable literacy contiene números con formato europeo. Hint: busca en la documentación de pandas como importar estos datos para ser interpretados como números\n"
   ]
  },
  {
   "cell_type": "code",
   "execution_count": 6,
   "metadata": {},
   "outputs": [],
   "source": [
    "# Explora el set de datos (número de variables, observaciones, checa 5 registros y más!)\n"
   ]
  },
  {
   "cell_type": "code",
   "execution_count": 7,
   "metadata": {},
   "outputs": [],
   "source": [
    "# Une los datos utilizando la función merge de pandas\n",
    "# Ojo: ¿Cuál es la llave de cruce en cada set de datos? ¿Ves algo que pueda afectar a la hora de cruzar los datos con esta llave? Explica por que y toma la decisión correcta para transformar una de las variables de cruce\n"
   ]
  },
  {
   "cell_type": "code",
   "execution_count": 8,
   "metadata": {},
   "outputs": [],
   "source": [
    "# Explora el set de datos que contiene los dos sets anteriores (número de variables, observaciones, checa 5 registros y más!)\n"
   ]
  },
  {
   "cell_type": "code",
   "execution_count": 9,
   "metadata": {},
   "outputs": [],
   "source": [
    "# Determina el top 10 de países más felices\n"
   ]
  },
  {
   "cell_type": "code",
   "execution_count": 10,
   "metadata": {},
   "outputs": [],
   "source": [
    "# Determina el top 10 de regiones con países más felices (¿Cómo puedes medir la felicidad por región?)\n"
   ]
  },
  {
   "cell_type": "code",
   "execution_count": 11,
   "metadata": {},
   "outputs": [],
   "source": [
    "# ¿Cuáles son los países de la región con países más felices? Muestra el nombre y el score de felicidad\n"
   ]
  },
  {
   "cell_type": "code",
   "execution_count": 12,
   "metadata": {},
   "outputs": [],
   "source": [
    "# ¿Cuál es el top 10 de países con mayor porcentaje de alfabetismo?\n"
   ]
  },
  {
   "cell_type": "code",
   "execution_count": 13,
   "metadata": {},
   "outputs": [],
   "source": [
    "# ¿Cuáles son las regiones del mundo que tienen los países con mayor tasa de alfabetismo?\n"
   ]
  },
  {
   "cell_type": "code",
   "execution_count": 14,
   "metadata": {},
   "outputs": [],
   "source": [
    "# Muestra los países de la región con mayor porcentaje de alfabetismo\n"
   ]
  },
  {
   "cell_type": "code",
   "execution_count": 15,
   "metadata": {},
   "outputs": [],
   "source": [
    "# ¿Cuál es el top 10 de países de países con menor porcentaje de alfabetismo?\n"
   ]
  },
  {
   "cell_type": "code",
   "execution_count": 16,
   "metadata": {},
   "outputs": [],
   "source": [
    "# ¿Cuáles son las regiones del mundo que tienen los países con menor tasa de alfabetismo?\n"
   ]
  },
  {
   "cell_type": "code",
   "execution_count": 17,
   "metadata": {},
   "outputs": [],
   "source": [
    "# Muestra los países de la región con menor porcentaje de alfabetismo\n"
   ]
  },
  {
   "cell_type": "code",
   "execution_count": 18,
   "metadata": {},
   "outputs": [],
   "source": [
    "# Determina el top 10 de países con mayor cantidad de personas\n"
   ]
  },
  {
   "cell_type": "code",
   "execution_count": 19,
   "metadata": {},
   "outputs": [],
   "source": [
    "# ¿Cuáles son las regiones más pobladas del mundo?\n"
   ]
  },
  {
   "cell_type": "code",
   "execution_count": 20,
   "metadata": {},
   "outputs": [],
   "source": [
    "# ¿Cuáles son los países en las regiones menos pobladas del mundo?\n"
   ]
  },
  {
   "cell_type": "code",
   "execution_count": 21,
   "metadata": {},
   "outputs": [],
   "source": [
    "# ¿Cuál es el score de felicidad de los tres países más poblados del mundo?\n"
   ]
  },
  {
   "cell_type": "code",
   "execution_count": 22,
   "metadata": {},
   "outputs": [],
   "source": [
    "# ¿Cuál es el score de felicidad de los tres países menos poblados del mundo?\n"
   ]
  },
  {
   "cell_type": "code",
   "execution_count": 23,
   "metadata": {},
   "outputs": [],
   "source": [
    "# Gráfica y explora las variables happiness_score, literacy y population\n",
    "# Hint: Utiliza los métodos vistos en clase para variables númericas"
   ]
  },
  {
   "cell_type": "code",
   "execution_count": 24,
   "metadata": {},
   "outputs": [],
   "source": [
    "# ¿Existe una relación (¿de qué tipo?) entre la variable happiness_score y healthy_life_expectancy?\n",
    "# Hint: Gráfica la relación que existe entre las variables\n"
   ]
  },
  {
   "cell_type": "markdown",
   "metadata": {},
   "source": [
    "¿Podrías entrenar un modelo de regresión lineal para predecir la variable healthy_life_expectancy con base en la variable independiente happiness_score? ¿Sería un buen modelo para predecir la expectativa de vida? Elabora tu respuesta\n"
   ]
  },
  {
   "cell_type": "code",
   "execution_count": 25,
   "metadata": {},
   "outputs": [],
   "source": [
    "# Define la variable target (Weight)\n",
    "\n",
    "\n",
    "# Define el conjunto de variables independientes\n",
    "\n",
    "\n",
    "# Utiliza la función de sklearn para partir los datos en set de entrenamiento y validación\n",
    "# 70% train, 30% test, utiliza una semilla para poder replicar resultados (busca en la documentación de sklearn como hacer esto)\n"
   ]
  },
  {
   "cell_type": "code",
   "execution_count": 26,
   "metadata": {},
   "outputs": [],
   "source": [
    "# Entrena un modelo de regresión lineal y determina el score R² y el score de error (MSE)\n"
   ]
  },
  {
   "cell_type": "markdown",
   "metadata": {},
   "source": [
    "## 2) Regresión logísitica utilizando el método de gradiente descendente aplicado a una función de costo de error cuadrático medio (50 puntos)\n",
    "En esta parte se requiere llevar a cabo una tarea de clasificación. Para ello vamos a utilizar una regresión logística. Primero que nada expliquemos el modelo anterior.\n",
    "\n",
    "**Regresión logística**\n",
    "Es un modelo que sirve para clasificar observaciones. En pocas palabras (y para esta tarea) la regresión logística es una transformación del modelo de regresión lineal sin término regularizador. Es decir, una regresión logística transforma las predicciones de una regresión lineal a un valor de probabilidad. \n",
    "\n",
    "$y = \\textbf{X}^T\\textbf{W}$\n",
    "\n",
    "$y\\_pred = \\sigma(y)$\n",
    "\n",
    "En esta parte de la tarea deberás utilizar el método de gradiente descendente para estimar los parámetros de una regresión lineal y después transformar las predicciones en probabilidades utilizando la función sigmoide. \n",
    "\n",
    "Vamos a utilizar un data set con información de los pasajeros del barco Titanic. A continuación puedes ver el layout:\n",
    "\n",
    "* name: Nombre del pasajero\n",
    "* sex: Sexo del pasajero\n",
    "* age: edad en años\n",
    "* sibsp: # hijos / esposos abordo del Titanic\n",
    "* parch: # padres / niños abordo del Titanic\n",
    "* ticket: número de ticket de pasajero\n",
    "* fare: precio del ticket\n",
    "* cabin: Número de cabina en el barco\n",
    "* embarked: Puerto de embarcación\n"
   ]
  },
  {
   "cell_type": "code",
   "execution_count": 27,
   "metadata": {},
   "outputs": [],
   "source": [
    "# Carga los datos\n"
   ]
  },
  {
   "cell_type": "code",
   "execution_count": 28,
   "metadata": {},
   "outputs": [],
   "source": [
    "# Explora el data set\n",
    "# Aquí ocupa todo lo que ya sabes para analizar un set de datos. Si el análisis que vas a realizar es muy bueno, podríamos considerar tener puntos extras\n"
   ]
  },
  {
   "cell_type": "code",
   "execution_count": 29,
   "metadata": {},
   "outputs": [],
   "source": [
    "# ¿Hace sentido utilizar todas las columnas para entrenar un modelo de clasificación? Elimina variables que podrían meter ruido y quedate solo con las que consideres cruciales\n"
   ]
  },
  {
   "cell_type": "code",
   "execution_count": 30,
   "metadata": {},
   "outputs": [],
   "source": [
    "# Preprocesa los datos\n",
    "# Hint: crea variables dummies para la variable \"sex\"\n"
   ]
  },
  {
   "cell_type": "code",
   "execution_count": 31,
   "metadata": {},
   "outputs": [],
   "source": [
    "# Mostrar el nombre de las variables dummy creadas\n"
   ]
  },
  {
   "cell_type": "code",
   "execution_count": 32,
   "metadata": {},
   "outputs": [],
   "source": [
    "# Define la variable target (survived)\n",
    "\n",
    "\n",
    "# Define el conjunto de variables independientes\n"
   ]
  },
  {
   "cell_type": "code",
   "execution_count": 33,
   "metadata": {},
   "outputs": [],
   "source": [
    "# Determina cuántas observaciones tienen un valor missing\n"
   ]
  },
  {
   "cell_type": "code",
   "execution_count": 34,
   "metadata": {},
   "outputs": [],
   "source": [
    "# Cuál o cuáles variables tienen valores missing\n"
   ]
  },
  {
   "cell_type": "code",
   "execution_count": 35,
   "metadata": {},
   "outputs": [],
   "source": [
    "# Describe las variables para ver qué método podría servirnos para imputar valores nulos\n"
   ]
  },
  {
   "cell_type": "code",
   "execution_count": 36,
   "metadata": {},
   "outputs": [],
   "source": [
    "# Imputa los valores missing de las variables con valores missing\n",
    "\n",
    "\n",
    "# Comprueba que ya no existan registros con valores nulos\n"
   ]
  },
  {
   "cell_type": "code",
   "execution_count": 37,
   "metadata": {},
   "outputs": [],
   "source": [
    "# Revisa los rangos de las distintas variables independientes\n"
   ]
  },
  {
   "cell_type": "code",
   "execution_count": 38,
   "metadata": {},
   "outputs": [],
   "source": [
    "# Normaliza los valores de las variables independientes\n"
   ]
  },
  {
   "cell_type": "code",
   "execution_count": 39,
   "metadata": {},
   "outputs": [],
   "source": [
    "# Revisa los rangos de las distintas variables independientes\n"
   ]
  },
  {
   "cell_type": "code",
   "execution_count": 40,
   "metadata": {},
   "outputs": [],
   "source": [
    "# Utiliza la función de sklearn para partir los datos en set de entrenamiento y validación\n",
    "# 70% train, 30% test, utiliza una semilla para poder replicar resultados (busca en la documentación de sklearn como hacer esto)\n",
    "\n",
    "\n",
    "# Define las Matrices de variables independientes con intercepto (agregar una columna con puros 1s)\n"
   ]
  },
  {
   "cell_type": "code",
   "execution_count": 41,
   "metadata": {},
   "outputs": [],
   "source": [
    "# Define todas las funciones que necesitas para llevar a cabo el proceso de gradiente descendente con una función de costo de error cuadrático medio\n",
    "# Determina los parámetros W tal óptimos. Para ello encuentra los hyper parámetros óptimos para la tasa de aprendizaje gamma y el número máximo de iteraciones\n",
    "# Recuerda agregar una fila de 1s a la matrix X, con ello estarás optimizando todos los parámetros, incluido el intercepto o w0\n"
   ]
  },
  {
   "cell_type": "markdown",
   "metadata": {},
   "source": [
    "Ahora vamos a transformar los resultados del proceso anterior en probabilidades para el modelo de clasificación. Para ello debes expresar la variable target como una combinación lineal de los parámetros óptimos obtenidos con el proceso anterior y transformarlos utilizando la función sigmoide\n",
    "\n",
    "$\\sigma(t) = \\displaystyle \\frac{1}{1+exp(-t)}$"
   ]
  },
  {
   "cell_type": "code",
   "execution_count": 42,
   "metadata": {},
   "outputs": [],
   "source": [
    "# Define la función sigmoide\n"
   ]
  },
  {
   "cell_type": "code",
   "execution_count": 43,
   "metadata": {},
   "outputs": [],
   "source": [
    "# Determina y_pred\n",
    "# Hint: Recuerda que en una regresión lineal, la variable target se puede escribir como combinación lineal de los parámetros óptimos y la matrix X (y = XW^T)\n",
    "# Utiliza X_b (X con una fila de 1s para representar el intercepto)\n",
    "\n",
    "\n",
    "# Transforma el resultado anterior utilizando la función sigmoide definida anteriomente\n"
   ]
  },
  {
   "cell_type": "code",
   "execution_count": 44,
   "metadata": {},
   "outputs": [],
   "source": [
    "# Asignar una etiqueta positiva o negativa si la probabilidad sobrepasa un threshold de probabilidad determinado\n",
    "# Prueba con threshold de probabilidad = 60%\n"
   ]
  },
  {
   "cell_type": "markdown",
   "metadata": {},
   "source": [
    "**[Stretch: Por 8.33 puntos extras]** Determinar cuál es el valor óptimo para el threshold de probabilidad"
   ]
  },
  {
   "cell_type": "code",
   "execution_count": 45,
   "metadata": {},
   "outputs": [],
   "source": [
    "# Ya sea con 60% como threshold de probabilidad u otro valor optimizado, evalúa el modelo creado\n",
    "# Distribución de predicciones\n"
   ]
  },
  {
   "cell_type": "code",
   "execution_count": 46,
   "metadata": {},
   "outputs": [],
   "source": [
    "# Muestra la matriz de confusión\n"
   ]
  },
  {
   "cell_type": "code",
   "execution_count": 47,
   "metadata": {},
   "outputs": [],
   "source": [
    "# Cuántos errores cometimos?\n"
   ]
  },
  {
   "cell_type": "code",
   "execution_count": 48,
   "metadata": {},
   "outputs": [],
   "source": [
    "# Calcula la efectividad\n"
   ]
  },
  {
   "cell_type": "code",
   "execution_count": 49,
   "metadata": {},
   "outputs": [],
   "source": [
    "# Calcula el recall y la precisión de la predicción\n"
   ]
  },
  {
   "cell_type": "code",
   "execution_count": 50,
   "metadata": {},
   "outputs": [],
   "source": [
    "# Utiliza la función de sklearn llamada roc_curve para determinar la lista de tasa de falsos y verdaderos positivos\n"
   ]
  },
  {
   "cell_type": "markdown",
   "metadata": {},
   "source": [
    "## 5) **[Stretch: 25 puntos extras]** Validación Cruzada y Trade-off entre Sesgo y Varianza\n",
    "Esta sección de la tarea es extra, por lo que puedes decidir hacerla o no.\n",
    "\n",
    "Por ser extra, solo se dará el objetivo, más no se guiará con comentarios.\n",
    "\n",
    "**Objetivo:** Construir una función que determine el hyper parámetro óptimo para un estimador de regresión Ridge. Lo primero es que la función ejecute el algoritmo de K-Fold Cross Validation sin utilizar funciones de librería de python, i.e. construye tu propia función de validación cruzada. **No se aceptaran funciones que contengan métodos para validación cruzada ya construidos**. Después, la función tiene que mostrar de manera gráfica el trade-off entre sesgo y varianza para las curvas de error en el set de datos de train y test. \n",
    "\n",
    "Utiliza la función o funciones que creaste para determinar el parámetro alpha óptimo para una regresión Ridge en un set de datos que consideres adecuado. Muestra la gráfica que muestre el trade-off entre sesgo y varianza"
   ]
  }
 ],
 "metadata": {
  "kernelspec": {
   "display_name": "Python 3",
   "language": "python",
   "name": "python3"
  },
  "language_info": {
   "codemirror_mode": {
    "name": "ipython",
    "version": 3
   },
   "file_extension": ".py",
   "mimetype": "text/x-python",
   "name": "python",
   "nbconvert_exporter": "python",
   "pygments_lexer": "ipython3",
   "version": "3.7.6"
  }
 },
 "nbformat": 4,
 "nbformat_minor": 4
}
