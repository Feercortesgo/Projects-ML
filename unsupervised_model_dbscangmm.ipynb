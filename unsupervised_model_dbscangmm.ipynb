{
 "cells": [
  {
   "cell_type": "code",
   "execution_count": 491,
   "id": "8d94dbf4",
   "metadata": {},
   "outputs": [],
   "source": [
    "import pandas as pd\n",
    "import numpy as np\n",
    "\n",
    "from sklearn.cluster import DBSCAN\n",
    "\n",
    "import matplotlib.pyplot as plt\n",
    "\n",
    "from sklearn.manifold import MDS,TSNE\n",
    "from sklearn.preprocessing import MinMaxScaler\n",
    "from sklearn.cluster import AgglomerativeClustering, KMeans\n",
    "from sklearn.mixture import GaussianMixture\n",
    "\n",
    "from sklearn.preprocessing import StandardScaler\n",
    "import pandas as pd\n",
    "import numpy as np\n",
    "from sklearn.datasets import make_moons\n",
    "import matplotlib.pyplot as plt\n",
    "import seaborn as sns\n",
    "from sklearn.cluster import DBSCAN\n",
    "from sklearn.metrics import silhouette_score\n",
    "from sklearn.metrics import v_measure_score\n",
    "import sklearn.metrics as metrics"
   ]
  },
  {
   "cell_type": "code",
   "execution_count": 229,
   "id": "ea0f822a",
   "metadata": {},
   "outputs": [],
   "source": [
    "df=pd.read_csv('C:/Users/MX03932000/Downloads/df_2.csv')"
   ]
  },
  {
   "cell_type": "code",
   "execution_count": 230,
   "id": "3d8673a1",
   "metadata": {},
   "outputs": [
    {
     "data": {
      "text/html": [
       "<div>\n",
       "<style scoped>\n",
       "    .dataframe tbody tr th:only-of-type {\n",
       "        vertical-align: middle;\n",
       "    }\n",
       "\n",
       "    .dataframe tbody tr th {\n",
       "        vertical-align: top;\n",
       "    }\n",
       "\n",
       "    .dataframe thead th {\n",
       "        text-align: right;\n",
       "    }\n",
       "</style>\n",
       "<table border=\"1\" class=\"dataframe\">\n",
       "  <thead>\n",
       "    <tr style=\"text-align: right;\">\n",
       "      <th></th>\n",
       "      <th>Year Type</th>\n",
       "      <th>Year</th>\n",
       "      <th>Organization Group Code</th>\n",
       "      <th>Organization Group</th>\n",
       "      <th>Department Code</th>\n",
       "      <th>Department</th>\n",
       "      <th>Union Code</th>\n",
       "      <th>Union</th>\n",
       "      <th>Job Family Code</th>\n",
       "      <th>Job Family</th>\n",
       "      <th>...</th>\n",
       "      <th>Employee Identifier</th>\n",
       "      <th>Salaries</th>\n",
       "      <th>Overtime</th>\n",
       "      <th>Other Salaries</th>\n",
       "      <th>Total Salary</th>\n",
       "      <th>Retirement</th>\n",
       "      <th>Health/Dental</th>\n",
       "      <th>Other Benefits</th>\n",
       "      <th>Total Benefits</th>\n",
       "      <th>Total Compensation</th>\n",
       "    </tr>\n",
       "  </thead>\n",
       "  <tbody>\n",
       "    <tr>\n",
       "      <th>0</th>\n",
       "      <td>Fiscal</td>\n",
       "      <td>2016</td>\n",
       "      <td>1</td>\n",
       "      <td>Public Protection</td>\n",
       "      <td>DAT</td>\n",
       "      <td>District Attorney</td>\n",
       "      <td>311.0</td>\n",
       "      <td>Municipal Attorneys' Association</td>\n",
       "      <td>8100</td>\n",
       "      <td>Legal &amp; Court</td>\n",
       "      <td>...</td>\n",
       "      <td>49919</td>\n",
       "      <td>114473.16</td>\n",
       "      <td>0.00</td>\n",
       "      <td>1500.00</td>\n",
       "      <td>115973.16</td>\n",
       "      <td>21025.98</td>\n",
       "      <td>13068.80</td>\n",
       "      <td>9368.71</td>\n",
       "      <td>43463.49</td>\n",
       "      <td>159436.65</td>\n",
       "    </tr>\n",
       "    <tr>\n",
       "      <th>1</th>\n",
       "      <td>Calendar</td>\n",
       "      <td>2013</td>\n",
       "      <td>5</td>\n",
       "      <td>Culture &amp; Recreation</td>\n",
       "      <td>ART</td>\n",
       "      <td>Arts Commission</td>\n",
       "      <td>790.0</td>\n",
       "      <td>SEIU - Miscellaneous, Local 1021</td>\n",
       "      <td>1800</td>\n",
       "      <td>Budget, Admn &amp; Stats Analysis</td>\n",
       "      <td>...</td>\n",
       "      <td>1225</td>\n",
       "      <td>84077.11</td>\n",
       "      <td>0.00</td>\n",
       "      <td>0.00</td>\n",
       "      <td>84077.11</td>\n",
       "      <td>16587.30</td>\n",
       "      <td>12457.73</td>\n",
       "      <td>6931.91</td>\n",
       "      <td>35976.94</td>\n",
       "      <td>120054.05</td>\n",
       "    </tr>\n",
       "    <tr>\n",
       "      <th>2</th>\n",
       "      <td>Calendar</td>\n",
       "      <td>2015</td>\n",
       "      <td>4</td>\n",
       "      <td>Community Health</td>\n",
       "      <td>DPH</td>\n",
       "      <td>Public Health</td>\n",
       "      <td>535.0</td>\n",
       "      <td>SEIU - Human Services, Local 1021</td>\n",
       "      <td>2900</td>\n",
       "      <td>Human Services</td>\n",
       "      <td>...</td>\n",
       "      <td>34873</td>\n",
       "      <td>9980.17</td>\n",
       "      <td>0.00</td>\n",
       "      <td>798.43</td>\n",
       "      <td>10778.60</td>\n",
       "      <td>0.00</td>\n",
       "      <td>2254.93</td>\n",
       "      <td>835.11</td>\n",
       "      <td>3090.04</td>\n",
       "      <td>13868.64</td>\n",
       "    </tr>\n",
       "    <tr>\n",
       "      <th>3</th>\n",
       "      <td>Fiscal</td>\n",
       "      <td>2015</td>\n",
       "      <td>4</td>\n",
       "      <td>Community Health</td>\n",
       "      <td>DPH</td>\n",
       "      <td>Public Health</td>\n",
       "      <td>250.0</td>\n",
       "      <td>SEIU - Health Workers, Local 1021</td>\n",
       "      <td>2200</td>\n",
       "      <td>Medical &amp; Dental</td>\n",
       "      <td>...</td>\n",
       "      <td>51145</td>\n",
       "      <td>2873.41</td>\n",
       "      <td>0.00</td>\n",
       "      <td>0.00</td>\n",
       "      <td>2873.41</td>\n",
       "      <td>0.00</td>\n",
       "      <td>622.63</td>\n",
       "      <td>222.46</td>\n",
       "      <td>845.09</td>\n",
       "      <td>3718.50</td>\n",
       "    </tr>\n",
       "    <tr>\n",
       "      <th>4</th>\n",
       "      <td>Fiscal</td>\n",
       "      <td>2014</td>\n",
       "      <td>5</td>\n",
       "      <td>Culture &amp; Recreation</td>\n",
       "      <td>REC</td>\n",
       "      <td>Recreation and Park Commission</td>\n",
       "      <td>790.0</td>\n",
       "      <td>SEIU - Miscellaneous, Local 1021</td>\n",
       "      <td>3200</td>\n",
       "      <td>Recreation</td>\n",
       "      <td>...</td>\n",
       "      <td>48705</td>\n",
       "      <td>6701.85</td>\n",
       "      <td>0.00</td>\n",
       "      <td>176.70</td>\n",
       "      <td>6878.55</td>\n",
       "      <td>0.00</td>\n",
       "      <td>2711.66</td>\n",
       "      <td>538.43</td>\n",
       "      <td>3250.09</td>\n",
       "      <td>10128.64</td>\n",
       "    </tr>\n",
       "    <tr>\n",
       "      <th>...</th>\n",
       "      <td>...</td>\n",
       "      <td>...</td>\n",
       "      <td>...</td>\n",
       "      <td>...</td>\n",
       "      <td>...</td>\n",
       "      <td>...</td>\n",
       "      <td>...</td>\n",
       "      <td>...</td>\n",
       "      <td>...</td>\n",
       "      <td>...</td>\n",
       "      <td>...</td>\n",
       "      <td>...</td>\n",
       "      <td>...</td>\n",
       "      <td>...</td>\n",
       "      <td>...</td>\n",
       "      <td>...</td>\n",
       "      <td>...</td>\n",
       "      <td>...</td>\n",
       "      <td>...</td>\n",
       "      <td>...</td>\n",
       "      <td>...</td>\n",
       "    </tr>\n",
       "    <tr>\n",
       "      <th>291820</th>\n",
       "      <td>Calendar</td>\n",
       "      <td>2015</td>\n",
       "      <td>3</td>\n",
       "      <td>Human Welfare &amp; Neighborhood Development</td>\n",
       "      <td>CSS</td>\n",
       "      <td>Child Support Services</td>\n",
       "      <td>790.0</td>\n",
       "      <td>SEIU - Miscellaneous, Local 1021</td>\n",
       "      <td>8100</td>\n",
       "      <td>Legal &amp; Court</td>\n",
       "      <td>...</td>\n",
       "      <td>7186</td>\n",
       "      <td>93281.01</td>\n",
       "      <td>0.00</td>\n",
       "      <td>624.00</td>\n",
       "      <td>93905.01</td>\n",
       "      <td>19354.57</td>\n",
       "      <td>12424.50</td>\n",
       "      <td>7742.87</td>\n",
       "      <td>39521.94</td>\n",
       "      <td>133426.95</td>\n",
       "    </tr>\n",
       "    <tr>\n",
       "      <th>291821</th>\n",
       "      <td>Fiscal</td>\n",
       "      <td>2015</td>\n",
       "      <td>4</td>\n",
       "      <td>Community Health</td>\n",
       "      <td>DPH</td>\n",
       "      <td>Public Health</td>\n",
       "      <td>250.0</td>\n",
       "      <td>SEIU - Health Workers, Local 1021</td>\n",
       "      <td>2400</td>\n",
       "      <td>Lab, Pharmacy &amp; Med Techs</td>\n",
       "      <td>...</td>\n",
       "      <td>14381</td>\n",
       "      <td>62155.51</td>\n",
       "      <td>0.00</td>\n",
       "      <td>1946.40</td>\n",
       "      <td>64101.91</td>\n",
       "      <td>14333.20</td>\n",
       "      <td>12500.56</td>\n",
       "      <td>5179.70</td>\n",
       "      <td>32013.46</td>\n",
       "      <td>96115.37</td>\n",
       "    </tr>\n",
       "    <tr>\n",
       "      <th>291822</th>\n",
       "      <td>Calendar</td>\n",
       "      <td>2014</td>\n",
       "      <td>4</td>\n",
       "      <td>Community Health</td>\n",
       "      <td>DPH</td>\n",
       "      <td>Public Health</td>\n",
       "      <td>791.0</td>\n",
       "      <td>SEIU - Staff and Per Diem Nurses, Local 1021</td>\n",
       "      <td>2300</td>\n",
       "      <td>Nursing</td>\n",
       "      <td>...</td>\n",
       "      <td>27973</td>\n",
       "      <td>13941.91</td>\n",
       "      <td>0.00</td>\n",
       "      <td>223.47</td>\n",
       "      <td>14165.38</td>\n",
       "      <td>0.00</td>\n",
       "      <td>1223.27</td>\n",
       "      <td>1096.69</td>\n",
       "      <td>2319.96</td>\n",
       "      <td>16485.34</td>\n",
       "    </tr>\n",
       "    <tr>\n",
       "      <th>291823</th>\n",
       "      <td>Calendar</td>\n",
       "      <td>2015</td>\n",
       "      <td>4</td>\n",
       "      <td>Community Health</td>\n",
       "      <td>DPH</td>\n",
       "      <td>Public Health</td>\n",
       "      <td>790.0</td>\n",
       "      <td>SEIU - Miscellaneous, Local 1021</td>\n",
       "      <td>2900</td>\n",
       "      <td>Human Services</td>\n",
       "      <td>...</td>\n",
       "      <td>50828</td>\n",
       "      <td>78865.86</td>\n",
       "      <td>0.00</td>\n",
       "      <td>0.00</td>\n",
       "      <td>78865.86</td>\n",
       "      <td>16223.73</td>\n",
       "      <td>12352.82</td>\n",
       "      <td>6418.95</td>\n",
       "      <td>34995.50</td>\n",
       "      <td>113861.36</td>\n",
       "    </tr>\n",
       "    <tr>\n",
       "      <th>291824</th>\n",
       "      <td>Calendar</td>\n",
       "      <td>2014</td>\n",
       "      <td>2</td>\n",
       "      <td>Public Works, Transportation &amp; Commerce</td>\n",
       "      <td>MTA</td>\n",
       "      <td>Municipal Transportation Agency</td>\n",
       "      <td>253.0</td>\n",
       "      <td>Transport Workers - Transit Operators, Local 2...</td>\n",
       "      <td>9100</td>\n",
       "      <td>Street Transit</td>\n",
       "      <td>...</td>\n",
       "      <td>2289</td>\n",
       "      <td>4390.16</td>\n",
       "      <td>1258.02</td>\n",
       "      <td>9.08</td>\n",
       "      <td>5657.26</td>\n",
       "      <td>1244.98</td>\n",
       "      <td>1456.12</td>\n",
       "      <td>436.39</td>\n",
       "      <td>3137.49</td>\n",
       "      <td>8794.75</td>\n",
       "    </tr>\n",
       "  </tbody>\n",
       "</table>\n",
       "<p>291825 rows × 22 columns</p>\n",
       "</div>"
      ],
      "text/plain": [
       "       Year Type  Year  Organization Group Code  \\\n",
       "0         Fiscal  2016                        1   \n",
       "1       Calendar  2013                        5   \n",
       "2       Calendar  2015                        4   \n",
       "3         Fiscal  2015                        4   \n",
       "4         Fiscal  2014                        5   \n",
       "...          ...   ...                      ...   \n",
       "291820  Calendar  2015                        3   \n",
       "291821    Fiscal  2015                        4   \n",
       "291822  Calendar  2014                        4   \n",
       "291823  Calendar  2015                        4   \n",
       "291824  Calendar  2014                        2   \n",
       "\n",
       "                              Organization Group Department Code  \\\n",
       "0                              Public Protection             DAT   \n",
       "1                           Culture & Recreation             ART   \n",
       "2                               Community Health             DPH   \n",
       "3                               Community Health             DPH   \n",
       "4                           Culture & Recreation             REC   \n",
       "...                                          ...             ...   \n",
       "291820  Human Welfare & Neighborhood Development             CSS   \n",
       "291821                          Community Health             DPH   \n",
       "291822                          Community Health             DPH   \n",
       "291823                          Community Health             DPH   \n",
       "291824   Public Works, Transportation & Commerce             MTA   \n",
       "\n",
       "                             Department  Union Code  \\\n",
       "0                     District Attorney       311.0   \n",
       "1                       Arts Commission       790.0   \n",
       "2                         Public Health       535.0   \n",
       "3                         Public Health       250.0   \n",
       "4        Recreation and Park Commission       790.0   \n",
       "...                                 ...         ...   \n",
       "291820           Child Support Services       790.0   \n",
       "291821                    Public Health       250.0   \n",
       "291822                    Public Health       791.0   \n",
       "291823                    Public Health       790.0   \n",
       "291824  Municipal Transportation Agency       253.0   \n",
       "\n",
       "                                                    Union Job Family Code  \\\n",
       "0                        Municipal Attorneys' Association            8100   \n",
       "1                        SEIU - Miscellaneous, Local 1021            1800   \n",
       "2                       SEIU - Human Services, Local 1021            2900   \n",
       "3                       SEIU - Health Workers, Local 1021            2200   \n",
       "4                        SEIU - Miscellaneous, Local 1021            3200   \n",
       "...                                                   ...             ...   \n",
       "291820                   SEIU - Miscellaneous, Local 1021            8100   \n",
       "291821                  SEIU - Health Workers, Local 1021            2400   \n",
       "291822       SEIU - Staff and Per Diem Nurses, Local 1021            2300   \n",
       "291823                   SEIU - Miscellaneous, Local 1021            2900   \n",
       "291824  Transport Workers - Transit Operators, Local 2...            9100   \n",
       "\n",
       "                           Job Family  ... Employee Identifier   Salaries  \\\n",
       "0                       Legal & Court  ...               49919  114473.16   \n",
       "1       Budget, Admn & Stats Analysis  ...                1225   84077.11   \n",
       "2                      Human Services  ...               34873    9980.17   \n",
       "3                    Medical & Dental  ...               51145    2873.41   \n",
       "4                          Recreation  ...               48705    6701.85   \n",
       "...                               ...  ...                 ...        ...   \n",
       "291820                  Legal & Court  ...                7186   93281.01   \n",
       "291821      Lab, Pharmacy & Med Techs  ...               14381   62155.51   \n",
       "291822                        Nursing  ...               27973   13941.91   \n",
       "291823                 Human Services  ...               50828   78865.86   \n",
       "291824                 Street Transit  ...                2289    4390.16   \n",
       "\n",
       "        Overtime  Other Salaries  Total Salary  Retirement  Health/Dental  \\\n",
       "0           0.00         1500.00     115973.16    21025.98       13068.80   \n",
       "1           0.00            0.00      84077.11    16587.30       12457.73   \n",
       "2           0.00          798.43      10778.60        0.00        2254.93   \n",
       "3           0.00            0.00       2873.41        0.00         622.63   \n",
       "4           0.00          176.70       6878.55        0.00        2711.66   \n",
       "...          ...             ...           ...         ...            ...   \n",
       "291820      0.00          624.00      93905.01    19354.57       12424.50   \n",
       "291821      0.00         1946.40      64101.91    14333.20       12500.56   \n",
       "291822      0.00          223.47      14165.38        0.00        1223.27   \n",
       "291823      0.00            0.00      78865.86    16223.73       12352.82   \n",
       "291824   1258.02            9.08       5657.26     1244.98        1456.12   \n",
       "\n",
       "        Other Benefits  Total Benefits  Total Compensation  \n",
       "0              9368.71        43463.49           159436.65  \n",
       "1              6931.91        35976.94           120054.05  \n",
       "2               835.11         3090.04            13868.64  \n",
       "3               222.46          845.09             3718.50  \n",
       "4               538.43         3250.09            10128.64  \n",
       "...                ...             ...                 ...  \n",
       "291820         7742.87        39521.94           133426.95  \n",
       "291821         5179.70        32013.46            96115.37  \n",
       "291822         1096.69         2319.96            16485.34  \n",
       "291823         6418.95        34995.50           113861.36  \n",
       "291824          436.39         3137.49             8794.75  \n",
       "\n",
       "[291825 rows x 22 columns]"
      ]
     },
     "execution_count": 230,
     "metadata": {},
     "output_type": "execute_result"
    }
   ],
   "source": [
    "df"
   ]
  },
  {
   "cell_type": "code",
   "execution_count": 231,
   "id": "281f6ba4",
   "metadata": {},
   "outputs": [
    {
     "data": {
      "text/plain": [
       "(291825, 22)"
      ]
     },
     "execution_count": 231,
     "metadata": {},
     "output_type": "execute_result"
    }
   ],
   "source": [
    "df.shape"
   ]
  },
  {
   "cell_type": "code",
   "execution_count": 232,
   "id": "e72c0f50",
   "metadata": {},
   "outputs": [
    {
     "data": {
      "text/plain": [
       "Index(['Year Type', 'Year', 'Organization Group Code', 'Organization Group',\n",
       "       'Department Code', 'Department', 'Union Code', 'Union',\n",
       "       'Job Family Code', 'Job Family', 'Job Code', 'Job',\n",
       "       'Employee Identifier', 'Salaries', 'Overtime', 'Other Salaries',\n",
       "       'Total Salary', 'Retirement', 'Health/Dental', 'Other Benefits',\n",
       "       'Total Benefits', 'Total Compensation'],\n",
       "      dtype='object')"
      ]
     },
     "execution_count": 232,
     "metadata": {},
     "output_type": "execute_result"
    }
   ],
   "source": [
    "df.columns"
   ]
  },
  {
   "cell_type": "code",
   "execution_count": 233,
   "id": "92333671",
   "metadata": {},
   "outputs": [],
   "source": [
    "df=df.drop_duplicates()"
   ]
  },
  {
   "cell_type": "code",
   "execution_count": 234,
   "id": "d4f0c5ee",
   "metadata": {},
   "outputs": [
    {
     "data": {
      "text/plain": [
       "(291825, 22)"
      ]
     },
     "execution_count": 234,
     "metadata": {},
     "output_type": "execute_result"
    }
   ],
   "source": [
    "df.shape"
   ]
  },
  {
   "cell_type": "code",
   "execution_count": 235,
   "id": "cef74c64",
   "metadata": {},
   "outputs": [
    {
     "name": "stdout",
     "output_type": "stream",
     "text": [
      "Year Type\n"
     ]
    },
    {
     "data": {
      "text/plain": [
       "Fiscal      167509\n",
       "Calendar    124316\n",
       "Name: Year Type, dtype: int64"
      ]
     },
     "metadata": {},
     "output_type": "display_data"
    },
    {
     "name": "stdout",
     "output_type": "stream",
     "text": [
      "Year\n"
     ]
    },
    {
     "data": {
      "text/plain": [
       "2015    86067\n",
       "2014    82291\n",
       "2013    79380\n",
       "2016    44087\n",
       "Name: Year, dtype: int64"
      ]
     },
     "metadata": {},
     "output_type": "display_data"
    },
    {
     "name": "stdout",
     "output_type": "stream",
     "text": [
      "Organization Group Code\n"
     ]
    },
    {
     "data": {
      "text/plain": [
       "2    92519\n",
       "4    63511\n",
       "1    55563\n",
       "3    26989\n",
       "5    26592\n",
       "6    26351\n",
       "7      300\n",
       "Name: Organization Group Code, dtype: int64"
      ]
     },
     "metadata": {},
     "output_type": "display_data"
    },
    {
     "name": "stdout",
     "output_type": "stream",
     "text": [
      "Organization Group\n"
     ]
    },
    {
     "data": {
      "text/plain": [
       "Public Works, Transportation & Commerce     92519\n",
       "Community Health                            63511\n",
       "Public Protection                           55563\n",
       "Human Welfare & Neighborhood Development    26989\n",
       "Culture & Recreation                        26592\n",
       "General Administration & Finance            26351\n",
       "General City Responsibilities                 300\n",
       "Name: Organization Group, dtype: int64"
      ]
     },
     "metadata": {},
     "output_type": "display_data"
    },
    {
     "name": "stdout",
     "output_type": "stream",
     "text": [
      "Department Code\n"
     ]
    },
    {
     "data": {
      "text/plain": [
       "DPH    63511\n",
       "MTA    42574\n",
       "DSS    24041\n",
       "POL    23078\n",
       "REC    16298\n",
       "AIR    13682\n",
       "FIR    11761\n",
       "DPW    11114\n",
       "SHF     7557\n",
       "ADM     7373\n",
       "PUC     6816\n",
       "LIB     6668\n",
       "WTR     5910\n",
       "CWP     4225\n",
       "CRT     4001\n",
       "HHP     2980\n",
       "JUV     2396\n",
       "CAT     2372\n",
       "DBI     2280\n",
       "DAT     2169\n",
       "ECD     2094\n",
       "HRD     2066\n",
       "CON     2060\n",
       "TIS     2053\n",
       "PRT     2009\n",
       "FAM     1977\n",
       "TTX     1935\n",
       "CPC     1913\n",
       "REG     1879\n",
       "ASR     1318\n",
       "PDR     1279\n",
       "ADP     1228\n",
       "ENV     1015\n",
       "BOS      895\n",
       "MYR      894\n",
       "ECN      849\n",
       "RET      765\n",
       "CSS      697\n",
       "WAR      642\n",
       "HSS      606\n",
       "AAM      579\n",
       "CHF      467\n",
       "RNT      325\n",
       "ART      308\n",
       "UNA      300\n",
       "HRC      182\n",
       "ETH      140\n",
       "CFC      125\n",
       "WOM      111\n",
       "SCI      104\n",
       "CSC       82\n",
       "PAB       80\n",
       "CII       26\n",
       "LLB       16\n",
       "Name: Department Code, dtype: int64"
      ]
     },
     "metadata": {},
     "output_type": "display_data"
    },
    {
     "name": "stdout",
     "output_type": "stream",
     "text": [
      "Department\n"
     ]
    },
    {
     "data": {
      "text/plain": [
       "Public Health                             63511\n",
       "Municipal Transportation Agency           42574\n",
       "Human Services                            24041\n",
       "Police                                    23078\n",
       "Recreation and Park Commission            16298\n",
       "Airport Commission                        13682\n",
       "Fire Department                           11761\n",
       "General Services Agency - Public Works    11114\n",
       "Sheriff                                    7557\n",
       "General Services Agency - City Admin       7373\n",
       "PUC Public Utilities Commission            6816\n",
       "Public Library                             6668\n",
       "PUC Water Department                       5910\n",
       "PUC Wastewater Enterprise                  4225\n",
       "Superior Court                             4001\n",
       "PUC Hetch Hetchy                           2980\n",
       "Juvenile Probation                         2396\n",
       "City Attorney                              2372\n",
       "Department of Building Inspection          2280\n",
       "District Attorney                          2169\n",
       "Department of Emergency Management         2094\n",
       "Human Resources                            2066\n",
       "Controller                                 2060\n",
       "General Services Agency - Technology       2053\n",
       "Port                                       2009\n",
       "Fine Arts Museum                           1977\n",
       "Treasurer/Tax Collector                    1935\n",
       "City Planning                              1913\n",
       "Elections                                  1879\n",
       "Assessor/Recorder                          1318\n",
       "Public Defender                            1279\n",
       "Adult Probation                            1228\n",
       "Environment                                1015\n",
       "Board of Supervisors                        895\n",
       "Mayor                                       894\n",
       "Economic and Workforce Development          849\n",
       "Retirement System                           765\n",
       "Child Support Services                      697\n",
       "War Memorial                                642\n",
       "Health Service System                       606\n",
       "Asian Art Museum                            579\n",
       "Children, Youth & Their Families            467\n",
       "Rent Arbitration Board                      325\n",
       "Arts Commission                             308\n",
       "General Fund Unallocated                    300\n",
       "Human Rights Commission                     182\n",
       "Ethics Commission                           140\n",
       "Children and Families Commission            125\n",
       "Department of the Status of Women           111\n",
       "Academy of Sciences                         104\n",
       "Civil Service Commission                     82\n",
       "Board of Appeals                             80\n",
       "Community Investment & Infrastructure        26\n",
       "Law Library                                  16\n",
       "Name: Department, dtype: int64"
      ]
     },
     "metadata": {},
     "output_type": "display_data"
    },
    {
     "name": "stdout",
     "output_type": "stream",
     "text": [
      "Union Code\n"
     ]
    },
    {
     "data": {
      "text/plain": [
       "790.0    82307\n",
       "21.0     36729\n",
       "791.0    21944\n",
       "911.0    19223\n",
       "253.0    17987\n",
       "         ...  \n",
       "220.0       16\n",
       "969.0       13\n",
       "302.0        7\n",
       "604.0        7\n",
       "353.0        7\n",
       "Name: Union Code, Length: 69, dtype: int64"
      ]
     },
     "metadata": {},
     "output_type": "display_data"
    },
    {
     "name": "stdout",
     "output_type": "stream",
     "text": [
      "Union\n"
     ]
    },
    {
     "data": {
      "text/plain": [
       "SEIU - Miscellaneous, Local 1021                      82307\n",
       "Prof & Tech Engineers - Miscellaneous, Local 21       36729\n",
       "SEIU - Staff and Per Diem Nurses, Local 1021          21944\n",
       "Police Officers' Association                          19221\n",
       "Transport Workers - Transit Operators, Local 250-A    17987\n",
       "                                                      ...  \n",
       "Municipal Executive Association - Police                  7\n",
       "Port Director                                             7\n",
       "Management Unrepresented Employees - MTA                  7\n",
       "Municipal Exec Assoc-Misc                                 2\n",
       "POA                                                       2\n",
       "Name: Union, Length: 73, dtype: int64"
      ]
     },
     "metadata": {},
     "output_type": "display_data"
    },
    {
     "name": "stdout",
     "output_type": "stream",
     "text": [
      "Job Family Code\n"
     ]
    },
    {
     "data": {
      "text/plain": [
       "2300    30278\n",
       "9100    23964\n",
       "Q000    19223\n",
       "7300    17283\n",
       "9900    15549\n",
       "2900    14926\n",
       "1400    13403\n",
       "H000    11191\n",
       "0900     9566\n",
       "2700     9479\n",
       "5200     8440\n",
       "3200     8308\n",
       "8200     8176\n",
       "8300     7850\n",
       "1800     7771\n",
       "1000     6621\n",
       "8100     6546\n",
       "1600     6169\n",
       "2500     5773\n",
       "3600     5366\n",
       "2400     4924\n",
       "1200     4210\n",
       "SCRT     4141\n",
       "5300     3977\n",
       "7500     3840\n",
       "3400     3165\n",
       "7200     2851\n",
       "9200     2565\n",
       "7400     2551\n",
       "2200     2355\n",
       "9700     2095\n",
       "2600     2089\n",
       "1900     1549\n",
       "6300     1484\n",
       "4200     1362\n",
       "8400     1352\n",
       "5600     1219\n",
       "2800     1211\n",
       "1300     1147\n",
       "1700     1117\n",
       "2100     1095\n",
       "6200      940\n",
       "6100      939\n",
       "3300      816\n",
       "4300      790\n",
       "3500      528\n",
       "5500      495\n",
       "5100      300\n",
       "7100      187\n",
       "8600      132\n",
       "4100      132\n",
       "9300       95\n",
       "SFRA       71\n",
       "1500       70\n",
       "5400       61\n",
       "1100       43\n",
       "Name: Job Family Code, dtype: int64"
      ]
     },
     "metadata": {},
     "output_type": "display_data"
    },
    {
     "name": "stdout",
     "output_type": "stream",
     "text": [
      "Job Family\n"
     ]
    },
    {
     "data": {
      "text/plain": [
       "Nursing                           30278\n",
       "Street Transit                    23964\n",
       "Police Services                   19223\n",
       "Journeyman Trade                  17283\n",
       "Public Service Aide               15549\n",
       "Human Services                    14926\n",
       "Clerical, Secretarial & Steno     13403\n",
       "Fire Services                     11191\n",
       "Management                         9566\n",
       "Housekeeping & Laundry             9479\n",
       "Professional Engineering           8440\n",
       "Recreation                         8308\n",
       "Protection & Apprehension          8176\n",
       "Correction & Detention             7850\n",
       "Budget, Admn & Stats Analysis      7771\n",
       "Information Systems                6621\n",
       "Legal & Court                      6546\n",
       "Payroll, Billing & Accounting      6169\n",
       "Med Therapy & Auxiliary            5773\n",
       "Library                            5366\n",
       "Lab, Pharmacy & Med Techs          4924\n",
       "Personnel                          4210\n",
       "SF Superior Court                  4141\n",
       "Sub-Professional Engineering       3977\n",
       "Semi-Skilled & General Labor       3840\n",
       "Agriculture & Horticulture         3165\n",
       "Supervisory-Labor & Trade          2851\n",
       "Airport Operation                  2565\n",
       "Skilled Labor                      2551\n",
       "Medical & Dental                   2355\n",
       "Community Development              2156\n",
       "Dietary & Food                     2089\n",
       "Purchasing & Storekeeping          1549\n",
       "Construction Inspection            1484\n",
       "Appraisal & Taxation               1362\n",
       "Probation & Parole                 1352\n",
       "Energy & Environment               1219\n",
       "Public Health                      1211\n",
       "Pub Relations & Spec Assts         1147\n",
       "Computer Operatns & Repro Svcs     1117\n",
       "Hospital Administration            1095\n",
       "Public Safety Inspection            940\n",
       "Health & Sanitation Inspection      939\n",
       "Park & Zoo                          816\n",
       "Revenue                             790\n",
       "Museum & Cultural Affairs           528\n",
       "Construction Project Mgmt           495\n",
       "Administrative-DPW/PUC              300\n",
       "Administrative-Labor & Trades       187\n",
       "Property Administration             132\n",
       "Emergency Services                  132\n",
       "Port Operation                       95\n",
       "SF Redevelopment Agency              71\n",
       "Administrative Secretarial           70\n",
       "Administrative & Mgmt (Unrep)        43\n",
       "Name: Job Family, dtype: int64"
      ]
     },
     "metadata": {},
     "output_type": "display_data"
    },
    {
     "name": "stdout",
     "output_type": "stream",
     "text": [
      "Job Code\n"
     ]
    },
    {
     "data": {
      "text/plain": [
       "9163    17987\n",
       "P103    10479\n",
       "2320     8992\n",
       "9916     6424\n",
       "Q004     5854\n",
       "        ...  \n",
       "8213        1\n",
       "3246        1\n",
       "1367        1\n",
       "0119        1\n",
       "4322        1\n",
       "Name: Job Code, Length: 1133, dtype: int64"
      ]
     },
     "metadata": {},
     "output_type": "display_data"
    },
    {
     "name": "stdout",
     "output_type": "stream",
     "text": [
      "Job\n"
     ]
    },
    {
     "data": {
      "text/plain": [
       "Transit Operator                17987\n",
       "Special Nurse                   10479\n",
       "Registered Nurse                 8992\n",
       "Public Svc Aide-Public Works     6424\n",
       "Police Officer 3                 5854\n",
       "                                ...  \n",
       "Trial Delay Reduct Coord            1\n",
       "Special Assistant 8                 1\n",
       "Ct Comp Sys Engineer I              1\n",
       "Police Services Aide                1\n",
       "Commissioner 16700c, No Pay         1\n",
       "Name: Job, Length: 1139, dtype: int64"
      ]
     },
     "metadata": {},
     "output_type": "display_data"
    },
    {
     "name": "stdout",
     "output_type": "stream",
     "text": [
      "Employee Identifier\n"
     ]
    },
    {
     "data": {
      "text/plain": [
       "22011    19\n",
       "5909     19\n",
       "32402    18\n",
       "18631    17\n",
       "46290    17\n",
       "         ..\n",
       "52609     1\n",
       "34184     1\n",
       "13069     1\n",
       "23587     1\n",
       "52861     1\n",
       "Name: Employee Identifier, Length: 52059, dtype: int64"
      ]
     },
     "metadata": {},
     "output_type": "display_data"
    },
    {
     "name": "stdout",
     "output_type": "stream",
     "text": [
      "Salaries\n"
     ]
    },
    {
     "data": {
      "text/plain": [
       "0.00         3699\n",
       "56531.00      388\n",
       "54703.00      338\n",
       "55026.00      296\n",
       "113827.04     287\n",
       "             ... \n",
       "69742.40        1\n",
       "115174.26       1\n",
       "91559.91        1\n",
       "21335.14        1\n",
       "27117.19        1\n",
       "Name: Salaries, Length: 214513, dtype: int64"
      ]
     },
     "metadata": {},
     "output_type": "display_data"
    },
    {
     "name": "stdout",
     "output_type": "stream",
     "text": [
      "Overtime\n"
     ]
    },
    {
     "data": {
      "text/plain": [
       "0.00        167869\n",
       "283.85          60\n",
       "41.33           47\n",
       "4.84            47\n",
       "681.23          42\n",
       "             ...  \n",
       "85110.33         1\n",
       "3839.05          1\n",
       "3334.63          1\n",
       "2894.19          1\n",
       "8798.03          1\n",
       "Name: Overtime, Length: 108176, dtype: int64"
      ]
     },
     "metadata": {},
     "output_type": "display_data"
    },
    {
     "name": "stdout",
     "output_type": "stream",
     "text": [
      "Other Salaries\n"
     ]
    },
    {
     "data": {
      "text/plain": [
       "0.00        93224\n",
       "624.00       1846\n",
       "250.00       1261\n",
       "626.40       1136\n",
       "648.00        649\n",
       "            ...  \n",
       "3639.39         1\n",
       "4285.55         1\n",
       "10556.23        1\n",
       "19334.94        1\n",
       "2282.92         1\n",
       "Name: Other Salaries, Length: 147465, dtype: int64"
      ]
     },
     "metadata": {},
     "output_type": "display_data"
    },
    {
     "name": "stdout",
     "output_type": "stream",
     "text": [
      "Total Salary\n"
     ]
    },
    {
     "data": {
      "text/plain": [
       "0.00        374\n",
       "250.00      175\n",
       "1196.00      89\n",
       "18594.00     87\n",
       "1230.09      76\n",
       "           ... \n",
       "24094.04      1\n",
       "99186.49      1\n",
       "49596.21      1\n",
       "81915.82      1\n",
       "49048.81      1\n",
       "Name: Total Salary, Length: 265962, dtype: int64"
      ]
     },
     "metadata": {},
     "output_type": "display_data"
    },
    {
     "name": "stdout",
     "output_type": "stream",
     "text": [
      "Retirement\n"
     ]
    },
    {
     "data": {
      "text/plain": [
       " 0.00        45872\n",
       "-0.01           96\n",
       " 0.01           86\n",
       " 11937.33       82\n",
       " 23519.67       81\n",
       "             ...  \n",
       " 6386.66         1\n",
       " 21618.55        1\n",
       " 12314.66        1\n",
       " 11586.39        1\n",
       " 13867.61        1\n",
       "Name: Retirement, Length: 200963, dtype: int64"
      ]
     },
     "metadata": {},
     "output_type": "display_data"
    },
    {
     "name": "stdout",
     "output_type": "stream",
     "text": [
      "Health/Dental\n"
     ]
    },
    {
     "data": {
      "text/plain": [
       "0.00        14300\n",
       "13054.94    11402\n",
       "12424.50    11315\n",
       "12918.24    10024\n",
       "12801.79     8672\n",
       "            ...  \n",
       "10712.39        1\n",
       "13037.61        1\n",
       "8868.93         1\n",
       "13343.66        1\n",
       "738.50          1\n",
       "Name: Health/Dental, Length: 92759, dtype: int64"
      ]
     },
     "metadata": {},
     "output_type": "display_data"
    },
    {
     "name": "stdout",
     "output_type": "stream",
     "text": [
      "Other Benefits\n"
     ]
    },
    {
     "data": {
      "text/plain": [
       " 0.00       932\n",
       "-0.01       143\n",
       " 0.01       125\n",
       " 0.02        81\n",
       "-0.02        78\n",
       "           ... \n",
       " 9503.11      1\n",
       " 4921.98      1\n",
       " 3521.91      1\n",
       " 633.33       1\n",
       " 339.26       1\n",
       "Name: Other Benefits, Length: 243798, dtype: int64"
      ]
     },
     "metadata": {},
     "output_type": "display_data"
    },
    {
     "name": "stdout",
     "output_type": "stream",
     "text": [
      "Total Benefits\n"
     ]
    },
    {
     "data": {
      "text/plain": [
       "0.00        434\n",
       "739.17       47\n",
       "12.86        45\n",
       "1178.28      41\n",
       "1100.47      37\n",
       "           ... \n",
       "36057.99      1\n",
       "42270.28      1\n",
       "26881.25      1\n",
       "1044.69       1\n",
       "35053.98      1\n",
       "Name: Total Benefits, Length: 275671, dtype: int64"
      ]
     },
     "metadata": {},
     "output_type": "display_data"
    },
    {
     "name": "stdout",
     "output_type": "stream",
     "text": [
      "Total Compensation\n"
     ]
    },
    {
     "data": {
      "text/plain": [
       "1230.09      76\n",
       "2082.71      47\n",
       "250.00       45\n",
       "3995.28      41\n",
       "1693.00      38\n",
       "             ..\n",
       "192684.05     1\n",
       "420.59        1\n",
       "171814.14     1\n",
       "11005.55      1\n",
       "159421.13     1\n",
       "Name: Total Compensation, Length: 284433, dtype: int64"
      ]
     },
     "metadata": {},
     "output_type": "display_data"
    }
   ],
   "source": [
    "for col in df:\n",
    "    print(col)\n",
    "    display(df[col].value_counts())"
   ]
  },
  {
   "cell_type": "code",
   "execution_count": 236,
   "id": "25b3341c",
   "metadata": {},
   "outputs": [
    {
     "data": {
      "text/html": [
       "<div>\n",
       "<style scoped>\n",
       "    .dataframe tbody tr th:only-of-type {\n",
       "        vertical-align: middle;\n",
       "    }\n",
       "\n",
       "    .dataframe tbody tr th {\n",
       "        vertical-align: top;\n",
       "    }\n",
       "\n",
       "    .dataframe thead th {\n",
       "        text-align: right;\n",
       "    }\n",
       "</style>\n",
       "<table border=\"1\" class=\"dataframe\">\n",
       "  <thead>\n",
       "    <tr style=\"text-align: right;\">\n",
       "      <th></th>\n",
       "      <th>Year Type</th>\n",
       "      <th>Year</th>\n",
       "      <th>Organization Group Code</th>\n",
       "      <th>Organization Group</th>\n",
       "      <th>Department Code</th>\n",
       "      <th>Department</th>\n",
       "      <th>Union Code</th>\n",
       "      <th>Union</th>\n",
       "      <th>Job Family Code</th>\n",
       "      <th>Job Family</th>\n",
       "      <th>...</th>\n",
       "      <th>Employee Identifier</th>\n",
       "      <th>Salaries</th>\n",
       "      <th>Overtime</th>\n",
       "      <th>Other Salaries</th>\n",
       "      <th>Total Salary</th>\n",
       "      <th>Retirement</th>\n",
       "      <th>Health/Dental</th>\n",
       "      <th>Other Benefits</th>\n",
       "      <th>Total Benefits</th>\n",
       "      <th>Total Compensation</th>\n",
       "    </tr>\n",
       "  </thead>\n",
       "  <tbody>\n",
       "    <tr>\n",
       "      <th>41549</th>\n",
       "      <td>Calendar</td>\n",
       "      <td>2014</td>\n",
       "      <td>3</td>\n",
       "      <td>Human Welfare &amp; Neighborhood Development</td>\n",
       "      <td>DSS</td>\n",
       "      <td>Human Services</td>\n",
       "      <td>790.0</td>\n",
       "      <td>SEIU - Miscellaneous, Local 1021</td>\n",
       "      <td>1600</td>\n",
       "      <td>Payroll, Billing &amp; Accounting</td>\n",
       "      <td>...</td>\n",
       "      <td>22011</td>\n",
       "      <td>0.00</td>\n",
       "      <td>0.00</td>\n",
       "      <td>286.54</td>\n",
       "      <td>286.54</td>\n",
       "      <td>0.00</td>\n",
       "      <td>0.00</td>\n",
       "      <td>22.19</td>\n",
       "      <td>22.19</td>\n",
       "      <td>308.73</td>\n",
       "    </tr>\n",
       "    <tr>\n",
       "      <th>62642</th>\n",
       "      <td>Fiscal</td>\n",
       "      <td>2016</td>\n",
       "      <td>3</td>\n",
       "      <td>Human Welfare &amp; Neighborhood Development</td>\n",
       "      <td>DSS</td>\n",
       "      <td>Human Services</td>\n",
       "      <td>535.0</td>\n",
       "      <td>SEIU - Human Services, Local 1021</td>\n",
       "      <td>9700</td>\n",
       "      <td>Community Development</td>\n",
       "      <td>...</td>\n",
       "      <td>22011</td>\n",
       "      <td>70210.31</td>\n",
       "      <td>76.52</td>\n",
       "      <td>1380.00</td>\n",
       "      <td>71666.83</td>\n",
       "      <td>13322.98</td>\n",
       "      <td>12800.70</td>\n",
       "      <td>5117.23</td>\n",
       "      <td>31240.91</td>\n",
       "      <td>102907.74</td>\n",
       "    </tr>\n",
       "    <tr>\n",
       "      <th>63312</th>\n",
       "      <td>Calendar</td>\n",
       "      <td>2015</td>\n",
       "      <td>3</td>\n",
       "      <td>Human Welfare &amp; Neighborhood Development</td>\n",
       "      <td>DSS</td>\n",
       "      <td>Human Services</td>\n",
       "      <td>535.0</td>\n",
       "      <td>SEIU - Human Services, Local 1021</td>\n",
       "      <td>9700</td>\n",
       "      <td>Community Development</td>\n",
       "      <td>...</td>\n",
       "      <td>22011</td>\n",
       "      <td>31874.08</td>\n",
       "      <td>76.52</td>\n",
       "      <td>600.00</td>\n",
       "      <td>32550.60</td>\n",
       "      <td>6043.45</td>\n",
       "      <td>5620.88</td>\n",
       "      <td>2324.53</td>\n",
       "      <td>13988.86</td>\n",
       "      <td>46539.46</td>\n",
       "    </tr>\n",
       "    <tr>\n",
       "      <th>68023</th>\n",
       "      <td>Calendar</td>\n",
       "      <td>2015</td>\n",
       "      <td>3</td>\n",
       "      <td>Human Welfare &amp; Neighborhood Development</td>\n",
       "      <td>DSS</td>\n",
       "      <td>Human Services</td>\n",
       "      <td>535.0</td>\n",
       "      <td>SEIU - Human Services, Local 1021</td>\n",
       "      <td>2900</td>\n",
       "      <td>Human Services</td>\n",
       "      <td>...</td>\n",
       "      <td>22011</td>\n",
       "      <td>2665.20</td>\n",
       "      <td>0.00</td>\n",
       "      <td>60.00</td>\n",
       "      <td>2725.20</td>\n",
       "      <td>611.27</td>\n",
       "      <td>573.44</td>\n",
       "      <td>193.80</td>\n",
       "      <td>1378.51</td>\n",
       "      <td>4103.71</td>\n",
       "    </tr>\n",
       "    <tr>\n",
       "      <th>70737</th>\n",
       "      <td>Fiscal</td>\n",
       "      <td>2015</td>\n",
       "      <td>3</td>\n",
       "      <td>Human Welfare &amp; Neighborhood Development</td>\n",
       "      <td>DSS</td>\n",
       "      <td>Human Services</td>\n",
       "      <td>535.0</td>\n",
       "      <td>SEIU - Human Services, Local 1021</td>\n",
       "      <td>2900</td>\n",
       "      <td>Human Services</td>\n",
       "      <td>...</td>\n",
       "      <td>22011</td>\n",
       "      <td>7839.60</td>\n",
       "      <td>734.02</td>\n",
       "      <td>240.00</td>\n",
       "      <td>8813.62</td>\n",
       "      <td>1918.03</td>\n",
       "      <td>1724.21</td>\n",
       "      <td>678.24</td>\n",
       "      <td>4320.48</td>\n",
       "      <td>13134.10</td>\n",
       "    </tr>\n",
       "    <tr>\n",
       "      <th>77754</th>\n",
       "      <td>Fiscal</td>\n",
       "      <td>2016</td>\n",
       "      <td>3</td>\n",
       "      <td>Human Welfare &amp; Neighborhood Development</td>\n",
       "      <td>DSS</td>\n",
       "      <td>Human Services</td>\n",
       "      <td>535.0</td>\n",
       "      <td>SEIU - Human Services, Local 1021</td>\n",
       "      <td>2900</td>\n",
       "      <td>Human Services</td>\n",
       "      <td>...</td>\n",
       "      <td>22011</td>\n",
       "      <td>699.60</td>\n",
       "      <td>0.00</td>\n",
       "      <td>60.00</td>\n",
       "      <td>759.60</td>\n",
       "      <td>141.36</td>\n",
       "      <td>149.64</td>\n",
       "      <td>49.56</td>\n",
       "      <td>340.56</td>\n",
       "      <td>1100.16</td>\n",
       "    </tr>\n",
       "    <tr>\n",
       "      <th>113922</th>\n",
       "      <td>Calendar</td>\n",
       "      <td>2013</td>\n",
       "      <td>6</td>\n",
       "      <td>General Administration &amp; Finance</td>\n",
       "      <td>ADM</td>\n",
       "      <td>General Services Agency - City Admin</td>\n",
       "      <td>790.0</td>\n",
       "      <td>SEIU - Miscellaneous, Local 1021</td>\n",
       "      <td>1600</td>\n",
       "      <td>Payroll, Billing &amp; Accounting</td>\n",
       "      <td>...</td>\n",
       "      <td>22011</td>\n",
       "      <td>1238.60</td>\n",
       "      <td>0.00</td>\n",
       "      <td>0.00</td>\n",
       "      <td>1238.60</td>\n",
       "      <td>0.00</td>\n",
       "      <td>263.15</td>\n",
       "      <td>95.89</td>\n",
       "      <td>359.04</td>\n",
       "      <td>1597.64</td>\n",
       "    </tr>\n",
       "    <tr>\n",
       "      <th>119119</th>\n",
       "      <td>Fiscal</td>\n",
       "      <td>2015</td>\n",
       "      <td>3</td>\n",
       "      <td>Human Welfare &amp; Neighborhood Development</td>\n",
       "      <td>DSS</td>\n",
       "      <td>Human Services</td>\n",
       "      <td>535.0</td>\n",
       "      <td>SEIU - Human Services, Local 1021</td>\n",
       "      <td>2900</td>\n",
       "      <td>Human Services</td>\n",
       "      <td>...</td>\n",
       "      <td>22011</td>\n",
       "      <td>17956.40</td>\n",
       "      <td>371.66</td>\n",
       "      <td>420.00</td>\n",
       "      <td>18748.06</td>\n",
       "      <td>4121.86</td>\n",
       "      <td>3687.91</td>\n",
       "      <td>1352.26</td>\n",
       "      <td>9162.03</td>\n",
       "      <td>27910.09</td>\n",
       "    </tr>\n",
       "    <tr>\n",
       "      <th>157831</th>\n",
       "      <td>Calendar</td>\n",
       "      <td>2014</td>\n",
       "      <td>3</td>\n",
       "      <td>Human Welfare &amp; Neighborhood Development</td>\n",
       "      <td>DSS</td>\n",
       "      <td>Human Services</td>\n",
       "      <td>535.0</td>\n",
       "      <td>SEIU - Human Services, Local 1021</td>\n",
       "      <td>2900</td>\n",
       "      <td>Human Services</td>\n",
       "      <td>...</td>\n",
       "      <td>22011</td>\n",
       "      <td>33224.36</td>\n",
       "      <td>2079.18</td>\n",
       "      <td>1000.00</td>\n",
       "      <td>36303.54</td>\n",
       "      <td>7461.83</td>\n",
       "      <td>8033.81</td>\n",
       "      <td>2889.43</td>\n",
       "      <td>18385.07</td>\n",
       "      <td>54688.61</td>\n",
       "    </tr>\n",
       "    <tr>\n",
       "      <th>162413</th>\n",
       "      <td>Fiscal</td>\n",
       "      <td>2013</td>\n",
       "      <td>6</td>\n",
       "      <td>General Administration &amp; Finance</td>\n",
       "      <td>ADM</td>\n",
       "      <td>General Services Agency - City Admin</td>\n",
       "      <td>790.0</td>\n",
       "      <td>SEIU - Miscellaneous, Local 1021</td>\n",
       "      <td>1600</td>\n",
       "      <td>Payroll, Billing &amp; Accounting</td>\n",
       "      <td>...</td>\n",
       "      <td>22011</td>\n",
       "      <td>1238.60</td>\n",
       "      <td>0.00</td>\n",
       "      <td>0.00</td>\n",
       "      <td>1238.60</td>\n",
       "      <td>0.00</td>\n",
       "      <td>270.81</td>\n",
       "      <td>95.89</td>\n",
       "      <td>366.70</td>\n",
       "      <td>1605.30</td>\n",
       "    </tr>\n",
       "    <tr>\n",
       "      <th>185491</th>\n",
       "      <td>Calendar</td>\n",
       "      <td>2015</td>\n",
       "      <td>5</td>\n",
       "      <td>Culture &amp; Recreation</td>\n",
       "      <td>LIB</td>\n",
       "      <td>Public Library</td>\n",
       "      <td>535.0</td>\n",
       "      <td>SEIU - Human Services, Local 1021</td>\n",
       "      <td>2900</td>\n",
       "      <td>Human Services</td>\n",
       "      <td>...</td>\n",
       "      <td>22011</td>\n",
       "      <td>1910.40</td>\n",
       "      <td>0.00</td>\n",
       "      <td>313.43</td>\n",
       "      <td>2223.83</td>\n",
       "      <td>428.50</td>\n",
       "      <td>382.30</td>\n",
       "      <td>173.30</td>\n",
       "      <td>984.10</td>\n",
       "      <td>3207.93</td>\n",
       "    </tr>\n",
       "    <tr>\n",
       "      <th>197510</th>\n",
       "      <td>Calendar</td>\n",
       "      <td>2015</td>\n",
       "      <td>3</td>\n",
       "      <td>Human Welfare &amp; Neighborhood Development</td>\n",
       "      <td>DSS</td>\n",
       "      <td>Human Services</td>\n",
       "      <td>535.0</td>\n",
       "      <td>SEIU - Human Services, Local 1021</td>\n",
       "      <td>2900</td>\n",
       "      <td>Human Services</td>\n",
       "      <td>...</td>\n",
       "      <td>22011</td>\n",
       "      <td>18656.00</td>\n",
       "      <td>371.66</td>\n",
       "      <td>480.00</td>\n",
       "      <td>19507.66</td>\n",
       "      <td>4263.22</td>\n",
       "      <td>3822.92</td>\n",
       "      <td>1401.82</td>\n",
       "      <td>9487.96</td>\n",
       "      <td>28995.62</td>\n",
       "    </tr>\n",
       "    <tr>\n",
       "      <th>201533</th>\n",
       "      <td>Calendar</td>\n",
       "      <td>2013</td>\n",
       "      <td>3</td>\n",
       "      <td>Human Welfare &amp; Neighborhood Development</td>\n",
       "      <td>DSS</td>\n",
       "      <td>Human Services</td>\n",
       "      <td>535.0</td>\n",
       "      <td>SEIU - Human Services, Local 1021</td>\n",
       "      <td>2900</td>\n",
       "      <td>Human Services</td>\n",
       "      <td>...</td>\n",
       "      <td>22011</td>\n",
       "      <td>25922.02</td>\n",
       "      <td>0.00</td>\n",
       "      <td>360.00</td>\n",
       "      <td>26282.02</td>\n",
       "      <td>5572.30</td>\n",
       "      <td>6219.89</td>\n",
       "      <td>2113.85</td>\n",
       "      <td>13906.04</td>\n",
       "      <td>40188.06</td>\n",
       "    </tr>\n",
       "    <tr>\n",
       "      <th>209565</th>\n",
       "      <td>Fiscal</td>\n",
       "      <td>2015</td>\n",
       "      <td>3</td>\n",
       "      <td>Human Welfare &amp; Neighborhood Development</td>\n",
       "      <td>DSS</td>\n",
       "      <td>Human Services</td>\n",
       "      <td>790.0</td>\n",
       "      <td>SEIU - Miscellaneous, Local 1021</td>\n",
       "      <td>1600</td>\n",
       "      <td>Payroll, Billing &amp; Accounting</td>\n",
       "      <td>...</td>\n",
       "      <td>22011</td>\n",
       "      <td>0.00</td>\n",
       "      <td>0.00</td>\n",
       "      <td>286.54</td>\n",
       "      <td>286.54</td>\n",
       "      <td>0.00</td>\n",
       "      <td>0.00</td>\n",
       "      <td>22.19</td>\n",
       "      <td>22.19</td>\n",
       "      <td>308.73</td>\n",
       "    </tr>\n",
       "    <tr>\n",
       "      <th>218559</th>\n",
       "      <td>Calendar</td>\n",
       "      <td>2014</td>\n",
       "      <td>5</td>\n",
       "      <td>Culture &amp; Recreation</td>\n",
       "      <td>LIB</td>\n",
       "      <td>Public Library</td>\n",
       "      <td>790.0</td>\n",
       "      <td>SEIU - Miscellaneous, Local 1021</td>\n",
       "      <td>1600</td>\n",
       "      <td>Payroll, Billing &amp; Accounting</td>\n",
       "      <td>...</td>\n",
       "      <td>22011</td>\n",
       "      <td>23535.00</td>\n",
       "      <td>107.59</td>\n",
       "      <td>0.00</td>\n",
       "      <td>23642.59</td>\n",
       "      <td>5173.13</td>\n",
       "      <td>5021.13</td>\n",
       "      <td>1877.26</td>\n",
       "      <td>12071.52</td>\n",
       "      <td>35714.11</td>\n",
       "    </tr>\n",
       "    <tr>\n",
       "      <th>225648</th>\n",
       "      <td>Fiscal</td>\n",
       "      <td>2015</td>\n",
       "      <td>5</td>\n",
       "      <td>Culture &amp; Recreation</td>\n",
       "      <td>LIB</td>\n",
       "      <td>Public Library</td>\n",
       "      <td>535.0</td>\n",
       "      <td>SEIU - Human Services, Local 1021</td>\n",
       "      <td>2900</td>\n",
       "      <td>Human Services</td>\n",
       "      <td>...</td>\n",
       "      <td>22011</td>\n",
       "      <td>1910.40</td>\n",
       "      <td>0.00</td>\n",
       "      <td>313.43</td>\n",
       "      <td>2223.83</td>\n",
       "      <td>428.50</td>\n",
       "      <td>383.15</td>\n",
       "      <td>173.30</td>\n",
       "      <td>984.95</td>\n",
       "      <td>3208.78</td>\n",
       "    </tr>\n",
       "    <tr>\n",
       "      <th>243580</th>\n",
       "      <td>Fiscal</td>\n",
       "      <td>2014</td>\n",
       "      <td>3</td>\n",
       "      <td>Human Welfare &amp; Neighborhood Development</td>\n",
       "      <td>DSS</td>\n",
       "      <td>Human Services</td>\n",
       "      <td>535.0</td>\n",
       "      <td>SEIU - Human Services, Local 1021</td>\n",
       "      <td>2900</td>\n",
       "      <td>Human Services</td>\n",
       "      <td>...</td>\n",
       "      <td>22011</td>\n",
       "      <td>53971.98</td>\n",
       "      <td>1345.16</td>\n",
       "      <td>1180.00</td>\n",
       "      <td>56497.14</td>\n",
       "      <td>11727.37</td>\n",
       "      <td>12752.25</td>\n",
       "      <td>4518.84</td>\n",
       "      <td>28998.46</td>\n",
       "      <td>85495.60</td>\n",
       "    </tr>\n",
       "    <tr>\n",
       "      <th>288607</th>\n",
       "      <td>Fiscal</td>\n",
       "      <td>2015</td>\n",
       "      <td>5</td>\n",
       "      <td>Culture &amp; Recreation</td>\n",
       "      <td>LIB</td>\n",
       "      <td>Public Library</td>\n",
       "      <td>790.0</td>\n",
       "      <td>SEIU - Miscellaneous, Local 1021</td>\n",
       "      <td>1600</td>\n",
       "      <td>Payroll, Billing &amp; Accounting</td>\n",
       "      <td>...</td>\n",
       "      <td>22011</td>\n",
       "      <td>33087.00</td>\n",
       "      <td>219.53</td>\n",
       "      <td>0.00</td>\n",
       "      <td>33306.53</td>\n",
       "      <td>7315.65</td>\n",
       "      <td>6705.28</td>\n",
       "      <td>2598.38</td>\n",
       "      <td>16619.31</td>\n",
       "      <td>49925.84</td>\n",
       "    </tr>\n",
       "    <tr>\n",
       "      <th>289064</th>\n",
       "      <td>Calendar</td>\n",
       "      <td>2015</td>\n",
       "      <td>5</td>\n",
       "      <td>Culture &amp; Recreation</td>\n",
       "      <td>LIB</td>\n",
       "      <td>Public Library</td>\n",
       "      <td>790.0</td>\n",
       "      <td>SEIU - Miscellaneous, Local 1021</td>\n",
       "      <td>1600</td>\n",
       "      <td>Payroll, Billing &amp; Accounting</td>\n",
       "      <td>...</td>\n",
       "      <td>22011</td>\n",
       "      <td>9552.00</td>\n",
       "      <td>111.94</td>\n",
       "      <td>0.00</td>\n",
       "      <td>9663.94</td>\n",
       "      <td>2142.52</td>\n",
       "      <td>1911.46</td>\n",
       "      <td>721.12</td>\n",
       "      <td>4775.10</td>\n",
       "      <td>14439.04</td>\n",
       "    </tr>\n",
       "  </tbody>\n",
       "</table>\n",
       "<p>19 rows × 22 columns</p>\n",
       "</div>"
      ],
      "text/plain": [
       "       Year Type  Year  Organization Group Code  \\\n",
       "41549   Calendar  2014                        3   \n",
       "62642     Fiscal  2016                        3   \n",
       "63312   Calendar  2015                        3   \n",
       "68023   Calendar  2015                        3   \n",
       "70737     Fiscal  2015                        3   \n",
       "77754     Fiscal  2016                        3   \n",
       "113922  Calendar  2013                        6   \n",
       "119119    Fiscal  2015                        3   \n",
       "157831  Calendar  2014                        3   \n",
       "162413    Fiscal  2013                        6   \n",
       "185491  Calendar  2015                        5   \n",
       "197510  Calendar  2015                        3   \n",
       "201533  Calendar  2013                        3   \n",
       "209565    Fiscal  2015                        3   \n",
       "218559  Calendar  2014                        5   \n",
       "225648    Fiscal  2015                        5   \n",
       "243580    Fiscal  2014                        3   \n",
       "288607    Fiscal  2015                        5   \n",
       "289064  Calendar  2015                        5   \n",
       "\n",
       "                              Organization Group Department Code  \\\n",
       "41549   Human Welfare & Neighborhood Development             DSS   \n",
       "62642   Human Welfare & Neighborhood Development             DSS   \n",
       "63312   Human Welfare & Neighborhood Development             DSS   \n",
       "68023   Human Welfare & Neighborhood Development             DSS   \n",
       "70737   Human Welfare & Neighborhood Development             DSS   \n",
       "77754   Human Welfare & Neighborhood Development             DSS   \n",
       "113922          General Administration & Finance             ADM   \n",
       "119119  Human Welfare & Neighborhood Development             DSS   \n",
       "157831  Human Welfare & Neighborhood Development             DSS   \n",
       "162413          General Administration & Finance             ADM   \n",
       "185491                      Culture & Recreation             LIB   \n",
       "197510  Human Welfare & Neighborhood Development             DSS   \n",
       "201533  Human Welfare & Neighborhood Development             DSS   \n",
       "209565  Human Welfare & Neighborhood Development             DSS   \n",
       "218559                      Culture & Recreation             LIB   \n",
       "225648                      Culture & Recreation             LIB   \n",
       "243580  Human Welfare & Neighborhood Development             DSS   \n",
       "288607                      Culture & Recreation             LIB   \n",
       "289064                      Culture & Recreation             LIB   \n",
       "\n",
       "                                  Department  Union Code  \\\n",
       "41549                         Human Services       790.0   \n",
       "62642                         Human Services       535.0   \n",
       "63312                         Human Services       535.0   \n",
       "68023                         Human Services       535.0   \n",
       "70737                         Human Services       535.0   \n",
       "77754                         Human Services       535.0   \n",
       "113922  General Services Agency - City Admin       790.0   \n",
       "119119                        Human Services       535.0   \n",
       "157831                        Human Services       535.0   \n",
       "162413  General Services Agency - City Admin       790.0   \n",
       "185491                        Public Library       535.0   \n",
       "197510                        Human Services       535.0   \n",
       "201533                        Human Services       535.0   \n",
       "209565                        Human Services       790.0   \n",
       "218559                        Public Library       790.0   \n",
       "225648                        Public Library       535.0   \n",
       "243580                        Human Services       535.0   \n",
       "288607                        Public Library       790.0   \n",
       "289064                        Public Library       790.0   \n",
       "\n",
       "                                    Union Job Family Code  \\\n",
       "41549    SEIU - Miscellaneous, Local 1021            1600   \n",
       "62642   SEIU - Human Services, Local 1021            9700   \n",
       "63312   SEIU - Human Services, Local 1021            9700   \n",
       "68023   SEIU - Human Services, Local 1021            2900   \n",
       "70737   SEIU - Human Services, Local 1021            2900   \n",
       "77754   SEIU - Human Services, Local 1021            2900   \n",
       "113922   SEIU - Miscellaneous, Local 1021            1600   \n",
       "119119  SEIU - Human Services, Local 1021            2900   \n",
       "157831  SEIU - Human Services, Local 1021            2900   \n",
       "162413   SEIU - Miscellaneous, Local 1021            1600   \n",
       "185491  SEIU - Human Services, Local 1021            2900   \n",
       "197510  SEIU - Human Services, Local 1021            2900   \n",
       "201533  SEIU - Human Services, Local 1021            2900   \n",
       "209565   SEIU - Miscellaneous, Local 1021            1600   \n",
       "218559   SEIU - Miscellaneous, Local 1021            1600   \n",
       "225648  SEIU - Human Services, Local 1021            2900   \n",
       "243580  SEIU - Human Services, Local 1021            2900   \n",
       "288607   SEIU - Miscellaneous, Local 1021            1600   \n",
       "289064   SEIU - Miscellaneous, Local 1021            1600   \n",
       "\n",
       "                           Job Family  ... Employee Identifier  Salaries  \\\n",
       "41549   Payroll, Billing & Accounting  ...               22011      0.00   \n",
       "62642           Community Development  ...               22011  70210.31   \n",
       "63312           Community Development  ...               22011  31874.08   \n",
       "68023                  Human Services  ...               22011   2665.20   \n",
       "70737                  Human Services  ...               22011   7839.60   \n",
       "77754                  Human Services  ...               22011    699.60   \n",
       "113922  Payroll, Billing & Accounting  ...               22011   1238.60   \n",
       "119119                 Human Services  ...               22011  17956.40   \n",
       "157831                 Human Services  ...               22011  33224.36   \n",
       "162413  Payroll, Billing & Accounting  ...               22011   1238.60   \n",
       "185491                 Human Services  ...               22011   1910.40   \n",
       "197510                 Human Services  ...               22011  18656.00   \n",
       "201533                 Human Services  ...               22011  25922.02   \n",
       "209565  Payroll, Billing & Accounting  ...               22011      0.00   \n",
       "218559  Payroll, Billing & Accounting  ...               22011  23535.00   \n",
       "225648                 Human Services  ...               22011   1910.40   \n",
       "243580                 Human Services  ...               22011  53971.98   \n",
       "288607  Payroll, Billing & Accounting  ...               22011  33087.00   \n",
       "289064  Payroll, Billing & Accounting  ...               22011   9552.00   \n",
       "\n",
       "        Overtime  Other Salaries  Total Salary  Retirement  Health/Dental  \\\n",
       "41549       0.00          286.54        286.54        0.00           0.00   \n",
       "62642      76.52         1380.00      71666.83    13322.98       12800.70   \n",
       "63312      76.52          600.00      32550.60     6043.45        5620.88   \n",
       "68023       0.00           60.00       2725.20      611.27         573.44   \n",
       "70737     734.02          240.00       8813.62     1918.03        1724.21   \n",
       "77754       0.00           60.00        759.60      141.36         149.64   \n",
       "113922      0.00            0.00       1238.60        0.00         263.15   \n",
       "119119    371.66          420.00      18748.06     4121.86        3687.91   \n",
       "157831   2079.18         1000.00      36303.54     7461.83        8033.81   \n",
       "162413      0.00            0.00       1238.60        0.00         270.81   \n",
       "185491      0.00          313.43       2223.83      428.50         382.30   \n",
       "197510    371.66          480.00      19507.66     4263.22        3822.92   \n",
       "201533      0.00          360.00      26282.02     5572.30        6219.89   \n",
       "209565      0.00          286.54        286.54        0.00           0.00   \n",
       "218559    107.59            0.00      23642.59     5173.13        5021.13   \n",
       "225648      0.00          313.43       2223.83      428.50         383.15   \n",
       "243580   1345.16         1180.00      56497.14    11727.37       12752.25   \n",
       "288607    219.53            0.00      33306.53     7315.65        6705.28   \n",
       "289064    111.94            0.00       9663.94     2142.52        1911.46   \n",
       "\n",
       "        Other Benefits  Total Benefits  Total Compensation  \n",
       "41549            22.19           22.19              308.73  \n",
       "62642          5117.23        31240.91           102907.74  \n",
       "63312          2324.53        13988.86            46539.46  \n",
       "68023           193.80         1378.51             4103.71  \n",
       "70737           678.24         4320.48            13134.10  \n",
       "77754            49.56          340.56             1100.16  \n",
       "113922           95.89          359.04             1597.64  \n",
       "119119         1352.26         9162.03            27910.09  \n",
       "157831         2889.43        18385.07            54688.61  \n",
       "162413           95.89          366.70             1605.30  \n",
       "185491          173.30          984.10             3207.93  \n",
       "197510         1401.82         9487.96            28995.62  \n",
       "201533         2113.85        13906.04            40188.06  \n",
       "209565           22.19           22.19              308.73  \n",
       "218559         1877.26        12071.52            35714.11  \n",
       "225648          173.30          984.95             3208.78  \n",
       "243580         4518.84        28998.46            85495.60  \n",
       "288607         2598.38        16619.31            49925.84  \n",
       "289064          721.12         4775.10            14439.04  \n",
       "\n",
       "[19 rows x 22 columns]"
      ]
     },
     "execution_count": 236,
     "metadata": {},
     "output_type": "execute_result"
    }
   ],
   "source": [
    "df[df[\"Employee Identifier\"]==22011]"
   ]
  },
  {
   "cell_type": "code",
   "execution_count": 242,
   "id": "4bd74f00",
   "metadata": {},
   "outputs": [],
   "source": [
    "df=df[df[\"Year Type\"]==\"Fiscal\"]"
   ]
  },
  {
   "cell_type": "code",
   "execution_count": 243,
   "id": "4bac2d16",
   "metadata": {},
   "outputs": [],
   "source": [
    "#eliminamos la variable type of year porque para el estudio no nos interesa y \n",
    "#quitaremos duplicados asegurandonos de conservar información solo mediante 1 año de estudios ya sea fiscal o calendario. \n",
    "\n",
    "df_eje= df[['Year', 'Organization Group Code', 'Organization Group',\n",
    "       'Department Code', 'Department', 'Union Code', 'Union',\n",
    "       'Job Family Code', 'Job Family', 'Job Code', 'Job',\n",
    "       'Employee Identifier', 'Salaries', 'Overtime', 'Other Salaries',\n",
    "       'Total Salary', 'Retirement', 'Health/Dental', 'Other Benefits',\n",
    "       'Total Benefits', 'Total Compensation']]"
   ]
  },
  {
   "cell_type": "code",
   "execution_count": 244,
   "id": "64cb60e6",
   "metadata": {},
   "outputs": [
    {
     "data": {
      "text/html": [
       "<div>\n",
       "<style scoped>\n",
       "    .dataframe tbody tr th:only-of-type {\n",
       "        vertical-align: middle;\n",
       "    }\n",
       "\n",
       "    .dataframe tbody tr th {\n",
       "        vertical-align: top;\n",
       "    }\n",
       "\n",
       "    .dataframe thead th {\n",
       "        text-align: right;\n",
       "    }\n",
       "</style>\n",
       "<table border=\"1\" class=\"dataframe\">\n",
       "  <thead>\n",
       "    <tr style=\"text-align: right;\">\n",
       "      <th></th>\n",
       "      <th>Year</th>\n",
       "      <th>Organization Group Code</th>\n",
       "      <th>Organization Group</th>\n",
       "      <th>Department Code</th>\n",
       "      <th>Department</th>\n",
       "      <th>Union Code</th>\n",
       "      <th>Union</th>\n",
       "      <th>Job Family Code</th>\n",
       "      <th>Job Family</th>\n",
       "      <th>Job Code</th>\n",
       "      <th>...</th>\n",
       "      <th>Employee Identifier</th>\n",
       "      <th>Salaries</th>\n",
       "      <th>Overtime</th>\n",
       "      <th>Other Salaries</th>\n",
       "      <th>Total Salary</th>\n",
       "      <th>Retirement</th>\n",
       "      <th>Health/Dental</th>\n",
       "      <th>Other Benefits</th>\n",
       "      <th>Total Benefits</th>\n",
       "      <th>Total Compensation</th>\n",
       "    </tr>\n",
       "  </thead>\n",
       "  <tbody>\n",
       "  </tbody>\n",
       "</table>\n",
       "<p>0 rows × 21 columns</p>\n",
       "</div>"
      ],
      "text/plain": [
       "Empty DataFrame\n",
       "Columns: [Year, Organization Group Code, Organization Group, Department Code, Department, Union Code, Union, Job Family Code, Job Family, Job Code, Job, Employee Identifier, Salaries, Overtime, Other Salaries, Total Salary, Retirement, Health/Dental, Other Benefits, Total Benefits, Total Compensation]\n",
       "Index: []\n",
       "\n",
       "[0 rows x 21 columns]"
      ]
     },
     "execution_count": 244,
     "metadata": {},
     "output_type": "execute_result"
    }
   ],
   "source": [
    "df_eje[df_eje.duplicated(keep=False)].sort_values(by=['Year', 'Organization Group Code', 'Organization Group',\n",
    "       'Department Code', 'Department', 'Union Code', 'Union',\n",
    "       'Job Family Code', 'Job Family', 'Job Code', 'Job',\n",
    "       'Employee Identifier', 'Salaries', 'Overtime', 'Other Salaries',\n",
    "       'Total Salary', 'Retirement', 'Health/Dental', 'Other Benefits',\n",
    "       'Total Benefits', 'Total Compensation'])\n",
    "\n"
   ]
  },
  {
   "cell_type": "code",
   "execution_count": 245,
   "id": "1213e626",
   "metadata": {},
   "outputs": [],
   "source": [
    "df_eje=df_eje.drop_duplicates()"
   ]
  },
  {
   "cell_type": "code",
   "execution_count": 251,
   "id": "2227876c",
   "metadata": {},
   "outputs": [
    {
     "data": {
      "text/plain": [
       "5909     11\n",
       "38209    10\n",
       "46290    10\n",
       "32402    10\n",
       "9686      9\n",
       "         ..\n",
       "9839      1\n",
       "52850     1\n",
       "43416     1\n",
       "52813     1\n",
       "24136     1\n",
       "Name: Employee Identifier, Length: 52059, dtype: int64"
      ]
     },
     "execution_count": 251,
     "metadata": {},
     "output_type": "execute_result"
    }
   ],
   "source": [
    "#vamos a sacar un promedio de empleado\n",
    "df_eje[\"Employee Identifier\"].value_counts()"
   ]
  },
  {
   "cell_type": "code",
   "execution_count": 287,
   "id": "c108f4bd",
   "metadata": {},
   "outputs": [],
   "source": [
    "aux=df_eje[['Employee Identifier','Salaries', 'Overtime', 'Other Salaries',\n",
    "       'Total Salary', 'Retirement', 'Health/Dental', 'Other Benefits',\n",
    "       'Total Benefits', 'Total Compensation']]"
   ]
  },
  {
   "cell_type": "code",
   "execution_count": 288,
   "id": "acd7ac3a",
   "metadata": {},
   "outputs": [
    {
     "name": "stderr",
     "output_type": "stream",
     "text": [
      "<ipython-input-288-c4675911e232>:1: SettingWithCopyWarning: \n",
      "A value is trying to be set on a copy of a slice from a DataFrame.\n",
      "Try using .loc[row_indexer,col_indexer] = value instead\n",
      "\n",
      "See the caveats in the documentation: https://pandas.pydata.org/pandas-docs/stable/user_guide/indexing.html#returning-a-view-versus-a-copy\n",
      "  aux[\"conteo\"]=1\n"
     ]
    }
   ],
   "source": [
    "aux[\"conteo\"]=1"
   ]
  },
  {
   "cell_type": "code",
   "execution_count": 289,
   "id": "f14b0040",
   "metadata": {},
   "outputs": [
    {
     "data": {
      "text/html": [
       "<div>\n",
       "<style scoped>\n",
       "    .dataframe tbody tr th:only-of-type {\n",
       "        vertical-align: middle;\n",
       "    }\n",
       "\n",
       "    .dataframe tbody tr th {\n",
       "        vertical-align: top;\n",
       "    }\n",
       "\n",
       "    .dataframe thead th {\n",
       "        text-align: right;\n",
       "    }\n",
       "</style>\n",
       "<table border=\"1\" class=\"dataframe\">\n",
       "  <thead>\n",
       "    <tr style=\"text-align: right;\">\n",
       "      <th></th>\n",
       "      <th>Employee Identifier</th>\n",
       "      <th>Salaries</th>\n",
       "      <th>Overtime</th>\n",
       "      <th>Other Salaries</th>\n",
       "      <th>Total Salary</th>\n",
       "      <th>Retirement</th>\n",
       "      <th>Health/Dental</th>\n",
       "      <th>Other Benefits</th>\n",
       "      <th>Total Benefits</th>\n",
       "      <th>Total Compensation</th>\n",
       "      <th>conteo</th>\n",
       "    </tr>\n",
       "  </thead>\n",
       "  <tbody>\n",
       "    <tr>\n",
       "      <th>0</th>\n",
       "      <td>49919</td>\n",
       "      <td>114473.16</td>\n",
       "      <td>0.0</td>\n",
       "      <td>1500.0</td>\n",
       "      <td>115973.16</td>\n",
       "      <td>21025.98</td>\n",
       "      <td>13068.80</td>\n",
       "      <td>9368.71</td>\n",
       "      <td>43463.49</td>\n",
       "      <td>159436.65</td>\n",
       "      <td>1</td>\n",
       "    </tr>\n",
       "    <tr>\n",
       "      <th>3</th>\n",
       "      <td>51145</td>\n",
       "      <td>2873.41</td>\n",
       "      <td>0.0</td>\n",
       "      <td>0.0</td>\n",
       "      <td>2873.41</td>\n",
       "      <td>0.00</td>\n",
       "      <td>622.63</td>\n",
       "      <td>222.46</td>\n",
       "      <td>845.09</td>\n",
       "      <td>3718.50</td>\n",
       "      <td>1</td>\n",
       "    </tr>\n",
       "  </tbody>\n",
       "</table>\n",
       "</div>"
      ],
      "text/plain": [
       "   Employee Identifier   Salaries  Overtime  Other Salaries  Total Salary  \\\n",
       "0                49919  114473.16       0.0          1500.0     115973.16   \n",
       "3                51145    2873.41       0.0             0.0       2873.41   \n",
       "\n",
       "   Retirement  Health/Dental  Other Benefits  Total Benefits  \\\n",
       "0    21025.98       13068.80         9368.71        43463.49   \n",
       "3        0.00         622.63          222.46          845.09   \n",
       "\n",
       "   Total Compensation  conteo  \n",
       "0           159436.65       1  \n",
       "3             3718.50       1  "
      ]
     },
     "execution_count": 289,
     "metadata": {},
     "output_type": "execute_result"
    }
   ],
   "source": [
    "aux.head(2)"
   ]
  },
  {
   "cell_type": "code",
   "execution_count": 290,
   "id": "47911a9c",
   "metadata": {},
   "outputs": [
    {
     "data": {
      "text/plain": [
       "Employee Identifier    0\n",
       "Salaries               0\n",
       "Overtime               0\n",
       "Other Salaries         0\n",
       "Total Salary           0\n",
       "Retirement             0\n",
       "Health/Dental          0\n",
       "Other Benefits         0\n",
       "Total Benefits         0\n",
       "Total Compensation     0\n",
       "conteo                 0\n",
       "dtype: int64"
      ]
     },
     "execution_count": 290,
     "metadata": {},
     "output_type": "execute_result"
    }
   ],
   "source": [
    "aux.isnull().sum()"
   ]
  },
  {
   "cell_type": "code",
   "execution_count": 291,
   "id": "ec1d2566",
   "metadata": {},
   "outputs": [],
   "source": [
    "aux=aux.dropna()"
   ]
  },
  {
   "cell_type": "code",
   "execution_count": 292,
   "id": "e3543916",
   "metadata": {},
   "outputs": [],
   "source": [
    "import missingno"
   ]
  },
  {
   "cell_type": "code",
   "execution_count": 293,
   "id": "cbfeadb9",
   "metadata": {},
   "outputs": [
    {
     "data": {
      "text/plain": [
       "<AxesSubplot:>"
      ]
     },
     "execution_count": 293,
     "metadata": {},
     "output_type": "execute_result"
    },
    {
     "data": {
      "image/png": "[encoded data removed]",
      "text/plain": [
       "<Figure size 1800x720 with 3 Axes>"
      ]
     },
     "metadata": {},
     "output_type": "display_data"
    }
   ],
   "source": [
    "missingno.bar(aux)"
   ]
  },
  {
   "cell_type": "code",
   "execution_count": 294,
   "id": "9e280b89",
   "metadata": {},
   "outputs": [],
   "source": [
    "#tratamiento outliers mediante sus quantiles"
   ]
  },
  {
   "cell_type": "code",
   "execution_count": 295,
   "id": "587ad125",
   "metadata": {},
   "outputs": [],
   "source": [
    "results=pd.DataFrame()\n",
    "data_iqr=df.copy()\n",
    "data_per=df.copy()\n",
    "total=[]\n",
    "total_per=[]\n",
    "total_z=[]\n",
    "indices_=[]"
   ]
  },
  {
   "cell_type": "code",
   "execution_count": 296,
   "id": "41b1fbaa",
   "metadata": {},
   "outputs": [],
   "source": [
    "def OUTLIERS(df,cols):\n",
    "    results=pd.DataFrame()\n",
    "    data_iqr=df.copy()\n",
    "    data_per=df.copy()\n",
    "    total=[]\n",
    "    total_per=[]\n",
    "    total_z=[]\n",
    "    indices_=[]\n",
    "\n",
    "    for col in cols:\n",
    "        #IQR\n",
    "        Q1=df[col].quantile(0.25)\n",
    "        Q3=df[col].quantile(0.75)\n",
    "        IQR=Q3-Q1\n",
    "        INF=Q1-1.5*(IQR)\n",
    "        SUP=Q3+1.5*(IQR)\n",
    "    \n",
    "        \n",
    "        n_outliers=df[(df[col] < INF) | (df[col] > SUP)].shape[0]\n",
    "        total.append(n_outliers)\n",
    "        indices_iqr=list(df[(df[col] < INF) | (df[col] > SUP)].index)\n",
    "        #data_iqr=data_iqr[~(data_iqr[col] < INF) | (data_iqr[col] > SUP)].reset_index(drop=True)\n",
    "        \n",
    "        #Percentiles\n",
    "        INF_pe=np.percentile(df[col].dropna(),5)\n",
    "    \n",
    "        SUP_pe=np.percentile(df[col].dropna(),95)\n",
    "        n_outliers_per=df[(df[col] < INF_pe) | (df[col] > SUP_pe)].shape[0]\n",
    "        total_per.append(n_outliers_per)\n",
    "        indices_per=list(df[(df[col] < INF_pe) | (df[col] > SUP_pe)].index)\n",
    "        #data_per=data_per[~(data_per[col] < INF_pe) | (data_per[col] > SUP_pe)].reset_index(drop=True)\n",
    "        \n",
    "        #MEAN CHANGE\n",
    "        \n",
    "        #Obtenemos todos los percentiles además del máximo\n",
    "        perc_100 = [x / 100 for x in range(100)]\n",
    "        dist = df[col].describe(perc_100).iloc[4:]\n",
    "        #Obtenemos el cambio entre percentiles\n",
    "        change_dist = df[col].describe(perc_100).iloc[4:].diff()\n",
    "        #Obtenemos el cambio promedio entre percentiles\n",
    "        mean_change = df[col].describe(\n",
    "            perc_100).iloc[4:].diff().mean()\n",
    "        #Si el cambio entre el percentil 99 y el maximo es mayor a el cambio promedio entonces:\n",
    "        if change_dist[\"max\"] > mean_change:\n",
    "            #La banda superior será el máximo menos el cambio promedio\n",
    "            ub = dist[\"max\"] - mean_change\n",
    "            #si la banda superior es más pequeña que el percentil 99 , modificamos la banda para que tome el percentil 99\n",
    "            if ub < dist[\"99%\"]:\n",
    "                ub = dist[\"99%\"]\n",
    "        else:\n",
    "        #Si el cambio entre el percentil 99 y el maximo es menor o igual a el cambio promedio entonces se toma el percentil 99\n",
    "            ub = dist[\"max\"]\n",
    "\n",
    "        if change_dist[\"1%\"] > mean_change:\n",
    "            lb = dist[\"0%\"] + mean_change\n",
    "            if lb > dist[\"1%\"]:\n",
    "                lb = dist[\"1%\"]\n",
    "        else:\n",
    "            lb = dist[\"0%\"]\n",
    "        n_total_z=df[(df[col] < lb) | (df[col] > ub)].shape[0]\n",
    "        total_z.append(n_total_z)\n",
    "        indices_z=list(df[(df[col] < lb) | (df[col] > ub)].index)\n",
    "        \n",
    "        indices_.append(aux_outliers(indices_iqr,indices_per,indices_z))\n",
    "        \n",
    "    results[\"features\"]=cols\n",
    "    results[\"n_outliers_IQR\"]=total\n",
    "    results[\"n_outliers_Percentil\"]=total_per\n",
    "    results[\"n_outliers_Mean_Change\"]=total_z\n",
    "    results[\"n_outliers_IQR_%\"]=round((results[\"n_outliers_IQR\"]/df.shape[0])*100,2)\n",
    "    results[\"n_outliers_Percentil_%\"]=round((results[\"n_outliers_Percentil\"]/df.shape[0])*100,2)\n",
    "    results[\"n_outliers_Mean_Change_%\"]=round((results[\"n_outliers_Mean_Change\"]/df.shape[0])*100,2)\n",
    "    results[\"indices\"]=indices_\n",
    "    results[\"total_outliers\"]=results[\"indices\"].map(lambda x:len(x))\n",
    "    results[\"%_outliers\"]=results[\"indices\"].map(lambda x:round(((len(x)/df.shape[0])*100),2))\n",
    "    results=results[['features', 'n_outliers_IQR', 'n_outliers_Percentil',\n",
    "       'n_outliers_Mean_Change', 'n_outliers_IQR_%', 'n_outliers_Percentil_%',\n",
    "       'n_outliers_Mean_Change_%',  'total_outliers', '%_outliers','indices']]\n",
    "    return results\n",
    "def aux_outliers(a,b,c):\n",
    "    a=set(a)\n",
    "    b=set(b)\n",
    "    c=set(c)\n",
    "    \n",
    "    a_=a.intersection(b)\n",
    "\n",
    "    b_=b.intersection(c)\n",
    "\n",
    "    c_=a.intersection(c)\n",
    "\n",
    "    outliers_index=list(set(list(a_)+list(b_)+list(c_)))\n",
    "    return outliers_index"
   ]
  },
  {
   "cell_type": "code",
   "execution_count": 297,
   "id": "b91c8110",
   "metadata": {},
   "outputs": [],
   "source": [
    "aux.columns = [ 'c_' + str(col)  for col in aux.columns]"
   ]
  },
  {
   "cell_type": "code",
   "execution_count": 298,
   "id": "f5f35d6e",
   "metadata": {},
   "outputs": [
    {
     "data": {
      "text/plain": [
       "Index(['c_Employee Identifier', 'c_Salaries', 'c_Overtime', 'c_Other Salaries',\n",
       "       'c_Total Salary', 'c_Retirement', 'c_Health/Dental', 'c_Other Benefits',\n",
       "       'c_Total Benefits', 'c_Total Compensation', 'c_conteo'],\n",
       "      dtype='object')"
      ]
     },
     "execution_count": 298,
     "metadata": {},
     "output_type": "execute_result"
    }
   ],
   "source": [
    "aux.columns"
   ]
  },
  {
   "cell_type": "code",
   "execution_count": 299,
   "id": "6c658ae8",
   "metadata": {},
   "outputs": [],
   "source": [
    "aux=aux.rename(columns={'c_Employee Identifier':'Employee Identifier'})"
   ]
  },
  {
   "cell_type": "code",
   "execution_count": 300,
   "id": "c44ecc02",
   "metadata": {},
   "outputs": [
    {
     "data": {
      "text/html": [
       "<div>\n",
       "<style scoped>\n",
       "    .dataframe tbody tr th:only-of-type {\n",
       "        vertical-align: middle;\n",
       "    }\n",
       "\n",
       "    .dataframe tbody tr th {\n",
       "        vertical-align: top;\n",
       "    }\n",
       "\n",
       "    .dataframe thead th {\n",
       "        text-align: right;\n",
       "    }\n",
       "</style>\n",
       "<table border=\"1\" class=\"dataframe\">\n",
       "  <thead>\n",
       "    <tr style=\"text-align: right;\">\n",
       "      <th></th>\n",
       "      <th>Employee Identifier</th>\n",
       "      <th>c_Salaries</th>\n",
       "      <th>c_Overtime</th>\n",
       "      <th>c_Other Salaries</th>\n",
       "      <th>c_Total Salary</th>\n",
       "      <th>c_Retirement</th>\n",
       "      <th>c_Health/Dental</th>\n",
       "      <th>c_Other Benefits</th>\n",
       "      <th>c_Total Benefits</th>\n",
       "      <th>c_Total Compensation</th>\n",
       "      <th>c_conteo</th>\n",
       "    </tr>\n",
       "  </thead>\n",
       "  <tbody>\n",
       "    <tr>\n",
       "      <th>0</th>\n",
       "      <td>49919</td>\n",
       "      <td>114473.16</td>\n",
       "      <td>0.00</td>\n",
       "      <td>1500.00</td>\n",
       "      <td>115973.16</td>\n",
       "      <td>21025.98</td>\n",
       "      <td>13068.80</td>\n",
       "      <td>9368.71</td>\n",
       "      <td>43463.49</td>\n",
       "      <td>159436.65</td>\n",
       "      <td>1</td>\n",
       "    </tr>\n",
       "    <tr>\n",
       "      <th>3</th>\n",
       "      <td>51145</td>\n",
       "      <td>2873.41</td>\n",
       "      <td>0.00</td>\n",
       "      <td>0.00</td>\n",
       "      <td>2873.41</td>\n",
       "      <td>0.00</td>\n",
       "      <td>622.63</td>\n",
       "      <td>222.46</td>\n",
       "      <td>845.09</td>\n",
       "      <td>3718.50</td>\n",
       "      <td>1</td>\n",
       "    </tr>\n",
       "    <tr>\n",
       "      <th>4</th>\n",
       "      <td>48705</td>\n",
       "      <td>6701.85</td>\n",
       "      <td>0.00</td>\n",
       "      <td>176.70</td>\n",
       "      <td>6878.55</td>\n",
       "      <td>0.00</td>\n",
       "      <td>2711.66</td>\n",
       "      <td>538.43</td>\n",
       "      <td>3250.09</td>\n",
       "      <td>10128.64</td>\n",
       "      <td>1</td>\n",
       "    </tr>\n",
       "    <tr>\n",
       "      <th>5</th>\n",
       "      <td>19801</td>\n",
       "      <td>45321.18</td>\n",
       "      <td>0.00</td>\n",
       "      <td>0.00</td>\n",
       "      <td>45321.18</td>\n",
       "      <td>9386.03</td>\n",
       "      <td>11780.60</td>\n",
       "      <td>3486.34</td>\n",
       "      <td>24652.97</td>\n",
       "      <td>69974.15</td>\n",
       "      <td>1</td>\n",
       "    </tr>\n",
       "    <tr>\n",
       "      <th>6</th>\n",
       "      <td>14135</td>\n",
       "      <td>28305.50</td>\n",
       "      <td>0.00</td>\n",
       "      <td>1193.14</td>\n",
       "      <td>29498.64</td>\n",
       "      <td>6616.52</td>\n",
       "      <td>5793.48</td>\n",
       "      <td>2430.74</td>\n",
       "      <td>14840.74</td>\n",
       "      <td>44339.38</td>\n",
       "      <td>1</td>\n",
       "    </tr>\n",
       "    <tr>\n",
       "      <th>...</th>\n",
       "      <td>...</td>\n",
       "      <td>...</td>\n",
       "      <td>...</td>\n",
       "      <td>...</td>\n",
       "      <td>...</td>\n",
       "      <td>...</td>\n",
       "      <td>...</td>\n",
       "      <td>...</td>\n",
       "      <td>...</td>\n",
       "      <td>...</td>\n",
       "      <td>...</td>\n",
       "    </tr>\n",
       "    <tr>\n",
       "      <th>291816</th>\n",
       "      <td>36845</td>\n",
       "      <td>25941.30</td>\n",
       "      <td>0.00</td>\n",
       "      <td>0.00</td>\n",
       "      <td>25941.30</td>\n",
       "      <td>5818.66</td>\n",
       "      <td>3687.91</td>\n",
       "      <td>2122.81</td>\n",
       "      <td>11629.38</td>\n",
       "      <td>37570.68</td>\n",
       "      <td>1</td>\n",
       "    </tr>\n",
       "    <tr>\n",
       "      <th>291817</th>\n",
       "      <td>9047</td>\n",
       "      <td>752.00</td>\n",
       "      <td>0.00</td>\n",
       "      <td>8.96</td>\n",
       "      <td>760.96</td>\n",
       "      <td>0.00</td>\n",
       "      <td>293.04</td>\n",
       "      <td>59.06</td>\n",
       "      <td>352.10</td>\n",
       "      <td>1113.06</td>\n",
       "      <td>1</td>\n",
       "    </tr>\n",
       "    <tr>\n",
       "      <th>291818</th>\n",
       "      <td>46451</td>\n",
       "      <td>56974.00</td>\n",
       "      <td>1811.10</td>\n",
       "      <td>1524.48</td>\n",
       "      <td>60309.58</td>\n",
       "      <td>10607.05</td>\n",
       "      <td>12801.79</td>\n",
       "      <td>4921.72</td>\n",
       "      <td>28330.56</td>\n",
       "      <td>88640.14</td>\n",
       "      <td>1</td>\n",
       "    </tr>\n",
       "    <tr>\n",
       "      <th>291819</th>\n",
       "      <td>1744</td>\n",
       "      <td>114900.88</td>\n",
       "      <td>93181.73</td>\n",
       "      <td>18206.93</td>\n",
       "      <td>226289.54</td>\n",
       "      <td>22716.48</td>\n",
       "      <td>16011.78</td>\n",
       "      <td>3823.00</td>\n",
       "      <td>42551.26</td>\n",
       "      <td>268840.80</td>\n",
       "      <td>1</td>\n",
       "    </tr>\n",
       "    <tr>\n",
       "      <th>291821</th>\n",
       "      <td>14381</td>\n",
       "      <td>62155.51</td>\n",
       "      <td>0.00</td>\n",
       "      <td>1946.40</td>\n",
       "      <td>64101.91</td>\n",
       "      <td>14333.20</td>\n",
       "      <td>12500.56</td>\n",
       "      <td>5179.70</td>\n",
       "      <td>32013.46</td>\n",
       "      <td>96115.37</td>\n",
       "      <td>1</td>\n",
       "    </tr>\n",
       "  </tbody>\n",
       "</table>\n",
       "<p>167509 rows × 11 columns</p>\n",
       "</div>"
      ],
      "text/plain": [
       "        Employee Identifier  c_Salaries  c_Overtime  c_Other Salaries  \\\n",
       "0                     49919   114473.16        0.00           1500.00   \n",
       "3                     51145     2873.41        0.00              0.00   \n",
       "4                     48705     6701.85        0.00            176.70   \n",
       "5                     19801    45321.18        0.00              0.00   \n",
       "6                     14135    28305.50        0.00           1193.14   \n",
       "...                     ...         ...         ...               ...   \n",
       "291816                36845    25941.30        0.00              0.00   \n",
       "291817                 9047      752.00        0.00              8.96   \n",
       "291818                46451    56974.00     1811.10           1524.48   \n",
       "291819                 1744   114900.88    93181.73          18206.93   \n",
       "291821                14381    62155.51        0.00           1946.40   \n",
       "\n",
       "        c_Total Salary  c_Retirement  c_Health/Dental  c_Other Benefits  \\\n",
       "0            115973.16      21025.98         13068.80           9368.71   \n",
       "3              2873.41          0.00           622.63            222.46   \n",
       "4              6878.55          0.00          2711.66            538.43   \n",
       "5             45321.18       9386.03         11780.60           3486.34   \n",
       "6             29498.64       6616.52          5793.48           2430.74   \n",
       "...                ...           ...              ...               ...   \n",
       "291816        25941.30       5818.66          3687.91           2122.81   \n",
       "291817          760.96          0.00           293.04             59.06   \n",
       "291818        60309.58      10607.05         12801.79           4921.72   \n",
       "291819       226289.54      22716.48         16011.78           3823.00   \n",
       "291821        64101.91      14333.20         12500.56           5179.70   \n",
       "\n",
       "        c_Total Benefits  c_Total Compensation  c_conteo  \n",
       "0               43463.49             159436.65         1  \n",
       "3                 845.09               3718.50         1  \n",
       "4                3250.09              10128.64         1  \n",
       "5               24652.97              69974.15         1  \n",
       "6               14840.74              44339.38         1  \n",
       "...                  ...                   ...       ...  \n",
       "291816          11629.38              37570.68         1  \n",
       "291817            352.10               1113.06         1  \n",
       "291818          28330.56              88640.14         1  \n",
       "291819          42551.26             268840.80         1  \n",
       "291821          32013.46              96115.37         1  \n",
       "\n",
       "[167509 rows x 11 columns]"
      ]
     },
     "execution_count": 300,
     "metadata": {},
     "output_type": "execute_result"
    }
   ],
   "source": [
    "aux"
   ]
  },
  {
   "cell_type": "code",
   "execution_count": 301,
   "id": "6907e715",
   "metadata": {},
   "outputs": [],
   "source": [
    "outliers=OUTLIERS(aux,list(aux.filter(like=\"c_\")))"
   ]
  },
  {
   "cell_type": "code",
   "execution_count": 302,
   "id": "a24fab58",
   "metadata": {},
   "outputs": [
    {
     "data": {
      "text/html": [
       "<div>\n",
       "<style scoped>\n",
       "    .dataframe tbody tr th:only-of-type {\n",
       "        vertical-align: middle;\n",
       "    }\n",
       "\n",
       "    .dataframe tbody tr th {\n",
       "        vertical-align: top;\n",
       "    }\n",
       "\n",
       "    .dataframe thead th {\n",
       "        text-align: right;\n",
       "    }\n",
       "</style>\n",
       "<table border=\"1\" class=\"dataframe\">\n",
       "  <thead>\n",
       "    <tr style=\"text-align: right;\">\n",
       "      <th></th>\n",
       "      <th>features</th>\n",
       "      <th>n_outliers_IQR</th>\n",
       "      <th>n_outliers_Percentil</th>\n",
       "      <th>n_outliers_Mean_Change</th>\n",
       "      <th>n_outliers_IQR_%</th>\n",
       "      <th>n_outliers_Percentil_%</th>\n",
       "      <th>n_outliers_Mean_Change_%</th>\n",
       "      <th>total_outliers</th>\n",
       "      <th>%_outliers</th>\n",
       "      <th>indices</th>\n",
       "    </tr>\n",
       "  </thead>\n",
       "  <tbody>\n",
       "    <tr>\n",
       "      <th>0</th>\n",
       "      <td>c_Salaries</td>\n",
       "      <td>911</td>\n",
       "      <td>16745</td>\n",
       "      <td>2</td>\n",
       "      <td>0.54</td>\n",
       "      <td>10.00</td>\n",
       "      <td>0.0</td>\n",
       "      <td>912</td>\n",
       "      <td>0.54</td>\n",
       "      <td>[110592, 2049, 276480, 131076, 63496, 282633, ...</td>\n",
       "    </tr>\n",
       "    <tr>\n",
       "      <th>1</th>\n",
       "      <td>c_Overtime</td>\n",
       "      <td>28287</td>\n",
       "      <td>8402</td>\n",
       "      <td>2</td>\n",
       "      <td>16.89</td>\n",
       "      <td>5.02</td>\n",
       "      <td>0.0</td>\n",
       "      <td>8377</td>\n",
       "      <td>5.00</td>\n",
       "      <td>[262145, 196610, 262147, 32774, 229384, 131081...</td>\n",
       "    </tr>\n",
       "    <tr>\n",
       "      <th>2</th>\n",
       "      <td>c_Other Salaries</td>\n",
       "      <td>17419</td>\n",
       "      <td>8429</td>\n",
       "      <td>2</td>\n",
       "      <td>10.40</td>\n",
       "      <td>5.03</td>\n",
       "      <td>0.0</td>\n",
       "      <td>8378</td>\n",
       "      <td>5.00</td>\n",
       "      <td>[229384, 229388, 262156, 131094, 163867, 19664...</td>\n",
       "    </tr>\n",
       "    <tr>\n",
       "      <th>3</th>\n",
       "      <td>c_Total Salary</td>\n",
       "      <td>1076</td>\n",
       "      <td>16752</td>\n",
       "      <td>2</td>\n",
       "      <td>0.64</td>\n",
       "      <td>10.00</td>\n",
       "      <td>0.0</td>\n",
       "      <td>1077</td>\n",
       "      <td>0.64</td>\n",
       "      <td>[79872, 159748, 229384, 282633, 147467, 6158, ...</td>\n",
       "    </tr>\n",
       "    <tr>\n",
       "      <th>4</th>\n",
       "      <td>c_Retirement</td>\n",
       "      <td>576</td>\n",
       "      <td>8600</td>\n",
       "      <td>3</td>\n",
       "      <td>0.34</td>\n",
       "      <td>5.13</td>\n",
       "      <td>0.0</td>\n",
       "      <td>576</td>\n",
       "      <td>0.34</td>\n",
       "      <td>[110592, 75780, 131076, 34822, 63496, 282633, ...</td>\n",
       "    </tr>\n",
       "    <tr>\n",
       "      <th>5</th>\n",
       "      <td>c_Health/Dental</td>\n",
       "      <td>0</td>\n",
       "      <td>8515</td>\n",
       "      <td>2</td>\n",
       "      <td>0.00</td>\n",
       "      <td>5.08</td>\n",
       "      <td>0.0</td>\n",
       "      <td>2</td>\n",
       "      <td>0.00</td>\n",
       "      <td>[140656, 106271]</td>\n",
       "    </tr>\n",
       "    <tr>\n",
       "      <th>6</th>\n",
       "      <td>c_Other Benefits</td>\n",
       "      <td>3165</td>\n",
       "      <td>16752</td>\n",
       "      <td>4</td>\n",
       "      <td>1.89</td>\n",
       "      <td>10.00</td>\n",
       "      <td>0.0</td>\n",
       "      <td>3165</td>\n",
       "      <td>1.89</td>\n",
       "      <td>[114688, 172035, 131076, 139273, 262154, 57355...</td>\n",
       "    </tr>\n",
       "    <tr>\n",
       "      <th>7</th>\n",
       "      <td>c_Total Benefits</td>\n",
       "      <td>109</td>\n",
       "      <td>16752</td>\n",
       "      <td>2</td>\n",
       "      <td>0.07</td>\n",
       "      <td>10.00</td>\n",
       "      <td>0.0</td>\n",
       "      <td>110</td>\n",
       "      <td>0.07</td>\n",
       "      <td>[265216, 2049, 230918, 18951, 83462, 282633, 2...</td>\n",
       "    </tr>\n",
       "    <tr>\n",
       "      <th>8</th>\n",
       "      <td>c_Total Compensation</td>\n",
       "      <td>464</td>\n",
       "      <td>16752</td>\n",
       "      <td>2</td>\n",
       "      <td>0.28</td>\n",
       "      <td>10.00</td>\n",
       "      <td>0.0</td>\n",
       "      <td>465</td>\n",
       "      <td>0.28</td>\n",
       "      <td>[79872, 282633, 18450, 188437, 210973, 63521, ...</td>\n",
       "    </tr>\n",
       "    <tr>\n",
       "      <th>9</th>\n",
       "      <td>c_conteo</td>\n",
       "      <td>0</td>\n",
       "      <td>0</td>\n",
       "      <td>0</td>\n",
       "      <td>0.00</td>\n",
       "      <td>0.00</td>\n",
       "      <td>0.0</td>\n",
       "      <td>0</td>\n",
       "      <td>0.00</td>\n",
       "      <td>[]</td>\n",
       "    </tr>\n",
       "  </tbody>\n",
       "</table>\n",
       "</div>"
      ],
      "text/plain": [
       "               features  n_outliers_IQR  n_outliers_Percentil  \\\n",
       "0            c_Salaries             911                 16745   \n",
       "1            c_Overtime           28287                  8402   \n",
       "2      c_Other Salaries           17419                  8429   \n",
       "3        c_Total Salary            1076                 16752   \n",
       "4          c_Retirement             576                  8600   \n",
       "5       c_Health/Dental               0                  8515   \n",
       "6      c_Other Benefits            3165                 16752   \n",
       "7      c_Total Benefits             109                 16752   \n",
       "8  c_Total Compensation             464                 16752   \n",
       "9              c_conteo               0                     0   \n",
       "\n",
       "   n_outliers_Mean_Change  n_outliers_IQR_%  n_outliers_Percentil_%  \\\n",
       "0                       2              0.54                   10.00   \n",
       "1                       2             16.89                    5.02   \n",
       "2                       2             10.40                    5.03   \n",
       "3                       2              0.64                   10.00   \n",
       "4                       3              0.34                    5.13   \n",
       "5                       2              0.00                    5.08   \n",
       "6                       4              1.89                   10.00   \n",
       "7                       2              0.07                   10.00   \n",
       "8                       2              0.28                   10.00   \n",
       "9                       0              0.00                    0.00   \n",
       "\n",
       "   n_outliers_Mean_Change_%  total_outliers  %_outliers  \\\n",
       "0                       0.0             912        0.54   \n",
       "1                       0.0            8377        5.00   \n",
       "2                       0.0            8378        5.00   \n",
       "3                       0.0            1077        0.64   \n",
       "4                       0.0             576        0.34   \n",
       "5                       0.0               2        0.00   \n",
       "6                       0.0            3165        1.89   \n",
       "7                       0.0             110        0.07   \n",
       "8                       0.0             465        0.28   \n",
       "9                       0.0               0        0.00   \n",
       "\n",
       "                                             indices  \n",
       "0  [110592, 2049, 276480, 131076, 63496, 282633, ...  \n",
       "1  [262145, 196610, 262147, 32774, 229384, 131081...  \n",
       "2  [229384, 229388, 262156, 131094, 163867, 19664...  \n",
       "3  [79872, 159748, 229384, 282633, 147467, 6158, ...  \n",
       "4  [110592, 75780, 131076, 34822, 63496, 282633, ...  \n",
       "5                                   [140656, 106271]  \n",
       "6  [114688, 172035, 131076, 139273, 262154, 57355...  \n",
       "7  [265216, 2049, 230918, 18951, 83462, 282633, 2...  \n",
       "8  [79872, 282633, 18450, 188437, 210973, 63521, ...  \n",
       "9                                                 []  "
      ]
     },
     "execution_count": 302,
     "metadata": {},
     "output_type": "execute_result"
    }
   ],
   "source": [
    "outliers"
   ]
  },
  {
   "cell_type": "code",
   "execution_count": 303,
   "id": "6db15b8b",
   "metadata": {},
   "outputs": [],
   "source": [
    "indices=list(outliers[\"indices\"].values)"
   ]
  },
  {
   "cell_type": "code",
   "execution_count": 304,
   "id": "0079b8b9",
   "metadata": {},
   "outputs": [],
   "source": [
    "import functools\n"
   ]
  },
  {
   "cell_type": "code",
   "execution_count": 305,
   "id": "2b39c690",
   "metadata": {},
   "outputs": [],
   "source": [
    "indices=list(set(functools.reduce(lambda x,y: x+y, indices)))"
   ]
  },
  {
   "cell_type": "code",
   "execution_count": 306,
   "id": "79945878",
   "metadata": {},
   "outputs": [],
   "source": [
    "df=aux[~aux.index.isin(indices)].reset_index(drop=True)"
   ]
  },
  {
   "cell_type": "code",
   "execution_count": 307,
   "id": "3eb1ce2a",
   "metadata": {},
   "outputs": [
    {
     "data": {
      "text/plain": [
       "(149439, 11)"
      ]
     },
     "execution_count": 307,
     "metadata": {},
     "output_type": "execute_result"
    }
   ],
   "source": [
    "df.shape"
   ]
  },
  {
   "cell_type": "code",
   "execution_count": 309,
   "id": "23af4c95",
   "metadata": {},
   "outputs": [],
   "source": [
    "final_=aux.groupby(['Employee Identifier'],as_index=False).agg({'c_Salaries':'mean', 'c_Overtime':'mean', 'c_Other Salaries':'mean', 'c_Total Salary':'mean',\n",
    "       'c_Retirement':'mean', 'c_Health/Dental':'mean', 'c_Other Benefits':'mean', 'c_Total Benefits':'mean',\n",
    "       'c_Total Compensation':'mean', 'c_conteo':sum})\n"
   ]
  },
  {
   "cell_type": "code",
   "execution_count": 310,
   "id": "30d237c7",
   "metadata": {},
   "outputs": [],
   "source": [
    "\n",
    "final=final_.drop(columns=['Employee Identifier'])"
   ]
  },
  {
   "cell_type": "code",
   "execution_count": 313,
   "id": "6d42e3d0",
   "metadata": {},
   "outputs": [
    {
     "data": {
      "text/html": [
       "<div>\n",
       "<style scoped>\n",
       "    .dataframe tbody tr th:only-of-type {\n",
       "        vertical-align: middle;\n",
       "    }\n",
       "\n",
       "    .dataframe tbody tr th {\n",
       "        vertical-align: top;\n",
       "    }\n",
       "\n",
       "    .dataframe thead th {\n",
       "        text-align: right;\n",
       "    }\n",
       "</style>\n",
       "<table border=\"1\" class=\"dataframe\">\n",
       "  <thead>\n",
       "    <tr style=\"text-align: right;\">\n",
       "      <th></th>\n",
       "      <th>c_Salaries</th>\n",
       "      <th>c_Overtime</th>\n",
       "      <th>c_Other Salaries</th>\n",
       "      <th>c_Total Salary</th>\n",
       "      <th>c_Retirement</th>\n",
       "      <th>c_Health/Dental</th>\n",
       "      <th>c_Other Benefits</th>\n",
       "      <th>c_Total Benefits</th>\n",
       "      <th>c_Total Compensation</th>\n",
       "      <th>c_conteo</th>\n",
       "    </tr>\n",
       "  </thead>\n",
       "  <tbody>\n",
       "    <tr>\n",
       "      <th>0</th>\n",
       "      <td>29789.1000</td>\n",
       "      <td>0.0000</td>\n",
       "      <td>4739.1800</td>\n",
       "      <td>34528.280</td>\n",
       "      <td>0.0000</td>\n",
       "      <td>0.0000</td>\n",
       "      <td>2727.7200</td>\n",
       "      <td>2727.7200</td>\n",
       "      <td>37256.0000</td>\n",
       "      <td>1</td>\n",
       "    </tr>\n",
       "    <tr>\n",
       "      <th>1</th>\n",
       "      <td>11105.7150</td>\n",
       "      <td>0.0000</td>\n",
       "      <td>439.1450</td>\n",
       "      <td>11544.860</td>\n",
       "      <td>1017.5350</td>\n",
       "      <td>4959.5900</td>\n",
       "      <td>904.4950</td>\n",
       "      <td>6881.6200</td>\n",
       "      <td>18426.4800</td>\n",
       "      <td>2</td>\n",
       "    </tr>\n",
       "    <tr>\n",
       "      <th>2</th>\n",
       "      <td>24574.8500</td>\n",
       "      <td>0.0000</td>\n",
       "      <td>840.3100</td>\n",
       "      <td>25415.160</td>\n",
       "      <td>5931.6775</td>\n",
       "      <td>6366.5725</td>\n",
       "      <td>1859.8025</td>\n",
       "      <td>14158.0525</td>\n",
       "      <td>39573.2125</td>\n",
       "      <td>4</td>\n",
       "    </tr>\n",
       "    <tr>\n",
       "      <th>3</th>\n",
       "      <td>46172.7000</td>\n",
       "      <td>12476.1150</td>\n",
       "      <td>1999.2000</td>\n",
       "      <td>60648.015</td>\n",
       "      <td>8697.7500</td>\n",
       "      <td>6941.5050</td>\n",
       "      <td>4779.8900</td>\n",
       "      <td>20419.1450</td>\n",
       "      <td>81067.1600</td>\n",
       "      <td>2</td>\n",
       "    </tr>\n",
       "    <tr>\n",
       "      <th>4</th>\n",
       "      <td>68816.0580</td>\n",
       "      <td>0.0000</td>\n",
       "      <td>0.0000</td>\n",
       "      <td>68816.058</td>\n",
       "      <td>13871.3960</td>\n",
       "      <td>10176.7420</td>\n",
       "      <td>5673.9540</td>\n",
       "      <td>29722.0920</td>\n",
       "      <td>98538.1500</td>\n",
       "      <td>5</td>\n",
       "    </tr>\n",
       "    <tr>\n",
       "      <th>...</th>\n",
       "      <td>...</td>\n",
       "      <td>...</td>\n",
       "      <td>...</td>\n",
       "      <td>...</td>\n",
       "      <td>...</td>\n",
       "      <td>...</td>\n",
       "      <td>...</td>\n",
       "      <td>...</td>\n",
       "      <td>...</td>\n",
       "      <td>...</td>\n",
       "    </tr>\n",
       "    <tr>\n",
       "      <th>52054</th>\n",
       "      <td>55486.4300</td>\n",
       "      <td>22672.0575</td>\n",
       "      <td>2587.8475</td>\n",
       "      <td>80746.335</td>\n",
       "      <td>15476.7250</td>\n",
       "      <td>11287.2675</td>\n",
       "      <td>6126.8025</td>\n",
       "      <td>32890.7950</td>\n",
       "      <td>113637.1300</td>\n",
       "      <td>4</td>\n",
       "    </tr>\n",
       "    <tr>\n",
       "      <th>52055</th>\n",
       "      <td>142243.7850</td>\n",
       "      <td>20.4000</td>\n",
       "      <td>21885.6500</td>\n",
       "      <td>164149.835</td>\n",
       "      <td>29396.6075</td>\n",
       "      <td>12569.5925</td>\n",
       "      <td>4386.9275</td>\n",
       "      <td>46353.1275</td>\n",
       "      <td>210502.9625</td>\n",
       "      <td>4</td>\n",
       "    </tr>\n",
       "    <tr>\n",
       "      <th>52056</th>\n",
       "      <td>28302.3425</td>\n",
       "      <td>3419.0150</td>\n",
       "      <td>2055.1075</td>\n",
       "      <td>33776.465</td>\n",
       "      <td>4050.1625</td>\n",
       "      <td>7665.9775</td>\n",
       "      <td>2700.4000</td>\n",
       "      <td>14416.5400</td>\n",
       "      <td>48193.0050</td>\n",
       "      <td>4</td>\n",
       "    </tr>\n",
       "    <tr>\n",
       "      <th>52057</th>\n",
       "      <td>131341.5950</td>\n",
       "      <td>31185.2500</td>\n",
       "      <td>16383.7250</td>\n",
       "      <td>178910.570</td>\n",
       "      <td>28442.4800</td>\n",
       "      <td>15506.2975</td>\n",
       "      <td>3074.5725</td>\n",
       "      <td>47023.3500</td>\n",
       "      <td>225933.9200</td>\n",
       "      <td>4</td>\n",
       "    </tr>\n",
       "    <tr>\n",
       "      <th>52058</th>\n",
       "      <td>62799.1550</td>\n",
       "      <td>0.0000</td>\n",
       "      <td>0.0000</td>\n",
       "      <td>62799.155</td>\n",
       "      <td>12786.4300</td>\n",
       "      <td>12281.7850</td>\n",
       "      <td>5017.4650</td>\n",
       "      <td>30085.6800</td>\n",
       "      <td>92884.8350</td>\n",
       "      <td>2</td>\n",
       "    </tr>\n",
       "  </tbody>\n",
       "</table>\n",
       "<p>52059 rows × 10 columns</p>\n",
       "</div>"
      ],
      "text/plain": [
       "        c_Salaries  c_Overtime  c_Other Salaries  c_Total Salary  \\\n",
       "0       29789.1000      0.0000         4739.1800       34528.280   \n",
       "1       11105.7150      0.0000          439.1450       11544.860   \n",
       "2       24574.8500      0.0000          840.3100       25415.160   \n",
       "3       46172.7000  12476.1150         1999.2000       60648.015   \n",
       "4       68816.0580      0.0000            0.0000       68816.058   \n",
       "...            ...         ...               ...             ...   \n",
       "52054   55486.4300  22672.0575         2587.8475       80746.335   \n",
       "52055  142243.7850     20.4000        21885.6500      164149.835   \n",
       "52056   28302.3425   3419.0150         2055.1075       33776.465   \n",
       "52057  131341.5950  31185.2500        16383.7250      178910.570   \n",
       "52058   62799.1550      0.0000            0.0000       62799.155   \n",
       "\n",
       "       c_Retirement  c_Health/Dental  c_Other Benefits  c_Total Benefits  \\\n",
       "0            0.0000           0.0000         2727.7200         2727.7200   \n",
       "1         1017.5350        4959.5900          904.4950         6881.6200   \n",
       "2         5931.6775        6366.5725         1859.8025        14158.0525   \n",
       "3         8697.7500        6941.5050         4779.8900        20419.1450   \n",
       "4        13871.3960       10176.7420         5673.9540        29722.0920   \n",
       "...             ...              ...               ...               ...   \n",
       "52054    15476.7250       11287.2675         6126.8025        32890.7950   \n",
       "52055    29396.6075       12569.5925         4386.9275        46353.1275   \n",
       "52056     4050.1625        7665.9775         2700.4000        14416.5400   \n",
       "52057    28442.4800       15506.2975         3074.5725        47023.3500   \n",
       "52058    12786.4300       12281.7850         5017.4650        30085.6800   \n",
       "\n",
       "       c_Total Compensation  c_conteo  \n",
       "0                37256.0000         1  \n",
       "1                18426.4800         2  \n",
       "2                39573.2125         4  \n",
       "3                81067.1600         2  \n",
       "4                98538.1500         5  \n",
       "...                     ...       ...  \n",
       "52054           113637.1300         4  \n",
       "52055           210502.9625         4  \n",
       "52056            48193.0050         4  \n",
       "52057           225933.9200         4  \n",
       "52058            92884.8350         2  \n",
       "\n",
       "[52059 rows x 10 columns]"
      ]
     },
     "execution_count": 313,
     "metadata": {},
     "output_type": "execute_result"
    }
   ],
   "source": [
    "final"
   ]
  },
  {
   "cell_type": "code",
   "execution_count": 525,
   "id": "edd12d38",
   "metadata": {},
   "outputs": [],
   "source": [
    "X=final[['c_Salaries', 'c_Overtime', 'c_Other Salaries',\n",
    "       'c_Total Salary', 'c_Retirement', 'c_Health/Dental', 'c_Other Benefits',\n",
    "       'c_Total Benefits', 'c_Total Compensation']]"
   ]
  },
  {
   "cell_type": "code",
   "execution_count": 526,
   "id": "2608f997",
   "metadata": {},
   "outputs": [],
   "source": [
    "\n",
    "\n",
    "ss = StandardScaler()\n",
    "\n",
    "sdf = ss.fit_transform(X)"
   ]
  },
  {
   "cell_type": "code",
   "execution_count": 527,
   "id": "a3996ce8",
   "metadata": {},
   "outputs": [],
   "source": [
    "from sklearn.metrics import silhouette_score,calinski_harabasz_score"
   ]
  },
  {
   "cell_type": "code",
   "execution_count": 528,
   "id": "f788476e",
   "metadata": {},
   "outputs": [],
   "source": [
    "df_sdf=pd.DataFrame(data=sdf,columns=list(X.columns))"
   ]
  },
  {
   "cell_type": "code",
   "execution_count": 529,
   "id": "73b117c7",
   "metadata": {},
   "outputs": [],
   "source": [
    "X_sample=df_sdf.sample(frac=0.1, replace=False, random_state=1)"
   ]
  },
  {
   "cell_type": "code",
   "execution_count": 530,
   "id": "98a0388d",
   "metadata": {},
   "outputs": [],
   "source": [
    "from sklearn.decomposition import PCA"
   ]
  },
  {
   "cell_type": "code",
   "execution_count": 531,
   "id": "46aeb3b7",
   "metadata": {},
   "outputs": [],
   "source": [
    "n_components = 2\n",
    "pca = PCA(n_components=n_components)\n",
    "X_sample_pca = pd.DataFrame(pca.fit_transform(X_sample),columns=[f\"p_{i}\" for i in  range(1,n_components+1)])"
   ]
  },
  {
   "cell_type": "markdown",
   "id": "35de7439",
   "metadata": {},
   "source": [
    "# DBSCAN\n"
   ]
  },
  {
   "cell_type": "code",
   "execution_count": 344,
   "id": "ed770310",
   "metadata": {},
   "outputs": [],
   "source": [
    "n_clusters = []\n",
    "n_noise_points = []\n",
    "silhouette_scores = []\n",
    "calinski_harabasz_scores = []\n",
    "\n",
    "for p in [2, 4, 8, 12]:\n",
    "    n_clusters_p = []\n",
    "    n_noise_points_p = []\n",
    "    silhouette_scores_p = []\n",
    "    calinski_harabasz_scores_p = []\n",
    "\n",
    "    for eps in np.arange(.04, 1.5, 0.1):\n",
    "        dst = DBSCAN(eps=eps, min_samples=3)\n",
    "        Y_pred_t = dst.fit_predict(X_sample)\n",
    "\n",
    "        n_clusters_p.append(np.max(Y_pred_t) + 1)\n",
    "        n_noise_points_p.append(np.sum(Y_pred_t == -1))\n",
    "        silhouette_scores_p.append(silhouette_score(X_sample, Y_pred_t))\n",
    "        calinski_harabasz_scores_p.append(calinski_harabasz_score(X_sample, Y_pred_t))\n",
    "\n",
    "    n_clusters.append(n_clusters_p)\n",
    "    n_noise_points.append(n_noise_points_p)\n",
    "    silhouette_scores.append(silhouette_scores_p)\n",
    "    calinski_harabasz_scores.append(calinski_harabasz_scores_p)"
   ]
  },
  {
   "cell_type": "code",
   "execution_count": 349,
   "id": "0271224c",
   "metadata": {},
   "outputs": [
    {
     "data": {
      "image/png": "[encoded data removed]",
      "text/plain": [
       "<Figure size 1296x864 with 16 Axes>"
      ]
     },
     "metadata": {},
     "output_type": "display_data"
    }
   ],
   "source": [
    "\n",
    "fig, ax = plt.subplots(4, 4, figsize=(18, 12), sharex=True)\n",
    "\n",
    "for idx, p in enumerate([2, 4, 8, 12]):\n",
    "    x = np.arange(.04, 1.5, 0.1)\n",
    "\n",
    "    ax[idx, 0].plot(x, n_clusters[idx], label='p={}'.format(p))\n",
    "    ax[idx, 1].plot(x, n_noise_points[idx], label='p={}'.format(p))\n",
    "    ax[idx, 2].plot(x, silhouette_scores[idx], label='p={}'.format(p))\n",
    "    ax[idx, 3].plot(x, calinski_harabasz_scores[idx], label='p={}'.format(p))\n",
    "\n",
    "ax[0, 0].set_title('Number of clusters', fontsize=14)\n",
    "ax[0, 1].set_title('Number of noise points', fontsize=14)\n",
    "ax[0, 2].set_title('Silhouette score', fontsize=14)\n",
    "ax[0, 3].set_title('Calinski-Harabasz score', fontsize=14)\n",
    "\n",
    "for i in range(4):\n",
    "    ax[i, 0].set_yticks(np.arange(.01, 3, .1))\n",
    "    ax[i, 0].legend()\n",
    "    ax[3, i].set_xlabel(r'$\\epsilon$')\n",
    "\n",
    "plt.show()"
   ]
  },
  {
   "cell_type": "code",
   "execution_count": 350,
   "id": "33051def",
   "metadata": {},
   "outputs": [],
   "source": [
    "from sklearn.cluster import DBSCAN\n",
    "from sklearn.metrics import silhouette_score"
   ]
  },
  {
   "cell_type": "code",
   "execution_count": 355,
   "id": "442f2d38",
   "metadata": {},
   "outputs": [
    {
     "name": "stdout",
     "output_type": "stream",
     "text": [
      "Number of clusters: 5\n",
      "Number of noise points: 125\n",
      "Silhouette score: 0.398\n",
      "Calinski-Harabaz score: 117.395\n"
     ]
    }
   ],
   "source": [
    "ds = DBSCAN(eps=1, min_samples=3)\n",
    "Y_pred =ds.fit_predict(X_sample)\n",
    "print('Number of clusters: {}'.format(np.max(Y_pred) + 1))\n",
    "print('Number of noise points: {}'.format(np.sum(Y_pred==-1)))\n",
    "print('Silhouette score: {:.3f}'.format(silhouette_score(X_sample_pca, Y_pred)))\n",
    "print('Calinski-Harabaz score: {:.3f}'.format(calinski_harabasz_score(X_sample_pca,\n",
    "Y_pred)))"
   ]
  },
  {
   "cell_type": "code",
   "execution_count": 532,
   "id": "effc6852",
   "metadata": {},
   "outputs": [],
   "source": [
    "X_sample_pca[\"cl_dbscan\"] = Y_pred"
   ]
  },
  {
   "cell_type": "code",
   "execution_count": 533,
   "id": "a60634e5",
   "metadata": {},
   "outputs": [
    {
     "data": {
      "text/plain": [
       " 0    0.973300\n",
       "-1    0.024011\n",
       " 1    0.000960\n",
       " 4    0.000576\n",
       " 2    0.000576\n",
       " 3    0.000576\n",
       "Name: cl_dbscan, dtype: float64"
      ]
     },
     "execution_count": 533,
     "metadata": {},
     "output_type": "execute_result"
    }
   ],
   "source": [
    "X_sample_pca[\"cl_dbscan\"].value_counts(1)"
   ]
  },
  {
   "cell_type": "code",
   "execution_count": 534,
   "id": "21d91826",
   "metadata": {},
   "outputs": [],
   "source": [
    "from sklearn.tree import DecisionTreeClassifier"
   ]
  },
  {
   "cell_type": "code",
   "execution_count": 535,
   "id": "4c7621bc",
   "metadata": {},
   "outputs": [
    {
     "data": {
      "text/plain": [
       "(52059, 9)"
      ]
     },
     "execution_count": 535,
     "metadata": {},
     "output_type": "execute_result"
    }
   ],
   "source": [
    "X.shape\n"
   ]
  },
  {
   "cell_type": "code",
   "execution_count": 536,
   "id": "cc5cdf1c",
   "metadata": {},
   "outputs": [],
   "source": [
    "indices=X_sample.index"
   ]
  },
  {
   "cell_type": "code",
   "execution_count": 537,
   "id": "b800be1e",
   "metadata": {},
   "outputs": [],
   "source": [
    "a=X[X.index.isin(indices)]"
   ]
  },
  {
   "cell_type": "code",
   "execution_count": 549,
   "id": "89e0584c",
   "metadata": {},
   "outputs": [
    {
     "name": "stderr",
     "output_type": "stream",
     "text": [
      "<ipython-input-549-bca253f4b97e>:1: SettingWithCopyWarning: \n",
      "A value is trying to be set on a copy of a slice from a DataFrame.\n",
      "Try using .loc[row_indexer,col_indexer] = value instead\n",
      "\n",
      "See the caveats in the documentation: https://pandas.pydata.org/pandas-docs/stable/user_guide/indexing.html#returning-a-view-versus-a-copy\n",
      "  a[\"cl_dbscan\"] = Y_pred\n"
     ]
    }
   ],
   "source": [
    "a[\"cl_dbscan\"] = Y_pred"
   ]
  },
  {
   "cell_type": "code",
   "execution_count": 539,
   "id": "ac49e39e",
   "metadata": {},
   "outputs": [],
   "source": [
    "tree=DecisionTreeClassifier()"
   ]
  },
  {
   "cell_type": "code",
   "execution_count": 540,
   "id": "76fce3e6",
   "metadata": {},
   "outputs": [
    {
     "data": {
      "text/plain": [
       "DecisionTreeClassifier()"
      ]
     },
     "execution_count": 540,
     "metadata": {},
     "output_type": "execute_result"
    }
   ],
   "source": [
    "tree.fit(X_sample,a['cl_dbscan'])"
   ]
  },
  {
   "cell_type": "code",
   "execution_count": 541,
   "id": "8a965ae9",
   "metadata": {},
   "outputs": [],
   "source": [
    "importances=tree.feature_importances_"
   ]
  },
  {
   "cell_type": "code",
   "execution_count": 542,
   "id": "b948c683",
   "metadata": {},
   "outputs": [],
   "source": [
    "feature_importance= sorted(zip(importances, list(X_sample.columns)), reverse=True)"
   ]
  },
  {
   "cell_type": "code",
   "execution_count": 543,
   "id": "9263b6e6",
   "metadata": {},
   "outputs": [],
   "source": [
    "data_tree = pd.DataFrame(feature_importance, columns=['importance', 'feature'])\n",
    "importance= list(data_tree['importance'])\n",
    "feature= list(data_tree['feature'])"
   ]
  },
  {
   "cell_type": "code",
   "execution_count": 544,
   "id": "2bc91b7d",
   "metadata": {},
   "outputs": [
    {
     "data": {
      "text/html": [
       "<div>\n",
       "<style scoped>\n",
       "    .dataframe tbody tr th:only-of-type {\n",
       "        vertical-align: middle;\n",
       "    }\n",
       "\n",
       "    .dataframe tbody tr th {\n",
       "        vertical-align: top;\n",
       "    }\n",
       "\n",
       "    .dataframe thead th {\n",
       "        text-align: right;\n",
       "    }\n",
       "</style>\n",
       "<table border=\"1\" class=\"dataframe\">\n",
       "  <thead>\n",
       "    <tr style=\"text-align: right;\">\n",
       "      <th></th>\n",
       "      <th>importance</th>\n",
       "      <th>feature</th>\n",
       "    </tr>\n",
       "  </thead>\n",
       "  <tbody>\n",
       "    <tr>\n",
       "      <th>0</th>\n",
       "      <td>0.428389</td>\n",
       "      <td>c_Other Salaries</td>\n",
       "    </tr>\n",
       "    <tr>\n",
       "      <th>1</th>\n",
       "      <td>0.172113</td>\n",
       "      <td>c_Total Benefits</td>\n",
       "    </tr>\n",
       "    <tr>\n",
       "      <th>2</th>\n",
       "      <td>0.108850</td>\n",
       "      <td>c_Overtime</td>\n",
       "    </tr>\n",
       "    <tr>\n",
       "      <th>3</th>\n",
       "      <td>0.107148</td>\n",
       "      <td>c_Total Salary</td>\n",
       "    </tr>\n",
       "    <tr>\n",
       "      <th>4</th>\n",
       "      <td>0.079483</td>\n",
       "      <td>c_Other Benefits</td>\n",
       "    </tr>\n",
       "    <tr>\n",
       "      <th>5</th>\n",
       "      <td>0.053661</td>\n",
       "      <td>c_Health/Dental</td>\n",
       "    </tr>\n",
       "    <tr>\n",
       "      <th>6</th>\n",
       "      <td>0.035925</td>\n",
       "      <td>c_Salaries</td>\n",
       "    </tr>\n",
       "    <tr>\n",
       "      <th>7</th>\n",
       "      <td>0.014405</td>\n",
       "      <td>c_Total Compensation</td>\n",
       "    </tr>\n",
       "    <tr>\n",
       "      <th>8</th>\n",
       "      <td>0.000025</td>\n",
       "      <td>c_Retirement</td>\n",
       "    </tr>\n",
       "  </tbody>\n",
       "</table>\n",
       "</div>"
      ],
      "text/plain": [
       "   importance               feature\n",
       "0    0.428389      c_Other Salaries\n",
       "1    0.172113      c_Total Benefits\n",
       "2    0.108850            c_Overtime\n",
       "3    0.107148        c_Total Salary\n",
       "4    0.079483      c_Other Benefits\n",
       "5    0.053661       c_Health/Dental\n",
       "6    0.035925            c_Salaries\n",
       "7    0.014405  c_Total Compensation\n",
       "8    0.000025          c_Retirement"
      ]
     },
     "execution_count": 544,
     "metadata": {},
     "output_type": "execute_result"
    }
   ],
   "source": [
    "data_tree"
   ]
  },
  {
   "cell_type": "code",
   "execution_count": 552,
   "id": "286b1e2b",
   "metadata": {},
   "outputs": [
    {
     "data": {
      "text/plain": [
       "<AxesSubplot:xlabel='feature'>"
      ]
     },
     "execution_count": 552,
     "metadata": {},
     "output_type": "execute_result"
    },
    {
     "data": {
      "image/png": "[encoded data removed]",
      "text/plain": [
       "<Figure size 360x216 with 1 Axes>"
      ]
     },
     "metadata": {},
     "output_type": "display_data"
    }
   ],
   "source": [
    "data_tree.plot.bar(x='feature',y='importance')"
   ]
  },
  {
   "cell_type": "code",
   "execution_count": 550,
   "id": "51da5f36",
   "metadata": {},
   "outputs": [],
   "source": [
    "varc=a.columns"
   ]
  },
  {
   "cell_type": "code",
   "execution_count": 551,
   "id": "97c58d8c",
   "metadata": {},
   "outputs": [
    {
     "data": {
      "text/html": [
       "<style  type=\"text/css\" >\n",
       "#T_ab29f_row0_col0{\n",
       "            background-color:  #a4cce3;\n",
       "            color:  #000000;\n",
       "        }#T_ab29f_row0_col1{\n",
       "            background-color:  #95c5df;\n",
       "            color:  #000000;\n",
       "        }#T_ab29f_row0_col2{\n",
       "            background-color:  #1562a9;\n",
       "            color:  #f1f1f1;\n",
       "        }#T_ab29f_row0_col3{\n",
       "            background-color:  #a3cce3;\n",
       "            color:  #000000;\n",
       "        }#T_ab29f_row0_col4{\n",
       "            background-color:  #add0e6;\n",
       "            color:  #000000;\n",
       "        }#T_ab29f_row0_col5,#T_ab29f_row1_col0{\n",
       "            background-color:  #abd0e6;\n",
       "            color:  #000000;\n",
       "        }#T_ab29f_row0_col6,#T_ab29f_row5_col7{\n",
       "            background-color:  #d9e8f5;\n",
       "            color:  #000000;\n",
       "        }#T_ab29f_row0_col7{\n",
       "            background-color:  #bcd7eb;\n",
       "            color:  #000000;\n",
       "        }#T_ab29f_row0_col8{\n",
       "            background-color:  #b2d2e8;\n",
       "            color:  #000000;\n",
       "        }#T_ab29f_row1_col1{\n",
       "            background-color:  #a5cde3;\n",
       "            color:  #000000;\n",
       "        }#T_ab29f_row1_col2{\n",
       "            background-color:  #0e59a2;\n",
       "            color:  #f1f1f1;\n",
       "        }#T_ab29f_row1_col3{\n",
       "            background-color:  #aed1e7;\n",
       "            color:  #000000;\n",
       "        }#T_ab29f_row1_col4{\n",
       "            background-color:  #b3d3e8;\n",
       "            color:  #000000;\n",
       "        }#T_ab29f_row1_col5{\n",
       "            background-color:  #afd1e7;\n",
       "            color:  #000000;\n",
       "        }#T_ab29f_row1_col6{\n",
       "            background-color:  #d4e4f4;\n",
       "            color:  #000000;\n",
       "        }#T_ab29f_row1_col7{\n",
       "            background-color:  #bed8ec;\n",
       "            color:  #000000;\n",
       "        }#T_ab29f_row1_col8{\n",
       "            background-color:  #bad6eb;\n",
       "            color:  #000000;\n",
       "        }#T_ab29f_row2_col0,#T_ab29f_row2_col3{\n",
       "            background-color:  #f0f6fd;\n",
       "            color:  #000000;\n",
       "        }#T_ab29f_row2_col1{\n",
       "            background-color:  #3989c1;\n",
       "            color:  #000000;\n",
       "        }#T_ab29f_row2_col2{\n",
       "            background-color:  #084285;\n",
       "            color:  #f1f1f1;\n",
       "        }#T_ab29f_row2_col4{\n",
       "            background-color:  #edf4fc;\n",
       "            color:  #000000;\n",
       "        }#T_ab29f_row2_col5{\n",
       "            background-color:  #ecf4fb;\n",
       "            color:  #000000;\n",
       "        }#T_ab29f_row2_col6,#T_ab29f_row2_col8,#T_ab29f_row3_col0,#T_ab29f_row3_col4,#T_ab29f_row3_col5,#T_ab29f_row3_col7,#T_ab29f_row4_col1,#T_ab29f_row4_col2,#T_ab29f_row5_col3{\n",
       "            background-color:  #f7fbff;\n",
       "            color:  #000000;\n",
       "        }#T_ab29f_row2_col7{\n",
       "            background-color:  #f2f8fd;\n",
       "            color:  #000000;\n",
       "        }#T_ab29f_row3_col1,#T_ab29f_row3_col2,#T_ab29f_row4_col0,#T_ab29f_row4_col3,#T_ab29f_row4_col4,#T_ab29f_row4_col5,#T_ab29f_row4_col6,#T_ab29f_row4_col7,#T_ab29f_row4_col8{\n",
       "            background-color:  #08306b;\n",
       "            color:  #f1f1f1;\n",
       "        }#T_ab29f_row3_col3{\n",
       "            background-color:  #e9f2fa;\n",
       "            color:  #000000;\n",
       "        }#T_ab29f_row3_col6{\n",
       "            background-color:  #e2edf8;\n",
       "            color:  #000000;\n",
       "        }#T_ab29f_row3_col8{\n",
       "            background-color:  #f5f9fe;\n",
       "            color:  #000000;\n",
       "        }#T_ab29f_row5_col0,#T_ab29f_row5_col1{\n",
       "            background-color:  #dceaf6;\n",
       "            color:  #000000;\n",
       "        }#T_ab29f_row5_col2{\n",
       "            background-color:  #aacfe5;\n",
       "            color:  #000000;\n",
       "        }#T_ab29f_row5_col4{\n",
       "            background-color:  #e8f1fa;\n",
       "            color:  #000000;\n",
       "        }#T_ab29f_row5_col5{\n",
       "            background-color:  #92c4de;\n",
       "            color:  #000000;\n",
       "        }#T_ab29f_row5_col6{\n",
       "            background-color:  #eef5fc;\n",
       "            color:  #000000;\n",
       "        }#T_ab29f_row5_col8{\n",
       "            background-color:  #f5fafe;\n",
       "            color:  #000000;\n",
       "        }</style><table id=\"T_ab29f_\" ><thead>    <tr>        <th class=\"blank level0\" ></th>        <th class=\"col_heading level0 col0\" >c_Salaries</th>        <th class=\"col_heading level0 col1\" >c_Overtime</th>        <th class=\"col_heading level0 col2\" >c_Other Salaries</th>        <th class=\"col_heading level0 col3\" >c_Total Salary</th>        <th class=\"col_heading level0 col4\" >c_Retirement</th>        <th class=\"col_heading level0 col5\" >c_Health/Dental</th>        <th class=\"col_heading level0 col6\" >c_Other Benefits</th>        <th class=\"col_heading level0 col7\" >c_Total Benefits</th>        <th class=\"col_heading level0 col8\" >c_Total Compensation</th>    </tr>    <tr>        <th class=\"index_name level0\" >cl_dbscan</th>        <th class=\"blank\" ></th>        <th class=\"blank\" ></th>        <th class=\"blank\" ></th>        <th class=\"blank\" ></th>        <th class=\"blank\" ></th>        <th class=\"blank\" ></th>        <th class=\"blank\" ></th>        <th class=\"blank\" ></th>        <th class=\"blank\" ></th>    </tr></thead><tbody>\n",
       "                <tr>\n",
       "                        <th id=\"T_ab29f_level0_row0\" class=\"row_heading level0 row0\" >-1</th>\n",
       "                        <td id=\"T_ab29f_row0_col0\" class=\"data row0 col0\" >54593.969041</td>\n",
       "                        <td id=\"T_ab29f_row0_col1\" class=\"data row0 col1\" >4065.772144</td>\n",
       "                        <td id=\"T_ab29f_row0_col2\" class=\"data row0 col2\" >3444.047621</td>\n",
       "                        <td id=\"T_ab29f_row0_col3\" class=\"data row0 col3\" >62103.788807</td>\n",
       "                        <td id=\"T_ab29f_row0_col4\" class=\"data row0 col4\" >10757.790527</td>\n",
       "                        <td id=\"T_ab29f_row0_col5\" class=\"data row0 col5\" >7828.798473</td>\n",
       "                        <td id=\"T_ab29f_row0_col6\" class=\"data row0 col6\" >3898.338500</td>\n",
       "                        <td id=\"T_ab29f_row0_col7\" class=\"data row0 col7\" >22484.927500</td>\n",
       "                        <td id=\"T_ab29f_row0_col8\" class=\"data row0 col8\" >84588.716307</td>\n",
       "            </tr>\n",
       "            <tr>\n",
       "                        <th id=\"T_ab29f_level0_row1\" class=\"row_heading level0 row1\" >0</th>\n",
       "                        <td id=\"T_ab29f_row1_col0\" class=\"data row1 col0\" >53321.423151</td>\n",
       "                        <td id=\"T_ab29f_row1_col1\" class=\"data row1 col1\" >3626.406962</td>\n",
       "                        <td id=\"T_ab29f_row1_col2\" class=\"data row1 col2\" >3563.521815</td>\n",
       "                        <td id=\"T_ab29f_row1_col3\" class=\"data row1 col3\" >60511.351927</td>\n",
       "                        <td id=\"T_ab29f_row1_col4\" class=\"data row1 col4\" >10531.840019</td>\n",
       "                        <td id=\"T_ab29f_row1_col5\" class=\"data row1 col5\" >7752.369012</td>\n",
       "                        <td id=\"T_ab29f_row1_col6\" class=\"data row1 col6\" >3998.280328</td>\n",
       "                        <td id=\"T_ab29f_row1_col7\" class=\"data row1 col7\" >22282.489359</td>\n",
       "                        <td id=\"T_ab29f_row1_col8\" class=\"data row1 col8\" >82793.841286</td>\n",
       "            </tr>\n",
       "            <tr>\n",
       "                        <th id=\"T_ab29f_level0_row2\" class=\"row_heading level0 row2\" >1</th>\n",
       "                        <td id=\"T_ab29f_row2_col0\" class=\"data row2 col0\" >36261.269000</td>\n",
       "                        <td id=\"T_ab29f_row2_col1\" class=\"data row2 col1\" >6741.077800</td>\n",
       "                        <td id=\"T_ab29f_row2_col2\" class=\"data row2 col2\" >3877.564200</td>\n",
       "                        <td id=\"T_ab29f_row2_col3\" class=\"data row2 col3\" >46879.911000</td>\n",
       "                        <td id=\"T_ab29f_row2_col4\" class=\"data row2 col4\" >7641.427200</td>\n",
       "                        <td id=\"T_ab29f_row2_col5\" class=\"data row2 col5\" >6138.942700</td>\n",
       "                        <td id=\"T_ab29f_row2_col6\" class=\"data row2 col6\" >3330.197400</td>\n",
       "                        <td id=\"T_ab29f_row2_col7\" class=\"data row2 col7\" >17110.567300</td>\n",
       "                        <td id=\"T_ab29f_row2_col8\" class=\"data row2 col8\" >63990.478300</td>\n",
       "            </tr>\n",
       "            <tr>\n",
       "                        <th id=\"T_ab29f_level0_row3\" class=\"row_heading level0 row3\" >2</th>\n",
       "                        <td id=\"T_ab29f_row3_col0\" class=\"data row3 col0\" >34053.480000</td>\n",
       "                        <td id=\"T_ab29f_row3_col1\" class=\"data row3 col1\" >10245.165833</td>\n",
       "                        <td id=\"T_ab29f_row3_col2\" class=\"data row3 col2\" >4118.683333</td>\n",
       "                        <td id=\"T_ab29f_row3_col3\" class=\"data row3 col3\" >48417.329167</td>\n",
       "                        <td id=\"T_ab29f_row3_col4\" class=\"data row3 col4\" >7037.853333</td>\n",
       "                        <td id=\"T_ab29f_row3_col5\" class=\"data row3 col5\" >5803.505833</td>\n",
       "                        <td id=\"T_ab29f_row3_col6\" class=\"data row3 col6\" >3732.151667</td>\n",
       "                        <td id=\"T_ab29f_row3_col7\" class=\"data row3 col7\" >16573.510833</td>\n",
       "                        <td id=\"T_ab29f_row3_col8\" class=\"data row3 col8\" >64990.840000</td>\n",
       "            </tr>\n",
       "            <tr>\n",
       "                        <th id=\"T_ab29f_level0_row4\" class=\"row_heading level0 row4\" >3</th>\n",
       "                        <td id=\"T_ab29f_row4_col0\" class=\"data row4 col0\" >91569.068000</td>\n",
       "                        <td id=\"T_ab29f_row4_col1\" class=\"data row4 col1\" >0.000000</td>\n",
       "                        <td id=\"T_ab29f_row4_col2\" class=\"data row4 col2\" >622.378000</td>\n",
       "                        <td id=\"T_ab29f_row4_col3\" class=\"data row4 col3\" >92191.446000</td>\n",
       "                        <td id=\"T_ab29f_row4_col4\" class=\"data row4 col4\" >18349.651167</td>\n",
       "                        <td id=\"T_ab29f_row4_col5\" class=\"data row4 col5\" >11845.669000</td>\n",
       "                        <td id=\"T_ab29f_row4_col6\" class=\"data row4 col6\" >7111.577333</td>\n",
       "                        <td id=\"T_ab29f_row4_col7\" class=\"data row4 col7\" >37306.897500</td>\n",
       "                        <td id=\"T_ab29f_row4_col8\" class=\"data row4 col8\" >129498.343500</td>\n",
       "            </tr>\n",
       "            <tr>\n",
       "                        <th id=\"T_ab29f_level0_row5\" class=\"row_heading level0 row5\" >4</th>\n",
       "                        <td id=\"T_ab29f_row5_col0\" class=\"data row5 col0\" >41881.653333</td>\n",
       "                        <td id=\"T_ab29f_row5_col1\" class=\"data row5 col1\" >1371.684500</td>\n",
       "                        <td id=\"T_ab29f_row5_col2\" class=\"data row5 col2\" >1802.816667</td>\n",
       "                        <td id=\"T_ab29f_row5_col3\" class=\"data row5 col3\" >45056.154500</td>\n",
       "                        <td id=\"T_ab29f_row5_col4\" class=\"data row5 col4\" >7902.484167</td>\n",
       "                        <td id=\"T_ab29f_row5_col5\" class=\"data row5 col5\" >8242.624333</td>\n",
       "                        <td id=\"T_ab29f_row5_col6\" class=\"data row5 col6\" >3521.691500</td>\n",
       "                        <td id=\"T_ab29f_row5_col7\" class=\"data row5 col7\" >19666.800000</td>\n",
       "                        <td id=\"T_ab29f_row5_col8\" class=\"data row5 col8\" >64722.954500</td>\n",
       "            </tr>\n",
       "    </tbody></table>"
      ],
      "text/plain": [
       "<pandas.io.formats.style.Styler at 0x27549658940>"
      ]
     },
     "execution_count": 551,
     "metadata": {},
     "output_type": "execute_result"
    }
   ],
   "source": [
    "\n",
    "a[varc].groupby('cl_dbscan').mean().style.background_gradient(cmap='Blues')"
   ]
  },
  {
   "cell_type": "code",
   "execution_count": 364,
   "id": "ffc32fc5",
   "metadata": {},
   "outputs": [
    {
     "name": "stderr",
     "output_type": "stream",
     "text": [
      "*c* argument looks like a single numeric RGB or RGBA sequence, which should be avoided as value-mapping will have precedence in case its length matches with *x* & *y*.  Please use the *color* keyword-argument or provide a 2-D array with a single row if you intend to specify the same RGB or RGBA value for all points.\n"
     ]
    },
    {
     "data": {
      "text/plain": [
       "<AxesSubplot:xlabel='p_1', ylabel='p_2'>"
      ]
     },
     "execution_count": 364,
     "metadata": {},
     "output_type": "execute_result"
    },
    {
     "data": {
      "image/png": "[encoded data removed]",
      "text/plain": [
       "<Figure size 360x216 with 1 Axes>"
      ]
     },
     "metadata": {},
     "output_type": "display_data"
    }
   ],
   "source": [
    "X_sample_pca.plot.scatter('p_1','p_2')"
   ]
  },
  {
   "cell_type": "code",
   "execution_count": 365,
   "id": "c35ed5fa",
   "metadata": {},
   "outputs": [
    {
     "name": "stderr",
     "output_type": "stream",
     "text": [
      "C:\\ProgramData\\Anaconda3\\lib\\site-packages\\seaborn\\_decorators.py:36: FutureWarning: Pass the following variables as keyword args: x, y. From version 0.12, the only valid positional argument will be `data`, and passing other arguments without an explicit keyword will result in an error or misinterpretation.\n",
      "  warnings.warn(\n"
     ]
    },
    {
     "data": {
      "image/png": "[encoded data removed]",
      "text/plain": [
       "<Figure size 1440x360 with 1 Axes>"
      ]
     },
     "metadata": {},
     "output_type": "display_data"
    }
   ],
   "source": [
    "#-1 es el ruido en un modelo \n",
    "\n",
    "plt.subplots(figsize=(20,5))\n",
    "sns.scatterplot(X_sample_pca[\"p_1\"], X_sample_pca[\"p_2\"],hue=X_sample_pca['cl_dbscan'])\n",
    "sns.despine()\n",
    "plt.show()"
   ]
  },
  {
   "cell_type": "markdown",
   "id": "41cd9e39",
   "metadata": {},
   "source": [
    "# Gaussianos Mixtos"
   ]
  },
  {
   "cell_type": "code",
   "execution_count": 367,
   "id": "46cad937",
   "metadata": {},
   "outputs": [],
   "source": [
    "n_components = 2\n",
    "pca = PCA(n_components=n_components)\n",
    "X_pca = pd.DataFrame(pca.fit_transform(df_sdf),columns=[f\"p_{i}\" for i in  range(1,n_components+1)])"
   ]
  },
  {
   "cell_type": "code",
   "execution_count": 368,
   "id": "b31161ac",
   "metadata": {},
   "outputs": [
    {
     "name": "stderr",
     "output_type": "stream",
     "text": [
      "*c* argument looks like a single numeric RGB or RGBA sequence, which should be avoided as value-mapping will have precedence in case its length matches with *x* & *y*.  Please use the *color* keyword-argument or provide a 2-D array with a single row if you intend to specify the same RGB or RGBA value for all points.\n"
     ]
    },
    {
     "data": {
      "text/plain": [
       "<AxesSubplot:xlabel='p_1', ylabel='p_2'>"
      ]
     },
     "execution_count": 368,
     "metadata": {},
     "output_type": "execute_result"
    },
    {
     "data": {
      "image/png": "[encoded data removed]",
      "text/plain": [
       "<Figure size 360x216 with 1 Axes>"
      ]
     },
     "metadata": {},
     "output_type": "display_data"
    }
   ],
   "source": [
    "X_pca.plot.scatter('p_1','p_2')"
   ]
  },
  {
   "cell_type": "code",
   "execution_count": 370,
   "id": "1ce9816e",
   "metadata": {},
   "outputs": [
    {
     "name": "stdout",
     "output_type": "stream",
     "text": [
      "2\n",
      "3\n",
      "4\n",
      "5\n",
      "6\n",
      "7\n",
      "8\n",
      "9\n"
     ]
    },
    {
     "name": "stderr",
     "output_type": "stream",
     "text": [
      "C:\\ProgramData\\Anaconda3\\lib\\site-packages\\sklearn\\mixture\\_base.py:265: ConvergenceWarning: Initialization 1 did not converge. Try different init parameters, or increase max_iter, tol or check for degenerate data.\n",
      "  warnings.warn('Initialization %d did not converge. '\n"
     ]
    },
    {
     "data": {
      "text/plain": [
       "[<matplotlib.lines.Line2D at 0x27546b34310>]"
      ]
     },
     "execution_count": 370,
     "metadata": {},
     "output_type": "execute_result"
    },
    {
     "data": {
      "image/png": "[encoded data removed]",
      "text/plain": [
       "<Figure size 360x216 with 1 Axes>"
      ]
     },
     "metadata": {},
     "output_type": "display_data"
    }
   ],
   "source": [
    "l = []\n",
    "for k in range(2,10):\n",
    "    print(k)\n",
    "    \n",
    "    km = GaussianMixture(n_components=k,covariance_type='spherical',)\n",
    "    \n",
    "    km.fit(df_sdf)\n",
    "    l.append((k,silhouette_score(df_sdf,km.predict(df_sdf))))\n",
    "silueta = pd.DataFrame(l,columns=['k','silueta'])\n",
    "\n",
    "plt.plot(silueta['k'],silueta['silueta'],marker='o')"
   ]
  },
  {
   "cell_type": "code",
   "execution_count": 371,
   "id": "2214edf9",
   "metadata": {},
   "outputs": [],
   "source": [
    "l_bic = []\n",
    "l_aic=[]\n",
    "for k in range(2,10):\n",
    "    km = GaussianMixture(n_components=k)\n",
    "    km.fit(df_sdf)\n",
    "    l_bic.append((k,km.bic(df_sdf)))\n",
    "    l_aic.append((k,km.aic(df_sdf)))\n",
    "aic = pd.DataFrame(l_aic,columns=['k','aic'])\n",
    "bic = pd.DataFrame(l_bic,columns=['k','bic'])"
   ]
  },
  {
   "cell_type": "code",
   "execution_count": 372,
   "id": "12851ca9",
   "metadata": {},
   "outputs": [
    {
     "data": {
      "text/plain": [
       "[<matplotlib.lines.Line2D at 0x27546a9f3d0>]"
      ]
     },
     "execution_count": 372,
     "metadata": {},
     "output_type": "execute_result"
    },
    {
     "data": {
      "image/png": "[encoded data removed]",
      "text/plain": [
       "<Figure size 360x216 with 1 Axes>"
      ]
     },
     "metadata": {},
     "output_type": "display_data"
    }
   ],
   "source": [
    "plt.plot(aic['k'],aic['aic'],marker='o')"
   ]
  },
  {
   "cell_type": "code",
   "execution_count": 373,
   "id": "ed30bfac",
   "metadata": {},
   "outputs": [
    {
     "data": {
      "text/plain": [
       "[<matplotlib.lines.Line2D at 0x2753d866580>]"
      ]
     },
     "execution_count": 373,
     "metadata": {},
     "output_type": "execute_result"
    },
    {
     "data": {
      "image/png": "[encoded data removed]",
      "text/plain": [
       "<Figure size 360x216 with 1 Axes>"
      ]
     },
     "metadata": {},
     "output_type": "display_data"
    }
   ],
   "source": [
    "plt.plot(bic['k'],bic['bic'],marker='o')"
   ]
  },
  {
   "cell_type": "code",
   "execution_count": 440,
   "id": "35406950",
   "metadata": {},
   "outputs": [],
   "source": [
    "Xs_df=pd.DataFrame(df_sdf, columns = list(df_sdf.columns))"
   ]
  },
  {
   "cell_type": "code",
   "execution_count": 553,
   "id": "b0d7aced",
   "metadata": {},
   "outputs": [],
   "source": [
    "\n",
    "\n",
    "gmm=GaussianMixture(n_components=4,covariance_type='spherical')"
   ]
  },
  {
   "cell_type": "code",
   "execution_count": 554,
   "id": "9e019c2f",
   "metadata": {},
   "outputs": [
    {
     "data": {
      "text/plain": [
       "array([3, 3, 3, ..., 3, 0, 2], dtype=int64)"
      ]
     },
     "execution_count": 554,
     "metadata": {},
     "output_type": "execute_result"
    }
   ],
   "source": [
    "gmm.fit_predict(df_sdf)"
   ]
  },
  {
   "cell_type": "code",
   "execution_count": 555,
   "id": "1f237db0",
   "metadata": {},
   "outputs": [],
   "source": [
    "X_pca[\"cl_gmm\"] = Xs_df[\"cl_gmm\"] = X[\"cl_gmm\"] = gmm.predict(df_sdf)"
   ]
  },
  {
   "cell_type": "code",
   "execution_count": 556,
   "id": "221b0c0d",
   "metadata": {},
   "outputs": [
    {
     "data": {
      "text/plain": [
       "2    0.320982\n",
       "0    0.263951\n",
       "3    0.226109\n",
       "1    0.188959\n",
       "Name: cl_gmm, dtype: float64"
      ]
     },
     "execution_count": 556,
     "metadata": {},
     "output_type": "execute_result"
    }
   ],
   "source": [
    "Xs_df['cl_gmm'].value_counts(1)"
   ]
  },
  {
   "cell_type": "code",
   "execution_count": 557,
   "id": "6014cce9",
   "metadata": {},
   "outputs": [],
   "source": [
    "from sklearn.tree import DecisionTreeClassifier"
   ]
  },
  {
   "cell_type": "code",
   "execution_count": 558,
   "id": "a04318b6",
   "metadata": {},
   "outputs": [],
   "source": [
    "tree=DecisionTreeClassifier()"
   ]
  },
  {
   "cell_type": "code",
   "execution_count": 559,
   "id": "9df6a3bb",
   "metadata": {},
   "outputs": [
    {
     "data": {
      "text/plain": [
       "DecisionTreeClassifier()"
      ]
     },
     "execution_count": 559,
     "metadata": {},
     "output_type": "execute_result"
    }
   ],
   "source": [
    "tree.fit(df_sdf,X['cl_gmm'])"
   ]
  },
  {
   "cell_type": "code",
   "execution_count": 560,
   "id": "8fbc49a9",
   "metadata": {},
   "outputs": [],
   "source": [
    "importances=tree.feature_importances_"
   ]
  },
  {
   "cell_type": "code",
   "execution_count": 561,
   "id": "72631d92",
   "metadata": {},
   "outputs": [],
   "source": [
    "feature_importance= sorted(zip(importances, list(X.columns)), reverse=True)\n",
    "\n",
    "data_tree = pd.DataFrame(feature_importance, columns=['importance', 'feature'])\n",
    "importance= list(data_tree['importance'])\n",
    "feature= list(data_tree['feature'])"
   ]
  },
  {
   "cell_type": "code",
   "execution_count": 562,
   "id": "b923c116",
   "metadata": {},
   "outputs": [
    {
     "data": {
      "text/html": [
       "<div>\n",
       "<style scoped>\n",
       "    .dataframe tbody tr th:only-of-type {\n",
       "        vertical-align: middle;\n",
       "    }\n",
       "\n",
       "    .dataframe tbody tr th {\n",
       "        vertical-align: top;\n",
       "    }\n",
       "\n",
       "    .dataframe thead th {\n",
       "        text-align: right;\n",
       "    }\n",
       "</style>\n",
       "<table border=\"1\" class=\"dataframe\">\n",
       "  <thead>\n",
       "    <tr style=\"text-align: right;\">\n",
       "      <th></th>\n",
       "      <th>importance</th>\n",
       "      <th>feature</th>\n",
       "    </tr>\n",
       "  </thead>\n",
       "  <tbody>\n",
       "    <tr>\n",
       "      <th>0</th>\n",
       "      <td>0.321059</td>\n",
       "      <td>c_Total Benefits</td>\n",
       "    </tr>\n",
       "    <tr>\n",
       "      <th>1</th>\n",
       "      <td>0.302343</td>\n",
       "      <td>c_Total Salary</td>\n",
       "    </tr>\n",
       "    <tr>\n",
       "      <th>2</th>\n",
       "      <td>0.263828</td>\n",
       "      <td>c_Total Compensation</td>\n",
       "    </tr>\n",
       "    <tr>\n",
       "      <th>3</th>\n",
       "      <td>0.032323</td>\n",
       "      <td>c_Overtime</td>\n",
       "    </tr>\n",
       "    <tr>\n",
       "      <th>4</th>\n",
       "      <td>0.027633</td>\n",
       "      <td>c_Other Salaries</td>\n",
       "    </tr>\n",
       "    <tr>\n",
       "      <th>5</th>\n",
       "      <td>0.022213</td>\n",
       "      <td>c_Other Benefits</td>\n",
       "    </tr>\n",
       "    <tr>\n",
       "      <th>6</th>\n",
       "      <td>0.022148</td>\n",
       "      <td>c_Health/Dental</td>\n",
       "    </tr>\n",
       "    <tr>\n",
       "      <th>7</th>\n",
       "      <td>0.005026</td>\n",
       "      <td>c_Salaries</td>\n",
       "    </tr>\n",
       "    <tr>\n",
       "      <th>8</th>\n",
       "      <td>0.003426</td>\n",
       "      <td>c_Retirement</td>\n",
       "    </tr>\n",
       "  </tbody>\n",
       "</table>\n",
       "</div>"
      ],
      "text/plain": [
       "   importance               feature\n",
       "0    0.321059      c_Total Benefits\n",
       "1    0.302343        c_Total Salary\n",
       "2    0.263828  c_Total Compensation\n",
       "3    0.032323            c_Overtime\n",
       "4    0.027633      c_Other Salaries\n",
       "5    0.022213      c_Other Benefits\n",
       "6    0.022148       c_Health/Dental\n",
       "7    0.005026            c_Salaries\n",
       "8    0.003426          c_Retirement"
      ]
     },
     "execution_count": 562,
     "metadata": {},
     "output_type": "execute_result"
    }
   ],
   "source": [
    "data_tree"
   ]
  },
  {
   "cell_type": "code",
   "execution_count": 563,
   "id": "7b7112a3",
   "metadata": {},
   "outputs": [
    {
     "data": {
      "text/plain": [
       "<AxesSubplot:xlabel='feature'>"
      ]
     },
     "execution_count": 563,
     "metadata": {},
     "output_type": "execute_result"
    },
    {
     "data": {
      "image/png": "[encoded data removed]",
      "text/plain": [
       "<Figure size 360x216 with 1 Axes>"
      ]
     },
     "metadata": {},
     "output_type": "display_data"
    }
   ],
   "source": [
    "data_tree.plot.bar(x='feature',y='importance')"
   ]
  },
  {
   "cell_type": "code",
   "execution_count": 564,
   "id": "010105a6",
   "metadata": {},
   "outputs": [],
   "source": [
    "varc=list(X.columns)"
   ]
  },
  {
   "cell_type": "code",
   "execution_count": 565,
   "id": "01b522cb",
   "metadata": {},
   "outputs": [
    {
     "data": {
      "text/html": [
       "<div>\n",
       "<style scoped>\n",
       "    .dataframe tbody tr th:only-of-type {\n",
       "        vertical-align: middle;\n",
       "    }\n",
       "\n",
       "    .dataframe tbody tr th {\n",
       "        vertical-align: top;\n",
       "    }\n",
       "\n",
       "    .dataframe thead th {\n",
       "        text-align: right;\n",
       "    }\n",
       "</style>\n",
       "<table border=\"1\" class=\"dataframe\">\n",
       "  <thead>\n",
       "    <tr style=\"text-align: right;\">\n",
       "      <th></th>\n",
       "      <th>c_Salaries</th>\n",
       "      <th>c_Overtime</th>\n",
       "      <th>c_Other Salaries</th>\n",
       "      <th>c_Total Salary</th>\n",
       "      <th>c_Retirement</th>\n",
       "      <th>c_Health/Dental</th>\n",
       "      <th>c_Other Benefits</th>\n",
       "      <th>c_Total Benefits</th>\n",
       "      <th>c_Total Compensation</th>\n",
       "      <th>cl_gmm</th>\n",
       "    </tr>\n",
       "  </thead>\n",
       "  <tbody>\n",
       "    <tr>\n",
       "      <th>0</th>\n",
       "      <td>29789.1000</td>\n",
       "      <td>0.0000</td>\n",
       "      <td>4739.1800</td>\n",
       "      <td>34528.280</td>\n",
       "      <td>0.0000</td>\n",
       "      <td>0.0000</td>\n",
       "      <td>2727.7200</td>\n",
       "      <td>2727.7200</td>\n",
       "      <td>37256.0000</td>\n",
       "      <td>3</td>\n",
       "    </tr>\n",
       "    <tr>\n",
       "      <th>1</th>\n",
       "      <td>11105.7150</td>\n",
       "      <td>0.0000</td>\n",
       "      <td>439.1450</td>\n",
       "      <td>11544.860</td>\n",
       "      <td>1017.5350</td>\n",
       "      <td>4959.5900</td>\n",
       "      <td>904.4950</td>\n",
       "      <td>6881.6200</td>\n",
       "      <td>18426.4800</td>\n",
       "      <td>3</td>\n",
       "    </tr>\n",
       "    <tr>\n",
       "      <th>2</th>\n",
       "      <td>24574.8500</td>\n",
       "      <td>0.0000</td>\n",
       "      <td>840.3100</td>\n",
       "      <td>25415.160</td>\n",
       "      <td>5931.6775</td>\n",
       "      <td>6366.5725</td>\n",
       "      <td>1859.8025</td>\n",
       "      <td>14158.0525</td>\n",
       "      <td>39573.2125</td>\n",
       "      <td>3</td>\n",
       "    </tr>\n",
       "    <tr>\n",
       "      <th>3</th>\n",
       "      <td>46172.7000</td>\n",
       "      <td>12476.1150</td>\n",
       "      <td>1999.2000</td>\n",
       "      <td>60648.015</td>\n",
       "      <td>8697.7500</td>\n",
       "      <td>6941.5050</td>\n",
       "      <td>4779.8900</td>\n",
       "      <td>20419.1450</td>\n",
       "      <td>81067.1600</td>\n",
       "      <td>2</td>\n",
       "    </tr>\n",
       "    <tr>\n",
       "      <th>4</th>\n",
       "      <td>68816.0580</td>\n",
       "      <td>0.0000</td>\n",
       "      <td>0.0000</td>\n",
       "      <td>68816.058</td>\n",
       "      <td>13871.3960</td>\n",
       "      <td>10176.7420</td>\n",
       "      <td>5673.9540</td>\n",
       "      <td>29722.0920</td>\n",
       "      <td>98538.1500</td>\n",
       "      <td>2</td>\n",
       "    </tr>\n",
       "    <tr>\n",
       "      <th>...</th>\n",
       "      <td>...</td>\n",
       "      <td>...</td>\n",
       "      <td>...</td>\n",
       "      <td>...</td>\n",
       "      <td>...</td>\n",
       "      <td>...</td>\n",
       "      <td>...</td>\n",
       "      <td>...</td>\n",
       "      <td>...</td>\n",
       "      <td>...</td>\n",
       "    </tr>\n",
       "    <tr>\n",
       "      <th>52054</th>\n",
       "      <td>55486.4300</td>\n",
       "      <td>22672.0575</td>\n",
       "      <td>2587.8475</td>\n",
       "      <td>80746.335</td>\n",
       "      <td>15476.7250</td>\n",
       "      <td>11287.2675</td>\n",
       "      <td>6126.8025</td>\n",
       "      <td>32890.7950</td>\n",
       "      <td>113637.1300</td>\n",
       "      <td>0</td>\n",
       "    </tr>\n",
       "    <tr>\n",
       "      <th>52055</th>\n",
       "      <td>142243.7850</td>\n",
       "      <td>20.4000</td>\n",
       "      <td>21885.6500</td>\n",
       "      <td>164149.835</td>\n",
       "      <td>29396.6075</td>\n",
       "      <td>12569.5925</td>\n",
       "      <td>4386.9275</td>\n",
       "      <td>46353.1275</td>\n",
       "      <td>210502.9625</td>\n",
       "      <td>0</td>\n",
       "    </tr>\n",
       "    <tr>\n",
       "      <th>52056</th>\n",
       "      <td>28302.3425</td>\n",
       "      <td>3419.0150</td>\n",
       "      <td>2055.1075</td>\n",
       "      <td>33776.465</td>\n",
       "      <td>4050.1625</td>\n",
       "      <td>7665.9775</td>\n",
       "      <td>2700.4000</td>\n",
       "      <td>14416.5400</td>\n",
       "      <td>48193.0050</td>\n",
       "      <td>3</td>\n",
       "    </tr>\n",
       "    <tr>\n",
       "      <th>52057</th>\n",
       "      <td>131341.5950</td>\n",
       "      <td>31185.2500</td>\n",
       "      <td>16383.7250</td>\n",
       "      <td>178910.570</td>\n",
       "      <td>28442.4800</td>\n",
       "      <td>15506.2975</td>\n",
       "      <td>3074.5725</td>\n",
       "      <td>47023.3500</td>\n",
       "      <td>225933.9200</td>\n",
       "      <td>0</td>\n",
       "    </tr>\n",
       "    <tr>\n",
       "      <th>52058</th>\n",
       "      <td>62799.1550</td>\n",
       "      <td>0.0000</td>\n",
       "      <td>0.0000</td>\n",
       "      <td>62799.155</td>\n",
       "      <td>12786.4300</td>\n",
       "      <td>12281.7850</td>\n",
       "      <td>5017.4650</td>\n",
       "      <td>30085.6800</td>\n",
       "      <td>92884.8350</td>\n",
       "      <td>2</td>\n",
       "    </tr>\n",
       "  </tbody>\n",
       "</table>\n",
       "<p>52059 rows × 10 columns</p>\n",
       "</div>"
      ],
      "text/plain": [
       "        c_Salaries  c_Overtime  c_Other Salaries  c_Total Salary  \\\n",
       "0       29789.1000      0.0000         4739.1800       34528.280   \n",
       "1       11105.7150      0.0000          439.1450       11544.860   \n",
       "2       24574.8500      0.0000          840.3100       25415.160   \n",
       "3       46172.7000  12476.1150         1999.2000       60648.015   \n",
       "4       68816.0580      0.0000            0.0000       68816.058   \n",
       "...            ...         ...               ...             ...   \n",
       "52054   55486.4300  22672.0575         2587.8475       80746.335   \n",
       "52055  142243.7850     20.4000        21885.6500      164149.835   \n",
       "52056   28302.3425   3419.0150         2055.1075       33776.465   \n",
       "52057  131341.5950  31185.2500        16383.7250      178910.570   \n",
       "52058   62799.1550      0.0000            0.0000       62799.155   \n",
       "\n",
       "       c_Retirement  c_Health/Dental  c_Other Benefits  c_Total Benefits  \\\n",
       "0            0.0000           0.0000         2727.7200         2727.7200   \n",
       "1         1017.5350        4959.5900          904.4950         6881.6200   \n",
       "2         5931.6775        6366.5725         1859.8025        14158.0525   \n",
       "3         8697.7500        6941.5050         4779.8900        20419.1450   \n",
       "4        13871.3960       10176.7420         5673.9540        29722.0920   \n",
       "...             ...              ...               ...               ...   \n",
       "52054    15476.7250       11287.2675         6126.8025        32890.7950   \n",
       "52055    29396.6075       12569.5925         4386.9275        46353.1275   \n",
       "52056     4050.1625        7665.9775         2700.4000        14416.5400   \n",
       "52057    28442.4800       15506.2975         3074.5725        47023.3500   \n",
       "52058    12786.4300       12281.7850         5017.4650        30085.6800   \n",
       "\n",
       "       c_Total Compensation  cl_gmm  \n",
       "0                37256.0000       3  \n",
       "1                18426.4800       3  \n",
       "2                39573.2125       3  \n",
       "3                81067.1600       2  \n",
       "4                98538.1500       2  \n",
       "...                     ...     ...  \n",
       "52054           113637.1300       0  \n",
       "52055           210502.9625       0  \n",
       "52056            48193.0050       3  \n",
       "52057           225933.9200       0  \n",
       "52058            92884.8350       2  \n",
       "\n",
       "[52059 rows x 10 columns]"
      ]
     },
     "execution_count": 565,
     "metadata": {},
     "output_type": "execute_result"
    }
   ],
   "source": [
    "X"
   ]
  },
  {
   "cell_type": "code",
   "execution_count": 566,
   "id": "c70fa40a",
   "metadata": {},
   "outputs": [
    {
     "data": {
      "text/html": [
       "<style  type=\"text/css\" >\n",
       "#T_d1d83_row0_col0,#T_d1d83_row0_col1,#T_d1d83_row0_col2,#T_d1d83_row0_col3,#T_d1d83_row0_col4,#T_d1d83_row0_col5,#T_d1d83_row0_col6,#T_d1d83_row0_col7,#T_d1d83_row0_col8{\n",
       "            background-color:  #08306b;\n",
       "            color:  #f1f1f1;\n",
       "        }#T_d1d83_row1_col0,#T_d1d83_row1_col1,#T_d1d83_row1_col2,#T_d1d83_row1_col3,#T_d1d83_row1_col4,#T_d1d83_row1_col5,#T_d1d83_row1_col6,#T_d1d83_row1_col7,#T_d1d83_row1_col8{\n",
       "            background-color:  #f7fbff;\n",
       "            color:  #000000;\n",
       "        }#T_d1d83_row2_col0{\n",
       "            background-color:  #519ccc;\n",
       "            color:  #000000;\n",
       "        }#T_d1d83_row2_col1,#T_d1d83_row3_col3{\n",
       "            background-color:  #d2e3f3;\n",
       "            color:  #000000;\n",
       "        }#T_d1d83_row2_col2,#T_d1d83_row3_col0{\n",
       "            background-color:  #cee0f2;\n",
       "            color:  #000000;\n",
       "        }#T_d1d83_row2_col3{\n",
       "            background-color:  #65aad4;\n",
       "            color:  #000000;\n",
       "        }#T_d1d83_row2_col4{\n",
       "            background-color:  #4997c9;\n",
       "            color:  #000000;\n",
       "        }#T_d1d83_row2_col5{\n",
       "            background-color:  #084184;\n",
       "            color:  #f1f1f1;\n",
       "        }#T_d1d83_row2_col6{\n",
       "            background-color:  #2474b7;\n",
       "            color:  #f1f1f1;\n",
       "        }#T_d1d83_row2_col7{\n",
       "            background-color:  #2a7ab9;\n",
       "            color:  #000000;\n",
       "        }#T_d1d83_row2_col8{\n",
       "            background-color:  #56a0ce;\n",
       "            color:  #000000;\n",
       "        }#T_d1d83_row3_col1{\n",
       "            background-color:  #edf4fc;\n",
       "            color:  #000000;\n",
       "        }#T_d1d83_row3_col2{\n",
       "            background-color:  #e2edf8;\n",
       "            color:  #000000;\n",
       "        }#T_d1d83_row3_col4{\n",
       "            background-color:  #d6e5f4;\n",
       "            color:  #000000;\n",
       "        }#T_d1d83_row3_col5{\n",
       "            background-color:  #9ac8e0;\n",
       "            color:  #000000;\n",
       "        }#T_d1d83_row3_col6{\n",
       "            background-color:  #bed8ec;\n",
       "            color:  #000000;\n",
       "        }#T_d1d83_row3_col7{\n",
       "            background-color:  #c7dcef;\n",
       "            color:  #000000;\n",
       "        }#T_d1d83_row3_col8{\n",
       "            background-color:  #d0e1f2;\n",
       "            color:  #000000;\n",
       "        }</style><table id=\"T_d1d83_\" ><thead>    <tr>        <th class=\"blank level0\" ></th>        <th class=\"col_heading level0 col0\" >c_Salaries</th>        <th class=\"col_heading level0 col1\" >c_Overtime</th>        <th class=\"col_heading level0 col2\" >c_Other Salaries</th>        <th class=\"col_heading level0 col3\" >c_Total Salary</th>        <th class=\"col_heading level0 col4\" >c_Retirement</th>        <th class=\"col_heading level0 col5\" >c_Health/Dental</th>        <th class=\"col_heading level0 col6\" >c_Other Benefits</th>        <th class=\"col_heading level0 col7\" >c_Total Benefits</th>        <th class=\"col_heading level0 col8\" >c_Total Compensation</th>    </tr>    <tr>        <th class=\"index_name level0\" >cl_gmm</th>        <th class=\"blank\" ></th>        <th class=\"blank\" ></th>        <th class=\"blank\" ></th>        <th class=\"blank\" ></th>        <th class=\"blank\" ></th>        <th class=\"blank\" ></th>        <th class=\"blank\" ></th>        <th class=\"blank\" ></th>        <th class=\"blank\" ></th>    </tr></thead><tbody>\n",
       "                <tr>\n",
       "                        <th id=\"T_d1d83_level0_row0\" class=\"row_heading level0 row0\" >0</th>\n",
       "                        <td id=\"T_d1d83_row0_col0\" class=\"data row0 col0\" >103853.860103</td>\n",
       "                        <td id=\"T_d1d83_row0_col1\" class=\"data row0 col1\" >10504.347456</td>\n",
       "                        <td id=\"T_d1d83_row0_col2\" class=\"data row0 col2\" >9383.605302</td>\n",
       "                        <td id=\"T_d1d83_row0_col3\" class=\"data row0 col3\" >123741.812860</td>\n",
       "                        <td id=\"T_d1d83_row0_col4\" class=\"data row0 col4\" >21304.067638</td>\n",
       "                        <td id=\"T_d1d83_row0_col5\" class=\"data row0 col5\" >11377.998614</td>\n",
       "                        <td id=\"T_d1d83_row0_col6\" class=\"data row0 col6\" >6851.477987</td>\n",
       "                        <td id=\"T_d1d83_row0_col7\" class=\"data row0 col7\" >39533.544238</td>\n",
       "                        <td id=\"T_d1d83_row0_col8\" class=\"data row0 col8\" >163275.357099</td>\n",
       "            </tr>\n",
       "            <tr>\n",
       "                        <th id=\"T_d1d83_level0_row1\" class=\"row_heading level0 row1\" >1</th>\n",
       "                        <td id=\"T_d1d83_row1_col0\" class=\"data row1 col0\" >4366.118115</td>\n",
       "                        <td id=\"T_d1d83_row1_col1\" class=\"data row1 col1\" >62.773377</td>\n",
       "                        <td id=\"T_d1d83_row1_col2\" class=\"data row1 col2\" >141.993467</td>\n",
       "                        <td id=\"T_d1d83_row1_col3\" class=\"data row1 col3\" >4570.884959</td>\n",
       "                        <td id=\"T_d1d83_row1_col4\" class=\"data row1 col4\" >216.591087</td>\n",
       "                        <td id=\"T_d1d83_row1_col5\" class=\"data row1 col5\" >1125.745844</td>\n",
       "                        <td id=\"T_d1d83_row1_col6\" class=\"data row1 col6\" >365.682837</td>\n",
       "                        <td id=\"T_d1d83_row1_col7\" class=\"data row1 col7\" >1708.019768</td>\n",
       "                        <td id=\"T_d1d83_row1_col8\" class=\"data row1 col8\" >6278.904727</td>\n",
       "            </tr>\n",
       "            <tr>\n",
       "                        <th id=\"T_d1d83_level0_row2\" class=\"row_heading level0 row2\" >2</th>\n",
       "                        <td id=\"T_d1d83_row2_col0\" class=\"data row2 col0\" >61976.400337</td>\n",
       "                        <td id=\"T_d1d83_row2_col1\" class=\"data row2 col1\" >2061.106085</td>\n",
       "                        <td id=\"T_d1d83_row2_col2\" class=\"data row2 col2\" >2087.582857</td>\n",
       "                        <td id=\"T_d1d83_row2_col3\" class=\"data row2 col3\" >66125.089279</td>\n",
       "                        <td id=\"T_d1d83_row2_col4\" class=\"data row2 col4\" >12906.550008</td>\n",
       "                        <td id=\"T_d1d83_row2_col5\" class=\"data row2 col5\" >10728.276268</td>\n",
       "                        <td id=\"T_d1d83_row2_col6\" class=\"data row2 col6\" >5130.931183</td>\n",
       "                        <td id=\"T_d1d83_row2_col7\" class=\"data row2 col7\" >28765.757459</td>\n",
       "                        <td id=\"T_d1d83_row2_col8\" class=\"data row2 col8\" >94890.846739</td>\n",
       "            </tr>\n",
       "            <tr>\n",
       "                        <th id=\"T_d1d83_level0_row3\" class=\"row_heading level0 row3\" >3</th>\n",
       "                        <td id=\"T_d1d83_row3_col0\" class=\"data row3 col0\" >25248.144113</td>\n",
       "                        <td id=\"T_d1d83_row3_col1\" class=\"data row3 col1\" >627.811002</td>\n",
       "                        <td id=\"T_d1d83_row3_col2\" class=\"data row3 col2\" >1135.831978</td>\n",
       "                        <td id=\"T_d1d83_row3_col3\" class=\"data row3 col3\" >27011.787093</td>\n",
       "                        <td id=\"T_d1d83_row3_col4\" class=\"data row3 col4\" >3777.354451</td>\n",
       "                        <td id=\"T_d1d83_row3_col5\" class=\"data row3 col5\" >5055.788853</td>\n",
       "                        <td id=\"T_d1d83_row3_col6\" class=\"data row3 col6\" >2150.789253</td>\n",
       "                        <td id=\"T_d1d83_row3_col7\" class=\"data row3 col7\" >10983.932557</td>\n",
       "                        <td id=\"T_d1d83_row3_col8\" class=\"data row3 col8\" >37995.719649</td>\n",
       "            </tr>\n",
       "    </tbody></table>"
      ],
      "text/plain": [
       "<pandas.io.formats.style.Styler at 0x27536a0e9a0>"
      ]
     },
     "execution_count": 566,
     "metadata": {},
     "output_type": "execute_result"
    }
   ],
   "source": [
    "X[varc].groupby('cl_gmm').mean().style.background_gradient(cmap='Blues')"
   ]
  },
  {
   "cell_type": "code",
   "execution_count": 567,
   "id": "32fd9995",
   "metadata": {},
   "outputs": [],
   "source": [
    "from scipy.stats import kruskal"
   ]
  },
  {
   "cell_type": "code",
   "execution_count": 568,
   "id": "1d628bc0",
   "metadata": {},
   "outputs": [],
   "source": [
    "ls_res = []\n",
    "for feature in X.columns:\n",
    "    l = []\n",
    "    for cl in X[\"cl_gmm\"].unique():\n",
    "        l.append(X.loc[X[\"cl_gmm\"]==cl, feature].to_list())\n",
    "    kr = kruskal(*l)\n",
    "    ls_res.append((feature,kr.pvalue))"
   ]
  },
  {
   "cell_type": "code",
   "execution_count": 569,
   "id": "3f852655",
   "metadata": {},
   "outputs": [],
   "source": [
    "data_kruskal=pd.DataFrame(ls_res,columns=['Feature','p_value']).round(3)"
   ]
  },
  {
   "cell_type": "code",
   "execution_count": 570,
   "id": "776334c6",
   "metadata": {},
   "outputs": [
    {
     "data": {
      "text/html": [
       "<div>\n",
       "<style scoped>\n",
       "    .dataframe tbody tr th:only-of-type {\n",
       "        vertical-align: middle;\n",
       "    }\n",
       "\n",
       "    .dataframe tbody tr th {\n",
       "        vertical-align: top;\n",
       "    }\n",
       "\n",
       "    .dataframe thead th {\n",
       "        text-align: right;\n",
       "    }\n",
       "</style>\n",
       "<table border=\"1\" class=\"dataframe\">\n",
       "  <thead>\n",
       "    <tr style=\"text-align: right;\">\n",
       "      <th></th>\n",
       "      <th>Feature</th>\n",
       "      <th>p_value</th>\n",
       "    </tr>\n",
       "  </thead>\n",
       "  <tbody>\n",
       "    <tr>\n",
       "      <th>0</th>\n",
       "      <td>c_Salaries</td>\n",
       "      <td>0.0</td>\n",
       "    </tr>\n",
       "    <tr>\n",
       "      <th>1</th>\n",
       "      <td>c_Overtime</td>\n",
       "      <td>0.0</td>\n",
       "    </tr>\n",
       "    <tr>\n",
       "      <th>2</th>\n",
       "      <td>c_Other Salaries</td>\n",
       "      <td>0.0</td>\n",
       "    </tr>\n",
       "    <tr>\n",
       "      <th>3</th>\n",
       "      <td>c_Total Salary</td>\n",
       "      <td>0.0</td>\n",
       "    </tr>\n",
       "    <tr>\n",
       "      <th>4</th>\n",
       "      <td>c_Retirement</td>\n",
       "      <td>0.0</td>\n",
       "    </tr>\n",
       "    <tr>\n",
       "      <th>5</th>\n",
       "      <td>c_Health/Dental</td>\n",
       "      <td>0.0</td>\n",
       "    </tr>\n",
       "    <tr>\n",
       "      <th>6</th>\n",
       "      <td>c_Other Benefits</td>\n",
       "      <td>0.0</td>\n",
       "    </tr>\n",
       "    <tr>\n",
       "      <th>7</th>\n",
       "      <td>c_Total Benefits</td>\n",
       "      <td>0.0</td>\n",
       "    </tr>\n",
       "    <tr>\n",
       "      <th>8</th>\n",
       "      <td>c_Total Compensation</td>\n",
       "      <td>0.0</td>\n",
       "    </tr>\n",
       "    <tr>\n",
       "      <th>9</th>\n",
       "      <td>cl_gmm</td>\n",
       "      <td>0.0</td>\n",
       "    </tr>\n",
       "  </tbody>\n",
       "</table>\n",
       "</div>"
      ],
      "text/plain": [
       "                Feature  p_value\n",
       "0            c_Salaries      0.0\n",
       "1            c_Overtime      0.0\n",
       "2      c_Other Salaries      0.0\n",
       "3        c_Total Salary      0.0\n",
       "4          c_Retirement      0.0\n",
       "5       c_Health/Dental      0.0\n",
       "6      c_Other Benefits      0.0\n",
       "7      c_Total Benefits      0.0\n",
       "8  c_Total Compensation      0.0\n",
       "9                cl_gmm      0.0"
      ]
     },
     "execution_count": 570,
     "metadata": {},
     "output_type": "execute_result"
    }
   ],
   "source": [
    "data_kruskal"
   ]
  },
  {
   "cell_type": "code",
   "execution_count": 571,
   "id": "06d62825",
   "metadata": {},
   "outputs": [],
   "source": [
    "variables_cambio=data_kruskal[data_kruskal['p_value']<.05]['Feature'].to_list()"
   ]
  },
  {
   "cell_type": "code",
   "execution_count": 572,
   "id": "a121e14e",
   "metadata": {},
   "outputs": [],
   "source": [
    "from statsmodels.stats.multicomp import MultiComparison"
   ]
  },
  {
   "cell_type": "code",
   "execution_count": 573,
   "id": "e805c9a7",
   "metadata": {},
   "outputs": [
    {
     "name": "stdout",
     "output_type": "stream",
     "text": [
      "c_Salaries\n"
     ]
    },
    {
     "data": {
      "text/html": [
       "<table class=\"simpletable\">\n",
       "<caption>Multiple Comparison of Means - Tukey HSD, FWER=0.05</caption>\n",
       "<tr>\n",
       "  <th>group1</th> <th>group2</th>  <th>meandiff</th>   <th>p-adj</th>    <th>lower</th>       <th>upper</th>    <th>reject</th>\n",
       "</tr>\n",
       "<tr>\n",
       "     <td>0</td>      <td>1</td>   <td>-99487.742</td>  <td>0.001</td> <td>-100142.235</td> <td>-98833.249</td>   <td>True</td> \n",
       "</tr>\n",
       "<tr>\n",
       "     <td>0</td>      <td>2</td>   <td>-41877.4598</td> <td>0.001</td> <td>-42448.1434</td> <td>-41306.7761</td>  <td>True</td> \n",
       "</tr>\n",
       "<tr>\n",
       "     <td>0</td>      <td>3</td>   <td>-78605.716</td>  <td>0.001</td> <td>-79228.0857</td> <td>-77983.3463</td>  <td>True</td> \n",
       "</tr>\n",
       "<tr>\n",
       "     <td>1</td>      <td>2</td>   <td>57610.2822</td>  <td>0.001</td> <td>56980.5148</td>  <td>58240.0497</td>   <td>True</td> \n",
       "</tr>\n",
       "<tr>\n",
       "     <td>1</td>      <td>3</td>    <td>20882.026</td>  <td>0.001</td> <td>20205.0686</td>  <td>21558.9834</td>   <td>True</td> \n",
       "</tr>\n",
       "<tr>\n",
       "     <td>2</td>      <td>3</td>   <td>-36728.2562</td> <td>0.001</td> <td>-37324.5699</td> <td>-36131.9426</td>  <td>True</td> \n",
       "</tr>\n",
       "</table>"
      ],
      "text/plain": [
       "<class 'statsmodels.iolib.table.SimpleTable'>"
      ]
     },
     "metadata": {},
     "output_type": "display_data"
    },
    {
     "name": "stdout",
     "output_type": "stream",
     "text": [
      "\n",
      "\n",
      "c_Overtime\n"
     ]
    },
    {
     "data": {
      "text/html": [
       "<table class=\"simpletable\">\n",
       "<caption>Multiple Comparison of Means - Tukey HSD, FWER=0.05</caption>\n",
       "<tr>\n",
       "  <th>group1</th> <th>group2</th>  <th>meandiff</th>   <th>p-adj</th>    <th>lower</th>       <th>upper</th>    <th>reject</th>\n",
       "</tr>\n",
       "<tr>\n",
       "     <td>0</td>      <td>1</td>   <td>-10441.5741</td> <td>0.001</td> <td>-10718.3278</td> <td>-10164.8204</td>  <td>True</td> \n",
       "</tr>\n",
       "<tr>\n",
       "     <td>0</td>      <td>2</td>   <td>-8443.2414</td>  <td>0.001</td> <td>-8684.5561</td>  <td>-8201.9267</td>   <td>True</td> \n",
       "</tr>\n",
       "<tr>\n",
       "     <td>0</td>      <td>3</td>   <td>-9876.5365</td>  <td>0.001</td> <td>-10139.7067</td> <td>-9613.3662</td>   <td>True</td> \n",
       "</tr>\n",
       "<tr>\n",
       "     <td>1</td>      <td>2</td>    <td>1998.3327</td>  <td>0.001</td>  <td>1732.0343</td>   <td>2264.6311</td>   <td>True</td> \n",
       "</tr>\n",
       "<tr>\n",
       "     <td>1</td>      <td>3</td>    <td>565.0376</td>   <td>0.001</td>  <td>278.7849</td>    <td>851.2904</td>    <td>True</td> \n",
       "</tr>\n",
       "<tr>\n",
       "     <td>2</td>      <td>3</td>   <td>-1433.2951</td>  <td>0.001</td> <td>-1685.4475</td>  <td>-1181.1427</td>   <td>True</td> \n",
       "</tr>\n",
       "</table>"
      ],
      "text/plain": [
       "<class 'statsmodels.iolib.table.SimpleTable'>"
      ]
     },
     "metadata": {},
     "output_type": "display_data"
    },
    {
     "name": "stdout",
     "output_type": "stream",
     "text": [
      "\n",
      "\n",
      "c_Other Salaries\n"
     ]
    },
    {
     "data": {
      "text/html": [
       "<table class=\"simpletable\">\n",
       "<caption>Multiple Comparison of Means - Tukey HSD, FWER=0.05</caption>\n",
       "<tr>\n",
       "  <th>group1</th> <th>group2</th>  <th>meandiff</th>  <th>p-adj</th>    <th>lower</th>      <th>upper</th>   <th>reject</th>\n",
       "</tr>\n",
       "<tr>\n",
       "     <td>0</td>      <td>1</td>   <td>-9241.6118</td> <td>0.001</td> <td>-9452.9471</td> <td>-9030.2765</td>  <td>True</td> \n",
       "</tr>\n",
       "<tr>\n",
       "     <td>0</td>      <td>2</td>   <td>-7296.0224</td> <td>0.001</td> <td>-7480.2958</td> <td>-7111.7491</td>  <td>True</td> \n",
       "</tr>\n",
       "<tr>\n",
       "     <td>0</td>      <td>3</td>   <td>-8247.7733</td> <td>0.001</td>  <td>-8448.736</td> <td>-8046.8106</td>  <td>True</td> \n",
       "</tr>\n",
       "<tr>\n",
       "     <td>1</td>      <td>2</td>    <td>1945.5894</td> <td>0.001</td>  <td>1742.238</td>   <td>2148.9408</td>  <td>True</td> \n",
       "</tr>\n",
       "<tr>\n",
       "     <td>1</td>      <td>3</td>    <td>993.8385</td>  <td>0.001</td>  <td>775.2495</td>   <td>1212.4275</td>  <td>True</td> \n",
       "</tr>\n",
       "<tr>\n",
       "     <td>2</td>      <td>3</td>    <td>-951.7509</td> <td>0.001</td> <td>-1144.3001</td>  <td>-759.2017</td>  <td>True</td> \n",
       "</tr>\n",
       "</table>"
      ],
      "text/plain": [
       "<class 'statsmodels.iolib.table.SimpleTable'>"
      ]
     },
     "metadata": {},
     "output_type": "display_data"
    },
    {
     "name": "stdout",
     "output_type": "stream",
     "text": [
      "\n",
      "\n",
      "c_Total Salary\n"
     ]
    },
    {
     "data": {
      "text/html": [
       "<table class=\"simpletable\">\n",
       "<caption>Multiple Comparison of Means - Tukey HSD, FWER=0.05</caption>\n",
       "<tr>\n",
       "  <th>group1</th> <th>group2</th>   <th>meandiff</th>   <th>p-adj</th>     <th>lower</th>        <th>upper</th>    <th>reject</th>\n",
       "</tr>\n",
       "<tr>\n",
       "     <td>0</td>      <td>1</td>   <td>-119170.9279</td> <td>0.001</td> <td>-119875.2795</td> <td>-118466.5763</td>  <td>True</td> \n",
       "</tr>\n",
       "<tr>\n",
       "     <td>0</td>      <td>2</td>    <td>-57616.7236</td> <td>0.001</td>  <td>-58230.8813</td>  <td>-57002.5659</td>  <td>True</td> \n",
       "</tr>\n",
       "<tr>\n",
       "     <td>0</td>      <td>3</td>    <td>-96730.0258</td> <td>0.001</td>  <td>-97399.8069</td>  <td>-96060.2446</td>  <td>True</td> \n",
       "</tr>\n",
       "<tr>\n",
       "     <td>1</td>      <td>2</td>    <td>61554.2043</td>  <td>0.001</td>  <td>60876.4619</td>   <td>62231.9467</td>   <td>True</td> \n",
       "</tr>\n",
       "<tr>\n",
       "     <td>1</td>      <td>3</td>    <td>22440.9021</td>  <td>0.001</td>  <td>21712.3749</td>   <td>23169.4293</td>   <td>True</td> \n",
       "</tr>\n",
       "<tr>\n",
       "     <td>2</td>      <td>3</td>    <td>-39113.3022</td> <td>0.001</td>  <td>-39755.0423</td>  <td>-38471.562</td>   <td>True</td> \n",
       "</tr>\n",
       "</table>"
      ],
      "text/plain": [
       "<class 'statsmodels.iolib.table.SimpleTable'>"
      ]
     },
     "metadata": {},
     "output_type": "display_data"
    },
    {
     "name": "stdout",
     "output_type": "stream",
     "text": [
      "\n",
      "\n",
      "c_Retirement\n"
     ]
    },
    {
     "data": {
      "text/html": [
       "<table class=\"simpletable\">\n",
       "<caption>Multiple Comparison of Means - Tukey HSD, FWER=0.05</caption>\n",
       "<tr>\n",
       "  <th>group1</th> <th>group2</th>  <th>meandiff</th>   <th>p-adj</th>    <th>lower</th>       <th>upper</th>    <th>reject</th>\n",
       "</tr>\n",
       "<tr>\n",
       "     <td>0</td>      <td>1</td>   <td>-21087.4766</td> <td>0.001</td> <td>-21230.8402</td> <td>-20944.1129</td>  <td>True</td> \n",
       "</tr>\n",
       "<tr>\n",
       "     <td>0</td>      <td>2</td>   <td>-8397.5176</td>  <td>0.001</td> <td>-8522.5233</td>   <td>-8272.512</td>   <td>True</td> \n",
       "</tr>\n",
       "<tr>\n",
       "     <td>0</td>      <td>3</td>   <td>-17526.7132</td> <td>0.001</td> <td>-17663.0404</td> <td>-17390.386</td>   <td>True</td> \n",
       "</tr>\n",
       "<tr>\n",
       "     <td>1</td>      <td>2</td>   <td>12689.9589</td>  <td>0.001</td> <td>12552.0113</td>  <td>12827.9066</td>   <td>True</td> \n",
       "</tr>\n",
       "<tr>\n",
       "     <td>1</td>      <td>3</td>    <td>3560.7634</td>  <td>0.001</td>  <td>3412.479</td>    <td>3709.0478</td>   <td>True</td> \n",
       "</tr>\n",
       "<tr>\n",
       "     <td>2</td>      <td>3</td>   <td>-9129.1956</td>  <td>0.001</td> <td>-9259.8153</td>  <td>-8998.5758</td>   <td>True</td> \n",
       "</tr>\n",
       "</table>"
      ],
      "text/plain": [
       "<class 'statsmodels.iolib.table.SimpleTable'>"
      ]
     },
     "metadata": {},
     "output_type": "display_data"
    },
    {
     "name": "stdout",
     "output_type": "stream",
     "text": [
      "\n",
      "\n",
      "c_Health/Dental\n"
     ]
    },
    {
     "data": {
      "text/html": [
       "<table class=\"simpletable\">\n",
       "<caption>Multiple Comparison of Means - Tukey HSD, FWER=0.05</caption>\n",
       "<tr>\n",
       "  <th>group1</th> <th>group2</th>  <th>meandiff</th>   <th>p-adj</th>    <th>lower</th>       <th>upper</th>    <th>reject</th>\n",
       "</tr>\n",
       "<tr>\n",
       "     <td>0</td>      <td>1</td>   <td>-10252.2528</td> <td>0.001</td> <td>-10323.1743</td> <td>-10181.3313</td>  <td>True</td> \n",
       "</tr>\n",
       "<tr>\n",
       "     <td>0</td>      <td>2</td>    <td>-649.7223</td>  <td>0.001</td>  <td>-711.5622</td>   <td>-587.8825</td>   <td>True</td> \n",
       "</tr>\n",
       "<tr>\n",
       "     <td>0</td>      <td>3</td>   <td>-6322.2098</td>  <td>0.001</td> <td>-6389.6503</td>  <td>-6254.7692</td>   <td>True</td> \n",
       "</tr>\n",
       "<tr>\n",
       "     <td>1</td>      <td>2</td>    <td>9602.5304</td>  <td>0.001</td>  <td>9534.2882</td>   <td>9670.7726</td>   <td>True</td> \n",
       "</tr>\n",
       "<tr>\n",
       "     <td>1</td>      <td>3</td>    <td>3930.043</td>   <td>0.001</td>  <td>3856.6873</td>   <td>4003.3988</td>   <td>True</td> \n",
       "</tr>\n",
       "<tr>\n",
       "     <td>2</td>      <td>3</td>   <td>-5672.4874</td>  <td>0.001</td> <td>-5737.1045</td>  <td>-5607.8703</td>   <td>True</td> \n",
       "</tr>\n",
       "</table>"
      ],
      "text/plain": [
       "<class 'statsmodels.iolib.table.SimpleTable'>"
      ]
     },
     "metadata": {},
     "output_type": "display_data"
    },
    {
     "name": "stdout",
     "output_type": "stream",
     "text": [
      "\n",
      "\n",
      "c_Other Benefits\n"
     ]
    },
    {
     "data": {
      "text/html": [
       "<table class=\"simpletable\">\n",
       "<caption>Multiple Comparison of Means - Tukey HSD, FWER=0.05</caption>\n",
       "<tr>\n",
       "  <th>group1</th> <th>group2</th>  <th>meandiff</th>  <th>p-adj</th>    <th>lower</th>      <th>upper</th>   <th>reject</th>\n",
       "</tr>\n",
       "<tr>\n",
       "     <td>0</td>      <td>1</td>   <td>-6485.7951</td> <td>0.001</td> <td>-6566.8092</td> <td>-6404.7811</td>  <td>True</td> \n",
       "</tr>\n",
       "<tr>\n",
       "     <td>0</td>      <td>2</td>   <td>-1720.5468</td> <td>0.001</td> <td>-1791.1868</td> <td>-1649.9068</td>  <td>True</td> \n",
       "</tr>\n",
       "<tr>\n",
       "     <td>0</td>      <td>3</td>   <td>-4700.6887</td> <td>0.001</td> <td>-4777.7265</td>  <td>-4623.651</td>  <td>True</td> \n",
       "</tr>\n",
       "<tr>\n",
       "     <td>1</td>      <td>2</td>    <td>4765.2483</td> <td>0.001</td>  <td>4687.2949</td>  <td>4843.2018</td>  <td>True</td> \n",
       "</tr>\n",
       "<tr>\n",
       "     <td>1</td>      <td>3</td>    <td>1785.1064</td> <td>0.001</td>  <td>1701.3117</td>  <td>1868.9011</td>  <td>True</td> \n",
       "</tr>\n",
       "<tr>\n",
       "     <td>2</td>      <td>3</td>   <td>-2980.1419</td> <td>0.001</td> <td>-3053.9544</td> <td>-2906.3294</td>  <td>True</td> \n",
       "</tr>\n",
       "</table>"
      ],
      "text/plain": [
       "<class 'statsmodels.iolib.table.SimpleTable'>"
      ]
     },
     "metadata": {},
     "output_type": "display_data"
    },
    {
     "name": "stdout",
     "output_type": "stream",
     "text": [
      "\n",
      "\n",
      "c_Total Benefits\n"
     ]
    },
    {
     "data": {
      "text/html": [
       "<table class=\"simpletable\">\n",
       "<caption>Multiple Comparison of Means - Tukey HSD, FWER=0.05</caption>\n",
       "<tr>\n",
       "  <th>group1</th> <th>group2</th>  <th>meandiff</th>   <th>p-adj</th>    <th>lower</th>       <th>upper</th>    <th>reject</th>\n",
       "</tr>\n",
       "<tr>\n",
       "     <td>0</td>      <td>1</td>   <td>-37825.5245</td> <td>0.001</td> <td>-38049.4247</td> <td>-37601.6242</td>  <td>True</td> \n",
       "</tr>\n",
       "<tr>\n",
       "     <td>0</td>      <td>2</td>   <td>-10767.7868</td> <td>0.001</td> <td>-10963.0161</td> <td>-10572.5575</td>  <td>True</td> \n",
       "</tr>\n",
       "<tr>\n",
       "     <td>0</td>      <td>3</td>   <td>-28549.6117</td> <td>0.001</td> <td>-28762.5226</td> <td>-28336.7007</td>  <td>True</td> \n",
       "</tr>\n",
       "<tr>\n",
       "     <td>1</td>      <td>2</td>   <td>27057.7377</td>  <td>0.001</td>  <td>26842.296</td>  <td>27273.1794</td>   <td>True</td> \n",
       "</tr>\n",
       "<tr>\n",
       "     <td>1</td>      <td>3</td>    <td>9275.9128</td>  <td>0.001</td>  <td>9044.3275</td>   <td>9507.498</td>    <td>True</td> \n",
       "</tr>\n",
       "<tr>\n",
       "     <td>2</td>      <td>3</td>   <td>-17781.8249</td> <td>0.001</td> <td>-17985.8222</td> <td>-17577.8276</td>  <td>True</td> \n",
       "</tr>\n",
       "</table>"
      ],
      "text/plain": [
       "<class 'statsmodels.iolib.table.SimpleTable'>"
      ]
     },
     "metadata": {},
     "output_type": "display_data"
    },
    {
     "name": "stdout",
     "output_type": "stream",
     "text": [
      "\n",
      "\n",
      "c_Total Compensation\n"
     ]
    },
    {
     "data": {
      "text/html": [
       "<table class=\"simpletable\">\n",
       "<caption>Multiple Comparison of Means - Tukey HSD, FWER=0.05</caption>\n",
       "<tr>\n",
       "  <th>group1</th> <th>group2</th>   <th>meandiff</th>   <th>p-adj</th>     <th>lower</th>        <th>upper</th>    <th>reject</th>\n",
       "</tr>\n",
       "<tr>\n",
       "     <td>0</td>      <td>1</td>   <td>-156996.4524</td> <td>0.001</td> <td>-157865.1649</td> <td>-156127.7399</td>  <td>True</td> \n",
       "</tr>\n",
       "<tr>\n",
       "     <td>0</td>      <td>2</td>    <td>-68384.5104</td> <td>0.001</td>  <td>-69141.9822</td>  <td>-67627.0386</td>  <td>True</td> \n",
       "</tr>\n",
       "<tr>\n",
       "     <td>0</td>      <td>3</td>   <td>-125279.6374</td> <td>0.001</td> <td>-126105.7125</td> <td>-124453.5624</td>  <td>True</td> \n",
       "</tr>\n",
       "<tr>\n",
       "     <td>1</td>      <td>2</td>     <td>88611.942</td>  <td>0.001</td>  <td>87776.0479</td>   <td>89447.8361</td>   <td>True</td> \n",
       "</tr>\n",
       "<tr>\n",
       "     <td>1</td>      <td>3</td>    <td>31716.8149</td>  <td>0.001</td>  <td>30818.2854</td>   <td>32615.3445</td>   <td>True</td> \n",
       "</tr>\n",
       "<tr>\n",
       "     <td>2</td>      <td>3</td>    <td>-56895.1271</td> <td>0.001</td>  <td>-57686.6178</td>  <td>-56103.6364</td>  <td>True</td> \n",
       "</tr>\n",
       "</table>"
      ],
      "text/plain": [
       "<class 'statsmodels.iolib.table.SimpleTable'>"
      ]
     },
     "metadata": {},
     "output_type": "display_data"
    },
    {
     "name": "stdout",
     "output_type": "stream",
     "text": [
      "\n",
      "\n",
      "cl_gmm\n"
     ]
    },
    {
     "name": "stderr",
     "output_type": "stream",
     "text": [
      "C:\\ProgramData\\Anaconda3\\lib\\site-packages\\statsmodels\\sandbox\\stats\\multicomp.py:1291: RuntimeWarning: divide by zero encountered in true_divide\n",
      "  st_range = np.abs(meandiffs) / std_pairs #studentized range statistic\n"
     ]
    },
    {
     "data": {
      "text/html": [
       "<table class=\"simpletable\">\n",
       "<caption>Multiple Comparison of Means - Tukey HSD, FWER=0.05</caption>\n",
       "<tr>\n",
       "  <th>group1</th> <th>group2</th> <th>meandiff</th> <th>p-adj</th> <th>lower</th> <th>upper</th> <th>reject</th>\n",
       "</tr>\n",
       "<tr>\n",
       "     <td>0</td>      <td>1</td>      <td>1.0</td>   <td>0.001</td>  <td>1.0</td>   <td>1.0</td>   <td>True</td> \n",
       "</tr>\n",
       "<tr>\n",
       "     <td>0</td>      <td>2</td>      <td>2.0</td>   <td>0.001</td>  <td>2.0</td>   <td>2.0</td>   <td>True</td> \n",
       "</tr>\n",
       "<tr>\n",
       "     <td>0</td>      <td>3</td>      <td>3.0</td>   <td>0.001</td>  <td>3.0</td>   <td>3.0</td>   <td>True</td> \n",
       "</tr>\n",
       "<tr>\n",
       "     <td>1</td>      <td>2</td>      <td>1.0</td>   <td>0.001</td>  <td>1.0</td>   <td>1.0</td>   <td>True</td> \n",
       "</tr>\n",
       "<tr>\n",
       "     <td>1</td>      <td>3</td>      <td>2.0</td>   <td>0.001</td>  <td>2.0</td>   <td>2.0</td>   <td>True</td> \n",
       "</tr>\n",
       "<tr>\n",
       "     <td>2</td>      <td>3</td>      <td>1.0</td>   <td>0.001</td>  <td>1.0</td>   <td>1.0</td>   <td>True</td> \n",
       "</tr>\n",
       "</table>"
      ],
      "text/plain": [
       "<class 'statsmodels.iolib.table.SimpleTable'>"
      ]
     },
     "metadata": {},
     "output_type": "display_data"
    },
    {
     "name": "stdout",
     "output_type": "stream",
     "text": [
      "\n",
      "\n"
     ]
    }
   ],
   "source": [
    "for v in variables_cambio:\n",
    "    print(v)\n",
    "    mc = MultiComparison(X[v],X['cl_gmm'])\n",
    "    display(mc.tukeyhsd().summary())\n",
    "    print('\\n')"
   ]
  },
  {
   "cell_type": "code",
   "execution_count": 574,
   "id": "8af442c0",
   "metadata": {},
   "outputs": [
    {
     "name": "stderr",
     "output_type": "stream",
     "text": [
      "C:\\ProgramData\\Anaconda3\\lib\\site-packages\\seaborn\\_decorators.py:36: FutureWarning: Pass the following variables as keyword args: x, y. From version 0.12, the only valid positional argument will be `data`, and passing other arguments without an explicit keyword will result in an error or misinterpretation.\n",
      "  warnings.warn(\n"
     ]
    },
    {
     "data": {
      "image/png": "[encoded data removed]",
      "text/plain": [
       "<Figure size 1440x360 with 1 Axes>"
      ]
     },
     "metadata": {},
     "output_type": "display_data"
    }
   ],
   "source": [
    "plt.subplots(figsize=(20,5))\n",
    "sns.scatterplot(X_pca[\"p_1\"], X_pca[\"p_2\"],hue=X_pca['cl_gmm'])\n",
    "sns.despine()\n",
    "plt.show()"
   ]
  },
  {
   "cell_type": "code",
   "execution_count": null,
   "id": "bd6e6d8e",
   "metadata": {},
   "outputs": [],
   "source": []
  }
 ],
 "metadata": {
  "kernelspec": {
   "display_name": "Python 3",
   "language": "python",
   "name": "python3"
  },
  "language_info": {
   "codemirror_mode": {
    "name": "ipython",
    "version": 3
   },
   "file_extension": ".py",
   "mimetype": "text/x-python",
   "name": "python",
   "nbconvert_exporter": "python",
   "pygments_lexer": "ipython3",
   "version": "3.8.8"
  }
 },
 "nbformat": 4,
 "nbformat_minor": 5
}
