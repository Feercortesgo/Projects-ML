{
 "cells": [
  {
   "cell_type": "code",
   "execution_count": 1,
   "id": "4a7f4c6e",
   "metadata": {},
   "outputs": [],
   "source": [
    "import os\n",
    "import re\n",
    "import emoji\n",
    "import numpy as np\n",
    "import unicodedata\n",
    "import pandas as pd\n",
    "from bs4 import BeautifulSoup\n",
    "from sklearn.metrics import roc_auc_score\n",
    "from nltk.corpus import stopwords\n",
    "from sklearn.linear_model import LogisticRegression\n",
    "from sklearn.feature_selection import SelectKBest, f_classif\n",
    "from sklearn.model_selection import cross_val_score, train_test_split\n",
    "from sklearn.feature_extraction.text import CountVectorizer, TfidfVectorizer\n",
    "\n",
    "\n",
    "#pca\n",
    "from sklearn.decomposition import PCA\n",
    "from sklearn.pipeline import make_pipeline\n",
    "from sklearn.preprocessing import StandardScaler\n",
    "from sklearn.preprocessing import scale\n",
    "\n",
    "\n",
    "# Tratamiento de datos\n",
    "import numpy as np\n",
    "import pandas as pd\n",
    "import statsmodels.api as sm\n",
    "\n",
    "# Gráficos\n",
    "import matplotlib.pyplot as plt\n",
    "import matplotlib.font_manager\n",
    "from matplotlib import style\n",
    "style.use('ggplot') or plt.style.use('ggplot')\n",
    "import seaborn as sns\n",
    "\n",
    "# Preprocesado y modelado\n",
    "\n",
    "from sklearn.decomposition import PCA\n",
    "from sklearn.pipeline import make_pipeline\n",
    "from sklearn.preprocessing import StandardScaler\n",
    "from sklearn.preprocessing import scale\n",
    "from sklearn.model_selection         import StratifiedKFold\n",
    "from sklearn.model_selection         import validation_curve\n",
    "\n",
    "# Configuración warnings\n",
    "\n",
    "import warnings\n",
    "warnings.filterwarnings('ignore')\n",
    "\n",
    "\n",
    "#modelado TSE MDS\n",
    "from sklearn.manifold import MDS, TSNE\n",
    "from sklearn.preprocessing import StandardScaler\n",
    "\n",
    "#from sklearn.linear_model            import LinearRegression, LogisticRegression, Ridge, RidgeCV\n",
    "from sklearn.svm                     import SVC\n",
    "from sklearn.ensemble                import RandomForestClassifier\n",
    "from sklearn.ensemble                import GradientBoostingClassifier\n",
    "from sklearn.preprocessing           import LabelEncoder,OneHotEncoder\n",
    "from sklearn.model_selection         import StratifiedKFold\n",
    "from sklearn.model_selection         import validation_curve\n",
    "from sklearn.model_selection         import learning_curve\n",
    "from sklearn.model_selection         import train_test_split\n",
    "from sklearn.metrics                 import confusion_matrix\n",
    "from sklearn.metrics                 import accuracy_score\n",
    "from sklearn.model_selection         import train_test_split\n",
    "from sklearn.model_selection         import cross_val_predict\n",
    "from sklearn.model_selection         import cross_val_score\n",
    "from sklearn                         import metrics\n",
    "from sklearn.feature_extraction.text import TfidfTransformer\n",
    "from sklearn.feature_extraction.text import TfidfVectorizer\n",
    "from sklearn.feature_extraction.text import CountVectorizer\n",
    "from sklearn.decomposition           import TruncatedSVD\n",
    "from sklearn.naive_bayes             import GaussianNB\n",
    "from sklearn.metrics         import roc_curve, roc_auc_score\n",
    "\n",
    "import itertools\n",
    "import collections\n",
    "import csv\n",
    "\n",
    "# Tunning plots\n",
    "import matplotlib.lines as mlines\n",
    "from matplotlib.ticker import MaxNLocator\n",
    "from wordcloud import WordCloud, ImageColorGenerator\n",
    "%matplotlib inline\n",
    "pd.set_option('display.max_columns', 100)\n",
    "SEED = 15432\n",
    "\n",
    "from imblearn.over_sampling import RandomOverSampler\n",
    "from collections import Counter\n"
   ]
  },
  {
   "cell_type": "code",
   "execution_count": 87,
   "id": "ba290855",
   "metadata": {},
   "outputs": [],
   "source": [
    "df=pd.read_csv(\"C:/Users/MX03932000/Documents/Personales/Mod_3/p1/df.csv\")"
   ]
  },
  {
   "cell_type": "code",
   "execution_count": 88,
   "id": "1dbeff79",
   "metadata": {},
   "outputs": [
    {
     "data": {
      "text/plain": [
       "0    0.987892\n",
       "1    0.012108\n",
       "Name: fraud, dtype: float64"
      ]
     },
     "execution_count": 88,
     "metadata": {},
     "output_type": "execute_result"
    }
   ],
   "source": [
    "df.fraud.value_counts(1)"
   ]
  },
  {
   "cell_type": "code",
   "execution_count": 89,
   "id": "209488d1",
   "metadata": {},
   "outputs": [],
   "source": [
    "X=df[['age', 'amount', 'debt', 'term', 'enrichment_RAD', 'enrichment_TAX',\n",
    "       'enrichment_B', 'gender_F', 'merchant_M1823072687',\n",
    "       'category_es_transportation']]\n",
    "y=df[[\"fraud\"]]"
   ]
  },
  {
   "cell_type": "code",
   "execution_count": 90,
   "id": "5f4229c3",
   "metadata": {},
   "outputs": [
    {
     "name": "stdout",
     "output_type": "stream",
     "text": [
      "Resampled dataset shape Counter({'fraud': 1})\n"
     ]
    }
   ],
   "source": [
    "ros = RandomOverSampler(random_state=42)\n",
    "X_res, y_res = ros.fit_resample(X, y)\n",
    "print('Resampled dataset shape %s' % Counter(y_res))"
   ]
  },
  {
   "cell_type": "code",
   "execution_count": 91,
   "id": "ee180352",
   "metadata": {},
   "outputs": [
    {
     "data": {
      "text/plain": [
       "array([[ 0.82615504, -0.43105177, -0.38841568, ..., -1.36531085,\n",
       "        -0.58517583,  1.15150286],\n",
       "       [ 0.82615504, -0.41575058, -0.36276413, ...,  0.73243394,\n",
       "        -0.58517583, -0.86843032],\n",
       "       [ 0.82615504, -0.38021382, -0.31156052, ..., -1.36531085,\n",
       "        -0.58517583,  1.15150286],\n",
       "       ...,\n",
       "       [ 0.05248865, -0.29631407, -0.31384266, ...,  0.73243394,\n",
       "        -0.58517583, -0.86843032],\n",
       "       [-0.72117775, -0.12286419, -0.14229503, ..., -1.36531085,\n",
       "        -0.58517583, -0.86843032],\n",
       "       [-0.72117775, -0.13586164, -0.27996937, ...,  0.73243394,\n",
       "        -0.58517583, -0.86843032]])"
      ]
     },
     "execution_count": 91,
     "metadata": {},
     "output_type": "execute_result"
    }
   ],
   "source": [
    "ss = StandardScaler()\n",
    "df_transformed = ss.fit_transform(X_res)\n",
    "df_transformed"
   ]
  },
  {
   "cell_type": "code",
   "execution_count": 92,
   "id": "5a1f7f5b",
   "metadata": {},
   "outputs": [],
   "source": [
    "pca=PCA(n_components=2)"
   ]
  },
  {
   "cell_type": "code",
   "execution_count": 93,
   "id": "599d4ba1",
   "metadata": {},
   "outputs": [
    {
     "data": {
      "text/plain": [
       "PCA(n_components=2)"
      ]
     },
     "execution_count": 93,
     "metadata": {},
     "output_type": "execute_result"
    }
   ],
   "source": [
    "pca.fit(df_transformed)"
   ]
  },
  {
   "cell_type": "code",
   "execution_count": 94,
   "id": "5dc7af15",
   "metadata": {},
   "outputs": [
    {
     "data": {
      "text/plain": [
       "array([0.25074397, 0.18948369])"
      ]
     },
     "execution_count": 94,
     "metadata": {},
     "output_type": "execute_result"
    }
   ],
   "source": [
    "pca.explained_variance_ratio_"
   ]
  },
  {
   "cell_type": "code",
   "execution_count": 95,
   "id": "18d7f10a",
   "metadata": {},
   "outputs": [
    {
     "data": {
      "text/plain": [
       "array([0.25074397, 0.44022766])"
      ]
     },
     "execution_count": 95,
     "metadata": {},
     "output_type": "execute_result"
    }
   ],
   "source": [
    "pca.explained_variance_ratio_.cumsum()"
   ]
  },
  {
   "cell_type": "code",
   "execution_count": 96,
   "id": "64ebd339",
   "metadata": {},
   "outputs": [],
   "source": [
    "Xp = pd.DataFrame(pca.transform(df_transformed),columns=['p1','p2'])"
   ]
  },
  {
   "cell_type": "code",
   "execution_count": 97,
   "id": "896d455d",
   "metadata": {},
   "outputs": [],
   "source": [
    "Xp['label'] = y_res"
   ]
  },
  {
   "cell_type": "code",
   "execution_count": 98,
   "id": "9b251ea0",
   "metadata": {},
   "outputs": [
    {
     "data": {
      "text/plain": [
       "<seaborn.axisgrid.FacetGrid at 0x2afccfc2610>"
      ]
     },
     "execution_count": 98,
     "metadata": {},
     "output_type": "execute_result"
    },
    {
     "data": {
      "image/png": "[encoded data removed]",
      "text/plain": [
       "<Figure size 402.375x360 with 1 Axes>"
      ]
     },
     "metadata": {
      "needs_background": "light"
     },
     "output_type": "display_data"
    }
   ],
   "source": [
    "sns.lmplot(data=Xp,x='p1',y='p2',fit_reg=False,hue='label')\n"
   ]
  },
  {
   "cell_type": "code",
   "execution_count": null,
   "id": "dc297150",
   "metadata": {},
   "outputs": [],
   "source": []
  },
  {
   "cell_type": "code",
   "execution_count": 12,
   "id": "a52489ec",
   "metadata": {},
   "outputs": [],
   "source": [
    "#modelado con transformación pca"
   ]
  },
  {
   "cell_type": "code",
   "execution_count": 13,
   "id": "0ffd6789",
   "metadata": {},
   "outputs": [],
   "source": [
    "#pipeline\n",
    "from sklearn.pipeline import Pipeline\n",
    "from sklearn.model_selection import StratifiedShuffleSplit\n",
    "from sklearn.neighbors import KNeighborsClassifier"
   ]
  },
  {
   "cell_type": "code",
   "execution_count": 14,
   "id": "31f8d597",
   "metadata": {},
   "outputs": [
    {
     "data": {
      "text/html": [
       "<div>\n",
       "<style scoped>\n",
       "    .dataframe tbody tr th:only-of-type {\n",
       "        vertical-align: middle;\n",
       "    }\n",
       "\n",
       "    .dataframe tbody tr th {\n",
       "        vertical-align: top;\n",
       "    }\n",
       "\n",
       "    .dataframe thead th {\n",
       "        text-align: right;\n",
       "    }\n",
       "</style>\n",
       "<table border=\"1\" class=\"dataframe\">\n",
       "  <thead>\n",
       "    <tr style=\"text-align: right;\">\n",
       "      <th></th>\n",
       "      <th>p1</th>\n",
       "      <th>p2</th>\n",
       "      <th>label</th>\n",
       "    </tr>\n",
       "  </thead>\n",
       "  <tbody>\n",
       "    <tr>\n",
       "      <th>0</th>\n",
       "      <td>-34742.390846</td>\n",
       "      <td>-716.612503</td>\n",
       "      <td>0</td>\n",
       "    </tr>\n",
       "    <tr>\n",
       "      <th>1</th>\n",
       "      <td>-23955.676896</td>\n",
       "      <td>1495.092534</td>\n",
       "      <td>0</td>\n",
       "    </tr>\n",
       "    <tr>\n",
       "      <th>2</th>\n",
       "      <td>671.895403</td>\n",
       "      <td>5069.106596</td>\n",
       "      <td>0</td>\n",
       "    </tr>\n",
       "    <tr>\n",
       "      <th>3</th>\n",
       "      <td>-7634.855598</td>\n",
       "      <td>-4227.000296</td>\n",
       "      <td>0</td>\n",
       "    </tr>\n",
       "    <tr>\n",
       "      <th>4</th>\n",
       "      <td>-940.127293</td>\n",
       "      <td>4284.351747</td>\n",
       "      <td>0</td>\n",
       "    </tr>\n",
       "    <tr>\n",
       "      <th>...</th>\n",
       "      <td>...</td>\n",
       "      <td>...</td>\n",
       "      <td>...</td>\n",
       "    </tr>\n",
       "    <tr>\n",
       "      <th>594638</th>\n",
       "      <td>259884.730943</td>\n",
       "      <td>55784.795850</td>\n",
       "      <td>1</td>\n",
       "    </tr>\n",
       "    <tr>\n",
       "      <th>594639</th>\n",
       "      <td>215311.774856</td>\n",
       "      <td>-48130.844951</td>\n",
       "      <td>1</td>\n",
       "    </tr>\n",
       "    <tr>\n",
       "      <th>594640</th>\n",
       "      <td>24961.642186</td>\n",
       "      <td>-10610.132358</td>\n",
       "      <td>0</td>\n",
       "    </tr>\n",
       "    <tr>\n",
       "      <th>594641</th>\n",
       "      <td>107676.678977</td>\n",
       "      <td>10160.429933</td>\n",
       "      <td>1</td>\n",
       "    </tr>\n",
       "    <tr>\n",
       "      <th>594642</th>\n",
       "      <td>593454.368620</td>\n",
       "      <td>-17895.050310</td>\n",
       "      <td>1</td>\n",
       "    </tr>\n",
       "  </tbody>\n",
       "</table>\n",
       "<p>594643 rows × 3 columns</p>\n",
       "</div>"
      ],
      "text/plain": [
       "                   p1            p2  label\n",
       "0       -34742.390846   -716.612503      0\n",
       "1       -23955.676896   1495.092534      0\n",
       "2          671.895403   5069.106596      0\n",
       "3        -7634.855598  -4227.000296      0\n",
       "4         -940.127293   4284.351747      0\n",
       "...               ...           ...    ...\n",
       "594638  259884.730943  55784.795850      1\n",
       "594639  215311.774856 -48130.844951      1\n",
       "594640   24961.642186 -10610.132358      0\n",
       "594641  107676.678977  10160.429933      1\n",
       "594642  593454.368620 -17895.050310      1\n",
       "\n",
       "[594643 rows x 3 columns]"
      ]
     },
     "execution_count": 14,
     "metadata": {},
     "output_type": "execute_result"
    }
   ],
   "source": [
    "Xp"
   ]
  },
  {
   "cell_type": "code",
   "execution_count": 15,
   "id": "b47b830f",
   "metadata": {},
   "outputs": [],
   "source": [
    "X=Xp.drop(columns=[\"label\"])\n",
    "y=Xp[[\"label\"]]"
   ]
  },
  {
   "cell_type": "code",
   "execution_count": 16,
   "id": "8d016ce7",
   "metadata": {},
   "outputs": [],
   "source": [
    "from collections import Counter\n",
    "from sklearn.datasets import make_classification"
   ]
  },
  {
   "cell_type": "code",
   "execution_count": 17,
   "id": "18f7de68",
   "metadata": {},
   "outputs": [
    {
     "name": "stdout",
     "output_type": "stream",
     "text": [
      "Resampled dataset shape Counter({'label': 1})\n"
     ]
    }
   ],
   "source": [
    "ros = RandomOverSampler(random_state=42)\n",
    "X_res, y_res = ros.fit_resample(X, y)\n",
    "print('Resampled dataset shape %s' % Counter(y_res))"
   ]
  },
  {
   "cell_type": "code",
   "execution_count": 18,
   "id": "01917e98",
   "metadata": {},
   "outputs": [
    {
     "data": {
      "text/plain": [
       "(1174886, 1)"
      ]
     },
     "execution_count": 18,
     "metadata": {},
     "output_type": "execute_result"
    }
   ],
   "source": [
    "y_res.shape"
   ]
  },
  {
   "cell_type": "code",
   "execution_count": 20,
   "id": "d5644dbd",
   "metadata": {},
   "outputs": [],
   "source": [
    "X_train, X_test, y_train, y_test = train_test_split(X_res, y_res, test_size=0.30, random_state=1)"
   ]
  },
  {
   "cell_type": "code",
   "execution_count": 22,
   "id": "719b25fa",
   "metadata": {},
   "outputs": [
    {
     "data": {
      "text/plain": [
       "array([1.00000000e-04, 1.29154967e-03, 1.66810054e-02, 2.15443469e-01,\n",
       "       2.78255940e+00, 3.59381366e+01, 4.64158883e+02, 5.99484250e+03,\n",
       "       7.74263683e+04, 1.00000000e+06])"
      ]
     },
     "execution_count": 22,
     "metadata": {},
     "output_type": "execute_result"
    }
   ],
   "source": [
    "#regresión logistíca (l2)\n",
    "C_values=np.logspace(-4,6,10, base=10)\n",
    "C_values"
   ]
  },
  {
   "cell_type": "code",
   "execution_count": 23,
   "id": "3503453c",
   "metadata": {},
   "outputs": [],
   "source": [
    "SEED=12345\n",
    "N_JOBS= -1\n",
    "cv_schema=StratifiedKFold(n_splits=3,random_state=SEED,shuffle=True)\n",
    "estimators=[]\n",
    "estimators.append(('logit_model_l2',LogisticRegression()))"
   ]
  },
  {
   "cell_type": "code",
   "execution_count": 24,
   "id": "b0c606e5",
   "metadata": {},
   "outputs": [],
   "source": [
    "pipeline=Pipeline(estimators) "
   ]
  },
  {
   "cell_type": "code",
   "execution_count": 25,
   "id": "b7d6493b",
   "metadata": {},
   "outputs": [
    {
     "data": {
      "text/plain": [
       "Pipeline(steps=[('logit_model_l2',\n",
       "                 LogisticRegression(n_jobs=-1, random_state=12345))])"
      ]
     },
     "execution_count": 25,
     "metadata": {},
     "output_type": "execute_result"
    }
   ],
   "source": [
    "pipeline.set_params(logit_model_l2__penalty='l2')\n",
    "pipeline.set_params(logit_model_l2__random_state=SEED)\n",
    "pipeline.set_params(logit_model_l2__solver='lbfgs')\n",
    "pipeline.set_params(logit_model_l2__n_jobs=N_JOBS)\n",
    "pipeline"
   ]
  },
  {
   "cell_type": "code",
   "execution_count": 26,
   "id": "ff8eeb8b",
   "metadata": {},
   "outputs": [],
   "source": [
    "train_scores, test_scores=validation_curve(pipeline,X_train, y_train,\n",
    "                                         param_name=\"logit_model_l2__C\",\n",
    "                                         param_range=C_values,\n",
    "                                         cv=cv_schema,\n",
    "                                         scoring=\"accuracy\",n_jobs=N_JOBS)"
   ]
  },
  {
   "cell_type": "code",
   "execution_count": 27,
   "id": "00cdf8e9",
   "metadata": {},
   "outputs": [],
   "source": [
    "train_score_mean_cv=np.mean(train_scores,axis=1)\n",
    "test_score_mean_cv=np.mean(test_scores,axis=1)"
   ]
  },
  {
   "cell_type": "code",
   "execution_count": 28,
   "id": "10c6e919",
   "metadata": {},
   "outputs": [],
   "source": [
    "choose_index_list=list(np.array(test_score_mean_cv)-np.abs((np.array(train_score_mean_cv)-np.array(test_score_mean_cv))))\n",
    "choose_index=choose_index_list.index(np.max(choose_index_list))\n",
    "#guarda el optimo\n",
    "opt_para=C_values[choose_index]\n"
   ]
  },
  {
   "cell_type": "code",
   "execution_count": 29,
   "id": "563eb852",
   "metadata": {},
   "outputs": [
    {
     "data": {
      "image/png": "[encoded data removed]",
      "text/plain": [
       "<Figure size 432x288 with 1 Axes>"
      ]
     },
     "metadata": {
      "needs_background": "light"
     },
     "output_type": "display_data"
    }
   ],
   "source": [
    "#curvas de efectividad\n",
    "import matplotlib.lines as mlines\n",
    "def plot_score_metric_train_test (SM_list_train,SM_list_test,param_range,choose_index,value_parameter,symbol_parameter):\n",
    "    plt.plot(param_range,SM_list_train,color=\"r\")\n",
    "    plt.plot(param_range,SM_list_test,color=\"b\")\n",
    "    plt.axvline(x=opt_para,color=\"g\")\n",
    "    plt.title(\"Trade-off entre sesgo y var\")\n",
    "    plt.xlabel(\"hyper parámetro {0}\".format(symbol_parameter))\n",
    "    plt.ylabel(\"Efectividad\")\n",
    "    plt.ylim(0.0,1.1)\n",
    "    plt.xscale('log')\n",
    "    \n",
    "    train=mlines.Line2D([],[],color=\"r\",marker='',\n",
    "                       markersize=15,label=\"curva de train\")\n",
    "    test=mlines.Line2D([],[],color=\"r\",marker='',\n",
    "                       markersize=15,label=\"curva de test\")\n",
    "    opt_value=mlines.Line2D([],[],color='g',marker='',\n",
    "                           markersize=15,label=\"Valor óptimo:{0:5f}\".format(value_parameter))\n",
    "    plt.legend(handles=[train,test,opt_value])\n",
    "    plt.show()\n",
    "\n",
    "#grafica curvas de perfomance\n",
    "plot_score_metric_train_test(train_score_mean_cv,test_score_mean_cv,C_values,choose_index,opt_para,\"C\")"
   ]
  },
  {
   "cell_type": "code",
   "execution_count": 30,
   "id": "80ff2ce1",
   "metadata": {},
   "outputs": [
    {
     "name": "stdout",
     "output_type": "stream",
     "text": [
      "Valor óptimo para C es 0.00010\n"
     ]
    }
   ],
   "source": [
    "print(\"Valor óptimo para C es {0:.5f}\".format(opt_para))"
   ]
  },
  {
   "cell_type": "code",
   "execution_count": 31,
   "id": "f4b6fda2",
   "metadata": {},
   "outputs": [
    {
     "name": "stdout",
     "output_type": "stream",
     "text": [
      "----------------------------------------------------------------------------------------------------\n",
      "Valor del hyper parámetro     Efectividad media de test          Efectividad media de train\n",
      "----------------------------------------------------------------------------------------------------\n",
      "0.000100                      0.815887                           0.815935                 \n",
      "0.001292                      0.815887                           0.815935                 \n",
      "0.016681                      0.815887                           0.815935                 \n",
      "0.215443                      0.815887                           0.815935                 \n",
      "2.782559                      0.815887                           0.815935                 \n",
      "35.938137                     0.815887                           0.815935                 \n",
      "464.158883                    0.815887                           0.815935                 \n",
      "5994.842503                   0.815887                           0.815935                 \n",
      "77426.368268                  0.815887                           0.815935                 \n",
      "1000000.000000                0.815887                           0.815935                 \n",
      "----------------------------------------------------------------------------------------------------\n"
     ]
    }
   ],
   "source": [
    "#print métricas\n",
    "def print_cv_validation_scores(parameter,train_accu_mean_scores,test_accu_mean_scores ):\n",
    "    dash='-'*100\n",
    "    print(dash)\n",
    "    print(\"{:<30s}{:<35s}{:<25s}\".format(\"Valor del hyper parámetro\",\"Efectividad media de test\",\"Efectividad media de train\"))\n",
    "    print(dash)\n",
    "    for i in range (len(parameter)):\n",
    "        print(\"{:<30f}{:<35f}{:<25f}\".format(parameter[i], train_accu_mean_scores[i], test_accu_mean_scores[i]))\n",
    "    print(dash)\n",
    "print_cv_validation_scores(C_values,train_score_mean_cv,test_score_mean_cv)\n",
    "  "
   ]
  },
  {
   "cell_type": "code",
   "execution_count": 32,
   "id": "19a9f55f",
   "metadata": {},
   "outputs": [
    {
     "name": "stdout",
     "output_type": "stream",
     "text": [
      "Efectividad del modelo:81.555668%\n"
     ]
    }
   ],
   "source": [
    "#modelo final con hyperparametro ´´optimo\n",
    "pipeline.set_params(logit_model_l2__C=opt_para)\n",
    "logit_model_l2=pipeline.named_steps[\"logit_model_l2\"]\n",
    "logit_model_l2.fit(X_train,y_train)\n",
    "accu_logit_model_l2=logit_model_l2.score(X_test,y_test)\n",
    "print(\"Efectividad del modelo:{0:2f}%\".format(100*accu_logit_model_l2))"
   ]
  },
  {
   "cell_type": "code",
   "execution_count": 33,
   "id": "567e2593",
   "metadata": {},
   "outputs": [],
   "source": [
    "#predicción\n",
    "y_pred_logit=logit_model_l2.predict(X_test)\n",
    "y_pred_proba_logit=logit_model_l2.predict_proba(X_test)"
   ]
  },
  {
   "cell_type": "code",
   "execution_count": 34,
   "id": "4a66aeea",
   "metadata": {},
   "outputs": [],
   "source": [
    "def grafica_matriz_confusion(cm, classes=[0,1], normalize=False, title='Matriz de confusión\\n', cmap=plt.cm.Reds):\n",
    "    \"\"\" \n",
    "    Función para mostrar la matriz de confusión de un problema de clasificación binario. \n",
    "    El parámetro cm puede ser el objeto resultante de ejecutar la función confusion_matrix() de la librería sklearn.\n",
    "    \n",
    "    Args:\n",
    "        cm         matriz de confusión de sklearn\n",
    "        classes    categorías de la variable target\n",
    "        normalize  normaliza asignando el parámetro True\n",
    "        title      string para definir el título para la gráfica\n",
    "        cmap       mapa de colores\n",
    "    \"\"\"\n",
    "    plt.imshow(cm, interpolation='nearest', cmap=cmap)\n",
    "    plt.title(title)\n",
    "    plt.colorbar()\n",
    "    tick_marks = np.arange(len(classes))\n",
    "    plt.xticks(tick_marks, classes, rotation=0)\n",
    "    plt.yticks(tick_marks, classes)\n",
    "    if normalize:\n",
    "        cm = cm.astype('float') / cm.sum(axis=1)[:, np.newaxis]\n",
    "    thresh = cm.max()\n",
    "    text = [[\"VN =\", \"FN =\"], [\"FP =\", \"VP =\"]]\n",
    "    for i, j in itertools.product(range(cm.shape[0]), range(cm.shape[1])):\n",
    "        plt.text(j, i, \"     {}\".format(round (cm[i, j],2)), horizontalalignment=\"left\",\n",
    "                 color=\"white\" if cm[i, j] > thresh else \"black\")\n",
    "    for i, j in itertools.product(range(cm.shape[0]), range(cm.shape[1])):\n",
    "        plt.text(j, i, text[j][i] , horizontalalignment=\"center\",\n",
    "                 color=\"white\" if cm[i, j] > thresh else \"black\")\n",
    "    plt.tight_layout()\n",
    "    plt.ylabel('Valor real')\n",
    "    plt.xlabel('Predicción')\n",
    "    \n",
    "def grafica_curva_roc(fpr, tpr, title='Curva ROC', note=''):\n",
    "    \"\"\"\n",
    "    Función para graficar la curva ROC\n",
    "    Los parámetros fpr y tpr son el output de ejecutar la función roc_curve de sklearn\n",
    "    \n",
    "    Args:\n",
    "        fpr        Tasa de falsos positivos \n",
    "        tpr        Tasa de verdaderos positivos\n",
    "        title      sting para definir el título de la gráfica\n",
    "        note       Nota para mostrar en la gráfica\n",
    "    \"\"\"\n",
    "    plt.figure(1)\n",
    "    plt.plot([0, 1], [0, 1], 'k--')\n",
    "    plt.plot(fpr, tpr)\n",
    "    plt.xlabel('Tasa de falsos positivos ')\n",
    "    plt.ylabel('Tasa de verdaderos positivos')\n",
    "    plt.title(title)\n",
    "    if note: plt.text(0.6, 0.2, note)\n",
    "    plt.show()"
   ]
  },
  {
   "cell_type": "code",
   "execution_count": 35,
   "id": "b483b362",
   "metadata": {},
   "outputs": [
    {
     "data": {
      "image/png": "[encoded data removed]",
      "text/plain": [
       "<Figure size 432x288 with 2 Axes>"
      ]
     },
     "metadata": {
      "needs_background": "light"
     },
     "output_type": "display_data"
    }
   ],
   "source": [
    "#muestra matriz\n",
    "matriz_conf_logit=confusion_matrix(y_test,y_pred_logit)\n",
    "grafica_matriz_confusion(matriz_conf_logit, classes=[0,1], normalize=False, title='Matriz de confusión\\n', cmap=plt.cm.Reds)"
   ]
  },
  {
   "cell_type": "code",
   "execution_count": 36,
   "id": "1a627182",
   "metadata": {},
   "outputs": [
    {
     "name": "stdout",
     "output_type": "stream",
     "text": [
      "F1= 0.6941083118428883\n"
     ]
    }
   ],
   "source": [
    "#f1\n",
    "error_logit=matriz_conf_logit[0][0]/(matriz_conf_logit[0][0]+matriz_conf_logit[0][1])\n",
    "print(\"F1=\",error_logit)\n"
   ]
  },
  {
   "cell_type": "code",
   "execution_count": 37,
   "id": "d32a7e95",
   "metadata": {},
   "outputs": [
    {
     "name": "stdout",
     "output_type": "stream",
     "text": [
      "No. errores= 65010\n",
      "% errores= 0.18444332219277887\n"
     ]
    }
   ],
   "source": [
    "#errores\n",
    "error_logit=matriz_conf_logit[0][1]+matriz_conf_logit[1][0]\n",
    "print(\"No. errores=\",error_logit)\n",
    "print(\"% errores=\",error_logit/len(y_pred_logit))"
   ]
  },
  {
   "cell_type": "code",
   "execution_count": 38,
   "id": "798fe797",
   "metadata": {},
   "outputs": [
    {
     "name": "stdout",
     "output_type": "stream",
     "text": [
      "aciertos= 287456\n",
      "% efectividad= 0.8155566778072211\n"
     ]
    }
   ],
   "source": [
    "#calculo de efectividad\n",
    "efect_logit=matriz_conf_logit[0][0]+matriz_conf_logit[1][1]\n",
    "print(\"aciertos=\",efect_logit)\n",
    "print(\"% efectividad=\",efect_logit/len(y_pred_logit))"
   ]
  },
  {
   "cell_type": "code",
   "execution_count": 39,
   "id": "5280f205",
   "metadata": {},
   "outputs": [
    {
     "name": "stdout",
     "output_type": "stream",
     "text": [
      "recall= 0.9372837738807369\n",
      "precisión= 0.7535177497362544\n"
     ]
    }
   ],
   "source": [
    "#calculo de recall\n",
    "recall_logit=matriz_conf_logit[1][1]/(matriz_conf_logit[1][1]+matriz_conf_logit[1][0])\n",
    "precision_logit=matriz_conf_logit[1][1]/(matriz_conf_logit[1][1]+matriz_conf_logit[0][1])\n",
    "print(\"recall=\",recall_logit)\n",
    "print(\"precisión=\",precision_logit)"
   ]
  },
  {
   "cell_type": "code",
   "execution_count": 40,
   "id": "c52bbe18",
   "metadata": {},
   "outputs": [
    {
     "data": {
      "image/png": "[encoded data removed]",
      "text/plain": [
       "<Figure size 432x288 with 1 Axes>"
      ]
     },
     "metadata": {
      "needs_background": "light"
     },
     "output_type": "display_data"
    }
   ],
   "source": [
    "#tasa falsos positivos\n",
    "fpr_logit,tpr_logit,_=roc_curve(y_test,y_pred_logit)\n",
    "auc_logit=roc_auc_score(y_test,y_pred_logit)\n",
    "grafica_curva_roc(fpr_logit, tpr_logit, title='Curva ROC', note='')"
   ]
  },
  {
   "cell_type": "code",
   "execution_count": 41,
   "id": "66d7afd4",
   "metadata": {},
   "outputs": [],
   "source": [
    "#modelo l1"
   ]
  },
  {
   "cell_type": "code",
   "execution_count": 42,
   "id": "8167451c",
   "metadata": {},
   "outputs": [
    {
     "data": {
      "text/plain": [
       "array([1.00000000e-04, 1.29154967e-03, 1.66810054e-02, 2.15443469e-01,\n",
       "       2.78255940e+00, 3.59381366e+01, 4.64158883e+02, 5.99484250e+03,\n",
       "       7.74263683e+04, 1.00000000e+06])"
      ]
     },
     "execution_count": 42,
     "metadata": {},
     "output_type": "execute_result"
    }
   ],
   "source": [
    "C_values=np.logspace(-4,6,10, base=10)\n",
    "C_values"
   ]
  },
  {
   "cell_type": "code",
   "execution_count": 43,
   "id": "30431f23",
   "metadata": {},
   "outputs": [],
   "source": [
    "SEED=12345\n",
    "N_JOBS= -1\n",
    "cv_schema=StratifiedKFold(n_splits=3,random_state=SEED,shuffle=True)\n",
    "estimators=[]\n",
    "estimators.append(('logit_model_l1',LogisticRegression()))"
   ]
  },
  {
   "cell_type": "code",
   "execution_count": 44,
   "id": "b57c426d",
   "metadata": {},
   "outputs": [],
   "source": [
    "pipeline=Pipeline(estimators)"
   ]
  },
  {
   "cell_type": "code",
   "execution_count": 45,
   "id": "fd06aacd",
   "metadata": {},
   "outputs": [
    {
     "data": {
      "text/plain": [
       "Pipeline(steps=[('logit_model_l1',\n",
       "                 LogisticRegression(n_jobs=-1, penalty='l1', random_state=12345,\n",
       "                                    solver='saga'))])"
      ]
     },
     "execution_count": 45,
     "metadata": {},
     "output_type": "execute_result"
    }
   ],
   "source": [
    "pipeline.set_params(logit_model_l1__penalty='l1')\n",
    "pipeline.set_params(logit_model_l1__random_state=SEED)\n",
    "pipeline.set_params(logit_model_l1__solver='saga')\n",
    "pipeline.set_params(logit_model_l1__n_jobs=N_JOBS)\n",
    "pipeline"
   ]
  },
  {
   "cell_type": "code",
   "execution_count": 46,
   "id": "7d66fe91",
   "metadata": {},
   "outputs": [],
   "source": [
    "train_scores, test_scores=validation_curve(pipeline,X_train, y_train,\n",
    "                                         param_name=\"logit_model_l1__C\",\n",
    "                                         param_range=C_values,\n",
    "                                         cv=cv_schema,\n",
    "                                         scoring=\"accuracy\",n_jobs=N_JOBS)"
   ]
  },
  {
   "cell_type": "code",
   "execution_count": 47,
   "id": "fc2a3056",
   "metadata": {},
   "outputs": [],
   "source": [
    "train_score_mean_cv=np.mean(train_scores,axis=1)\n",
    "test_score_mean_cv=np.mean(test_scores,axis=1)"
   ]
  },
  {
   "cell_type": "code",
   "execution_count": 48,
   "id": "248b04fc",
   "metadata": {},
   "outputs": [],
   "source": [
    "choose_index_list=list(np.array(test_score_mean_cv)-np.abs((np.array(train_score_mean_cv)-np.array(test_score_mean_cv))))\n",
    "choose_index=choose_index_list.index(np.max(choose_index_list))\n",
    "#guarda el optimo\n",
    "opt_para=C_values[choose_index]"
   ]
  },
  {
   "cell_type": "code",
   "execution_count": 49,
   "id": "6fc07566",
   "metadata": {},
   "outputs": [
    {
     "data": {
      "image/png": "[encoded data removed]",
      "text/plain": [
       "<Figure size 432x288 with 1 Axes>"
      ]
     },
     "metadata": {
      "needs_background": "light"
     },
     "output_type": "display_data"
    }
   ],
   "source": [
    "#grafica curvas de perfomance\n",
    "plot_score_metric_train_test(train_score_mean_cv,test_score_mean_cv,C_values,choose_index,opt_para,\"C\")"
   ]
  },
  {
   "cell_type": "code",
   "execution_count": 50,
   "id": "9fa6eb1f",
   "metadata": {},
   "outputs": [
    {
     "name": "stdout",
     "output_type": "stream",
     "text": [
      "Valor óptimo para C es 0.00129\n"
     ]
    }
   ],
   "source": [
    "print(\"Valor óptimo para C es {0:.5f}\".format(opt_para))"
   ]
  },
  {
   "cell_type": "code",
   "execution_count": 51,
   "id": "28e2885a",
   "metadata": {},
   "outputs": [
    {
     "name": "stdout",
     "output_type": "stream",
     "text": [
      "----------------------------------------------------------------------------------------------------\n",
      "Valor del hyper parámetro     Efectividad media de test          Efectividad media de train\n",
      "----------------------------------------------------------------------------------------------------\n",
      "0.000100                      0.815888                           0.815938                 \n",
      "0.001292                      0.815888                           0.815937                 \n",
      "0.016681                      0.815888                           0.815937                 \n",
      "0.215443                      0.815888                           0.815937                 \n",
      "2.782559                      0.815888                           0.815937                 \n",
      "35.938137                     0.815888                           0.815937                 \n",
      "464.158883                    0.815888                           0.815937                 \n",
      "5994.842503                   0.815888                           0.815937                 \n",
      "77426.368268                  0.815888                           0.815937                 \n",
      "1000000.000000                0.815888                           0.815937                 \n",
      "----------------------------------------------------------------------------------------------------\n"
     ]
    }
   ],
   "source": [
    "print_cv_validation_scores(C_values,train_score_mean_cv,test_score_mean_cv)\n",
    "    "
   ]
  },
  {
   "cell_type": "code",
   "execution_count": 52,
   "id": "f56b118d",
   "metadata": {},
   "outputs": [
    {
     "name": "stdout",
     "output_type": "stream",
     "text": [
      "Efectividad del modelo:81.555100%\n"
     ]
    }
   ],
   "source": [
    "#modelo final con hyperparametro ´´optimo\n",
    "pipeline.set_params(logit_model_l1__C=opt_para)\n",
    "logit_model_l1=pipeline.named_steps[\"logit_model_l1\"]\n",
    "logit_model_l1.fit(X_train,y_train)\n",
    "accu_logit_model_l1=logit_model_l1.score(X_test,y_test)\n",
    "print(\"Efectividad del modelo:{0:2f}%\".format(100*accu_logit_model_l1))"
   ]
  },
  {
   "cell_type": "code",
   "execution_count": 53,
   "id": "575a410b",
   "metadata": {},
   "outputs": [],
   "source": [
    "#predicción\n",
    "y_pred_logit=logit_model_l1.predict(X_test)\n",
    "y_pred_proba_logit=logit_model_l1.predict_proba(X_test)"
   ]
  },
  {
   "cell_type": "code",
   "execution_count": 54,
   "id": "a05fa7e1",
   "metadata": {},
   "outputs": [
    {
     "data": {
      "image/png": "[encoded data removed]",
      "text/plain": [
       "<Figure size 432x288 with 2 Axes>"
      ]
     },
     "metadata": {
      "needs_background": "light"
     },
     "output_type": "display_data"
    }
   ],
   "source": [
    "#muestra matriz\n",
    "matriz_conf_logit=confusion_matrix(y_test,y_pred_logit)\n",
    "grafica_matriz_confusion(matriz_conf_logit, classes=[0,1], normalize=False, title='Matriz de confusión\\n', cmap=plt.cm.Reds)"
   ]
  },
  {
   "cell_type": "code",
   "execution_count": 55,
   "id": "22f8421b",
   "metadata": {},
   "outputs": [
    {
     "name": "stdout",
     "output_type": "stream",
     "text": [
      "F1= 0.6940969762235384\n"
     ]
    }
   ],
   "source": [
    "#f1\n",
    "error_logit=matriz_conf_logit[0][0]/(matriz_conf_logit[0][0]+matriz_conf_logit[0][1])\n",
    "print(\"F1=\",error_logit)"
   ]
  },
  {
   "cell_type": "code",
   "execution_count": 56,
   "id": "01b2e73b",
   "metadata": {},
   "outputs": [
    {
     "name": "stdout",
     "output_type": "stream",
     "text": [
      "No. errores= 65012\n",
      "% errores= 0.18444899649895308\n"
     ]
    }
   ],
   "source": [
    "#errores\n",
    "error_logit=matriz_conf_logit[0][1]+matriz_conf_logit[1][0]\n",
    "print(\"No. errores=\",error_logit)\n",
    "print(\"% errores=\",error_logit/len(y_pred_logit))"
   ]
  },
  {
   "cell_type": "code",
   "execution_count": 57,
   "id": "85a4eaa6",
   "metadata": {},
   "outputs": [
    {
     "name": "stdout",
     "output_type": "stream",
     "text": [
      "aciertos= 287454\n",
      "% efectividad= 0.8155510035010469\n"
     ]
    }
   ],
   "source": [
    "#calculo de efectividad\n",
    "efect_logit=matriz_conf_logit[0][0]+matriz_conf_logit[1][1]\n",
    "print(\"aciertos=\",efect_logit)\n",
    "print(\"% efectividad=\",efect_logit/len(y_pred_logit))"
   ]
  },
  {
   "cell_type": "code",
   "execution_count": 58,
   "id": "71903c88",
   "metadata": {},
   "outputs": [
    {
     "name": "stdout",
     "output_type": "stream",
     "text": [
      "recall= 0.9372837738807369\n",
      "precisión= 0.7535108671328032\n"
     ]
    }
   ],
   "source": [
    "#calculo de recall\n",
    "recall_logit=matriz_conf_logit[1][1]/(matriz_conf_logit[1][1]+matriz_conf_logit[1][0])\n",
    "precision_logit=matriz_conf_logit[1][1]/(matriz_conf_logit[1][1]+matriz_conf_logit[0][1])\n",
    "print(\"recall=\",recall_logit)\n",
    "print(\"precisión=\",precision_logit)"
   ]
  },
  {
   "cell_type": "code",
   "execution_count": 59,
   "id": "fd987343",
   "metadata": {},
   "outputs": [
    {
     "data": {
      "image/png": "[encoded data removed]",
      "text/plain": [
       "<Figure size 432x288 with 1 Axes>"
      ]
     },
     "metadata": {
      "needs_background": "light"
     },
     "output_type": "display_data"
    }
   ],
   "source": [
    "#tasa falsos positivos\n",
    "fpr_logit,tpr_logit,_=roc_curve(y_test,y_pred_logit)\n",
    "auc_logit=roc_auc_score(y_test,y_pred_logit)\n",
    "grafica_curva_roc(fpr_logit, tpr_logit, title='Curva ROC', note='')"
   ]
  },
  {
   "cell_type": "code",
   "execution_count": 60,
   "id": "bcc9222f",
   "metadata": {},
   "outputs": [],
   "source": [
    "#arbol de decisión \n",
    "from sklearn.tree import DecisionTreeClassifier"
   ]
  },
  {
   "cell_type": "code",
   "execution_count": 61,
   "id": "8f88a810",
   "metadata": {},
   "outputs": [
    {
     "data": {
      "text/plain": [
       "[5, 6, 7, 8, 9, 10, 11, 12, 13, 14]"
      ]
     },
     "execution_count": 61,
     "metadata": {},
     "output_type": "execute_result"
    }
   ],
   "source": [
    " \n",
    "C_values=[5,6,7,8,9,10,11,12,13,14]\n",
    "C_values"
   ]
  },
  {
   "cell_type": "code",
   "execution_count": 62,
   "id": "d7289d88",
   "metadata": {},
   "outputs": [],
   "source": [
    "SEED=12345\n",
    "N_JOBS= -1\n",
    "cv_schema=StratifiedKFold(n_splits=3,random_state=SEED,shuffle=True)\n",
    "estimators=[]\n",
    "estimators.append(('DT',DecisionTreeClassifier(random_state=SEED)))"
   ]
  },
  {
   "cell_type": "code",
   "execution_count": 63,
   "id": "f9294f0f",
   "metadata": {},
   "outputs": [],
   "source": [
    "pipeline=Pipeline(estimators) "
   ]
  },
  {
   "cell_type": "code",
   "execution_count": 64,
   "id": "2e24f61b",
   "metadata": {},
   "outputs": [
    {
     "data": {
      "text/plain": [
       "Pipeline(steps=[('DT', DecisionTreeClassifier(random_state=12345))])"
      ]
     },
     "execution_count": 64,
     "metadata": {},
     "output_type": "execute_result"
    }
   ],
   "source": [
    "pipeline.set_params(DT__criterion='gini')\n",
    "pipeline.set_params(DT__random_state=SEED)\n",
    "pipeline"
   ]
  },
  {
   "cell_type": "code",
   "execution_count": 65,
   "id": "8f82aff9",
   "metadata": {},
   "outputs": [],
   "source": [
    "train_scores, test_scores=validation_curve(pipeline,X_train, y_train,\n",
    "                                         param_name=\"DT__max_depth\",\n",
    "    param_range=C_values, cv=10, scoring=\"r2\",n_jobs=N_JOBS)"
   ]
  },
  {
   "cell_type": "code",
   "execution_count": 66,
   "id": "05644613",
   "metadata": {},
   "outputs": [],
   "source": [
    "train_score_mean_cv=np.mean(train_scores,axis=1)\n",
    "test_score_mean_cv=np.mean(test_scores,axis=1)"
   ]
  },
  {
   "cell_type": "code",
   "execution_count": 67,
   "id": "4460bd46",
   "metadata": {},
   "outputs": [],
   "source": [
    "choose_index_list=list(np.array(test_score_mean_cv)-np.abs((np.array(train_score_mean_cv)-np.array(test_score_mean_cv))))\n",
    "choose_index=choose_index_list.index(np.max(choose_index_list))\n",
    "#guarda el optimo\n",
    "opt_para=C_values[choose_index]"
   ]
  },
  {
   "cell_type": "code",
   "execution_count": 68,
   "id": "cb20d434",
   "metadata": {},
   "outputs": [
    {
     "data": {
      "image/png": "[encoded data removed]",
      "text/plain": [
       "<Figure size 432x288 with 1 Axes>"
      ]
     },
     "metadata": {
      "needs_background": "light"
     },
     "output_type": "display_data"
    }
   ],
   "source": [
    "#grafica curvas de perfomance\n",
    "plot_score_metric_train_test(train_score_mean_cv,test_score_mean_cv,C_values,choose_index,opt_para,\"C\")"
   ]
  },
  {
   "cell_type": "code",
   "execution_count": 69,
   "id": "41ec49ba",
   "metadata": {},
   "outputs": [
    {
     "name": "stdout",
     "output_type": "stream",
     "text": [
      "Valor óptimo para C es 14.00000\n"
     ]
    }
   ],
   "source": [
    "print(\"Valor óptimo para C es {0:.5f}\".format(opt_para))"
   ]
  },
  {
   "cell_type": "code",
   "execution_count": 70,
   "id": "72605ced",
   "metadata": {},
   "outputs": [
    {
     "name": "stdout",
     "output_type": "stream",
     "text": [
      "----------------------------------------------------------------------------------------------------\n",
      "Valor del hyper parámetro     Efectividad media de test          Efectividad media de train\n",
      "----------------------------------------------------------------------------------------------------\n",
      "5.000000                      0.664922                           0.664050                 \n",
      "6.000000                      0.668246                           0.667858                 \n",
      "7.000000                      0.673985                           0.672926                 \n",
      "8.000000                      0.678705                           0.677800                 \n",
      "9.000000                      0.686161                           0.684905                 \n",
      "10.000000                     0.696496                           0.694934                 \n",
      "11.000000                     0.705137                           0.703037                 \n",
      "12.000000                     0.715348                           0.712716                 \n",
      "13.000000                     0.727093                           0.724262                 \n",
      "14.000000                     0.739967                           0.736042                 \n",
      "----------------------------------------------------------------------------------------------------\n"
     ]
    }
   ],
   "source": [
    "#print métricas\n",
    "\n",
    "print_cv_validation_scores(C_values,train_score_mean_cv,test_score_mean_cv)\n",
    "    "
   ]
  },
  {
   "cell_type": "code",
   "execution_count": 71,
   "id": "43fbf8dd",
   "metadata": {},
   "outputs": [
    {
     "name": "stdout",
     "output_type": "stream",
     "text": [
      "Efectividad del modelo:93.494975%\n"
     ]
    }
   ],
   "source": [
    "#modelo final con hyperparametro ´´optimo\n",
    "pipeline.set_params(DT__max_depth=opt_para)\n",
    "logit_model_l1=pipeline.named_steps[\"DT\"]\n",
    "logit_model_l1.fit(X_train,y_train)\n",
    "accu_logit_model_l1=logit_model_l1.score(X_test,y_test)\n",
    "print(\"Efectividad del modelo:{0:2f}%\".format(100*accu_logit_model_l1))"
   ]
  },
  {
   "cell_type": "code",
   "execution_count": 72,
   "id": "a0baf48b",
   "metadata": {},
   "outputs": [],
   "source": [
    "#predicción\n",
    "y_pred_logit=logit_model_l1.predict(X_test)\n",
    "y_pred_proba_logit=logit_model_l1.predict_proba(X_test)"
   ]
  },
  {
   "cell_type": "code",
   "execution_count": 73,
   "id": "37681d7e",
   "metadata": {},
   "outputs": [
    {
     "data": {
      "image/png": "[encoded data removed]",
      "text/plain": [
       "<Figure size 432x288 with 2 Axes>"
      ]
     },
     "metadata": {
      "needs_background": "light"
     },
     "output_type": "display_data"
    }
   ],
   "source": [
    "#muestra matriz\n",
    "matriz_conf_logit=confusion_matrix(y_test,y_pred_logit)\n",
    "grafica_matriz_confusion(matriz_conf_logit, classes=[0,1], normalize=False, title='Matriz de confusión\\n', cmap=plt.cm.Reds)"
   ]
  },
  {
   "cell_type": "code",
   "execution_count": 74,
   "id": "1540ebda",
   "metadata": {},
   "outputs": [
    {
     "name": "stdout",
     "output_type": "stream",
     "text": [
      "F1= 0.9715305920027205\n"
     ]
    }
   ],
   "source": [
    "#f1\n",
    "error_logit=matriz_conf_logit[0][0]/(matriz_conf_logit[0][0]+matriz_conf_logit[0][1])\n",
    "print(\"F1=\",error_logit)"
   ]
  },
  {
   "cell_type": "code",
   "execution_count": 75,
   "id": "f59a01f2",
   "metadata": {},
   "outputs": [
    {
     "name": "stdout",
     "output_type": "stream",
     "text": [
      "No. errores= 22928\n",
      "% errores= 0.06505024598117265\n"
     ]
    }
   ],
   "source": [
    "#errores\n",
    "error_logit=matriz_conf_logit[0][1]+matriz_conf_logit[1][0]\n",
    "print(\"No. errores=\",error_logit)\n",
    "print(\"% errores=\",error_logit/len(y_pred_logit))"
   ]
  },
  {
   "cell_type": "code",
   "execution_count": 76,
   "id": "0e8d232e",
   "metadata": {},
   "outputs": [
    {
     "name": "stdout",
     "output_type": "stream",
     "text": [
      "aciertos= 329538\n",
      "% efectividad= 0.9349497540188273\n"
     ]
    }
   ],
   "source": [
    "#calculo de efectividad\n",
    "efect_logit=matriz_conf_logit[0][0]+matriz_conf_logit[1][1]\n",
    "print(\"aciertos=\",efect_logit)\n",
    "print(\"% efectividad=\",efect_logit/len(y_pred_logit))"
   ]
  },
  {
   "cell_type": "code",
   "execution_count": 77,
   "id": "45b52e6b",
   "metadata": {},
   "outputs": [
    {
     "name": "stdout",
     "output_type": "stream",
     "text": [
      "recall= 0.8982849611716118\n",
      "precisión= 0.9692121925356576\n"
     ]
    }
   ],
   "source": [
    "#calculo de recall\n",
    "recall_logit=matriz_conf_logit[1][1]/(matriz_conf_logit[1][1]+matriz_conf_logit[1][0])\n",
    "precision_logit=matriz_conf_logit[1][1]/(matriz_conf_logit[1][1]+matriz_conf_logit[0][1])\n",
    "print(\"recall=\",recall_logit)\n",
    "print(\"precisión=\",precision_logit)"
   ]
  },
  {
   "cell_type": "code",
   "execution_count": 78,
   "id": "0dea182d",
   "metadata": {},
   "outputs": [
    {
     "data": {
      "image/png": "[encoded data removed]",
      "text/plain": [
       "<Figure size 432x288 with 1 Axes>"
      ]
     },
     "metadata": {
      "needs_background": "light"
     },
     "output_type": "display_data"
    }
   ],
   "source": [
    "#tasa falsos positivos\n",
    "fpr_logit,tpr_logit,_=roc_curve(y_test,y_pred_logit)\n",
    "auc_logit=roc_auc_score(y_test,y_pred_logit)\n",
    "grafica_curva_roc(fpr_logit, tpr_logit, title='Curva ROC', note='')"
   ]
  },
  {
   "cell_type": "code",
   "execution_count": 84,
   "id": "e4a755aa",
   "metadata": {},
   "outputs": [],
   "source": [
    "resultados=pd.DataFrame()\n",
    "efectividad=[\"81.55%\",\"81.55%\",\"93.49%\"]\n",
    "f1=[\"69.41%\",\"69.40%\",\"97.15%\"]\n",
    "errores=[\"18.44%\",\"18.44%\",\"6.50%\"]\n",
    "recall=[\"93.72%\",\"93.72%\",\"89.82\"]\n",
    "precisión=[\"75.35%\",\"75.35%\",\"96.92%\"]\n",
    "modelo=[\"Reg L. (l1)\",\"Reg L. (l2)\",\"Árbol D\"]"
   ]
  },
  {
   "cell_type": "code",
   "execution_count": 85,
   "id": "d649c7bf",
   "metadata": {},
   "outputs": [],
   "source": [
    "resultados[\"Modelo\"]=modelo\n",
    "resultados[\"Efectividad\"]=efectividad\n",
    "resultados[\"F1\"]=f1\n",
    "resultados[\"Errores\"]=errores\n",
    "resultados[\"Recall\"]=recall\n",
    "resultados[\"Precisión\"]=precisión\n",
    "\n"
   ]
  },
  {
   "cell_type": "code",
   "execution_count": 86,
   "id": "d101f12b",
   "metadata": {},
   "outputs": [
    {
     "data": {
      "text/html": [
       "<div>\n",
       "<style scoped>\n",
       "    .dataframe tbody tr th:only-of-type {\n",
       "        vertical-align: middle;\n",
       "    }\n",
       "\n",
       "    .dataframe tbody tr th {\n",
       "        vertical-align: top;\n",
       "    }\n",
       "\n",
       "    .dataframe thead th {\n",
       "        text-align: right;\n",
       "    }\n",
       "</style>\n",
       "<table border=\"1\" class=\"dataframe\">\n",
       "  <thead>\n",
       "    <tr style=\"text-align: right;\">\n",
       "      <th></th>\n",
       "      <th>Modelo</th>\n",
       "      <th>Efectividad</th>\n",
       "      <th>F1</th>\n",
       "      <th>Errores</th>\n",
       "      <th>Recall</th>\n",
       "      <th>Precisión</th>\n",
       "    </tr>\n",
       "  </thead>\n",
       "  <tbody>\n",
       "    <tr>\n",
       "      <th>0</th>\n",
       "      <td>Reg L. (l1)</td>\n",
       "      <td>81.55%</td>\n",
       "      <td>69.41%</td>\n",
       "      <td>18.44%</td>\n",
       "      <td>93.72%</td>\n",
       "      <td>75.35%</td>\n",
       "    </tr>\n",
       "    <tr>\n",
       "      <th>1</th>\n",
       "      <td>Reg L. (l2)</td>\n",
       "      <td>81.55%</td>\n",
       "      <td>69.40%</td>\n",
       "      <td>18.44%</td>\n",
       "      <td>93.72%</td>\n",
       "      <td>75.35%</td>\n",
       "    </tr>\n",
       "    <tr>\n",
       "      <th>2</th>\n",
       "      <td>Árbol D</td>\n",
       "      <td>93.49%</td>\n",
       "      <td>97.15%</td>\n",
       "      <td>6.50%</td>\n",
       "      <td>89.82</td>\n",
       "      <td>96.92%</td>\n",
       "    </tr>\n",
       "  </tbody>\n",
       "</table>\n",
       "</div>"
      ],
      "text/plain": [
       "        Modelo Efectividad      F1 Errores  Recall Precisión\n",
       "0  Reg L. (l1)      81.55%  69.41%  18.44%  93.72%    75.35%\n",
       "1  Reg L. (l2)      81.55%  69.40%  18.44%  93.72%    75.35%\n",
       "2      Árbol D      93.49%  97.15%   6.50%   89.82    96.92%"
      ]
     },
     "execution_count": 86,
     "metadata": {},
     "output_type": "execute_result"
    }
   ],
   "source": [
    "resultados"
   ]
  },
  {
   "cell_type": "code",
   "execution_count": null,
   "id": "eb1431d8",
   "metadata": {},
   "outputs": [],
   "source": []
  }
 ],
 "metadata": {
  "kernelspec": {
   "display_name": "Python 3",
   "language": "python",
   "name": "python3"
  },
  "language_info": {
   "codemirror_mode": {
    "name": "ipython",
    "version": 3
   },
   "file_extension": ".py",
   "mimetype": "text/x-python",
   "name": "python",
   "nbconvert_exporter": "python",
   "pygments_lexer": "ipython3",
   "version": "3.8.9"
  }
 },
 "nbformat": 4,
 "nbformat_minor": 5
}
